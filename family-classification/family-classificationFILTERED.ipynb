{
 "cells": [
  {
   "cell_type": "code",
   "execution_count": 113,
   "metadata": {},
   "outputs": [],
   "source": [
    "import json\n",
    "import pandas as pd\n",
    "import numpy as np"
   ]
  },
  {
   "cell_type": "markdown",
   "metadata": {},
   "source": [
    "## Ribonanza"
   ]
  },
  {
   "cell_type": "code",
   "execution_count": 130,
   "metadata": {},
   "outputs": [],
   "source": [
    "def rename_families(x):\n",
    "    if x == '5s' or x == '16s' or x == '23s' or 'rRNA' in x:\n",
    "        return 'rRNA'\n",
    "    if x == 'grp1' or x == 'group_I_intron':\n",
    "        return 'Introns'\n",
    "    if x == 'grp2' or 'intron' in x:\n",
    "        return 'Introns'\n",
    "    if x == 'srp' or x == 'SRP':\n",
    "        return 'SRP'\n",
    "    if x == 'telomerase':\n",
    "        return 'telomerase'\n",
    "    if x == 'RNaseP':\n",
    "        return 'rRNA'\n",
    "    else: \n",
    "        return x"
   ]
  },
  {
   "cell_type": "markdown",
   "metadata": {},
   "source": [
    "## RNAStralign"
   ]
  },
  {
   "cell_type": "code",
   "execution_count": 131,
   "metadata": {},
   "outputs": [],
   "source": [
    "data = json.load(open('../RNAStralign/data.json'))\n",
    "families = pd.DataFrame.from_dict(data, orient='index')['family'].apply(lambda x: x.split('__')[0].replace('_database', '')).apply(rename_families)\n",
    "fam_rnastralign = families.value_counts()\n",
    "len_rnastralign = pd.DataFrame.from_dict(data, orient='index')['sequence'].apply(len)"
   ]
  },
  {
   "cell_type": "markdown",
   "metadata": {},
   "source": [
    "## archiveII"
   ]
  },
  {
   "cell_type": "code",
   "execution_count": 132,
   "metadata": {},
   "outputs": [
    {
     "data": {
      "text/plain": [
       "index\n",
       "rRNA          1723\n",
       "SRP            725\n",
       "tRNA           493\n",
       "tmRNA          404\n",
       "Introns        104\n",
       "telomerase      37\n",
       "Name: count, dtype: int64"
      ]
     },
     "execution_count": 132,
     "metadata": {},
     "output_type": "execute_result"
    }
   ],
   "source": [
    "data = json.load(open('../archiveII/data/archiveII/data.json'))\n",
    "families = pd.DataFrame.from_dict(data, orient='index').reset_index()['index'].apply(lambda x: x.split('_')[0]).apply(rename_families)\n",
    "fam_archivII = families.value_counts()\n",
    "len_archivII = pd.DataFrame.from_dict(data, orient='index')['sequence'].apply(len)\n",
    "fam_archivII"
   ]
  },
  {
   "cell_type": "markdown",
   "metadata": {},
   "source": [
    "## bpRNA (own analysis)\n"
   ]
  },
  {
   "cell_type": "code",
   "execution_count": 133,
   "metadata": {},
   "outputs": [
    {
     "name": "stdout",
     "output_type": "stream",
     "text": [
      "66715\n"
     ]
    }
   ],
   "source": [
    "data = json.load(open('../bpRNA/data/bpRNA/data.json'))\n",
    "df = pd.DataFrame.from_dict(data, orient='index').reset_index().rename(columns={'index': 'reference'})\n",
    "df['family'] = df['reference'].apply(lambda x: x.split('_')[1])\n",
    "df['sequence'] = df['sequence'].apply(lambda x: x.replace('T', 'U'))\n",
    "df.set_index('reference', inplace=True)\n",
    "print(len(df))  "
   ]
  },
  {
   "cell_type": "markdown",
   "metadata": {},
   "source": [
    "### bpRNA/labeled"
   ]
  },
  {
   "cell_type": "code",
   "execution_count": 134,
   "metadata": {},
   "outputs": [
    {
     "data": {
      "text/plain": [
       "family\n",
       "SRP      723\n",
       "ncRNA    533\n",
       "SPR      483\n",
       "RNP      419\n",
       "tmRNA    404\n",
       "Name: count, dtype: int64"
      ]
     },
     "execution_count": 134,
     "metadata": {},
     "output_type": "execute_result"
    }
   ],
   "source": [
    "valid_labels = list(fam_archivII.keys()) + list(fam_rnastralign.keys()) + ['SPR', 'RNP', 'ncRNA']\n",
    "df['family'] = df['family'].apply(lambda x: 'ncRNA' if x == 'PDB' else x)\n",
    "df_labeled = df[df['family'].isin(valid_labels)].copy()\n",
    "df_labeled['family'].value_counts()"
   ]
  },
  {
   "cell_type": "markdown",
   "metadata": {},
   "source": [
    "### bpRNA/unlabeled"
   ]
  },
  {
   "cell_type": "code",
   "execution_count": 135,
   "metadata": {},
   "outputs": [
    {
     "data": {
      "text/plain": [
       "64153"
      ]
     },
     "execution_count": 135,
     "metadata": {},
     "output_type": "execute_result"
    }
   ],
   "source": [
    "df_un = df[~df['family'].isin(valid_labels)].copy()\n",
    "df_un = df_un[['sequence']].reset_index().rename(columns={'index': 'reference'})\n",
    "len(df_un)"
   ]
  },
  {
   "cell_type": "markdown",
   "metadata": {},
   "source": [
    "### Add labels from external databases through sequence matching\n",
    "\n",
    "#### Rfam fasta files"
   ]
  },
  {
   "cell_type": "code",
   "execution_count": 136,
   "metadata": {},
   "outputs": [],
   "source": [
    "rfam = pd.read_csv('/Users/yvesmartin/src/supermodels-data/rfam/data/rfam.csv')\n",
    "rfam = rfam[['ref_desc', 'sequence', 'family_name', 'full_family_name', 'clan_name']]\n",
    "rfam['sequence'] = rfam['sequence'].apply(lambda x: x.replace('T', 'U'))"
   ]
  },
  {
   "cell_type": "code",
   "execution_count": 137,
   "metadata": {},
   "outputs": [
    {
     "data": {
      "text/html": [
       "<div>\n",
       "<style scoped>\n",
       "    .dataframe tbody tr th:only-of-type {\n",
       "        vertical-align: middle;\n",
       "    }\n",
       "\n",
       "    .dataframe tbody tr th {\n",
       "        vertical-align: top;\n",
       "    }\n",
       "\n",
       "    .dataframe thead th {\n",
       "        text-align: right;\n",
       "    }\n",
       "</style>\n",
       "<table border=\"1\" class=\"dataframe\">\n",
       "  <thead>\n",
       "    <tr style=\"text-align: right;\">\n",
       "      <th></th>\n",
       "      <th>reference</th>\n",
       "      <th>sequence</th>\n",
       "      <th>ref_desc</th>\n",
       "      <th>family_name</th>\n",
       "      <th>full_family_name</th>\n",
       "      <th>clan_name</th>\n",
       "    </tr>\n",
       "  </thead>\n",
       "  <tbody>\n",
       "    <tr>\n",
       "      <th>182156</th>\n",
       "      <td>bpRNA_RFAM_23070</td>\n",
       "      <td>CCUUCAUUGGUUUACCUCAAACCUGUUGUGAUGUAAGUUAAUGAAG...</td>\n",
       "      <td>Streptococcus sanguinis SK36, complete genome.</td>\n",
       "      <td>23S-methyl</td>\n",
       "      <td>23S methyl RNA motif</td>\n",
       "      <td>NaN</td>\n",
       "    </tr>\n",
       "    <tr>\n",
       "      <th>184249</th>\n",
       "      <td>bpRNA_RFAM_23072</td>\n",
       "      <td>CGUUUGGCGGUCGAUAUCAGCGUUUAACUGUUAGCGGCAGACAAGU...</td>\n",
       "      <td>Lactobacillus brevis ATCC 367, complete genome.</td>\n",
       "      <td>23S-methyl</td>\n",
       "      <td>23S methyl RNA motif</td>\n",
       "      <td>NaN</td>\n",
       "    </tr>\n",
       "    <tr>\n",
       "      <th>126285</th>\n",
       "      <td>bpRNA_RFAM_23065</td>\n",
       "      <td>CGUUUGGUAGUUAACAUCGACAUGUCGUUGGUGACUACCGAGUUGU...</td>\n",
       "      <td>Lactobacillus plantarum WCFS1 complete genome</td>\n",
       "      <td>23S-methyl</td>\n",
       "      <td>23S methyl RNA motif</td>\n",
       "      <td>NaN</td>\n",
       "    </tr>\n",
       "    <tr>\n",
       "      <th>34815</th>\n",
       "      <td>bpRNA_RFAM_23059</td>\n",
       "      <td>UUUUCAUUGGUUUUUAUCAGGUUCCUGUUCUGAUAAAAGUUAGUGA...</td>\n",
       "      <td>Enterococcus villorum ATCC 700913 genomic scaf...</td>\n",
       "      <td>23S-methyl</td>\n",
       "      <td>23S methyl RNA motif</td>\n",
       "      <td>NaN</td>\n",
       "    </tr>\n",
       "    <tr>\n",
       "      <th>206677</th>\n",
       "      <td>bpRNA_RFAM_23077</td>\n",
       "      <td>UUUUCCCUAACUUUUAUCAGAAUACUUUUUGAUAAAAGCUAGUGAU...</td>\n",
       "      <td>Lactobacillus sakei strain 23K complete genome.</td>\n",
       "      <td>23S-methyl</td>\n",
       "      <td>23S methyl RNA motif</td>\n",
       "      <td>NaN</td>\n",
       "    </tr>\n",
       "    <tr>\n",
       "      <th>...</th>\n",
       "      <td>...</td>\n",
       "      <td>...</td>\n",
       "      <td>...</td>\n",
       "      <td>...</td>\n",
       "      <td>...</td>\n",
       "      <td>...</td>\n",
       "    </tr>\n",
       "    <tr>\n",
       "      <th>223807</th>\n",
       "      <td>bpRNA_CRW_54700</td>\n",
       "      <td>AAAGACUCAGUCCUAACCUUACUAUUGGUUUUUGCUAGACAUAUAC...</td>\n",
       "      <td>NaN</td>\n",
       "      <td>NaN</td>\n",
       "      <td>NaN</td>\n",
       "      <td>NaN</td>\n",
       "    </tr>\n",
       "    <tr>\n",
       "      <th>223808</th>\n",
       "      <td>bpRNA_CRW_43706</td>\n",
       "      <td>GGGUCUGUAGCUCAGUCGGUUAGAGCAGGGGACUCAUAAUCCCUUG...</td>\n",
       "      <td>NaN</td>\n",
       "      <td>NaN</td>\n",
       "      <td>NaN</td>\n",
       "      <td>NaN</td>\n",
       "    </tr>\n",
       "    <tr>\n",
       "      <th>223809</th>\n",
       "      <td>bpRNA_CRW_15161</td>\n",
       "      <td>GAUCCUGGCUCAGGACGAACGCUGGCGGCGUGCCUAAUACAUGCAA...</td>\n",
       "      <td>NaN</td>\n",
       "      <td>NaN</td>\n",
       "      <td>NaN</td>\n",
       "      <td>NaN</td>\n",
       "    </tr>\n",
       "    <tr>\n",
       "      <th>223830</th>\n",
       "      <td>bpRNA_RFAM_23681</td>\n",
       "      <td>CCCAAAGGUUCCCUCAGGCUGAAUGGAAACCAGCCAGAGAGUGUAA...</td>\n",
       "      <td>NaN</td>\n",
       "      <td>NaN</td>\n",
       "      <td>NaN</td>\n",
       "      <td>NaN</td>\n",
       "    </tr>\n",
       "    <tr>\n",
       "      <th>223831</th>\n",
       "      <td>bpRNA_RFAM_33397</td>\n",
       "      <td>UUCUGAUCUGUCGAUUCGACUCCCUCCCGUCGGCCCUGAGACACCU...</td>\n",
       "      <td>NaN</td>\n",
       "      <td>NaN</td>\n",
       "      <td>NaN</td>\n",
       "      <td>NaN</td>\n",
       "    </tr>\n",
       "  </tbody>\n",
       "</table>\n",
       "<p>64153 rows × 6 columns</p>\n",
       "</div>"
      ],
      "text/plain": [
       "               reference                                           sequence  \\\n",
       "182156  bpRNA_RFAM_23070  CCUUCAUUGGUUUACCUCAAACCUGUUGUGAUGUAAGUUAAUGAAG...   \n",
       "184249  bpRNA_RFAM_23072  CGUUUGGCGGUCGAUAUCAGCGUUUAACUGUUAGCGGCAGACAAGU...   \n",
       "126285  bpRNA_RFAM_23065  CGUUUGGUAGUUAACAUCGACAUGUCGUUGGUGACUACCGAGUUGU...   \n",
       "34815   bpRNA_RFAM_23059  UUUUCAUUGGUUUUUAUCAGGUUCCUGUUCUGAUAAAAGUUAGUGA...   \n",
       "206677  bpRNA_RFAM_23077  UUUUCCCUAACUUUUAUCAGAAUACUUUUUGAUAAAAGCUAGUGAU...   \n",
       "...                  ...                                                ...   \n",
       "223807   bpRNA_CRW_54700  AAAGACUCAGUCCUAACCUUACUAUUGGUUUUUGCUAGACAUAUAC...   \n",
       "223808   bpRNA_CRW_43706  GGGUCUGUAGCUCAGUCGGUUAGAGCAGGGGACUCAUAAUCCCUUG...   \n",
       "223809   bpRNA_CRW_15161  GAUCCUGGCUCAGGACGAACGCUGGCGGCGUGCCUAAUACAUGCAA...   \n",
       "223830  bpRNA_RFAM_23681  CCCAAAGGUUCCCUCAGGCUGAAUGGAAACCAGCCAGAGAGUGUAA...   \n",
       "223831  bpRNA_RFAM_33397  UUCUGAUCUGUCGAUUCGACUCCCUCCCGUCGGCCCUGAGACACCU...   \n",
       "\n",
       "                                                 ref_desc family_name  \\\n",
       "182156     Streptococcus sanguinis SK36, complete genome.  23S-methyl   \n",
       "184249    Lactobacillus brevis ATCC 367, complete genome.  23S-methyl   \n",
       "126285      Lactobacillus plantarum WCFS1 complete genome  23S-methyl   \n",
       "34815   Enterococcus villorum ATCC 700913 genomic scaf...  23S-methyl   \n",
       "206677    Lactobacillus sakei strain 23K complete genome.  23S-methyl   \n",
       "...                                                   ...         ...   \n",
       "223807                                                NaN         NaN   \n",
       "223808                                                NaN         NaN   \n",
       "223809                                                NaN         NaN   \n",
       "223830                                                NaN         NaN   \n",
       "223831                                                NaN         NaN   \n",
       "\n",
       "            full_family_name clan_name  \n",
       "182156  23S methyl RNA motif       NaN  \n",
       "184249  23S methyl RNA motif       NaN  \n",
       "126285  23S methyl RNA motif       NaN  \n",
       "34815   23S methyl RNA motif       NaN  \n",
       "206677  23S methyl RNA motif       NaN  \n",
       "...                      ...       ...  \n",
       "223807                   NaN       NaN  \n",
       "223808                   NaN       NaN  \n",
       "223809                   NaN       NaN  \n",
       "223830                   NaN       NaN  \n",
       "223831                   NaN       NaN  \n",
       "\n",
       "[64153 rows x 6 columns]"
      ]
     },
     "execution_count": 137,
     "metadata": {},
     "output_type": "execute_result"
    }
   ],
   "source": [
    "df = pd.merge(df_un, rfam, on='sequence', how='left')\n",
    "df.sort_values(by='family_name', inplace=True, na_position='last')\n",
    "df.drop_duplicates(subset=['reference'], inplace=True, keep='first')\n",
    "df"
   ]
  },
  {
   "cell_type": "markdown",
   "metadata": {},
   "source": [
    "#### CRW "
   ]
  },
  {
   "cell_type": "code",
   "execution_count": 138,
   "metadata": {},
   "outputs": [
    {
     "data": {
      "text/plain": [
       "family_name\n",
       "tRNA              3620\n",
       "5S_rRNA            848\n",
       "RNaseP_bact_a      450\n",
       "SAM                433\n",
       "tmRNA              413\n",
       "                  ... \n",
       "CbSR2                1\n",
       "CbSR14               1\n",
       "SBWMV2_UPD-PKl       1\n",
       "CbSR1                1\n",
       "TB10Cs2H2            1\n",
       "Name: count, Length: 1604, dtype: int64"
      ]
     },
     "execution_count": 138,
     "metadata": {},
     "output_type": "execute_result"
    }
   ],
   "source": [
    "data = pd.DataFrame.from_dict(json.load(open('../CRW/crw.json')), orient='index').reset_index().rename(columns={'index': 'reference', 'family':'family_name'})[['sequence', 'family_name']]\n",
    "df = pd.merge(df, data, on='sequence', how='left')\n",
    "df['family_name'] = df.apply(lambda x: x['family_name_x'] if pd.isnull(x['family_name_y']) else x['family_name_y'], axis=1)\n",
    "df.drop(['family_name_x', 'family_name_y'], axis=1, inplace=True)\n",
    "df['family_name'].value_counts()"
   ]
  },
  {
   "cell_type": "code",
   "execution_count": 139,
   "metadata": {},
   "outputs": [],
   "source": [
    "translation_family_name = {\n",
    "    'sRNA': ['sRNA', 'rli', 'rivX', 'CC', 'STnc', 'sau-', 'Atu_', 'GlsR', '6C', 'ArcZ', 'Bsr', 'C0', 'CyaR_RyeE', 'whalefall-1', 'tpke11', 'tfoR',\\\n",
    "        't44', 'sro', 'FsrA', 'sraA', 'ryfA', 'GadY', 'GcvB', 'Hgc', 'IS009', 'InvR', 'MtlS', 'OmrA-B', 'OrzO-P', 'OxyS', 'PrrF', 'Qrr', 'RybB', 'RydC', 'SgrS',\\\n",
    "        'Spot_42', 'Sra'\n",
    "            ],\n",
    "    'tRNA': ['tRNA', 'TLS-PK'],\n",
    "    'rRNA': ['rRNA', '5s', '5S_rRNA', '16s', '16S_rRNA', '23s', '23S_rRNA', 'RF_site', 'ribozyme', 'GOLLD'],\n",
    "    'ncRNA': ['ncRNA', 'rdlD', 'NRON', 'CopA', 'DicF', 'uc_338', 'Dicty_Class_I_RNA', 'DsrA', 'FourU', 'srg1', 'sok', 'symR', 'sar', 'rncO', \\\n",
    "            'rydB', 'msr', 'IS102', 'IS128', 'MicC', 'MicF', 'NrrF', 'NsiR1', 'Plasmid_RNAIII','RNA-OUT', 'RNAI','RUF', \\\n",
    "             'RprA', 'Rsa', 'SprD'\n",
    "                ],\n",
    "    'group_I_intron': ['grp1'],\n",
    "    'group_II_intron': ['grp2', 'group-II'],\n",
    "    'SRP': ['srp', 'SRP'],\n",
    "    'RNaseP': ['RNaseP'],\n",
    "    'crRNA': ['CRISPR'],\n",
    "    'RNP': ['HACA'],\n",
    "    'snRNA': ['snRNA', 'sn', 'Gl_U', 'SNORA', 'U1', 'U7', 'U3', 'VA', 'SCARNA'],\n",
    "    'microRNA': ['mir-', 'MIR', 'lsy-6'],\n",
    "    'virus': ['virus', 'CuYV_BPYV', 'SPCSV', 'HAV', 'BMV3_UPD', 'Rubella_3', 'HIV', 'HBV', 'IRES'],\n",
    "    'tmRNA': ['tmRNA'],\n",
    "    'mRNA': ['SAM', 'mini-ykkC', 'FIE3'],\n",
    "    'CRE': ['sucA', 'Antizyme_FSE', 'CAESAR', 'ylbH', 'yjdF', 'ydaO-yuaA', 'ybhL', 'wcaG', 'G-CSF_SLDE', 'GABA3', 'GAIT', 'speF', 'GP_knot', \n",
    "            'Gurken', 'K_chan_RES', 'Mg_sensor', 'PyrR', 'RtT', 'SECIS_'                                   ],\n",
    "    'other': ['IMES-3', 'isrK', 'isrL', 'DapZ', 'ppoRNA', 'DNA', 'RyhB'],\n",
    "    'telomerase': ['tp2'],\n",
    "    'motif': ['MS2', 'OLE', 'PYLIS_'],\n",
    "}\n",
    "\n",
    "translation_clan_name = {\n",
    "    'snRNA': ['7SK'],\n",
    "    'ncRNA': ['Csr_Rsm_clan', 'FinP-traJ','Glm', 'suhB'],\n",
    "    'sRNA': ['RyeA-RyeB', 'LhrC'],\n",
    "    'RNaseP': ['RNaseP'],\n",
    "    'mRNA': ['SL'],\n",
    "}\n",
    "\n",
    "translation_family_description = {\n",
    "    'mRNA': ['riboswitch', 'UTR', 'mRNA', 'promoter', ],\n",
    "    'snRNA': ['spliceosomal', 'Small nucleolar', 'snoRNA', 'Small Nucleolar RNA', 'small nucleolar'],\n",
    "    'sRNA': ['sRNA', 'small RNA', 'AniS', 'Anti-Q RNA', 'Hfq binding', 'antisense','anti-sense', 'Antisense', 'anti-toxin', 'Short', 'antitoxin'],\n",
    "    'virus': ['virus'],\n",
    "    'microRNA': ['microRNA'],\n",
    "    'tRNA': ['tRNA'],\n",
    "    'tmRNA': ['tmRNA'],\n",
    "    'crRNA': ['CRISPR'],\n",
    "    'telomerase': ['telomerase'],\n",
    "    '23S_rRNA': ['23S'],\n",
    "    '6S_rRNA': ['6S'],\n",
    "    'motif': ['pseudoknot', 'Hammerhead', 'motif', 'Stem loopII regulatory element in POLB', 'Pseudoknot'],\n",
    "    'CRE': ['Alpha operon ribosome binding site', 'leader', 'cis-regulatory element', 'element'],\n",
    "    'rRNA': ['rRNA', 'Ribosomal', 'ribosomal', 'ribozyme', 'pRNA', 'ribosome'],\n",
    "    'ncRNA': ['Y RNA', 'thermometer', 'noncoding', 'SscA', 'Non-coding'], \n",
    "    'group_I_intron': ['Group I'],\n",
    "}\n",
    "\n",
    "def clean_family(row):\n",
    "    x = row['clan_name']\n",
    "    if not pd.isna(x):\n",
    "        for family, v in translation_clan_name.items():\n",
    "            for vv in v:\n",
    "                if vv in x:\n",
    "                    return family\n",
    "\n",
    "    x = row['family_name']\n",
    "    if pd.isna(x):\n",
    "        return 'other'\n",
    "    for family, v in translation_family_name.items():\n",
    "        for vv in v:\n",
    "            if vv in x:\n",
    "                return family\n",
    "            \n",
    "    full_family_name = row['full_family_name']\n",
    "    if pd.isna(full_family_name):\n",
    "        return 'other'\n",
    "    for family, keywords in translation_family_description.items():\n",
    "        for kw in keywords:\n",
    "            if kw in full_family_name:\n",
    "                return family     \n",
    "    return 'other'\n",
    "\n",
    "def rename_families_bp2(x):\n",
    "    if x == '5s' or x == '16s' or x == '23s' or 'rRNA' in x:\n",
    "        return 'rRNA'\n",
    "    if x == 'grp1' or x == 'group_I_intron' or x == 'Introns':\n",
    "        return 'Introns'\n",
    "    if x == 'grp2' or 'intron' in x:\n",
    "        return 'Introns'\n",
    "    if x == 'srp' or x == 'SRP':\n",
    "        return 'Other'\n",
    "    if x == 'telomerase':\n",
    "        return 'telomerase'\n",
    "    if x == 'RNaseP':\n",
    "        return 'rRNA'\n",
    "    if x == 'snRNA' or x == 'microRNA' or x == 'CRE' or x == 'sRNA':\n",
    "        return 'sRNA'\n",
    "    if x in ['virus', 'motif', 'other']:\n",
    "        return 'Other'\n",
    "    else: \n",
    "        return x\n",
    "\n",
    "df_temp = df.copy()\n",
    "df_temp['family'] = df.apply(clean_family, axis=1)\n",
    "df_temp['length'] = df_temp['sequence'].apply(len)\n",
    "df_temp.set_index('reference', inplace=True)\n",
    "df_final = pd.concat([df_labeled, df_temp])[['sequence', 'family']]\n",
    "df_final['family'] = df_final['family'].apply(rename_families_bp2)\n",
    "bprna = df_final.value_counts('family')\n",
    "len_bprna = df_final['sequence'].apply(len).tolist()"
   ]
  },
  {
   "cell_type": "code",
   "execution_count": null,
   "metadata": {},
   "outputs": [],
   "source": []
  },
  {
   "cell_type": "code",
   "execution_count": 124,
   "metadata": {},
   "outputs": [],
   "source": [
    "# label bprna 90\n",
    "df90 =  open('/Users/yvesmartin/data/bpRNA/bpRNA_1m_90.fasta').read().split('\\n')\n",
    "refs, seqs = df90[::2], df90[1::2]\n",
    "df90 = pd.DataFrame({'reference': [r.split('>')[1] for r in refs if '>' in r], 'sequence': seqs})\n",
    "df90 = pd.merge(df_final, df90, on='sequence', how='inner')\n",
    "bprna90 = df90.value_counts('family')\n",
    "len_bprna90 = df90['sequence'].apply(len).tolist()"
   ]
  },
  {
   "cell_type": "markdown",
   "metadata": {},
   "source": [
    "# Aggregate"
   ]
  },
  {
   "cell_type": "code",
   "execution_count": 125,
   "metadata": {},
   "outputs": [
    {
     "data": {
      "text/html": [
       "<div>\n",
       "<style scoped>\n",
       "    .dataframe tbody tr th:only-of-type {\n",
       "        vertical-align: middle;\n",
       "    }\n",
       "\n",
       "    .dataframe tbody tr th {\n",
       "        vertical-align: top;\n",
       "    }\n",
       "\n",
       "    .dataframe thead th {\n",
       "        text-align: right;\n",
       "    }\n",
       "</style>\n",
       "<table border=\"1\" class=\"dataframe\">\n",
       "  <thead>\n",
       "    <tr style=\"text-align: right;\">\n",
       "      <th></th>\n",
       "      <th>bpRNA-1m</th>\n",
       "      <th>bpRNA-1m(90)</th>\n",
       "      <th>RNAStralign</th>\n",
       "      <th>ArchiveII</th>\n",
       "    </tr>\n",
       "  </thead>\n",
       "  <tbody>\n",
       "    <tr>\n",
       "      <th>Other</th>\n",
       "      <td>39214.0</td>\n",
       "      <td>11900.0</td>\n",
       "      <td>NaN</td>\n",
       "      <td>NaN</td>\n",
       "    </tr>\n",
       "    <tr>\n",
       "      <th>sRNA</th>\n",
       "      <td>15216.0</td>\n",
       "      <td>9391.0</td>\n",
       "      <td>NaN</td>\n",
       "      <td>NaN</td>\n",
       "    </tr>\n",
       "    <tr>\n",
       "      <th>tRNA</th>\n",
       "      <td>3828.0</td>\n",
       "      <td>1185.0</td>\n",
       "      <td>6436.0</td>\n",
       "      <td>493.0</td>\n",
       "    </tr>\n",
       "    <tr>\n",
       "      <th>mRNA</th>\n",
       "      <td>2470.0</td>\n",
       "      <td>1766.0</td>\n",
       "      <td>NaN</td>\n",
       "      <td>NaN</td>\n",
       "    </tr>\n",
       "    <tr>\n",
       "      <th>rRNA</th>\n",
       "      <td>2272.0</td>\n",
       "      <td>1289.0</td>\n",
       "      <td>18939.0</td>\n",
       "      <td>1723.0</td>\n",
       "    </tr>\n",
       "    <tr>\n",
       "      <th>Introns</th>\n",
       "      <td>1488.0</td>\n",
       "      <td>974.0</td>\n",
       "      <td>511.0</td>\n",
       "      <td>104.0</td>\n",
       "    </tr>\n",
       "    <tr>\n",
       "      <th>ncRNA</th>\n",
       "      <td>1403.0</td>\n",
       "      <td>773.0</td>\n",
       "      <td>NaN</td>\n",
       "      <td>NaN</td>\n",
       "    </tr>\n",
       "    <tr>\n",
       "      <th>tmRNA</th>\n",
       "      <td>971.0</td>\n",
       "      <td>520.0</td>\n",
       "      <td>170.0</td>\n",
       "      <td>404.0</td>\n",
       "    </tr>\n",
       "    <tr>\n",
       "      <th>SRP</th>\n",
       "      <td>NaN</td>\n",
       "      <td>NaN</td>\n",
       "      <td>193.0</td>\n",
       "      <td>725.0</td>\n",
       "    </tr>\n",
       "    <tr>\n",
       "      <th>telomerase</th>\n",
       "      <td>NaN</td>\n",
       "      <td>NaN</td>\n",
       "      <td>37.0</td>\n",
       "      <td>37.0</td>\n",
       "    </tr>\n",
       "  </tbody>\n",
       "</table>\n",
       "</div>"
      ],
      "text/plain": [
       "            bpRNA-1m  bpRNA-1m(90)  RNAStralign  ArchiveII\n",
       "Other        39214.0       11900.0          NaN        NaN\n",
       "sRNA         15216.0        9391.0          NaN        NaN\n",
       "tRNA          3828.0        1185.0       6436.0      493.0\n",
       "mRNA          2470.0        1766.0          NaN        NaN\n",
       "rRNA          2272.0        1289.0      18939.0     1723.0\n",
       "Introns       1488.0         974.0        511.0      104.0\n",
       "ncRNA         1403.0         773.0          NaN        NaN\n",
       "tmRNA          971.0         520.0        170.0      404.0\n",
       "SRP              NaN           NaN        193.0      725.0\n",
       "telomerase       NaN           NaN         37.0       37.0"
      ]
     },
     "execution_count": 125,
     "metadata": {},
     "output_type": "execute_result"
    }
   ],
   "source": [
    "df = pd.concat([bprna, bprna90, fam_rnastralign, fam_archivII], axis=1)\n",
    "df.columns = ['bpRNA-1m', 'bpRNA-1m(90)', 'RNAStralign', 'ArchiveII']\n",
    "# df = df.fillna(0).astype(int)\n",
    "df_family = df.copy()\n",
    "df_family.loc['total'] = {\n",
    "    'bpRNA-1m': len(len_bprna),\n",
    "    'bpRNA-1m(90)': len(len_bprna90),\n",
    "    'RNAStralign': len(len_rnastralign),\n",
    "    'ArchiveII': len(len_archivII),\n",
    "}\n",
    "# others = total - df_family.sum()\n",
    "\n",
    "assert df_family.loc[df_family.index[:-1]].sum().sum() == df_family.loc['total'].sum()\n",
    "df_family.drop('total', inplace=True)\n",
    "# df_family = df_family.fillna(0).astype(int)\n",
    "df_family"
   ]
  },
  {
   "cell_type": "code",
   "execution_count": 126,
   "metadata": {},
   "outputs": [
    {
     "data": {
      "text/plain": [
       "bpRNA-1m        66862.0\n",
       "bpRNA-1m(90)    27798.0\n",
       "RNAStralign     26249.0\n",
       "ArchiveII        3449.0\n",
       "dtype: float64"
      ]
     },
     "execution_count": 126,
     "metadata": {},
     "output_type": "execute_result"
    }
   ],
   "source": [
    "df_family.loc[df_family.index[:-1]].sum()"
   ]
  },
  {
   "cell_type": "code",
   "execution_count": null,
   "metadata": {},
   "outputs": [],
   "source": []
  },
  {
   "cell_type": "code",
   "execution_count": 127,
   "metadata": {},
   "outputs": [],
   "source": [
    "# one value per bin\n",
    "def make_histograms(l):\n",
    "    min_val = 0\n",
    "    max_val = 4400\n",
    "    bin_size = 100\n",
    "    bins = np.arange(min_val + bin_size/2, max_val - bin_size/2, bin_size)\n",
    "    hist, bins = np.histogram(l, bins=max_val//bin_size, range=(min_val, max_val))\n",
    "    return hist, bins\n",
    "hists = {\n",
    "    'bpRNA-1m': make_histograms(len_bprna),\n",
    "    'bpRNA-1m(90)': make_histograms(len_bprna90),\n",
    "    'RNAStralign': make_histograms(len_rnastralign),\n",
    "    'ArchiveII': make_histograms(len_archivII),\n",
    "}"
   ]
  },
  {
   "cell_type": "markdown",
   "metadata": {},
   "source": [
    "### Plot as piecharts"
   ]
  },
  {
   "cell_type": "code",
   "execution_count": 128,
   "metadata": {},
   "outputs": [],
   "source": [
    "horizontal_spacing = 0.08\n",
    "vertical_spacing = 0\n",
    "height = 550\n",
    "width = 1200"
   ]
  },
  {
   "cell_type": "code",
   "execution_count": 129,
   "metadata": {},
   "outputs": [
    {
     "data": {
      "application/vnd.plotly.v1+json": {
       "config": {
        "plotlyServerURL": "https://plot.ly"
       },
       "data": [
        {
         "domain": {
          "x": [
           0,
           0.19
          ],
          "y": [
           0.28571428571428575,
           1
          ]
         },
         "labels": [
          "Other",
          "sRNA",
          "tRNA",
          "mRNA",
          "rRNA",
          "Introns",
          "ncRNA",
          "tmRNA",
          "SRP",
          "telomerase"
         ],
         "name": "bpRNA-1m",
         "showlegend": true,
         "textinfo": "percent",
         "textposition": "auto",
         "texttemplate": "%{percent}",
         "type": "pie",
         "values": [
          39214,
          15216,
          3828,
          2470,
          2272,
          1488,
          1403,
          971,
          null,
          null
         ]
        },
        {
         "marker": {
          "color": "rgb(0, 0, 0)"
         },
         "name": "bpRNA-1m",
         "showlegend": false,
         "type": "bar",
         "x": [
          0,
          100,
          200,
          300,
          400,
          500,
          600,
          700,
          800,
          900,
          1000,
          1100,
          1200,
          1300,
          1400,
          1500,
          1600,
          1700,
          1800,
          1900,
          2000,
          2100,
          2200,
          2300,
          2400,
          2500,
          2600,
          2700,
          2800,
          2900,
          3000,
          3100,
          3200,
          3300,
          3400,
          3500,
          3600,
          3700,
          3800,
          3900,
          4000,
          4100,
          4200,
          4300
         ],
         "xaxis": "x",
         "y": [
          31062,
          17054,
          2641,
          2502,
          1025,
          755,
          424,
          552,
          764,
          341,
          120,
          107,
          270,
          1536,
          5534,
          1557,
          18,
          49,
          55,
          23,
          14,
          11,
          1,
          1,
          2,
          2,
          4,
          12,
          71,
          179,
          50,
          14,
          7,
          19,
          17,
          15,
          9,
          9,
          4,
          17,
          6,
          0,
          3,
          6
         ],
         "yaxis": "y"
        },
        {
         "domain": {
          "x": [
           0.27,
           0.46
          ],
          "y": [
           0.28571428571428575,
           1
          ]
         },
         "labels": [
          "Other",
          "sRNA",
          "tRNA",
          "mRNA",
          "rRNA",
          "Introns",
          "ncRNA",
          "tmRNA",
          "SRP",
          "telomerase"
         ],
         "name": "bpRNA-1m(90)",
         "showlegend": false,
         "textinfo": "percent",
         "textposition": "auto",
         "texttemplate": "%{percent}",
         "type": "pie",
         "values": [
          11900,
          9391,
          1185,
          1766,
          1289,
          974,
          773,
          520,
          null,
          null
         ]
        },
        {
         "marker": {
          "color": "rgb(0, 0, 0)"
         },
         "name": "bpRNA-1m(90)",
         "showlegend": false,
         "type": "bar",
         "x": [
          0,
          100,
          200,
          300,
          400,
          500,
          600,
          700,
          800,
          900,
          1000,
          1100,
          1200,
          1300,
          1400,
          1500,
          1600,
          1700,
          1800,
          1900,
          2000,
          2100,
          2200,
          2300,
          2400,
          2500,
          2600,
          2700,
          2800,
          2900,
          3000,
          3100,
          3200,
          3300,
          3400,
          3500,
          3600,
          3700,
          3800,
          3900,
          4000,
          4100,
          4200,
          4300
         ],
         "xaxis": "x2",
         "y": [
          13907,
          9768,
          1436,
          1191,
          358,
          117,
          64,
          39,
          19,
          67,
          25,
          10,
          16,
          33,
          122,
          135,
          16,
          24,
          42,
          22,
          13,
          10,
          1,
          1,
          0,
          0,
          0,
          11,
          52,
          139,
          39,
          14,
          7,
          18,
          17,
          12,
          9,
          9,
          4,
          16,
          6,
          0,
          3,
          6
         ],
         "yaxis": "y2"
        },
        {
         "domain": {
          "x": [
           0.54,
           0.73
          ],
          "y": [
           0.28571428571428575,
           1
          ]
         },
         "labels": [
          "Other",
          "sRNA",
          "tRNA",
          "mRNA",
          "rRNA",
          "Introns",
          "ncRNA",
          "tmRNA",
          "SRP",
          "telomerase"
         ],
         "name": "RNAStralign",
         "showlegend": false,
         "textinfo": "percent",
         "textposition": "auto",
         "texttemplate": "%{percent}",
         "type": "pie",
         "values": [
          null,
          null,
          6436,
          null,
          18939,
          511,
          null,
          170,
          193,
          37
         ]
        },
        {
         "marker": {
          "color": "rgb(0, 0, 0)"
         },
         "name": "RNAStralign",
         "showlegend": false,
         "type": "bar",
         "x": [
          0,
          100,
          200,
          300,
          400,
          500,
          600,
          700,
          800,
          900,
          1000,
          1100,
          1200,
          1300,
          1400,
          1500,
          1600,
          1700,
          1800,
          1900,
          2000,
          2100,
          2200,
          2300,
          2400,
          2500,
          2600,
          2700,
          2800,
          2900,
          3000,
          3100,
          3200,
          3300,
          3400,
          3500,
          3600,
          3700,
          3800,
          3900,
          4000,
          4100,
          4200,
          4300
         ],
         "xaxis": "x3",
         "y": [
          6454,
          9362,
          291,
          533,
          660,
          497,
          297,
          488,
          732,
          212,
          80,
          79,
          185,
          1087,
          4223,
          1100,
          3,
          1,
          2,
          0,
          0,
          0,
          0,
          0,
          0,
          0,
          0,
          0,
          0,
          0,
          0,
          0,
          0,
          0,
          0,
          0,
          0,
          0,
          0,
          0,
          0,
          0,
          0,
          0
         ],
         "yaxis": "y3"
        },
        {
         "domain": {
          "x": [
           0.81,
           1
          ],
          "y": [
           0.28571428571428575,
           1
          ]
         },
         "labels": [
          "Other",
          "sRNA",
          "tRNA",
          "mRNA",
          "rRNA",
          "Introns",
          "ncRNA",
          "tmRNA",
          "SRP",
          "telomerase"
         ],
         "name": "ArchiveII",
         "showlegend": false,
         "textinfo": "percent",
         "textposition": "auto",
         "texttemplate": "%{percent}",
         "type": "pie",
         "values": [
          null,
          null,
          493,
          null,
          1723,
          104,
          null,
          404,
          725,
          37
         ]
        },
        {
         "marker": {
          "color": "rgb(0, 0, 0)"
         },
         "name": "ArchiveII",
         "showlegend": false,
         "type": "bar",
         "x": [
          0,
          100,
          200,
          300,
          400,
          500,
          600,
          700,
          800,
          900,
          1000,
          1100,
          1200,
          1300,
          1400,
          1500,
          1600,
          1700,
          1800,
          1900,
          2000,
          2100,
          2200,
          2300,
          2400,
          2500,
          2600,
          2700,
          2800,
          2900,
          3000,
          3100,
          3200,
          3300,
          3400,
          3500,
          3600,
          3700,
          3800,
          3900,
          4000,
          4100,
          4200,
          4300
         ],
         "xaxis": "x4",
         "y": [
          694,
          1355,
          330,
          826,
          164,
          53,
          28,
          9,
          0,
          2,
          0,
          0,
          1,
          0,
          6,
          7,
          0,
          1,
          3,
          2,
          0,
          0,
          0,
          0,
          0,
          0,
          0,
          0,
          0,
          5,
          0,
          0,
          0,
          0,
          0,
          0,
          0,
          0,
          0,
          0,
          0,
          0,
          0,
          0
         ],
         "yaxis": "y4"
        }
       ],
       "layout": {
        "annotations": [
         {
          "font": {
           "size": 22
          },
          "showarrow": false,
          "text": "bpRNA-1m (N=66862)",
          "x": 0.095,
          "xanchor": "center",
          "xref": "paper",
          "y": 1,
          "yanchor": "bottom",
          "yref": "paper"
         },
         {
          "font": {
           "size": 22
          },
          "showarrow": false,
          "text": "bpRNA-1m(90) (N=27798)",
          "x": 0.365,
          "xanchor": "center",
          "xref": "paper",
          "y": 1,
          "yanchor": "bottom",
          "yref": "paper"
         },
         {
          "font": {
           "size": 22
          },
          "showarrow": false,
          "text": "RNAStralign (N=26286)",
          "x": 0.635,
          "xanchor": "center",
          "xref": "paper",
          "y": 1,
          "yanchor": "bottom",
          "yref": "paper"
         },
         {
          "font": {
           "size": 22
          },
          "showarrow": false,
          "text": "ArchiveII (N=3486)",
          "x": 0.905,
          "xanchor": "center",
          "xref": "paper",
          "y": 1,
          "yanchor": "bottom",
          "yref": "paper"
         },
         {
          "font": {
           "size": 22
          },
          "showarrow": false,
          "text": "Sequence length (bin size: 100)",
          "x": 0.5,
          "xanchor": "center",
          "xref": "paper",
          "y": -0.15,
          "yanchor": "bottom",
          "yref": "paper"
         },
         {
          "font": {
           "size": 22
          },
          "showarrow": false,
          "text": "Count",
          "textangle": -90,
          "x": -0.06,
          "xanchor": "center",
          "xref": "paper",
          "y": 0.03,
          "yanchor": "bottom",
          "yref": "paper"
         }
        ],
        "bargap": 0.1,
        "bargroupgap": 0.1,
        "barmode": "overlay",
        "font": {
         "color": "black",
         "family": "Arial",
         "size": 20
        },
        "height": 550,
        "legend": {
         "bordercolor": "black",
         "font": {
          "color": "black",
          "family": "Arial",
          "size": 20
         },
         "traceorder": "normal",
         "x": 1.03,
         "y": 0.95
        },
        "template": {
         "data": {
          "bar": [
           {
            "error_x": {
             "color": "#2a3f5f"
            },
            "error_y": {
             "color": "#2a3f5f"
            },
            "marker": {
             "line": {
              "color": "white",
              "width": 0.5
             },
             "pattern": {
              "fillmode": "overlay",
              "size": 10,
              "solidity": 0.2
             }
            },
            "type": "bar"
           }
          ],
          "barpolar": [
           {
            "marker": {
             "line": {
              "color": "white",
              "width": 0.5
             },
             "pattern": {
              "fillmode": "overlay",
              "size": 10,
              "solidity": 0.2
             }
            },
            "type": "barpolar"
           }
          ],
          "carpet": [
           {
            "aaxis": {
             "endlinecolor": "#2a3f5f",
             "gridcolor": "#C8D4E3",
             "linecolor": "#C8D4E3",
             "minorgridcolor": "#C8D4E3",
             "startlinecolor": "#2a3f5f"
            },
            "baxis": {
             "endlinecolor": "#2a3f5f",
             "gridcolor": "#C8D4E3",
             "linecolor": "#C8D4E3",
             "minorgridcolor": "#C8D4E3",
             "startlinecolor": "#2a3f5f"
            },
            "type": "carpet"
           }
          ],
          "choropleth": [
           {
            "colorbar": {
             "outlinewidth": 0,
             "ticks": ""
            },
            "type": "choropleth"
           }
          ],
          "contour": [
           {
            "colorbar": {
             "outlinewidth": 0,
             "ticks": ""
            },
            "colorscale": [
             [
              0,
              "#0d0887"
             ],
             [
              0.1111111111111111,
              "#46039f"
             ],
             [
              0.2222222222222222,
              "#7201a8"
             ],
             [
              0.3333333333333333,
              "#9c179e"
             ],
             [
              0.4444444444444444,
              "#bd3786"
             ],
             [
              0.5555555555555556,
              "#d8576b"
             ],
             [
              0.6666666666666666,
              "#ed7953"
             ],
             [
              0.7777777777777778,
              "#fb9f3a"
             ],
             [
              0.8888888888888888,
              "#fdca26"
             ],
             [
              1,
              "#f0f921"
             ]
            ],
            "type": "contour"
           }
          ],
          "contourcarpet": [
           {
            "colorbar": {
             "outlinewidth": 0,
             "ticks": ""
            },
            "type": "contourcarpet"
           }
          ],
          "heatmap": [
           {
            "colorbar": {
             "outlinewidth": 0,
             "ticks": ""
            },
            "colorscale": [
             [
              0,
              "#0d0887"
             ],
             [
              0.1111111111111111,
              "#46039f"
             ],
             [
              0.2222222222222222,
              "#7201a8"
             ],
             [
              0.3333333333333333,
              "#9c179e"
             ],
             [
              0.4444444444444444,
              "#bd3786"
             ],
             [
              0.5555555555555556,
              "#d8576b"
             ],
             [
              0.6666666666666666,
              "#ed7953"
             ],
             [
              0.7777777777777778,
              "#fb9f3a"
             ],
             [
              0.8888888888888888,
              "#fdca26"
             ],
             [
              1,
              "#f0f921"
             ]
            ],
            "type": "heatmap"
           }
          ],
          "heatmapgl": [
           {
            "colorbar": {
             "outlinewidth": 0,
             "ticks": ""
            },
            "colorscale": [
             [
              0,
              "#0d0887"
             ],
             [
              0.1111111111111111,
              "#46039f"
             ],
             [
              0.2222222222222222,
              "#7201a8"
             ],
             [
              0.3333333333333333,
              "#9c179e"
             ],
             [
              0.4444444444444444,
              "#bd3786"
             ],
             [
              0.5555555555555556,
              "#d8576b"
             ],
             [
              0.6666666666666666,
              "#ed7953"
             ],
             [
              0.7777777777777778,
              "#fb9f3a"
             ],
             [
              0.8888888888888888,
              "#fdca26"
             ],
             [
              1,
              "#f0f921"
             ]
            ],
            "type": "heatmapgl"
           }
          ],
          "histogram": [
           {
            "marker": {
             "pattern": {
              "fillmode": "overlay",
              "size": 10,
              "solidity": 0.2
             }
            },
            "type": "histogram"
           }
          ],
          "histogram2d": [
           {
            "colorbar": {
             "outlinewidth": 0,
             "ticks": ""
            },
            "colorscale": [
             [
              0,
              "#0d0887"
             ],
             [
              0.1111111111111111,
              "#46039f"
             ],
             [
              0.2222222222222222,
              "#7201a8"
             ],
             [
              0.3333333333333333,
              "#9c179e"
             ],
             [
              0.4444444444444444,
              "#bd3786"
             ],
             [
              0.5555555555555556,
              "#d8576b"
             ],
             [
              0.6666666666666666,
              "#ed7953"
             ],
             [
              0.7777777777777778,
              "#fb9f3a"
             ],
             [
              0.8888888888888888,
              "#fdca26"
             ],
             [
              1,
              "#f0f921"
             ]
            ],
            "type": "histogram2d"
           }
          ],
          "histogram2dcontour": [
           {
            "colorbar": {
             "outlinewidth": 0,
             "ticks": ""
            },
            "colorscale": [
             [
              0,
              "#0d0887"
             ],
             [
              0.1111111111111111,
              "#46039f"
             ],
             [
              0.2222222222222222,
              "#7201a8"
             ],
             [
              0.3333333333333333,
              "#9c179e"
             ],
             [
              0.4444444444444444,
              "#bd3786"
             ],
             [
              0.5555555555555556,
              "#d8576b"
             ],
             [
              0.6666666666666666,
              "#ed7953"
             ],
             [
              0.7777777777777778,
              "#fb9f3a"
             ],
             [
              0.8888888888888888,
              "#fdca26"
             ],
             [
              1,
              "#f0f921"
             ]
            ],
            "type": "histogram2dcontour"
           }
          ],
          "mesh3d": [
           {
            "colorbar": {
             "outlinewidth": 0,
             "ticks": ""
            },
            "type": "mesh3d"
           }
          ],
          "parcoords": [
           {
            "line": {
             "colorbar": {
              "outlinewidth": 0,
              "ticks": ""
             }
            },
            "type": "parcoords"
           }
          ],
          "pie": [
           {
            "automargin": true,
            "type": "pie"
           }
          ],
          "scatter": [
           {
            "fillpattern": {
             "fillmode": "overlay",
             "size": 10,
             "solidity": 0.2
            },
            "type": "scatter"
           }
          ],
          "scatter3d": [
           {
            "line": {
             "colorbar": {
              "outlinewidth": 0,
              "ticks": ""
             }
            },
            "marker": {
             "colorbar": {
              "outlinewidth": 0,
              "ticks": ""
             }
            },
            "type": "scatter3d"
           }
          ],
          "scattercarpet": [
           {
            "marker": {
             "colorbar": {
              "outlinewidth": 0,
              "ticks": ""
             }
            },
            "type": "scattercarpet"
           }
          ],
          "scattergeo": [
           {
            "marker": {
             "colorbar": {
              "outlinewidth": 0,
              "ticks": ""
             }
            },
            "type": "scattergeo"
           }
          ],
          "scattergl": [
           {
            "marker": {
             "colorbar": {
              "outlinewidth": 0,
              "ticks": ""
             }
            },
            "type": "scattergl"
           }
          ],
          "scattermapbox": [
           {
            "marker": {
             "colorbar": {
              "outlinewidth": 0,
              "ticks": ""
             }
            },
            "type": "scattermapbox"
           }
          ],
          "scatterpolar": [
           {
            "marker": {
             "colorbar": {
              "outlinewidth": 0,
              "ticks": ""
             }
            },
            "type": "scatterpolar"
           }
          ],
          "scatterpolargl": [
           {
            "marker": {
             "colorbar": {
              "outlinewidth": 0,
              "ticks": ""
             }
            },
            "type": "scatterpolargl"
           }
          ],
          "scatterternary": [
           {
            "marker": {
             "colorbar": {
              "outlinewidth": 0,
              "ticks": ""
             }
            },
            "type": "scatterternary"
           }
          ],
          "surface": [
           {
            "colorbar": {
             "outlinewidth": 0,
             "ticks": ""
            },
            "colorscale": [
             [
              0,
              "#0d0887"
             ],
             [
              0.1111111111111111,
              "#46039f"
             ],
             [
              0.2222222222222222,
              "#7201a8"
             ],
             [
              0.3333333333333333,
              "#9c179e"
             ],
             [
              0.4444444444444444,
              "#bd3786"
             ],
             [
              0.5555555555555556,
              "#d8576b"
             ],
             [
              0.6666666666666666,
              "#ed7953"
             ],
             [
              0.7777777777777778,
              "#fb9f3a"
             ],
             [
              0.8888888888888888,
              "#fdca26"
             ],
             [
              1,
              "#f0f921"
             ]
            ],
            "type": "surface"
           }
          ],
          "table": [
           {
            "cells": {
             "fill": {
              "color": "#EBF0F8"
             },
             "line": {
              "color": "white"
             }
            },
            "header": {
             "fill": {
              "color": "#C8D4E3"
             },
             "line": {
              "color": "white"
             }
            },
            "type": "table"
           }
          ]
         },
         "layout": {
          "annotationdefaults": {
           "arrowcolor": "#2a3f5f",
           "arrowhead": 0,
           "arrowwidth": 1
          },
          "autotypenumbers": "strict",
          "coloraxis": {
           "colorbar": {
            "outlinewidth": 0,
            "ticks": ""
           }
          },
          "colorscale": {
           "diverging": [
            [
             0,
             "#8e0152"
            ],
            [
             0.1,
             "#c51b7d"
            ],
            [
             0.2,
             "#de77ae"
            ],
            [
             0.3,
             "#f1b6da"
            ],
            [
             0.4,
             "#fde0ef"
            ],
            [
             0.5,
             "#f7f7f7"
            ],
            [
             0.6,
             "#e6f5d0"
            ],
            [
             0.7,
             "#b8e186"
            ],
            [
             0.8,
             "#7fbc41"
            ],
            [
             0.9,
             "#4d9221"
            ],
            [
             1,
             "#276419"
            ]
           ],
           "sequential": [
            [
             0,
             "#0d0887"
            ],
            [
             0.1111111111111111,
             "#46039f"
            ],
            [
             0.2222222222222222,
             "#7201a8"
            ],
            [
             0.3333333333333333,
             "#9c179e"
            ],
            [
             0.4444444444444444,
             "#bd3786"
            ],
            [
             0.5555555555555556,
             "#d8576b"
            ],
            [
             0.6666666666666666,
             "#ed7953"
            ],
            [
             0.7777777777777778,
             "#fb9f3a"
            ],
            [
             0.8888888888888888,
             "#fdca26"
            ],
            [
             1,
             "#f0f921"
            ]
           ],
           "sequentialminus": [
            [
             0,
             "#0d0887"
            ],
            [
             0.1111111111111111,
             "#46039f"
            ],
            [
             0.2222222222222222,
             "#7201a8"
            ],
            [
             0.3333333333333333,
             "#9c179e"
            ],
            [
             0.4444444444444444,
             "#bd3786"
            ],
            [
             0.5555555555555556,
             "#d8576b"
            ],
            [
             0.6666666666666666,
             "#ed7953"
            ],
            [
             0.7777777777777778,
             "#fb9f3a"
            ],
            [
             0.8888888888888888,
             "#fdca26"
            ],
            [
             1,
             "#f0f921"
            ]
           ]
          },
          "colorway": [
           "#636efa",
           "#EF553B",
           "#00cc96",
           "#ab63fa",
           "#FFA15A",
           "#19d3f3",
           "#FF6692",
           "#B6E880",
           "#FF97FF",
           "#FECB52"
          ],
          "font": {
           "color": "#2a3f5f"
          },
          "geo": {
           "bgcolor": "white",
           "lakecolor": "white",
           "landcolor": "white",
           "showlakes": true,
           "showland": true,
           "subunitcolor": "#C8D4E3"
          },
          "hoverlabel": {
           "align": "left"
          },
          "hovermode": "closest",
          "mapbox": {
           "style": "light"
          },
          "paper_bgcolor": "white",
          "plot_bgcolor": "white",
          "polar": {
           "angularaxis": {
            "gridcolor": "#EBF0F8",
            "linecolor": "#EBF0F8",
            "ticks": ""
           },
           "bgcolor": "white",
           "radialaxis": {
            "gridcolor": "#EBF0F8",
            "linecolor": "#EBF0F8",
            "ticks": ""
           }
          },
          "scene": {
           "xaxis": {
            "backgroundcolor": "white",
            "gridcolor": "#DFE8F3",
            "gridwidth": 2,
            "linecolor": "#EBF0F8",
            "showbackground": true,
            "ticks": "",
            "zerolinecolor": "#EBF0F8"
           },
           "yaxis": {
            "backgroundcolor": "white",
            "gridcolor": "#DFE8F3",
            "gridwidth": 2,
            "linecolor": "#EBF0F8",
            "showbackground": true,
            "ticks": "",
            "zerolinecolor": "#EBF0F8"
           },
           "zaxis": {
            "backgroundcolor": "white",
            "gridcolor": "#DFE8F3",
            "gridwidth": 2,
            "linecolor": "#EBF0F8",
            "showbackground": true,
            "ticks": "",
            "zerolinecolor": "#EBF0F8"
           }
          },
          "shapedefaults": {
           "line": {
            "color": "#2a3f5f"
           }
          },
          "ternary": {
           "aaxis": {
            "gridcolor": "#DFE8F3",
            "linecolor": "#A2B1C6",
            "ticks": ""
           },
           "baxis": {
            "gridcolor": "#DFE8F3",
            "linecolor": "#A2B1C6",
            "ticks": ""
           },
           "bgcolor": "white",
           "caxis": {
            "gridcolor": "#DFE8F3",
            "linecolor": "#A2B1C6",
            "ticks": ""
           }
          },
          "title": {
           "x": 0.05
          },
          "xaxis": {
           "automargin": true,
           "gridcolor": "#EBF0F8",
           "linecolor": "#EBF0F8",
           "ticks": "",
           "title": {
            "standoff": 15
           },
           "zerolinecolor": "#EBF0F8",
           "zerolinewidth": 2
          },
          "yaxis": {
           "automargin": true,
           "gridcolor": "#EBF0F8",
           "linecolor": "#EBF0F8",
           "ticks": "",
           "title": {
            "standoff": 15
           },
           "zerolinecolor": "#EBF0F8",
           "zerolinewidth": 2
          }
         }
        },
        "title": {
         "x": 0.5,
         "y": 0.95
        },
        "width": 1200,
        "xaxis": {
         "anchor": "y",
         "domain": [
          0,
          0.19
         ],
         "dtick": 2000,
         "range": [
          -100,
          2000
         ],
         "tick0": 0
        },
        "xaxis2": {
         "anchor": "y2",
         "domain": [
          0.27,
          0.46
         ],
         "dtick": 2000,
         "range": [
          -100,
          2000
         ],
         "tick0": 0
        },
        "xaxis3": {
         "anchor": "y3",
         "domain": [
          0.54,
          0.73
         ],
         "dtick": 2000,
         "range": [
          -100,
          2000
         ],
         "tick0": 0
        },
        "xaxis4": {
         "anchor": "y4",
         "domain": [
          0.81,
          1
         ],
         "dtick": 2000,
         "range": [
          -100,
          2000
         ],
         "tick0": 0
        },
        "yaxis": {
         "anchor": "x",
         "domain": [
          0,
          0.28571428571428575
         ]
        },
        "yaxis2": {
         "anchor": "x2",
         "domain": [
          0,
          0.28571428571428575
         ]
        },
        "yaxis3": {
         "anchor": "x3",
         "domain": [
          0,
          0.28571428571428575
         ]
        },
        "yaxis4": {
         "anchor": "x4",
         "domain": [
          0,
          0.28571428571428575
         ]
        }
       }
      }
     },
     "metadata": {},
     "output_type": "display_data"
    }
   ],
   "source": [
    "\n",
    "import plotly.graph_objects as go\n",
    "from plotly.subplots import make_subplots\n",
    "\n",
    "\n",
    "\n",
    "# first row is piechart of family distribution\n",
    "# second row is histogram of sequence length distribution\n",
    "# I want it to look like a paper figure\n",
    "fig = make_subplots(rows=2, cols=4, specs=[[{'type': 'domain'}]*4, [{'type': 'histogram'}]*4], \n",
    "                    subplot_titles=[f\"{name} (N={np.nansum(df_family[name]).astype(int)})\" for name in hists.keys()],\n",
    "                    vertical_spacing=vertical_spacing,\n",
    "                    horizontal_spacing=horizontal_spacing,\n",
    "                    row_heights=[0.5, 0.2],\n",
    ")\n",
    "\n",
    "for i in fig['layout']['annotations']:\n",
    "    i['font'] = dict(size=22)\n",
    "    \n",
    "for i, name in enumerate(hists.keys()):\n",
    "    fig.add_trace(go.Pie(\n",
    "        labels=df_family.index,\n",
    "        values=df_family[name],\n",
    "        name=name,\n",
    "        textinfo=f'percent',\n",
    "        texttemplate='%{percent}',\n",
    "        textposition='auto',\n",
    "        showlegend=i==0,\n",
    "        # sort=True,\n",
    "        # legennd location\n",
    "        # domain={'x': [0.0, 0.25], 'y': [0.5, 1.0]} if i == 0 else {'x': [0.25, 0.5], 'y': [0.5, 1.0]} if i == 1 else {'x': [0.5, 0.75], 'y': [0.5, 1.0]} if i == 2 else {'x': [0.75, 1.0], 'y': [0.5, 1.0]},\n",
    "    ), row=1, col=i+1)\n",
    "    fig.add_trace(go.Bar(\n",
    "        x=hists[name][1][:-1],\n",
    "        y=hists[name][0],\n",
    "        name=name,\n",
    "        showlegend=False,\n",
    "        marker_color='rgb(0, 0, 0)',\n",
    "    ), row=2, col=i+1)\n",
    "    # fig.update_yaxes(row=2, col=i+1,  range=[0, 50000])\n",
    "    fig.update_xaxes(row=2, col=i+1, range=[-100, 2000], tick0=0, dtick=2000)\n",
    "    # make bar width constant\n",
    "    # add horitontal lines\n",
    "    fig.update_layout(barmode='overlay', bargap=0.1, bargroupgap=0.1)\n",
    "\n",
    "# write 'sequence length' at the bottom, centered\n",
    "fig.add_annotation(dict(\n",
    "    x=0.5,\n",
    "    y=-0.15,\n",
    "    text='Sequence length (bin size: 100)',\n",
    "    showarrow=False,\n",
    "    font=dict(size=22),\n",
    "    xref='paper',\n",
    "    yref='paper',\n",
    "    xanchor='center',\n",
    "    yanchor='bottom',\n",
    "))\n",
    "\n",
    "fig.add_annotation(dict(\n",
    "    x=-0.06,\n",
    "    y=0.03,\n",
    "    text='Count',\n",
    "    showarrow=False,\n",
    "    font=dict(size=22),\n",
    "    xref='paper',\n",
    "    yref='paper',\n",
    "    xanchor='center',\n",
    "    yanchor='bottom',\n",
    "    textangle=-90\n",
    "), \n",
    ")\n",
    "\n",
    "fig.update_layout(\n",
    "    height=height,\n",
    "    width=width,\n",
    "    title_x=0.5,\n",
    "    title_y=0.95,\n",
    "    font_size=20,\n",
    "    font_family='Arial',\n",
    "    font_color='black',\n",
    "    legend_font_size=20,\n",
    "    legend_font_family='Arial',\n",
    "    legend_font_color='black',\n",
    "    legend_x=1.03,\n",
    "    legend_y=0.95,\n",
    "    # legend_orientation='h',\n",
    "    legend_traceorder='normal',\n",
    "    legend_bordercolor='black',\n",
    "    template=\"plotly_white\",\n",
    ")\n",
    "\n",
    "\n",
    "\n",
    "\n"
   ]
  },
  {
   "cell_type": "code",
   "execution_count": null,
   "metadata": {},
   "outputs": [],
   "source": []
  }
 ],
 "metadata": {
  "kernelspec": {
   "display_name": "Python 3",
   "language": "python",
   "name": "python3"
  },
  "language_info": {
   "codemirror_mode": {
    "name": "ipython",
    "version": 3
   },
   "file_extension": ".py",
   "mimetype": "text/x-python",
   "name": "python",
   "nbconvert_exporter": "python",
   "pygments_lexer": "ipython3",
   "version": "3.11.6"
  }
 },
 "nbformat": 4,
 "nbformat_minor": 2
}
