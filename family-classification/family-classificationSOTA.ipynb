{
 "cells": [
  {
   "cell_type": "code",
   "execution_count": 146,
   "metadata": {},
   "outputs": [],
   "source": [
    "import json\n",
    "import pandas as pd\n",
    "import numpy as np"
   ]
  },
  {
   "cell_type": "markdown",
   "metadata": {},
   "source": [
    "## Ribonanza"
   ]
  },
  {
   "cell_type": "code",
   "execution_count": 147,
   "metadata": {},
   "outputs": [],
   "source": [
    "def rename_families(x):\n",
    "    if x == '5s' or x == '16s' or x == '23s' or 'rRNA' in x:\n",
    "        return 'rRNA'\n",
    "    if x == 'grp1' or x == 'group_I_intron':\n",
    "        return 'Introns'\n",
    "    if x == 'grp2' or 'intron' in x:\n",
    "        return 'Introns'\n",
    "    if x == 'srp' or x == 'SRP':\n",
    "        return 'SRP'\n",
    "    if x == 'telomerase':\n",
    "        return 'telomerase'\n",
    "    if x == 'RNaseP':\n",
    "        return 'rRNA'\n",
    "    else: \n",
    "        return x"
   ]
  },
  {
   "cell_type": "markdown",
   "metadata": {},
   "source": [
    "## RNAStralign"
   ]
  },
  {
   "cell_type": "code",
   "execution_count": 148,
   "metadata": {},
   "outputs": [
    {
     "name": "stderr",
     "output_type": "stream",
     "text": [
      "Parsing ct files: 100%|██████████| 37149/37149 [00:24<00:00, 1505.37it/s]\n"
     ]
    },
    {
     "name": "stdout",
     "output_type": "stream",
     "text": [
      "Drop 3949 datapoints with None values (null sequence or reference)\n"
     ]
    },
    {
     "data": {
      "text/html": [
       "<div>\n",
       "<style scoped>\n",
       "    .dataframe tbody tr th:only-of-type {\n",
       "        vertical-align: middle;\n",
       "    }\n",
       "\n",
       "    .dataframe tbody tr th {\n",
       "        vertical-align: top;\n",
       "    }\n",
       "\n",
       "    .dataframe thead th {\n",
       "        text-align: right;\n",
       "    }\n",
       "</style>\n",
       "<table border=\"1\" class=\"dataframe\">\n",
       "  <thead>\n",
       "    <tr style=\"text-align: right;\">\n",
       "      <th></th>\n",
       "      <th>RNAStralign</th>\n",
       "    </tr>\n",
       "    <tr>\n",
       "      <th>family</th>\n",
       "      <th></th>\n",
       "    </tr>\n",
       "  </thead>\n",
       "  <tbody>\n",
       "    <tr>\n",
       "      <th>rRNA</th>\n",
       "      <td>21904</td>\n",
       "    </tr>\n",
       "    <tr>\n",
       "      <th>tRNA</th>\n",
       "      <td>9234</td>\n",
       "    </tr>\n",
       "    <tr>\n",
       "      <th>Introns</th>\n",
       "      <td>453</td>\n",
       "    </tr>\n",
       "    <tr>\n",
       "      <th>SRP</th>\n",
       "      <td>164</td>\n",
       "    </tr>\n",
       "    <tr>\n",
       "      <th>tmRNA</th>\n",
       "      <td>133</td>\n",
       "    </tr>\n",
       "    <tr>\n",
       "      <th>telomerase</th>\n",
       "      <td>37</td>\n",
       "    </tr>\n",
       "  </tbody>\n",
       "</table>\n",
       "</div>"
      ],
      "text/plain": [
       "            RNAStralign\n",
       "family                 \n",
       "rRNA              21904\n",
       "tRNA               9234\n",
       "Introns             453\n",
       "SRP                 164\n",
       "tmRNA               133\n",
       "telomerase           37"
      ]
     },
     "execution_count": 148,
     "metadata": {},
     "output_type": "execute_result"
    }
   ],
   "source": [
    "data = json.load(open('../RNAStralign/data.json'))\n",
    "from rouskinhf import convert\n",
    "data = convert(\n",
    "                'ct',\n",
    "                file_or_folder='../RNAStralign/data',\n",
    "                name='RNAStralign',\n",
    "                filter=0\n",
    "            )\n",
    "\n",
    "new_data = {}\n",
    "refs = {}\n",
    "for ref, attr in data.items():\n",
    "    if '__####' in ref:\n",
    "        family, ref = ref.split('__####')\n",
    "        attr['family'] = family\n",
    "    if not ref in refs:\n",
    "        refs[ref] = 0\n",
    "    else:\n",
    "        while f'{ref}_{refs[ref]}' in refs:\n",
    "            refs[ref] += 1\n",
    "        ref = f'{ref}_{refs[ref]}'\n",
    "    new_data[ref] = attr\n",
    "    \n",
    "data = new_data\n",
    "families = pd.DataFrame.from_dict(data, orient='index')['family'].apply(lambda x: x.split('__')[0].replace('_database', '')).apply(rename_families)\n",
    "fam_rnastralign = pd.DataFrame(families.value_counts()).rename(columns={'count': 'RNAStralign'})\n",
    "len_rnastralign = pd.DataFrame.from_dict(data, orient='index')['sequence'].apply(len)\n",
    "fam_rnastralign"
   ]
  },
  {
   "cell_type": "markdown",
   "metadata": {},
   "source": [
    "## archiveII"
   ]
  },
  {
   "cell_type": "code",
   "execution_count": 149,
   "metadata": {},
   "outputs": [
    {
     "data": {
      "text/plain": [
       "{'5s': 1283,\n",
       " 'tRNA': 557,\n",
       " 'srp': 928,\n",
       " 'tmRNA': 462,\n",
       " 'RNaseP': 454,\n",
       " 'grp1': 115,\n",
       " '23s': 35,\n",
       " '16s': 110,\n",
       " 'telomerase': 37,\n",
       " 'grp2': 11}"
      ]
     },
     "execution_count": 149,
     "metadata": {},
     "output_type": "execute_result"
    }
   ],
   "source": [
    "import os\n",
    "fam_archivII = {}\n",
    "len_archivII = []\n",
    "for file in os.listdir('/Users/yvesmartin/data/archiveII'):\n",
    "    if not file.endswith('.seq'):\n",
    "        continue\n",
    "    seq = open(f'/Users/yvesmartin/data/archiveII/{file}').read().split('\\n')[2]\n",
    "    family = file.split('_')[0]\n",
    "    fam_archivII[family] = fam_archivII.get(family, 0) + 1\n",
    "    len_archivII.append(len(seq))\n",
    "len(len_archivII)\n",
    "fam_archivII"
   ]
  },
  {
   "cell_type": "code",
   "execution_count": 150,
   "metadata": {},
   "outputs": [
    {
     "data": {
      "text/html": [
       "<div>\n",
       "<style scoped>\n",
       "    .dataframe tbody tr th:only-of-type {\n",
       "        vertical-align: middle;\n",
       "    }\n",
       "\n",
       "    .dataframe tbody tr th {\n",
       "        vertical-align: top;\n",
       "    }\n",
       "\n",
       "    .dataframe thead th {\n",
       "        text-align: right;\n",
       "    }\n",
       "</style>\n",
       "<table border=\"1\" class=\"dataframe\">\n",
       "  <thead>\n",
       "    <tr style=\"text-align: right;\">\n",
       "      <th></th>\n",
       "      <th>archiveII</th>\n",
       "    </tr>\n",
       "  </thead>\n",
       "  <tbody>\n",
       "    <tr>\n",
       "      <th>rRNA</th>\n",
       "      <td>1882</td>\n",
       "    </tr>\n",
       "    <tr>\n",
       "      <th>tRNA</th>\n",
       "      <td>557</td>\n",
       "    </tr>\n",
       "    <tr>\n",
       "      <th>SRP</th>\n",
       "      <td>928</td>\n",
       "    </tr>\n",
       "    <tr>\n",
       "      <th>tmRNA</th>\n",
       "      <td>462</td>\n",
       "    </tr>\n",
       "    <tr>\n",
       "      <th>Introns</th>\n",
       "      <td>126</td>\n",
       "    </tr>\n",
       "    <tr>\n",
       "      <th>telomerase</th>\n",
       "      <td>37</td>\n",
       "    </tr>\n",
       "  </tbody>\n",
       "</table>\n",
       "</div>"
      ],
      "text/plain": [
       "            archiveII\n",
       "rRNA             1882\n",
       "tRNA              557\n",
       "SRP               928\n",
       "tmRNA             462\n",
       "Introns           126\n",
       "telomerase         37"
      ]
     },
     "execution_count": 150,
     "metadata": {},
     "output_type": "execute_result"
    }
   ],
   "source": [
    "fam_archivII_new = {}\n",
    "for k, v in fam_archivII.items():\n",
    "    fam_archivII_new[rename_families(k)] = fam_archivII_new.get(rename_families(k), 0) + v\n",
    "fam_archivII = pd.DataFrame.from_dict(fam_archivII_new, orient='index').rename({0: 'archiveII'}, axis=1)\n",
    "fam_archivII"
   ]
  },
  {
   "cell_type": "code",
   "execution_count": 160,
   "metadata": {},
   "outputs": [],
   "source": [
    "assert len(len_archivII) == fam_archivII['archiveII'].sum()"
   ]
  },
  {
   "cell_type": "markdown",
   "metadata": {},
   "source": [
    "## bpRNA (from paper)"
   ]
  },
  {
   "cell_type": "code",
   "execution_count": 151,
   "metadata": {},
   "outputs": [
    {
     "data": {
      "text/html": [
       "<div>\n",
       "<style scoped>\n",
       "    .dataframe tbody tr th:only-of-type {\n",
       "        vertical-align: middle;\n",
       "    }\n",
       "\n",
       "    .dataframe tbody tr th {\n",
       "        vertical-align: top;\n",
       "    }\n",
       "\n",
       "    .dataframe thead th {\n",
       "        text-align: right;\n",
       "    }\n",
       "</style>\n",
       "<table border=\"1\" class=\"dataframe\">\n",
       "  <thead>\n",
       "    <tr style=\"text-align: right;\">\n",
       "      <th></th>\n",
       "      <th>bpRNA-1m</th>\n",
       "      <th>bpRNA-1m(90)</th>\n",
       "    </tr>\n",
       "    <tr>\n",
       "      <th>RNA Type</th>\n",
       "      <th></th>\n",
       "      <th></th>\n",
       "    </tr>\n",
       "  </thead>\n",
       "  <tbody>\n",
       "    <tr>\n",
       "      <th>Introns</th>\n",
       "      <td>368</td>\n",
       "      <td>224</td>\n",
       "    </tr>\n",
       "    <tr>\n",
       "      <th>Other</th>\n",
       "      <td>3028</td>\n",
       "      <td>993</td>\n",
       "    </tr>\n",
       "    <tr>\n",
       "      <th>rRNA</th>\n",
       "      <td>18495</td>\n",
       "      <td>1823</td>\n",
       "    </tr>\n",
       "    <tr>\n",
       "      <th>tRNA</th>\n",
       "      <td>35622</td>\n",
       "      <td>3383</td>\n",
       "    </tr>\n",
       "    <tr>\n",
       "      <th>tmRNA</th>\n",
       "      <td>161</td>\n",
       "      <td>449</td>\n",
       "    </tr>\n",
       "  </tbody>\n",
       "</table>\n",
       "</div>"
      ],
      "text/plain": [
       "          bpRNA-1m  bpRNA-1m(90)\n",
       "RNA Type                        \n",
       "Introns        368           224\n",
       "Other         3028           993\n",
       "rRNA         18495          1823\n",
       "tRNA         35622          3383\n",
       "tmRNA          161           449"
      ]
     },
     "execution_count": 151,
     "metadata": {},
     "output_type": "execute_result"
    }
   ],
   "source": [
    "import pandas as pd\n",
    "from io import StringIO\n",
    "\n",
    "# Provided data\n",
    "data = \"\"\"\n",
    "RNA Type,bpRNA-1m,bpRNA-1m(90)\n",
    "Transfer RNA,35622,3383\n",
    "16S Ribosomal RNA,17641,1067\n",
    "5S Ribosomal RNA,477,607\n",
    "Signal Recognition Particle RNA,1603,388\n",
    "Ribonuclease P RNA,1425,605\n",
    "Transfer Messenger RNA,161,449\n",
    "Group I Intron,237,123\n",
    "23S Ribosomal RNA,191,72\n",
    "Hammerhead Ribozyme,186,77\n",
    "Group II Intron,131,101\n",
    "\"\"\"\n",
    "\n",
    "# Create a DataFrame\n",
    "bprna = pd.read_csv(StringIO(data), delimiter=',')#.set_index('RNA Type')\n",
    "def rename_families_bp(x):\n",
    "    return {\n",
    "    'Transfer RNA': 'tRNA',\n",
    "    '16S Ribosomal RNA': 'rRNA',\n",
    "    '5S Ribosomal RNA': 'rRNA',\n",
    "    'Signal Recognition Particle RNA': 'Other',\n",
    "    'Ribonuclease P RNA': 'Other',\n",
    "    'Transfer Messenger RNA': 'tmRNA',\n",
    "    'Group I Intron': 'Introns',\n",
    "    '23S Ribosomal RNA': 'rRNA',\n",
    "    'Hammerhead Ribozyme': 'rRNA',\n",
    "    'Group II Intron': 'Introns',\n",
    "    }.get(x, x)\n",
    "bprna['RNA Type'] = bprna['RNA Type'].apply(rename_families_bp)\n",
    "bprna = bprna.groupby('RNA Type').sum()\n",
    "bprna"
   ]
  },
  {
   "cell_type": "markdown",
   "metadata": {},
   "source": [
    "### bpRNA from data"
   ]
  },
  {
   "cell_type": "code",
   "execution_count": 152,
   "metadata": {},
   "outputs": [
    {
     "name": "stderr",
     "output_type": "stream",
     "text": [
      "Parsing bpseq files: 100%|██████████| 102318/102318 [00:34<00:00, 2970.80it/s]\n"
     ]
    },
    {
     "name": "stdout",
     "output_type": "stream",
     "text": [
      "Drop 5064 datapoints with None values (null sequence or reference)\n"
     ]
    },
    {
     "data": {
      "text/plain": [
       "97254"
      ]
     },
     "execution_count": 152,
     "metadata": {},
     "output_type": "execute_result"
    }
   ],
   "source": [
    "from rouskinhf import convert\n",
    "\n",
    "data = convert(\n",
    "    'bpseq',\n",
    "    '/Users/yvesmartin/data/bpRNA',\n",
    "    name='bpRNA',\n",
    "    path_out='data',\n",
    "    filter=False\n",
    ")\n",
    "len_bprna = [len(dp['sequence']) for dp in data.values()]\n",
    "len(len_bprna)"
   ]
  },
  {
   "cell_type": "code",
   "execution_count": 153,
   "metadata": {},
   "outputs": [],
   "source": [
    "len_bprna90 = [len(l) for l in open('/Users/yvesmartin/data/bpRNA/bpRNA_1m_90.fasta').read().split('\\n')[1::2]]"
   ]
  },
  {
   "cell_type": "markdown",
   "metadata": {},
   "source": [
    "# Aggregate"
   ]
  },
  {
   "cell_type": "code",
   "execution_count": 173,
   "metadata": {},
   "outputs": [
    {
     "data": {
      "text/html": [
       "<div>\n",
       "<style scoped>\n",
       "    .dataframe tbody tr th:only-of-type {\n",
       "        vertical-align: middle;\n",
       "    }\n",
       "\n",
       "    .dataframe tbody tr th {\n",
       "        vertical-align: top;\n",
       "    }\n",
       "\n",
       "    .dataframe thead th {\n",
       "        text-align: right;\n",
       "    }\n",
       "</style>\n",
       "<table border=\"1\" class=\"dataframe\">\n",
       "  <thead>\n",
       "    <tr style=\"text-align: right;\">\n",
       "      <th></th>\n",
       "      <th>bpRNA-1m</th>\n",
       "      <th>bpRNA-1m(90)</th>\n",
       "      <th>RNAStralign</th>\n",
       "      <th>ArchiveII</th>\n",
       "    </tr>\n",
       "  </thead>\n",
       "  <tbody>\n",
       "    <tr>\n",
       "      <th>Introns</th>\n",
       "      <td>368.0</td>\n",
       "      <td>224.0</td>\n",
       "      <td>453.0</td>\n",
       "      <td>126.0</td>\n",
       "    </tr>\n",
       "    <tr>\n",
       "      <th>Other</th>\n",
       "      <td>44644.0</td>\n",
       "      <td>21498.0</td>\n",
       "      <td>0.0</td>\n",
       "      <td>0.0</td>\n",
       "    </tr>\n",
       "    <tr>\n",
       "      <th>rRNA</th>\n",
       "      <td>18495.0</td>\n",
       "      <td>1823.0</td>\n",
       "      <td>21904.0</td>\n",
       "      <td>1882.0</td>\n",
       "    </tr>\n",
       "    <tr>\n",
       "      <th>tRNA</th>\n",
       "      <td>35622.0</td>\n",
       "      <td>3383.0</td>\n",
       "      <td>9234.0</td>\n",
       "      <td>557.0</td>\n",
       "    </tr>\n",
       "    <tr>\n",
       "      <th>tmRNA</th>\n",
       "      <td>161.0</td>\n",
       "      <td>449.0</td>\n",
       "      <td>133.0</td>\n",
       "      <td>462.0</td>\n",
       "    </tr>\n",
       "    <tr>\n",
       "      <th>SRP</th>\n",
       "      <td>NaN</td>\n",
       "      <td>NaN</td>\n",
       "      <td>164.0</td>\n",
       "      <td>928.0</td>\n",
       "    </tr>\n",
       "    <tr>\n",
       "      <th>telomerase</th>\n",
       "      <td>NaN</td>\n",
       "      <td>NaN</td>\n",
       "      <td>37.0</td>\n",
       "      <td>37.0</td>\n",
       "    </tr>\n",
       "  </tbody>\n",
       "</table>\n",
       "</div>"
      ],
      "text/plain": [
       "            bpRNA-1m  bpRNA-1m(90)  RNAStralign  ArchiveII\n",
       "Introns        368.0         224.0        453.0      126.0\n",
       "Other        44644.0       21498.0          0.0        0.0\n",
       "rRNA         18495.0        1823.0      21904.0     1882.0\n",
       "tRNA         35622.0        3383.0       9234.0      557.0\n",
       "tmRNA          161.0         449.0        133.0      462.0\n",
       "SRP              NaN           NaN        164.0      928.0\n",
       "telomerase       NaN           NaN         37.0       37.0"
      ]
     },
     "execution_count": 173,
     "metadata": {},
     "output_type": "execute_result"
    }
   ],
   "source": [
    "df = pd.concat([bprna, fam_rnastralign, fam_archivII], axis=1)\n",
    "df.columns = ['bpRNA-1m', 'bpRNA-1m(90)', 'RNAStralign', 'ArchiveII']\n",
    "# df = df.fillna(0).astype(int)\n",
    "df_family = df.copy()\n",
    "df_family.loc['total'] = df_family.sum()\n",
    "df_family.loc['total', 'bpRNA-1m'] = 102_318\n",
    "df_family.loc['total', 'bpRNA-1m(90)'] = len(len_bprna90)\n",
    "df_family.loc['total', 'RNAStralign'] = len(len_rnastralign)\n",
    "df_family.loc['total', 'ArchiveII'] = len(len_archivII)\n",
    "# others = total - df_family.sum()\n",
    "df_family.loc['Other'] = df_family.loc['total'] - np.nansum(df_family.loc[[c for c in df_family.index if c != 'total']].values, axis=0)\n",
    "# \n",
    "# assert df_family.loc[df_family.index[:-1]].sum().sum() == df_family.loc['total'].sum()\n",
    "df_family.drop('total', inplace=True)\n",
    "df_family\n"
   ]
  },
  {
   "cell_type": "code",
   "execution_count": 174,
   "metadata": {},
   "outputs": [],
   "source": [
    "# one value per bin\n",
    "def make_histograms(l):\n",
    "    min_val = 0\n",
    "    max_val = 4400\n",
    "    bin_size = 100\n",
    "    bins = np.arange(min_val + bin_size/2, max_val - bin_size/2, bin_size)\n",
    "    hist, bins = np.histogram(l, bins=max_val//bin_size, range=(min_val, max_val))\n",
    "    return hist, bins\n",
    "hists = {\n",
    "    'bpRNA-1m': make_histograms(len_bprna),\n",
    "    'bpRNA-1m(90)': make_histograms(len_bprna90),\n",
    "    'RNAStralign': make_histograms(len_rnastralign),\n",
    "    'ArchiveII': make_histograms(len_archivII),\n",
    "}"
   ]
  },
  {
   "cell_type": "markdown",
   "metadata": {},
   "source": [
    "### Plot as piecharts"
   ]
  },
  {
   "cell_type": "code",
   "execution_count": 175,
   "metadata": {},
   "outputs": [],
   "source": [
    "horizontal_spacing = 0.08\n",
    "vertical_spacing = 0.2\n",
    "height = 600\n",
    "width = 1200"
   ]
  },
  {
   "cell_type": "code",
   "execution_count": 178,
   "metadata": {},
   "outputs": [
    {
     "data": {
      "application/vnd.plotly.v1+json": {
       "config": {
        "plotlyServerURL": "https://plot.ly"
       },
       "data": [
        {
         "domain": {
          "x": [
           0,
           0.19
          ],
          "y": [
           0.4285714285714286,
           1
          ]
         },
         "labels": [
          "Introns",
          "Other",
          "rRNA",
          "tRNA",
          "tmRNA",
          "SRP",
          "telomerase"
         ],
         "name": "bpRNA-1m",
         "showlegend": false,
         "sort": true,
         "textinfo": "percent",
         "textposition": "auto",
         "type": "pie",
         "values": [
          368,
          44644,
          18495,
          35622,
          161,
          null,
          null
         ]
        },
        {
         "marker": {
          "color": "rgb(0, 0, 0)"
         },
         "name": "bpRNA-1m",
         "showlegend": false,
         "type": "bar",
         "x": [
          0,
          100,
          200,
          300,
          400,
          500,
          600,
          700,
          800,
          900,
          1000,
          1100,
          1200,
          1300,
          1400,
          1500,
          1600,
          1700,
          1800,
          1900,
          2000,
          2100,
          2200,
          2300,
          2400,
          2500,
          2600,
          2700,
          2800,
          2900,
          3000,
          3100,
          3200,
          3300,
          3400,
          3500,
          3600,
          3700,
          3800,
          3900,
          4000,
          4100,
          4200,
          4300
         ],
         "xaxis": "x",
         "y": [
          57128,
          19622,
          2832,
          2685,
          1169,
          850,
          444,
          556,
          837,
          361,
          120,
          111,
          285,
          1789,
          6027,
          1840,
          29,
          50,
          72,
          23,
          14,
          11,
          1,
          1,
          2,
          4,
          4,
          10,
          60,
          158,
          47,
          12,
          7,
          19,
          17,
          12,
          9,
          9,
          4,
          13,
          6,
          0,
          2,
          2
         ],
         "yaxis": "y"
        },
        {
         "domain": {
          "x": [
           0.27,
           0.46
          ],
          "y": [
           0.4285714285714286,
           1
          ]
         },
         "labels": [
          "Introns",
          "Other",
          "rRNA",
          "tRNA",
          "tmRNA",
          "SRP",
          "telomerase"
         ],
         "name": "bpRNA-1m(90)",
         "showlegend": false,
         "sort": true,
         "textinfo": "percent",
         "textposition": "auto",
         "type": "pie",
         "values": [
          224,
          21498,
          1823,
          3383,
          449,
          null,
          null
         ]
        },
        {
         "marker": {
          "color": "rgb(0, 0, 0)"
         },
         "name": "bpRNA-1m(90)",
         "showlegend": false,
         "type": "bar",
         "x": [
          0,
          100,
          200,
          300,
          400,
          500,
          600,
          700,
          800,
          900,
          1000,
          1100,
          1200,
          1300,
          1400,
          1500,
          1600,
          1700,
          1800,
          1900,
          2000,
          2100,
          2200,
          2300,
          2400,
          2500,
          2600,
          2700,
          2800,
          2900,
          3000,
          3100,
          3200,
          3300,
          3400,
          3500,
          3600,
          3700,
          3800,
          3900,
          4000,
          4100,
          4200,
          4300
         ],
         "xaxis": "x2",
         "y": [
          13864,
          9764,
          1469,
          1222,
          364,
          136,
          87,
          57,
          42,
          86,
          40,
          30,
          50,
          101,
          279,
          255,
          25,
          49,
          73,
          26,
          20,
          12,
          3,
          1,
          2,
          2,
          4,
          9,
          42,
          115,
          37,
          10,
          7,
          18,
          17,
          9,
          9,
          10,
          5,
          11,
          6,
          0,
          1,
          1
         ],
         "yaxis": "y2"
        },
        {
         "domain": {
          "x": [
           0.54,
           0.73
          ],
          "y": [
           0.4285714285714286,
           1
          ]
         },
         "labels": [
          "Introns",
          "Other",
          "rRNA",
          "tRNA",
          "tmRNA",
          "SRP",
          "telomerase"
         ],
         "name": "RNAStralign",
         "showlegend": false,
         "sort": true,
         "textinfo": "percent",
         "textposition": "auto",
         "type": "pie",
         "values": [
          453,
          0,
          21904,
          9234,
          133,
          164,
          37
         ]
        },
        {
         "marker": {
          "color": "rgb(0, 0, 0)"
         },
         "name": "RNAStralign",
         "showlegend": false,
         "type": "bar",
         "x": [
          0,
          100,
          200,
          300,
          400,
          500,
          600,
          700,
          800,
          900,
          1000,
          1100,
          1200,
          1300,
          1400,
          1500,
          1600,
          1700,
          1800,
          1900,
          2000,
          2100,
          2200,
          2300,
          2400,
          2500,
          2600,
          2700,
          2800,
          2900,
          3000,
          3100,
          3200,
          3300,
          3400,
          3500,
          3600,
          3700,
          3800,
          3900,
          4000,
          4100,
          4200,
          4300
         ],
         "xaxis": "x3",
         "y": [
          9260,
          11403,
          299,
          487,
          739,
          572,
          311,
          492,
          804,
          224,
          80,
          82,
          191,
          1159,
          4606,
          1207,
          6,
          1,
          2,
          0,
          0,
          0,
          0,
          0,
          0,
          0,
          0,
          0,
          0,
          0,
          0,
          0,
          0,
          0,
          0,
          0,
          0,
          0,
          0,
          0,
          0,
          0,
          0,
          0
         ],
         "yaxis": "y3"
        },
        {
         "domain": {
          "x": [
           0.81,
           1
          ],
          "y": [
           0.4285714285714286,
           1
          ]
         },
         "labels": [
          "Introns",
          "Other",
          "rRNA",
          "tRNA",
          "tmRNA",
          "SRP",
          "telomerase"
         ],
         "name": "ArchiveII",
         "showlegend": true,
         "sort": true,
         "textinfo": "percent",
         "textposition": "auto",
         "type": "pie",
         "values": [
          126,
          0,
          1882,
          557,
          462,
          928,
          37
         ]
        },
        {
         "marker": {
          "color": "rgb(0, 0, 0)"
         },
         "name": "ArchiveII",
         "showlegend": false,
         "type": "bar",
         "x": [
          0,
          100,
          200,
          300,
          400,
          500,
          600,
          700,
          800,
          900,
          1000,
          1100,
          1200,
          1300,
          1400,
          1500,
          1600,
          1700,
          1800,
          1900,
          2000,
          2100,
          2200,
          2300,
          2400,
          2500,
          2600,
          2700,
          2800,
          2900,
          3000,
          3100,
          3200,
          3300,
          3400,
          3500,
          3600,
          3700,
          3800,
          3900,
          4000,
          4100,
          4200,
          4300
         ],
         "xaxis": "x4",
         "y": [
          797,
          1596,
          350,
          937,
          181,
          67,
          28,
          9,
          0,
          2,
          0,
          0,
          1,
          0,
          6,
          7,
          0,
          1,
          3,
          2,
          0,
          0,
          0,
          0,
          0,
          0,
          0,
          0,
          0,
          5,
          0,
          0,
          0,
          0,
          0,
          0,
          0,
          0,
          0,
          0,
          0,
          0,
          0,
          0
         ],
         "yaxis": "y4"
        }
       ],
       "layout": {
        "annotations": [
         {
          "font": {
           "size": 22
          },
          "showarrow": false,
          "text": "bpRNA-1m (N=99290)",
          "x": 0.095,
          "xanchor": "center",
          "xref": "paper",
          "y": 1,
          "yanchor": "bottom",
          "yref": "paper"
         },
         {
          "font": {
           "size": 22
          },
          "showarrow": false,
          "text": "bpRNA-1m(90) (N=27377)",
          "x": 0.365,
          "xanchor": "center",
          "xref": "paper",
          "y": 1,
          "yanchor": "bottom",
          "yref": "paper"
         },
         {
          "font": {
           "size": 22
          },
          "showarrow": false,
          "text": "RNAStralign (N=31925)",
          "x": 0.635,
          "xanchor": "center",
          "xref": "paper",
          "y": 1,
          "yanchor": "bottom",
          "yref": "paper"
         },
         {
          "font": {
           "size": 22
          },
          "showarrow": false,
          "text": "ArchiveII (N=3992)",
          "x": 0.905,
          "xanchor": "center",
          "xref": "paper",
          "y": 1,
          "yanchor": "bottom",
          "yref": "paper"
         },
         {
          "font": {
           "size": 22
          },
          "showarrow": false,
          "text": "Sequence length (bin size: 100)",
          "x": 0.5,
          "xanchor": "center",
          "xref": "paper",
          "y": -0.15,
          "yanchor": "bottom",
          "yref": "paper"
         },
         {
          "font": {
           "size": 22
          },
          "showarrow": false,
          "text": "Families",
          "textangle": -90,
          "x": -0.06,
          "xanchor": "center",
          "xref": "paper",
          "y": 0.63,
          "yanchor": "bottom",
          "yref": "paper"
         },
         {
          "font": {
           "size": 22
          },
          "showarrow": false,
          "text": "Count",
          "textangle": -90,
          "x": -0.06,
          "xanchor": "center",
          "xref": "paper",
          "y": 0.03,
          "yanchor": "bottom",
          "yref": "paper"
         }
        ],
        "bargap": 0.1,
        "bargroupgap": 0.1,
        "barmode": "overlay",
        "font": {
         "color": "black",
         "family": "Arial",
         "size": 20
        },
        "height": 600,
        "legend": {
         "bordercolor": "black",
         "font": {
          "color": "black",
          "family": "Arial",
          "size": 20
         },
         "traceorder": "normal",
         "x": 1.03,
         "y": 0.95
        },
        "template": {
         "data": {
          "bar": [
           {
            "error_x": {
             "color": "#2a3f5f"
            },
            "error_y": {
             "color": "#2a3f5f"
            },
            "marker": {
             "line": {
              "color": "white",
              "width": 0.5
             },
             "pattern": {
              "fillmode": "overlay",
              "size": 10,
              "solidity": 0.2
             }
            },
            "type": "bar"
           }
          ],
          "barpolar": [
           {
            "marker": {
             "line": {
              "color": "white",
              "width": 0.5
             },
             "pattern": {
              "fillmode": "overlay",
              "size": 10,
              "solidity": 0.2
             }
            },
            "type": "barpolar"
           }
          ],
          "carpet": [
           {
            "aaxis": {
             "endlinecolor": "#2a3f5f",
             "gridcolor": "#C8D4E3",
             "linecolor": "#C8D4E3",
             "minorgridcolor": "#C8D4E3",
             "startlinecolor": "#2a3f5f"
            },
            "baxis": {
             "endlinecolor": "#2a3f5f",
             "gridcolor": "#C8D4E3",
             "linecolor": "#C8D4E3",
             "minorgridcolor": "#C8D4E3",
             "startlinecolor": "#2a3f5f"
            },
            "type": "carpet"
           }
          ],
          "choropleth": [
           {
            "colorbar": {
             "outlinewidth": 0,
             "ticks": ""
            },
            "type": "choropleth"
           }
          ],
          "contour": [
           {
            "colorbar": {
             "outlinewidth": 0,
             "ticks": ""
            },
            "colorscale": [
             [
              0,
              "#0d0887"
             ],
             [
              0.1111111111111111,
              "#46039f"
             ],
             [
              0.2222222222222222,
              "#7201a8"
             ],
             [
              0.3333333333333333,
              "#9c179e"
             ],
             [
              0.4444444444444444,
              "#bd3786"
             ],
             [
              0.5555555555555556,
              "#d8576b"
             ],
             [
              0.6666666666666666,
              "#ed7953"
             ],
             [
              0.7777777777777778,
              "#fb9f3a"
             ],
             [
              0.8888888888888888,
              "#fdca26"
             ],
             [
              1,
              "#f0f921"
             ]
            ],
            "type": "contour"
           }
          ],
          "contourcarpet": [
           {
            "colorbar": {
             "outlinewidth": 0,
             "ticks": ""
            },
            "type": "contourcarpet"
           }
          ],
          "heatmap": [
           {
            "colorbar": {
             "outlinewidth": 0,
             "ticks": ""
            },
            "colorscale": [
             [
              0,
              "#0d0887"
             ],
             [
              0.1111111111111111,
              "#46039f"
             ],
             [
              0.2222222222222222,
              "#7201a8"
             ],
             [
              0.3333333333333333,
              "#9c179e"
             ],
             [
              0.4444444444444444,
              "#bd3786"
             ],
             [
              0.5555555555555556,
              "#d8576b"
             ],
             [
              0.6666666666666666,
              "#ed7953"
             ],
             [
              0.7777777777777778,
              "#fb9f3a"
             ],
             [
              0.8888888888888888,
              "#fdca26"
             ],
             [
              1,
              "#f0f921"
             ]
            ],
            "type": "heatmap"
           }
          ],
          "heatmapgl": [
           {
            "colorbar": {
             "outlinewidth": 0,
             "ticks": ""
            },
            "colorscale": [
             [
              0,
              "#0d0887"
             ],
             [
              0.1111111111111111,
              "#46039f"
             ],
             [
              0.2222222222222222,
              "#7201a8"
             ],
             [
              0.3333333333333333,
              "#9c179e"
             ],
             [
              0.4444444444444444,
              "#bd3786"
             ],
             [
              0.5555555555555556,
              "#d8576b"
             ],
             [
              0.6666666666666666,
              "#ed7953"
             ],
             [
              0.7777777777777778,
              "#fb9f3a"
             ],
             [
              0.8888888888888888,
              "#fdca26"
             ],
             [
              1,
              "#f0f921"
             ]
            ],
            "type": "heatmapgl"
           }
          ],
          "histogram": [
           {
            "marker": {
             "pattern": {
              "fillmode": "overlay",
              "size": 10,
              "solidity": 0.2
             }
            },
            "type": "histogram"
           }
          ],
          "histogram2d": [
           {
            "colorbar": {
             "outlinewidth": 0,
             "ticks": ""
            },
            "colorscale": [
             [
              0,
              "#0d0887"
             ],
             [
              0.1111111111111111,
              "#46039f"
             ],
             [
              0.2222222222222222,
              "#7201a8"
             ],
             [
              0.3333333333333333,
              "#9c179e"
             ],
             [
              0.4444444444444444,
              "#bd3786"
             ],
             [
              0.5555555555555556,
              "#d8576b"
             ],
             [
              0.6666666666666666,
              "#ed7953"
             ],
             [
              0.7777777777777778,
              "#fb9f3a"
             ],
             [
              0.8888888888888888,
              "#fdca26"
             ],
             [
              1,
              "#f0f921"
             ]
            ],
            "type": "histogram2d"
           }
          ],
          "histogram2dcontour": [
           {
            "colorbar": {
             "outlinewidth": 0,
             "ticks": ""
            },
            "colorscale": [
             [
              0,
              "#0d0887"
             ],
             [
              0.1111111111111111,
              "#46039f"
             ],
             [
              0.2222222222222222,
              "#7201a8"
             ],
             [
              0.3333333333333333,
              "#9c179e"
             ],
             [
              0.4444444444444444,
              "#bd3786"
             ],
             [
              0.5555555555555556,
              "#d8576b"
             ],
             [
              0.6666666666666666,
              "#ed7953"
             ],
             [
              0.7777777777777778,
              "#fb9f3a"
             ],
             [
              0.8888888888888888,
              "#fdca26"
             ],
             [
              1,
              "#f0f921"
             ]
            ],
            "type": "histogram2dcontour"
           }
          ],
          "mesh3d": [
           {
            "colorbar": {
             "outlinewidth": 0,
             "ticks": ""
            },
            "type": "mesh3d"
           }
          ],
          "parcoords": [
           {
            "line": {
             "colorbar": {
              "outlinewidth": 0,
              "ticks": ""
             }
            },
            "type": "parcoords"
           }
          ],
          "pie": [
           {
            "automargin": true,
            "type": "pie"
           }
          ],
          "scatter": [
           {
            "fillpattern": {
             "fillmode": "overlay",
             "size": 10,
             "solidity": 0.2
            },
            "type": "scatter"
           }
          ],
          "scatter3d": [
           {
            "line": {
             "colorbar": {
              "outlinewidth": 0,
              "ticks": ""
             }
            },
            "marker": {
             "colorbar": {
              "outlinewidth": 0,
              "ticks": ""
             }
            },
            "type": "scatter3d"
           }
          ],
          "scattercarpet": [
           {
            "marker": {
             "colorbar": {
              "outlinewidth": 0,
              "ticks": ""
             }
            },
            "type": "scattercarpet"
           }
          ],
          "scattergeo": [
           {
            "marker": {
             "colorbar": {
              "outlinewidth": 0,
              "ticks": ""
             }
            },
            "type": "scattergeo"
           }
          ],
          "scattergl": [
           {
            "marker": {
             "colorbar": {
              "outlinewidth": 0,
              "ticks": ""
             }
            },
            "type": "scattergl"
           }
          ],
          "scattermapbox": [
           {
            "marker": {
             "colorbar": {
              "outlinewidth": 0,
              "ticks": ""
             }
            },
            "type": "scattermapbox"
           }
          ],
          "scatterpolar": [
           {
            "marker": {
             "colorbar": {
              "outlinewidth": 0,
              "ticks": ""
             }
            },
            "type": "scatterpolar"
           }
          ],
          "scatterpolargl": [
           {
            "marker": {
             "colorbar": {
              "outlinewidth": 0,
              "ticks": ""
             }
            },
            "type": "scatterpolargl"
           }
          ],
          "scatterternary": [
           {
            "marker": {
             "colorbar": {
              "outlinewidth": 0,
              "ticks": ""
             }
            },
            "type": "scatterternary"
           }
          ],
          "surface": [
           {
            "colorbar": {
             "outlinewidth": 0,
             "ticks": ""
            },
            "colorscale": [
             [
              0,
              "#0d0887"
             ],
             [
              0.1111111111111111,
              "#46039f"
             ],
             [
              0.2222222222222222,
              "#7201a8"
             ],
             [
              0.3333333333333333,
              "#9c179e"
             ],
             [
              0.4444444444444444,
              "#bd3786"
             ],
             [
              0.5555555555555556,
              "#d8576b"
             ],
             [
              0.6666666666666666,
              "#ed7953"
             ],
             [
              0.7777777777777778,
              "#fb9f3a"
             ],
             [
              0.8888888888888888,
              "#fdca26"
             ],
             [
              1,
              "#f0f921"
             ]
            ],
            "type": "surface"
           }
          ],
          "table": [
           {
            "cells": {
             "fill": {
              "color": "#EBF0F8"
             },
             "line": {
              "color": "white"
             }
            },
            "header": {
             "fill": {
              "color": "#C8D4E3"
             },
             "line": {
              "color": "white"
             }
            },
            "type": "table"
           }
          ]
         },
         "layout": {
          "annotationdefaults": {
           "arrowcolor": "#2a3f5f",
           "arrowhead": 0,
           "arrowwidth": 1
          },
          "autotypenumbers": "strict",
          "coloraxis": {
           "colorbar": {
            "outlinewidth": 0,
            "ticks": ""
           }
          },
          "colorscale": {
           "diverging": [
            [
             0,
             "#8e0152"
            ],
            [
             0.1,
             "#c51b7d"
            ],
            [
             0.2,
             "#de77ae"
            ],
            [
             0.3,
             "#f1b6da"
            ],
            [
             0.4,
             "#fde0ef"
            ],
            [
             0.5,
             "#f7f7f7"
            ],
            [
             0.6,
             "#e6f5d0"
            ],
            [
             0.7,
             "#b8e186"
            ],
            [
             0.8,
             "#7fbc41"
            ],
            [
             0.9,
             "#4d9221"
            ],
            [
             1,
             "#276419"
            ]
           ],
           "sequential": [
            [
             0,
             "#0d0887"
            ],
            [
             0.1111111111111111,
             "#46039f"
            ],
            [
             0.2222222222222222,
             "#7201a8"
            ],
            [
             0.3333333333333333,
             "#9c179e"
            ],
            [
             0.4444444444444444,
             "#bd3786"
            ],
            [
             0.5555555555555556,
             "#d8576b"
            ],
            [
             0.6666666666666666,
             "#ed7953"
            ],
            [
             0.7777777777777778,
             "#fb9f3a"
            ],
            [
             0.8888888888888888,
             "#fdca26"
            ],
            [
             1,
             "#f0f921"
            ]
           ],
           "sequentialminus": [
            [
             0,
             "#0d0887"
            ],
            [
             0.1111111111111111,
             "#46039f"
            ],
            [
             0.2222222222222222,
             "#7201a8"
            ],
            [
             0.3333333333333333,
             "#9c179e"
            ],
            [
             0.4444444444444444,
             "#bd3786"
            ],
            [
             0.5555555555555556,
             "#d8576b"
            ],
            [
             0.6666666666666666,
             "#ed7953"
            ],
            [
             0.7777777777777778,
             "#fb9f3a"
            ],
            [
             0.8888888888888888,
             "#fdca26"
            ],
            [
             1,
             "#f0f921"
            ]
           ]
          },
          "colorway": [
           "#636efa",
           "#EF553B",
           "#00cc96",
           "#ab63fa",
           "#FFA15A",
           "#19d3f3",
           "#FF6692",
           "#B6E880",
           "#FF97FF",
           "#FECB52"
          ],
          "font": {
           "color": "#2a3f5f"
          },
          "geo": {
           "bgcolor": "white",
           "lakecolor": "white",
           "landcolor": "white",
           "showlakes": true,
           "showland": true,
           "subunitcolor": "#C8D4E3"
          },
          "hoverlabel": {
           "align": "left"
          },
          "hovermode": "closest",
          "mapbox": {
           "style": "light"
          },
          "paper_bgcolor": "white",
          "plot_bgcolor": "white",
          "polar": {
           "angularaxis": {
            "gridcolor": "#EBF0F8",
            "linecolor": "#EBF0F8",
            "ticks": ""
           },
           "bgcolor": "white",
           "radialaxis": {
            "gridcolor": "#EBF0F8",
            "linecolor": "#EBF0F8",
            "ticks": ""
           }
          },
          "scene": {
           "xaxis": {
            "backgroundcolor": "white",
            "gridcolor": "#DFE8F3",
            "gridwidth": 2,
            "linecolor": "#EBF0F8",
            "showbackground": true,
            "ticks": "",
            "zerolinecolor": "#EBF0F8"
           },
           "yaxis": {
            "backgroundcolor": "white",
            "gridcolor": "#DFE8F3",
            "gridwidth": 2,
            "linecolor": "#EBF0F8",
            "showbackground": true,
            "ticks": "",
            "zerolinecolor": "#EBF0F8"
           },
           "zaxis": {
            "backgroundcolor": "white",
            "gridcolor": "#DFE8F3",
            "gridwidth": 2,
            "linecolor": "#EBF0F8",
            "showbackground": true,
            "ticks": "",
            "zerolinecolor": "#EBF0F8"
           }
          },
          "shapedefaults": {
           "line": {
            "color": "#2a3f5f"
           }
          },
          "ternary": {
           "aaxis": {
            "gridcolor": "#DFE8F3",
            "linecolor": "#A2B1C6",
            "ticks": ""
           },
           "baxis": {
            "gridcolor": "#DFE8F3",
            "linecolor": "#A2B1C6",
            "ticks": ""
           },
           "bgcolor": "white",
           "caxis": {
            "gridcolor": "#DFE8F3",
            "linecolor": "#A2B1C6",
            "ticks": ""
           }
          },
          "title": {
           "x": 0.05
          },
          "xaxis": {
           "automargin": true,
           "gridcolor": "#EBF0F8",
           "linecolor": "#EBF0F8",
           "ticks": "",
           "title": {
            "standoff": 15
           },
           "zerolinecolor": "#EBF0F8",
           "zerolinewidth": 2
          },
          "yaxis": {
           "automargin": true,
           "gridcolor": "#EBF0F8",
           "linecolor": "#EBF0F8",
           "ticks": "",
           "title": {
            "standoff": 15
           },
           "zerolinecolor": "#EBF0F8",
           "zerolinewidth": 2
          }
         }
        },
        "title": {
         "x": 0.5,
         "y": 0.95
        },
        "width": 1200,
        "xaxis": {
         "anchor": "y",
         "domain": [
          0,
          0.19
         ],
         "dtick": 2000,
         "range": [
          -100,
          2000
         ],
         "tick0": 0
        },
        "xaxis2": {
         "anchor": "y2",
         "domain": [
          0.27,
          0.46
         ],
         "dtick": 2000,
         "range": [
          -100,
          2000
         ],
         "tick0": 0
        },
        "xaxis3": {
         "anchor": "y3",
         "domain": [
          0.54,
          0.73
         ],
         "dtick": 2000,
         "range": [
          -100,
          2000
         ],
         "tick0": 0
        },
        "xaxis4": {
         "anchor": "y4",
         "domain": [
          0.81,
          1
         ],
         "dtick": 2000,
         "range": [
          -100,
          2000
         ],
         "tick0": 0
        },
        "yaxis": {
         "anchor": "x",
         "domain": [
          0,
          0.22857142857142862
         ]
        },
        "yaxis2": {
         "anchor": "x2",
         "domain": [
          0,
          0.22857142857142862
         ]
        },
        "yaxis3": {
         "anchor": "x3",
         "domain": [
          0,
          0.22857142857142862
         ]
        },
        "yaxis4": {
         "anchor": "x4",
         "domain": [
          0,
          0.22857142857142862
         ]
        }
       }
      }
     },
     "metadata": {},
     "output_type": "display_data"
    }
   ],
   "source": [
    "\n",
    "import plotly.graph_objects as go\n",
    "from plotly.subplots import make_subplots\n",
    "\n",
    "\n",
    "\n",
    "# first row is piechart of family distribution\n",
    "# second row is histogram of sequence length distribution\n",
    "# I want it to look like a paper figure\n",
    "fig = make_subplots(rows=2, cols=4, specs=[[{'type': 'domain'}]*4, [{'type': 'histogram'}]*4], \n",
    "                    subplot_titles=[f\"{name} (N={len(l)})\" for l in [len_bprna, len_bprna90, len_rnastralign, len_archivII]] + ['']*4,\n",
    "                    vertical_spacing=vertical_spacing,\n",
    "                    horizontal_spacing=horizontal_spacing,\n",
    "                    row_heights=[0.5, 0.2],\n",
    ")\n",
    "\n",
    "for i in fig['layout']['annotations']:\n",
    "    i['font'] = dict(size=22)\n",
    "    \n",
    "for i, name in enumerate(hists.keys()):\n",
    "    fig.add_trace(go.Pie(\n",
    "        labels=df_family.index,\n",
    "        values=df_family[name],\n",
    "        name=name,\n",
    "        textinfo=f'percent',\n",
    "        textposition='auto',\n",
    "        showlegend=i==3,\n",
    "        sort=True,\n",
    "        # legennd location\n",
    "        # domain={'x': [0.0, 0.25], 'y': [0.5, 1.0]} if i == 0 else {'x': [0.25, 0.5], 'y': [0.5, 1.0]} if i == 1 else {'x': [0.5, 0.75], 'y': [0.5, 1.0]} if i == 2 else {'x': [0.75, 1.0], 'y': [0.5, 1.0]},\n",
    "    ), row=1, col=i+1)\n",
    "    fig.add_trace(go.Bar(\n",
    "        x=hists[name][1][:-1],\n",
    "        y=hists[name][0],\n",
    "        name=name,\n",
    "        showlegend=False,\n",
    "        marker_color='rgb(0, 0, 0)',\n",
    "    ), row=2, col=i+1)\n",
    "    # fig.update_yaxes(row=2, col=i+1,  range=[0, 50000])\n",
    "    fig.update_xaxes(row=2, col=i+1, range=[-100, 2000], tick0=0, dtick=2000)\n",
    "    # make bar width constant\n",
    "    # add horitontal lines\n",
    "    fig.update_layout(barmode='overlay', bargap=0.1, bargroupgap=0.1)\n",
    "\n",
    "# write 'sequence length' at the bottom, centered\n",
    "fig.add_annotation(dict(\n",
    "    x=0.5,\n",
    "    y=-0.15,\n",
    "    text='Sequence length (bin size: 100)',\n",
    "    showarrow=False,\n",
    "    font=dict(size=22),\n",
    "    xref='paper',\n",
    "    yref='paper',\n",
    "    xanchor='center',\n",
    "    yanchor='bottom',\n",
    "))\n",
    "\n",
    "fig.add_annotation(dict(\n",
    "    x=-0.06,\n",
    "    y=0.63,\n",
    "    text='Families',\n",
    "    showarrow=False,\n",
    "    font=dict(size=22),\n",
    "    xref='paper',\n",
    "    yref='paper',\n",
    "    xanchor='center',\n",
    "    yanchor='bottom',\n",
    "    textangle=-90\n",
    "), \n",
    ")\n",
    "\n",
    "fig.add_annotation(dict(\n",
    "    x=-0.06,\n",
    "    y=0.03,\n",
    "    text='Count',\n",
    "    showarrow=False,\n",
    "    font=dict(size=22),\n",
    "    xref='paper',\n",
    "    yref='paper',\n",
    "    xanchor='center',\n",
    "    yanchor='bottom',\n",
    "    textangle=-90\n",
    "), \n",
    ")\n",
    "\n",
    "fig.update_layout(\n",
    "    height=height,\n",
    "    width=width,\n",
    "    title_x=0.5,\n",
    "    title_y=0.95,\n",
    "    font_size=20,\n",
    "    font_family='Arial',\n",
    "    font_color='black',\n",
    "    legend_font_size=20,\n",
    "    legend_font_family='Arial',\n",
    "    legend_font_color='black',\n",
    "    legend_x=1.03,\n",
    "    legend_y=0.95,\n",
    "    # legend_orientation='h',\n",
    "    legend_traceorder='normal',\n",
    "    legend_bordercolor='black',\n",
    "    template=\"plotly_white\",\n",
    "\n",
    ")\n",
    "\n",
    "\n",
    "\n",
    "\n"
   ]
  },
  {
   "cell_type": "code",
   "execution_count": null,
   "metadata": {},
   "outputs": [],
   "source": []
  },
  {
   "cell_type": "markdown",
   "metadata": {},
   "source": [
    "## bpRNA (old)\n"
   ]
  },
  {
   "cell_type": "code",
   "execution_count": null,
   "metadata": {},
   "outputs": [
    {
     "name": "stdout",
     "output_type": "stream",
     "text": [
      "66715\n"
     ]
    }
   ],
   "source": [
    "data = json.load(open('../bpRNA/data/bpRNA/data.json'))\n",
    "df = pd.DataFrame.from_dict(data, orient='index').reset_index().rename(columns={'index': 'reference'})\n",
    "df['family'] = df['reference'].apply(lambda x: x.split('_')[1])\n",
    "df['sequence'] = df['sequence'].apply(lambda x: x.replace('T', 'U'))\n",
    "df.set_index('reference', inplace=True)\n",
    "print(len(df))  "
   ]
  },
  {
   "cell_type": "code",
   "execution_count": null,
   "metadata": {},
   "outputs": [
    {
     "data": {
      "text/plain": [
       "family\n",
       "RFAM     39601\n",
       "CRW      24552\n",
       "SRP        723\n",
       "PDB        533\n",
       "SPR        483\n",
       "RNP        419\n",
       "tmRNA      404\n",
       "Name: count, dtype: int64"
      ]
     },
     "execution_count": 129,
     "metadata": {},
     "output_type": "execute_result"
    }
   ],
   "source": [
    "df['family'].value_counts()"
   ]
  },
  {
   "cell_type": "markdown",
   "metadata": {},
   "source": [
    "### bpRNA/labeled"
   ]
  },
  {
   "cell_type": "code",
   "execution_count": null,
   "metadata": {},
   "outputs": [
    {
     "data": {
      "text/plain": [
       "family\n",
       "ncRNA    533\n",
       "SPR      483\n",
       "RNP      419\n",
       "Name: count, dtype: int64"
      ]
     },
     "execution_count": 130,
     "metadata": {},
     "output_type": "execute_result"
    }
   ],
   "source": [
    "valid_labels = list(fam_archivII.keys()) + list(fam_rnastralign.keys()) + ['SPR', 'RNP', 'ncRNA']\n",
    "df['family'] = df['family'].apply(lambda x: 'ncRNA' if x == 'PDB' else x)\n",
    "df_labeled = df[df['family'].isin(valid_labels)].copy()\n",
    "df_labeled['family'].value_counts()"
   ]
  },
  {
   "cell_type": "markdown",
   "metadata": {},
   "source": [
    "### bpRNA/unlabeled"
   ]
  },
  {
   "cell_type": "code",
   "execution_count": null,
   "metadata": {},
   "outputs": [
    {
     "data": {
      "text/plain": [
       "65280"
      ]
     },
     "execution_count": 131,
     "metadata": {},
     "output_type": "execute_result"
    }
   ],
   "source": [
    "df_un = df[~df['family'].isin(valid_labels)].copy()\n",
    "df_un = df_un[['sequence']].reset_index().rename(columns={'index': 'reference'})\n",
    "len(df_un)"
   ]
  },
  {
   "cell_type": "code",
   "execution_count": null,
   "metadata": {},
   "outputs": [
    {
     "data": {
      "text/html": [
       "<div>\n",
       "<style scoped>\n",
       "    .dataframe tbody tr th:only-of-type {\n",
       "        vertical-align: middle;\n",
       "    }\n",
       "\n",
       "    .dataframe tbody tr th {\n",
       "        vertical-align: top;\n",
       "    }\n",
       "\n",
       "    .dataframe thead th {\n",
       "        text-align: right;\n",
       "    }\n",
       "</style>\n",
       "<table border=\"1\" class=\"dataframe\">\n",
       "  <thead>\n",
       "    <tr style=\"text-align: right;\">\n",
       "      <th></th>\n",
       "      <th>reference</th>\n",
       "      <th>sequence</th>\n",
       "    </tr>\n",
       "  </thead>\n",
       "  <tbody>\n",
       "    <tr>\n",
       "      <th>0</th>\n",
       "      <td>bpRNA_CRW_9331</td>\n",
       "      <td>CGUGUCGUGAGAUGUUGGGUUAAGUCCCGCAACGAGCGCAACCCUU...</td>\n",
       "    </tr>\n",
       "    <tr>\n",
       "      <th>1</th>\n",
       "      <td>bpRNA_CRW_16343</td>\n",
       "      <td>CCUGACGACCAUAGCGAGCGGGUCCCACCUGACCCCAUGCCGAACU...</td>\n",
       "    </tr>\n",
       "    <tr>\n",
       "      <th>2</th>\n",
       "      <td>bpRNA_CRW_14876</td>\n",
       "      <td>GAUGAACGCUGGCGGCGUGCCUAAUACAUGCAAGUCGAGCGAACAG...</td>\n",
       "    </tr>\n",
       "    <tr>\n",
       "      <th>3</th>\n",
       "      <td>bpRNA_CRW_50032</td>\n",
       "      <td>GUCAGGAUAGCUCAGUUGGUAGAGCAGAGGACUGAAAAUC</td>\n",
       "    </tr>\n",
       "    <tr>\n",
       "      <th>4</th>\n",
       "      <td>bpRNA_CRW_40524</td>\n",
       "      <td>AGGGCCUAUAGCUCAGUUGGUUAGAGCACACGCCUGAUAAGCGUGA...</td>\n",
       "    </tr>\n",
       "    <tr>\n",
       "      <th>...</th>\n",
       "      <td>...</td>\n",
       "      <td>...</td>\n",
       "    </tr>\n",
       "    <tr>\n",
       "      <th>65275</th>\n",
       "      <td>bpRNA_CRW_43706</td>\n",
       "      <td>GGGUCUGUAGCUCAGUCGGUUAGAGCAGGGGACUCAUAAUCCCUUG...</td>\n",
       "    </tr>\n",
       "    <tr>\n",
       "      <th>65276</th>\n",
       "      <td>bpRNA_CRW_15161</td>\n",
       "      <td>GAUCCUGGCUCAGGACGAACGCUGGCGGCGUGCCUAAUACAUGCAA...</td>\n",
       "    </tr>\n",
       "    <tr>\n",
       "      <th>65277</th>\n",
       "      <td>bpRNA_RFAM_19577</td>\n",
       "      <td>UGUGCAUCGUGGUCAAAUGCUCAGACUCCUGUGGUGGCUGCUCAUG...</td>\n",
       "    </tr>\n",
       "    <tr>\n",
       "      <th>65278</th>\n",
       "      <td>bpRNA_RFAM_23681</td>\n",
       "      <td>CCCAAAGGUUCCCUCAGGCUGAAUGGAAACCAGCCAGAGAGUGUAA...</td>\n",
       "    </tr>\n",
       "    <tr>\n",
       "      <th>65279</th>\n",
       "      <td>bpRNA_RFAM_33397</td>\n",
       "      <td>UUCUGAUCUGUCGAUUCGACUCCCUCCCGUCGGCCCUGAGACACCU...</td>\n",
       "    </tr>\n",
       "  </tbody>\n",
       "</table>\n",
       "<p>65280 rows × 2 columns</p>\n",
       "</div>"
      ],
      "text/plain": [
       "              reference                                           sequence\n",
       "0        bpRNA_CRW_9331  CGUGUCGUGAGAUGUUGGGUUAAGUCCCGCAACGAGCGCAACCCUU...\n",
       "1       bpRNA_CRW_16343  CCUGACGACCAUAGCGAGCGGGUCCCACCUGACCCCAUGCCGAACU...\n",
       "2       bpRNA_CRW_14876  GAUGAACGCUGGCGGCGUGCCUAAUACAUGCAAGUCGAGCGAACAG...\n",
       "3       bpRNA_CRW_50032           GUCAGGAUAGCUCAGUUGGUAGAGCAGAGGACUGAAAAUC\n",
       "4       bpRNA_CRW_40524  AGGGCCUAUAGCUCAGUUGGUUAGAGCACACGCCUGAUAAGCGUGA...\n",
       "...                 ...                                                ...\n",
       "65275   bpRNA_CRW_43706  GGGUCUGUAGCUCAGUCGGUUAGAGCAGGGGACUCAUAAUCCCUUG...\n",
       "65276   bpRNA_CRW_15161  GAUCCUGGCUCAGGACGAACGCUGGCGGCGUGCCUAAUACAUGCAA...\n",
       "65277  bpRNA_RFAM_19577  UGUGCAUCGUGGUCAAAUGCUCAGACUCCUGUGGUGGCUGCUCAUG...\n",
       "65278  bpRNA_RFAM_23681  CCCAAAGGUUCCCUCAGGCUGAAUGGAAACCAGCCAGAGAGUGUAA...\n",
       "65279  bpRNA_RFAM_33397  UUCUGAUCUGUCGAUUCGACUCCCUCCCGUCGGCCCUGAGACACCU...\n",
       "\n",
       "[65280 rows x 2 columns]"
      ]
     },
     "execution_count": 132,
     "metadata": {},
     "output_type": "execute_result"
    }
   ],
   "source": [
    "df_un"
   ]
  },
  {
   "cell_type": "markdown",
   "metadata": {},
   "source": [
    "### Add labels from external databases through sequence matching\n",
    "\n",
    "#### Rfam fasta files"
   ]
  },
  {
   "cell_type": "code",
   "execution_count": null,
   "metadata": {},
   "outputs": [],
   "source": [
    "rfam = pd.read_csv('/Users/yvesmartin/src/supermodels-data/rfam/data/rfam.csv')\n",
    "rfam = rfam[['ref_desc', 'sequence', 'family_name', 'full_family_name', 'clan_name']]\n",
    "rfam['sequence'] = rfam['sequence'].apply(lambda x: x.replace('T', 'U'))"
   ]
  },
  {
   "cell_type": "code",
   "execution_count": null,
   "metadata": {},
   "outputs": [
    {
     "data": {
      "text/html": [
       "<div>\n",
       "<style scoped>\n",
       "    .dataframe tbody tr th:only-of-type {\n",
       "        vertical-align: middle;\n",
       "    }\n",
       "\n",
       "    .dataframe tbody tr th {\n",
       "        vertical-align: top;\n",
       "    }\n",
       "\n",
       "    .dataframe thead th {\n",
       "        text-align: right;\n",
       "    }\n",
       "</style>\n",
       "<table border=\"1\" class=\"dataframe\">\n",
       "  <thead>\n",
       "    <tr style=\"text-align: right;\">\n",
       "      <th></th>\n",
       "      <th>reference</th>\n",
       "      <th>sequence</th>\n",
       "      <th>ref_desc</th>\n",
       "      <th>family_name</th>\n",
       "      <th>full_family_name</th>\n",
       "      <th>clan_name</th>\n",
       "    </tr>\n",
       "  </thead>\n",
       "  <tbody>\n",
       "    <tr>\n",
       "      <th>166982</th>\n",
       "      <td>bpRNA_RFAM_23074</td>\n",
       "      <td>UUAUUUUUAACUUUUAUCAGGGCUAGCUUUUGGGUAAUUGAUAAAA...</td>\n",
       "      <td>Lactobacillus casei ATCC 334, complete genome.</td>\n",
       "      <td>23S-methyl</td>\n",
       "      <td>23S methyl RNA motif</td>\n",
       "      <td>NaN</td>\n",
       "    </tr>\n",
       "    <tr>\n",
       "      <th>34914</th>\n",
       "      <td>bpRNA_RFAM_23059</td>\n",
       "      <td>UUUUCAUUGGUUUUUAUCAGGUUCCUGUUCUGAUAAAAGUUAGUGA...</td>\n",
       "      <td>Enterococcus sp. 10A9_DIV0425 scaffold00003, w...</td>\n",
       "      <td>23S-methyl</td>\n",
       "      <td>23S methyl RNA motif</td>\n",
       "      <td>NaN</td>\n",
       "    </tr>\n",
       "    <tr>\n",
       "      <th>194416</th>\n",
       "      <td>bpRNA_RFAM_23075</td>\n",
       "      <td>UAUUAAUUUGUUUCAAUCUUUCCUGUUAUGAUUAAAGCAAAUUAGU...</td>\n",
       "      <td>Lactococcus lactis subsp. cremoris SK11, compl...</td>\n",
       "      <td>23S-methyl</td>\n",
       "      <td>23S methyl RNA motif</td>\n",
       "      <td>NaN</td>\n",
       "    </tr>\n",
       "    <tr>\n",
       "      <th>176712</th>\n",
       "      <td>bpRNA_RFAM_23069</td>\n",
       "      <td>CAUUCGUUGGUUUAAAUCAAACCUGUUAUGAUUUAAGUUAGCGAGU...</td>\n",
       "      <td>Streptococcus pyogenes MGAS10750, complete gen...</td>\n",
       "      <td>23S-methyl</td>\n",
       "      <td>23S methyl RNA motif</td>\n",
       "      <td>NaN</td>\n",
       "    </tr>\n",
       "    <tr>\n",
       "      <th>126866</th>\n",
       "      <td>bpRNA_RFAM_23065</td>\n",
       "      <td>CGUUUGGUAGUUAACAUCGACAUGUCGUUGGUGACUACCGAGUUGU...</td>\n",
       "      <td>Lactobacillus plantarum WCFS1 complete genome</td>\n",
       "      <td>23S-methyl</td>\n",
       "      <td>23S methyl RNA motif</td>\n",
       "      <td>NaN</td>\n",
       "    </tr>\n",
       "    <tr>\n",
       "      <th>...</th>\n",
       "      <td>...</td>\n",
       "      <td>...</td>\n",
       "      <td>...</td>\n",
       "      <td>...</td>\n",
       "      <td>...</td>\n",
       "      <td>...</td>\n",
       "    </tr>\n",
       "    <tr>\n",
       "      <th>225163</th>\n",
       "      <td>bpRNA_CRW_54700</td>\n",
       "      <td>AAAGACUCAGUCCUAACCUUACUAUUGGUUUUUGCUAGACAUAUAC...</td>\n",
       "      <td>NaN</td>\n",
       "      <td>NaN</td>\n",
       "      <td>NaN</td>\n",
       "      <td>NaN</td>\n",
       "    </tr>\n",
       "    <tr>\n",
       "      <th>225164</th>\n",
       "      <td>bpRNA_CRW_43706</td>\n",
       "      <td>GGGUCUGUAGCUCAGUCGGUUAGAGCAGGGGACUCAUAAUCCCUUG...</td>\n",
       "      <td>NaN</td>\n",
       "      <td>NaN</td>\n",
       "      <td>NaN</td>\n",
       "      <td>NaN</td>\n",
       "    </tr>\n",
       "    <tr>\n",
       "      <th>225165</th>\n",
       "      <td>bpRNA_CRW_15161</td>\n",
       "      <td>GAUCCUGGCUCAGGACGAACGCUGGCGGCGUGCCUAAUACAUGCAA...</td>\n",
       "      <td>NaN</td>\n",
       "      <td>NaN</td>\n",
       "      <td>NaN</td>\n",
       "      <td>NaN</td>\n",
       "    </tr>\n",
       "    <tr>\n",
       "      <th>225186</th>\n",
       "      <td>bpRNA_RFAM_23681</td>\n",
       "      <td>CCCAAAGGUUCCCUCAGGCUGAAUGGAAACCAGCCAGAGAGUGUAA...</td>\n",
       "      <td>NaN</td>\n",
       "      <td>NaN</td>\n",
       "      <td>NaN</td>\n",
       "      <td>NaN</td>\n",
       "    </tr>\n",
       "    <tr>\n",
       "      <th>225187</th>\n",
       "      <td>bpRNA_RFAM_33397</td>\n",
       "      <td>UUCUGAUCUGUCGAUUCGACUCCCUCCCGUCGGCCCUGAGACACCU...</td>\n",
       "      <td>NaN</td>\n",
       "      <td>NaN</td>\n",
       "      <td>NaN</td>\n",
       "      <td>NaN</td>\n",
       "    </tr>\n",
       "  </tbody>\n",
       "</table>\n",
       "<p>65280 rows × 6 columns</p>\n",
       "</div>"
      ],
      "text/plain": [
       "               reference                                           sequence  \\\n",
       "166982  bpRNA_RFAM_23074  UUAUUUUUAACUUUUAUCAGGGCUAGCUUUUGGGUAAUUGAUAAAA...   \n",
       "34914   bpRNA_RFAM_23059  UUUUCAUUGGUUUUUAUCAGGUUCCUGUUCUGAUAAAAGUUAGUGA...   \n",
       "194416  bpRNA_RFAM_23075  UAUUAAUUUGUUUCAAUCUUUCCUGUUAUGAUUAAAGCAAAUUAGU...   \n",
       "176712  bpRNA_RFAM_23069  CAUUCGUUGGUUUAAAUCAAACCUGUUAUGAUUUAAGUUAGCGAGU...   \n",
       "126866  bpRNA_RFAM_23065  CGUUUGGUAGUUAACAUCGACAUGUCGUUGGUGACUACCGAGUUGU...   \n",
       "...                  ...                                                ...   \n",
       "225163   bpRNA_CRW_54700  AAAGACUCAGUCCUAACCUUACUAUUGGUUUUUGCUAGACAUAUAC...   \n",
       "225164   bpRNA_CRW_43706  GGGUCUGUAGCUCAGUCGGUUAGAGCAGGGGACUCAUAAUCCCUUG...   \n",
       "225165   bpRNA_CRW_15161  GAUCCUGGCUCAGGACGAACGCUGGCGGCGUGCCUAAUACAUGCAA...   \n",
       "225186  bpRNA_RFAM_23681  CCCAAAGGUUCCCUCAGGCUGAAUGGAAACCAGCCAGAGAGUGUAA...   \n",
       "225187  bpRNA_RFAM_33397  UUCUGAUCUGUCGAUUCGACUCCCUCCCGUCGGCCCUGAGACACCU...   \n",
       "\n",
       "                                                 ref_desc family_name  \\\n",
       "166982     Lactobacillus casei ATCC 334, complete genome.  23S-methyl   \n",
       "34914   Enterococcus sp. 10A9_DIV0425 scaffold00003, w...  23S-methyl   \n",
       "194416  Lactococcus lactis subsp. cremoris SK11, compl...  23S-methyl   \n",
       "176712  Streptococcus pyogenes MGAS10750, complete gen...  23S-methyl   \n",
       "126866      Lactobacillus plantarum WCFS1 complete genome  23S-methyl   \n",
       "...                                                   ...         ...   \n",
       "225163                                                NaN         NaN   \n",
       "225164                                                NaN         NaN   \n",
       "225165                                                NaN         NaN   \n",
       "225186                                                NaN         NaN   \n",
       "225187                                                NaN         NaN   \n",
       "\n",
       "            full_family_name clan_name  \n",
       "166982  23S methyl RNA motif       NaN  \n",
       "34914   23S methyl RNA motif       NaN  \n",
       "194416  23S methyl RNA motif       NaN  \n",
       "176712  23S methyl RNA motif       NaN  \n",
       "126866  23S methyl RNA motif       NaN  \n",
       "...                      ...       ...  \n",
       "225163                   NaN       NaN  \n",
       "225164                   NaN       NaN  \n",
       "225165                   NaN       NaN  \n",
       "225186                   NaN       NaN  \n",
       "225187                   NaN       NaN  \n",
       "\n",
       "[65280 rows x 6 columns]"
      ]
     },
     "execution_count": 134,
     "metadata": {},
     "output_type": "execute_result"
    }
   ],
   "source": [
    "df = pd.merge(df_un, rfam, on='sequence', how='left')\n",
    "df.sort_values(by='family_name', inplace=True, na_position='last')\n",
    "df.drop_duplicates(subset=['reference'], inplace=True, keep='first')\n",
    "df"
   ]
  },
  {
   "cell_type": "markdown",
   "metadata": {},
   "source": [
    "#### CRW "
   ]
  },
  {
   "cell_type": "code",
   "execution_count": null,
   "metadata": {},
   "outputs": [
    {
     "data": {
      "text/plain": [
       "family_name\n",
       "tRNA             3620\n",
       "5S_rRNA           848\n",
       "tmRNA             748\n",
       "RNaseP_bact_a     450\n",
       "SAM               433\n",
       "                 ... \n",
       "TtnuHACA21          1\n",
       "mir-423             1\n",
       "mir-197             1\n",
       "BMV3_UPD-PK1        1\n",
       "mir-995             1\n",
       "Name: count, Length: 1604, dtype: int64"
      ]
     },
     "execution_count": 135,
     "metadata": {},
     "output_type": "execute_result"
    }
   ],
   "source": [
    "data = pd.DataFrame.from_dict(json.load(open('../CRW/crw.json')), orient='index').reset_index().rename(columns={'index': 'reference', 'family':'family_name'})[['sequence', 'family_name']]\n",
    "df = pd.merge(df, data, on='sequence', how='left')\n",
    "df['family_name'] = df.apply(lambda x: x['family_name_x'] if pd.isnull(x['family_name_y']) else x['family_name_y'], axis=1)\n",
    "df.drop(['family_name_x', 'family_name_y'], axis=1, inplace=True)\n",
    "df['family_name'].value_counts()"
   ]
  },
  {
   "cell_type": "code",
   "execution_count": null,
   "metadata": {},
   "outputs": [
    {
     "name": "stdout",
     "output_type": "stream",
     "text": [
      "family\n",
      "other              0.515322\n",
      "snRNA              0.118239\n",
      "tRNA               0.058508\n",
      "sRNA               0.051584\n",
      "mRNA               0.037752\n",
      "microRNA           0.035291\n",
      "rRNA               0.028138\n",
      "virus              0.027771\n",
      "CRE                0.027450\n",
      "group_II_intron    0.021169\n",
      "motif              0.016675\n",
      "tmRNA              0.013786\n",
      "ncRNA              0.013297\n",
      "RNaseP             0.012548\n",
      "SRP                0.011998\n",
      "crRNA              0.004020\n",
      "6S_rRNA            0.002277\n",
      "group_I_intron     0.001574\n",
      "telomerase         0.001452\n",
      "RNP                0.000856\n",
      "23S_rRNA           0.000290\n",
      "Name: count, dtype: float64\n"
     ]
    }
   ],
   "source": [
    "translation_family_name = {\n",
    "    'sRNA': ['sRNA', 'rli', 'rivX', 'CC', 'STnc', 'sau-', 'Atu_', 'GlsR', '6C', 'ArcZ', 'Bsr', 'C0', 'CyaR_RyeE', 'whalefall-1', 'tpke11', 'tfoR',\\\n",
    "        't44', 'sro', 'FsrA', 'sraA', 'ryfA', 'GadY', 'GcvB', 'Hgc', 'IS009', 'InvR', 'MtlS', 'OmrA-B', 'OrzO-P', 'OxyS', 'PrrF', 'Qrr', 'RybB', 'RydC', 'SgrS',\\\n",
    "        'Spot_42', 'Sra'\n",
    "            ],\n",
    "    'tRNA': ['tRNA', 'TLS-PK'],\n",
    "    'rRNA': ['rRNA', '5s', '5S_rRNA', '16s', '16S_rRNA', '23s', '23S_rRNA', 'RF_site', 'ribozyme', 'GOLLD'],\n",
    "    'ncRNA': ['ncRNA', 'rdlD', 'NRON', 'CopA', 'DicF', 'uc_338', 'Dicty_Class_I_RNA', 'DsrA', 'FourU', 'srg1', 'sok', 'symR', 'sar', 'rncO', \\\n",
    "            'rydB', 'msr', 'IS102', 'IS128', 'MicC', 'MicF', 'NrrF', 'NsiR1', 'Plasmid_RNAIII','RNA-OUT', 'RNAI','RUF', \\\n",
    "             'RprA', 'Rsa', 'SprD'\n",
    "                ],\n",
    "    'group_I_intron': ['grp1'],\n",
    "    'group_II_intron': ['grp2', 'group-II'],\n",
    "    'SRP': ['srp', 'SRP'],\n",
    "    'RNaseP': ['RNaseP'],\n",
    "    'crRNA': ['CRISPR'],\n",
    "    'RNP': ['HACA'],\n",
    "    'snRNA': ['snRNA', 'sn', 'Gl_U', 'SNORA', 'U1', 'U7', 'U3', 'VA', 'SCARNA'],\n",
    "    'microRNA': ['mir-', 'MIR', 'lsy-6'],\n",
    "    'virus': ['virus', 'CuYV_BPYV', 'SPCSV', 'HAV', 'BMV3_UPD', 'Rubella_3', 'HIV', 'HBV', 'IRES'],\n",
    "    'tmRNA': ['tmRNA'],\n",
    "    'mRNA': ['SAM', 'mini-ykkC', 'FIE3'],\n",
    "    'CRE': ['sucA', 'Antizyme_FSE', 'CAESAR', 'ylbH', 'yjdF', 'ydaO-yuaA', 'ybhL', 'wcaG', 'G-CSF_SLDE', 'GABA3', 'GAIT', 'speF', 'GP_knot', \n",
    "            'Gurken', 'K_chan_RES', 'Mg_sensor', 'PyrR', 'RtT', 'SECIS_'                                   ],\n",
    "    'other': ['IMES-3', 'isrK', 'isrL', 'DapZ', 'ppoRNA', 'DNA', 'RyhB'],\n",
    "    'telomerase': ['tp2'],\n",
    "    'motif': ['MS2', 'OLE', 'PYLIS_'],\n",
    "}\n",
    "\n",
    "translation_clan_name = {\n",
    "    'snRNA': ['7SK'],\n",
    "    'ncRNA': ['Csr_Rsm_clan', 'FinP-traJ','Glm', 'suhB'],\n",
    "    'sRNA': ['RyeA-RyeB', 'LhrC'],\n",
    "    'RNaseP': ['RNaseP'],\n",
    "    'mRNA': ['SL'],\n",
    "}\n",
    "\n",
    "translation_family_description = {\n",
    "    'mRNA': ['riboswitch', 'UTR', 'mRNA', 'promoter', ],\n",
    "    'snRNA': ['spliceosomal', 'Small nucleolar', 'snoRNA', 'Small Nucleolar RNA', 'small nucleolar'],\n",
    "    'sRNA': ['sRNA', 'small RNA', 'AniS', 'Anti-Q RNA', 'Hfq binding', 'antisense','anti-sense', 'Antisense', 'anti-toxin', 'Short', 'antitoxin'],\n",
    "    'virus': ['virus'],\n",
    "    'microRNA': ['microRNA'],\n",
    "    'tRNA': ['tRNA'],\n",
    "    'tmRNA': ['tmRNA'],\n",
    "    'crRNA': ['CRISPR'],\n",
    "    'telomerase': ['telomerase'],\n",
    "    '23S_rRNA': ['23S'],\n",
    "    '6S_rRNA': ['6S'],\n",
    "    'motif': ['pseudoknot', 'Hammerhead', 'motif', 'Stem loopII regulatory element in POLB', 'Pseudoknot'],\n",
    "    'CRE': ['Alpha operon ribosome binding site', 'leader', 'cis-regulatory element', 'element'],\n",
    "    'rRNA': ['rRNA', 'Ribosomal', 'ribosomal', 'ribozyme', 'pRNA', 'ribosome'],\n",
    "    'ncRNA': ['Y RNA', 'thermometer', 'noncoding', 'SscA', 'Non-coding'], \n",
    "    'group_I_intron': ['Group I'],\n",
    "}\n",
    "\n",
    "def clean_family(row):\n",
    "    x = row['clan_name']\n",
    "    if not pd.isna(x):\n",
    "        for family, v in translation_clan_name.items():\n",
    "            for vv in v:\n",
    "                if vv in x:\n",
    "                    return family\n",
    "\n",
    "    x = row['family_name']\n",
    "    if pd.isna(x):\n",
    "        return 'other'\n",
    "    for family, v in translation_family_name.items():\n",
    "        for vv in v:\n",
    "            if vv in x:\n",
    "                return family\n",
    "            \n",
    "    full_family_name = row['full_family_name']\n",
    "    if pd.isna(full_family_name):\n",
    "        return 'other'\n",
    "    for family, keywords in translation_family_description.items():\n",
    "        for kw in keywords:\n",
    "            if kw in full_family_name:\n",
    "                return family     \n",
    "    return 'other'\n",
    "\n",
    "df_temp = df.copy()\n",
    "df_temp['family'] = df.apply(clean_family, axis=1)\n",
    "df_temp['length'] = df_temp['sequence'].apply(len)\n",
    "df_temp.set_index('reference', inplace=True)\n",
    "print(df_temp.value_counts('family')/len(df_temp))"
   ]
  },
  {
   "cell_type": "code",
   "execution_count": null,
   "metadata": {},
   "outputs": [],
   "source": [
    "## Merge with labeled\n",
    "df_final = pd.concat([df_labeled, df_temp])[['sequence', 'family']]#.value_counts('family')# / len(pd.concat([df_labeled, df_temp])) * 100"
   ]
  },
  {
   "cell_type": "code",
   "execution_count": null,
   "metadata": {},
   "outputs": [
    {
     "data": {
      "text/html": [
       "<div>\n",
       "<style scoped>\n",
       "    .dataframe tbody tr th:only-of-type {\n",
       "        vertical-align: middle;\n",
       "    }\n",
       "\n",
       "    .dataframe tbody tr th {\n",
       "        vertical-align: top;\n",
       "    }\n",
       "\n",
       "    .dataframe thead th {\n",
       "        text-align: right;\n",
       "    }\n",
       "</style>\n",
       "<table border=\"1\" class=\"dataframe\">\n",
       "  <thead>\n",
       "    <tr style=\"text-align: right;\">\n",
       "      <th></th>\n",
       "      <th>sequence</th>\n",
       "      <th>family</th>\n",
       "    </tr>\n",
       "    <tr>\n",
       "      <th>reference</th>\n",
       "      <th></th>\n",
       "      <th></th>\n",
       "    </tr>\n",
       "  </thead>\n",
       "  <tbody>\n",
       "    <tr>\n",
       "      <th>bpRNA_RNP_57</th>\n",
       "      <td>AUGCAGGAAAUGCGGGUAGCCGCUGCCGCAAUCGUCUCGGCGAUUG...</td>\n",
       "      <td>RNP</td>\n",
       "    </tr>\n",
       "    <tr>\n",
       "      <th>bpRNA_SPR_487</th>\n",
       "      <td>ACAGAUUGUAGCUUAAUCACAAAGCAUCUGGCCUACACCCAGAAGA...</td>\n",
       "      <td>SPR</td>\n",
       "    </tr>\n",
       "    <tr>\n",
       "      <th>bpRNA_RNP_12</th>\n",
       "      <td>GGCAGAGAGAGCCCAGUUCCCGUGCCCGAGACGGGCAUGAGGAAAG...</td>\n",
       "      <td>RNP</td>\n",
       "    </tr>\n",
       "    <tr>\n",
       "      <th>bpRNA_PDB_307</th>\n",
       "      <td>GGGAUCACAAGUAGGACUUCGGUCCGAAUACAGAUCUC</td>\n",
       "      <td>ncRNA</td>\n",
       "    </tr>\n",
       "    <tr>\n",
       "      <th>bpRNA_PDB_342</th>\n",
       "      <td>GGGACCUUCCAAGUCUC</td>\n",
       "      <td>ncRNA</td>\n",
       "    </tr>\n",
       "    <tr>\n",
       "      <th>...</th>\n",
       "      <td>...</td>\n",
       "      <td>...</td>\n",
       "    </tr>\n",
       "    <tr>\n",
       "      <th>bpRNA_CRW_54700</th>\n",
       "      <td>AAAGACUCAGUCCUAACCUUACUAUUGGUUUUUGCUAGACAUAUAC...</td>\n",
       "      <td>other</td>\n",
       "    </tr>\n",
       "    <tr>\n",
       "      <th>bpRNA_CRW_43706</th>\n",
       "      <td>GGGUCUGUAGCUCAGUCGGUUAGAGCAGGGGACUCAUAAUCCCUUG...</td>\n",
       "      <td>other</td>\n",
       "    </tr>\n",
       "    <tr>\n",
       "      <th>bpRNA_CRW_15161</th>\n",
       "      <td>GAUCCUGGCUCAGGACGAACGCUGGCGGCGUGCCUAAUACAUGCAA...</td>\n",
       "      <td>other</td>\n",
       "    </tr>\n",
       "    <tr>\n",
       "      <th>bpRNA_RFAM_23681</th>\n",
       "      <td>CCCAAAGGUUCCCUCAGGCUGAAUGGAAACCAGCCAGAGAGUGUAA...</td>\n",
       "      <td>other</td>\n",
       "    </tr>\n",
       "    <tr>\n",
       "      <th>bpRNA_RFAM_33397</th>\n",
       "      <td>UUCUGAUCUGUCGAUUCGACUCCCUCCCGUCGGCCCUGAGACACCU...</td>\n",
       "      <td>other</td>\n",
       "    </tr>\n",
       "  </tbody>\n",
       "</table>\n",
       "<p>66862 rows × 2 columns</p>\n",
       "</div>"
      ],
      "text/plain": [
       "                                                           sequence family\n",
       "reference                                                                 \n",
       "bpRNA_RNP_57      AUGCAGGAAAUGCGGGUAGCCGCUGCCGCAAUCGUCUCGGCGAUUG...    RNP\n",
       "bpRNA_SPR_487     ACAGAUUGUAGCUUAAUCACAAAGCAUCUGGCCUACACCCAGAAGA...    SPR\n",
       "bpRNA_RNP_12      GGCAGAGAGAGCCCAGUUCCCGUGCCCGAGACGGGCAUGAGGAAAG...    RNP\n",
       "bpRNA_PDB_307                GGGAUCACAAGUAGGACUUCGGUCCGAAUACAGAUCUC  ncRNA\n",
       "bpRNA_PDB_342                                     GGGACCUUCCAAGUCUC  ncRNA\n",
       "...                                                             ...    ...\n",
       "bpRNA_CRW_54700   AAAGACUCAGUCCUAACCUUACUAUUGGUUUUUGCUAGACAUAUAC...  other\n",
       "bpRNA_CRW_43706   GGGUCUGUAGCUCAGUCGGUUAGAGCAGGGGACUCAUAAUCCCUUG...  other\n",
       "bpRNA_CRW_15161   GAUCCUGGCUCAGGACGAACGCUGGCGGCGUGCCUAAUACAUGCAA...  other\n",
       "bpRNA_RFAM_23681  CCCAAAGGUUCCCUCAGGCUGAAUGGAAACCAGCCAGAGAGUGUAA...  other\n",
       "bpRNA_RFAM_33397  UUCUGAUCUGUCGAUUCGACUCCCUCCCGUCGGCCCUGAGACACCU...  other\n",
       "\n",
       "[66862 rows x 2 columns]"
      ]
     },
     "execution_count": 138,
     "metadata": {},
     "output_type": "execute_result"
    }
   ],
   "source": [
    "df_final"
   ]
  },
  {
   "cell_type": "code",
   "execution_count": null,
   "metadata": {},
   "outputs": [
    {
     "data": {
      "text/html": [
       "<div>\n",
       "<style scoped>\n",
       "    .dataframe tbody tr th:only-of-type {\n",
       "        vertical-align: middle;\n",
       "    }\n",
       "\n",
       "    .dataframe tbody tr th {\n",
       "        vertical-align: top;\n",
       "    }\n",
       "\n",
       "    .dataframe thead th {\n",
       "        text-align: right;\n",
       "    }\n",
       "</style>\n",
       "<table border=\"1\" class=\"dataframe\">\n",
       "  <thead>\n",
       "    <tr style=\"text-align: right;\">\n",
       "      <th></th>\n",
       "      <th>reference</th>\n",
       "      <th>sequence</th>\n",
       "    </tr>\n",
       "  </thead>\n",
       "  <tbody>\n",
       "    <tr>\n",
       "      <th>0</th>\n",
       "      <td>bpRNA_CRW_84</td>\n",
       "      <td>GAGCGGCGAACGGGUGAGUAACACGUGAGUANCCUGCCCUAGGCUU...</td>\n",
       "    </tr>\n",
       "    <tr>\n",
       "      <th>1</th>\n",
       "      <td>bpRNA_CRW_136</td>\n",
       "      <td>UAGUGGCGAACGGGUGAGUAACACGUGGGCNAUCUGCCCUGCACUC...</td>\n",
       "    </tr>\n",
       "    <tr>\n",
       "      <th>2</th>\n",
       "      <td>bpRNA_CRW_1041</td>\n",
       "      <td>CAUGGGUUGUGGUGGAAAGCUUUUGCGGUGUGGGAUGGGCCCGCGG...</td>\n",
       "    </tr>\n",
       "    <tr>\n",
       "      <th>3</th>\n",
       "      <td>bpRNA_CRW_1195</td>\n",
       "      <td>CGAACGCUGGCGGCGUGCUUAACACAUGCAAGUCGAACGAUGAAGG...</td>\n",
       "    </tr>\n",
       "    <tr>\n",
       "      <th>4</th>\n",
       "      <td>bpRNA_CRW_1197</td>\n",
       "      <td>GUUUGAUCCUGGCUCAGGACGAACGCUGACGGCGUGCUUAACACAU...</td>\n",
       "    </tr>\n",
       "    <tr>\n",
       "      <th>...</th>\n",
       "      <td>...</td>\n",
       "      <td>...</td>\n",
       "    </tr>\n",
       "    <tr>\n",
       "      <th>28365</th>\n",
       "      <td>bpRNA_PDB_663</td>\n",
       "      <td>GUCUAAAGUUUGCUAGGGUUCCGCGUCAuAGGUGGUCUGGUCCAAG...</td>\n",
       "    </tr>\n",
       "    <tr>\n",
       "      <th>28366</th>\n",
       "      <td>bpRNA_PDB_664</td>\n",
       "      <td>GGGUCAGGCCGGCGAAAGUCGCCACAGUUUGGGGAAAGCUGUGCAG...</td>\n",
       "    </tr>\n",
       "    <tr>\n",
       "      <th>28367</th>\n",
       "      <td>bpRNA_PDB_665</td>\n",
       "      <td>GGUGACUAGGGUUCCGGCGAAAGCCGGUCCGAGAGUUACCGACCGC...</td>\n",
       "    </tr>\n",
       "    <tr>\n",
       "      <th>28368</th>\n",
       "      <td>bpRNA_PDB_666</td>\n",
       "      <td>GGACAUAAGGAAAACCUAUGUCC</td>\n",
       "    </tr>\n",
       "    <tr>\n",
       "      <th>28369</th>\n",
       "      <td>bpRNA_PDB_667</td>\n",
       "      <td>GGUGUUGACUGUUGAAUCUCAUGGCAACACC</td>\n",
       "    </tr>\n",
       "  </tbody>\n",
       "</table>\n",
       "<p>28370 rows × 2 columns</p>\n",
       "</div>"
      ],
      "text/plain": [
       "            reference                                           sequence\n",
       "0        bpRNA_CRW_84  GAGCGGCGAACGGGUGAGUAACACGUGAGUANCCUGCCCUAGGCUU...\n",
       "1       bpRNA_CRW_136  UAGUGGCGAACGGGUGAGUAACACGUGGGCNAUCUGCCCUGCACUC...\n",
       "2      bpRNA_CRW_1041  CAUGGGUUGUGGUGGAAAGCUUUUGCGGUGUGGGAUGGGCCCGCGG...\n",
       "3      bpRNA_CRW_1195  CGAACGCUGGCGGCGUGCUUAACACAUGCAAGUCGAACGAUGAAGG...\n",
       "4      bpRNA_CRW_1197  GUUUGAUCCUGGCUCAGGACGAACGCUGACGGCGUGCUUAACACAU...\n",
       "...               ...                                                ...\n",
       "28365   bpRNA_PDB_663  GUCUAAAGUUUGCUAGGGUUCCGCGUCAuAGGUGGUCUGGUCCAAG...\n",
       "28366   bpRNA_PDB_664  GGGUCAGGCCGGCGAAAGUCGCCACAGUUUGGGGAAAGCUGUGCAG...\n",
       "28367   bpRNA_PDB_665  GGUGACUAGGGUUCCGGCGAAAGCCGGUCCGAGAGUUACCGACCGC...\n",
       "28368   bpRNA_PDB_666                            GGACAUAAGGAAAACCUAUGUCC\n",
       "28369   bpRNA_PDB_667                    GGUGUUGACUGUUGAAUCUCAUGGCAACACC\n",
       "\n",
       "[28370 rows x 2 columns]"
      ]
     },
     "execution_count": 139,
     "metadata": {},
     "output_type": "execute_result"
    }
   ],
   "source": [
    "# label bprna 90\n",
    "df90 =  open('/Users/yvesmartin/data/bpRNA/bpRNA_1m_90.fasta').read().split('\\n')\n",
    "refs, seqs = df90[::2], df90[1::2]\n",
    "df90 = pd.DataFrame({'reference': [r.split('>')[1] for r in refs if '>' in r], 'sequence': seqs})\n",
    "df90\n"
   ]
  },
  {
   "cell_type": "code",
   "execution_count": null,
   "metadata": {},
   "outputs": [
    {
     "data": {
      "text/plain": [
       "<Axes: ylabel='count'>"
      ]
     },
     "execution_count": 140,
     "metadata": {},
     "output_type": "execute_result"
    },
    {
     "data": {
      "image/png": "[encoded data removed]",
      "text/plain": [
       "<Figure size 640x480 with 1 Axes>"
      ]
     },
     "metadata": {},
     "output_type": "display_data"
    }
   ],
   "source": [
    "pd.merge(df_final, df90, on='sequence', how='inner').family.value_counts().plot(kind='pie')"
   ]
  }
 ],
 "metadata": {
  "kernelspec": {
   "display_name": "Python 3",
   "language": "python",
   "name": "python3"
  },
  "language_info": {
   "codemirror_mode": {
    "name": "ipython",
    "version": 3
   },
   "file_extension": ".py",
   "mimetype": "text/x-python",
   "name": "python",
   "nbconvert_exporter": "python",
   "pygments_lexer": "ipython3",
   "version": "3.11.6"
  }
 },
 "nbformat": 4,
 "nbformat_minor": 2
}
