{
 "cells": [
  {
   "cell_type": "code",
   "execution_count": null,
   "metadata": {},
   "outputs": [],
   "source": [
    "import json\n",
    "import pandas as pd"
   ]
  },
  {
   "cell_type": "markdown",
   "metadata": {},
   "source": [
    "## Ribonanza"
   ]
  },
  {
   "cell_type": "code",
   "execution_count": null,
   "metadata": {},
   "outputs": [],
   "source": []
  },
  {
   "cell_type": "markdown",
   "metadata": {},
   "source": [
    "## RNAStralign"
   ]
  },
  {
   "cell_type": "code",
   "execution_count": 104,
   "metadata": {},
   "outputs": [],
   "source": [
    "data = json.load(open('../RNAStralign/data.json'))\n",
    "families = pd.DataFrame.from_dict(data, orient='index')['family'].apply(lambda x: x.split('__')[0].replace('_database', '')).value_counts()\n",
    "families_rnastralign = families"
   ]
  },
  {
   "cell_type": "markdown",
   "metadata": {},
   "source": [
    "## archiveII"
   ]
  },
  {
   "cell_type": "code",
   "execution_count": 105,
   "metadata": {},
   "outputs": [
    {
     "data": {
      "text/plain": [
       "index\n",
       "5s            1149\n",
       "srp            725\n",
       "tRNA           493\n",
       "RNaseP         429\n",
       "tmRNA          404\n",
       "16s            110\n",
       "grp1            93\n",
       "telomerase      37\n",
       "23s             35\n",
       "grp2            11\n",
       "Name: count, dtype: int64"
      ]
     },
     "execution_count": 105,
     "metadata": {},
     "output_type": "execute_result"
    }
   ],
   "source": [
    "data = json.load(open('../archiveII/data/archiveII/data.json'))\n",
    "families = pd.DataFrame.from_dict(data, orient='index').reset_index()['index'].apply(lambda x: x.split('_')[0]).value_counts()\n",
    "families"
   ]
  },
  {
   "cell_type": "code",
   "execution_count": 108,
   "metadata": {},
   "outputs": [
    {
     "name": "stdout",
     "output_type": "stream",
     "text": [
      "16S_rRNA 16s 23s 5S_rRNA 5s RNaseP SRP group_I_intron grp1 grp2 srp tRNA telomerase tmRNA "
     ]
    }
   ],
   "source": [
    "for k in (families_rnastralign + families).keys():\n",
    "    print(k, end=' ')"
   ]
  },
  {
   "cell_type": "markdown",
   "metadata": {},
   "source": [
    "## bpRNA"
   ]
  },
  {
   "cell_type": "code",
   "execution_count": 50,
   "metadata": {},
   "outputs": [],
   "source": [
    "data = json.load(open('../bpRNA/data/bpRNA/data.json'))\n",
    "df = pd.DataFrame.from_dict(data, orient='index').reset_index().rename(columns={'index': 'reference'})\n",
    "df['family'] = df['reference'].apply(lambda x: x.split('_')[1])\n",
    "df.set_index('reference', inplace=True)"
   ]
  },
  {
   "cell_type": "code",
   "execution_count": null,
   "metadata": {},
   "outputs": [],
   "source": [
    "df['family'].value_counts()"
   ]
  },
  {
   "cell_type": "markdown",
   "metadata": {},
   "source": [
    "### bpRNA/CRW"
   ]
  },
  {
   "cell_type": "code",
   "execution_count": 12,
   "metadata": {},
   "outputs": [],
   "source": [
    "# Make a fasta for the CRW sequences\n",
    "def df_to_fasta(data, path):\n",
    "    data = data.to_dict(orient='index')\n",
    "    with open(path, 'w') as f:\n",
    "        f.write('\\n'.join('>{}\\n{}'.format(name, data[name]['sequence']) for name in data))\n",
    "df_to_fasta(df[df['family'] == 'CRW'], 'bprna_crw.fasta')\n",
    "df_to_fasta(df[df['family'] == 'RFAM'], 'bprna_rfam.fasta')\n"
   ]
  },
  {
   "cell_type": "code",
   "execution_count": null,
   "metadata": {},
   "outputs": [],
   "source": [
    "# make a blast database for crw\n",
    "!makeblastdb -in ../CRW/crw.fasta -dbtype nucl -out db/crw"
   ]
  },
  {
   "cell_type": "code",
   "execution_count": null,
   "metadata": {},
   "outputs": [],
   "source": [
    "# run bprna_crw against crw\n",
    "!blastn -query bprna_crw.fasta -db db/crw -outfmt 6 -out blast_crw.csv"
   ]
  },
  {
   "cell_type": "code",
   "execution_count": 27,
   "metadata": {},
   "outputs": [],
   "source": [
    "df = pd.read_csv('blast_rfam.csv', sep='\\t', header=None)\n",
    "df.columns = ['query', 'subject', 'identity', 'length', 'mismatches', 'gaps', 'qstart', 'qend', 'sstart', 'send', 'evalue', 'bitscore']\n",
    "df['family'] = df['subject'].apply(lambda x: x.split('___')[0])"
   ]
  },
  {
   "cell_type": "markdown",
   "metadata": {},
   "source": [
    "### bpRNA/RFAM"
   ]
  },
  {
   "cell_type": "code",
   "execution_count": 37,
   "metadata": {},
   "outputs": [
    {
     "data": {
      "text/plain": [
       "family\n",
       "1    1469\n",
       "2      25\n",
       "3       1\n",
       "Name: count, dtype: int64"
      ]
     },
     "execution_count": 37,
     "metadata": {},
     "output_type": "execute_result"
    }
   ],
   "source": [
    "df.groupby('query')['family'].unique().apply(len).value_counts()"
   ]
  },
  {
   "cell_type": "code",
   "execution_count": 34,
   "metadata": {},
   "outputs": [
    {
     "data": {
      "text/plain": [
       "1495"
      ]
     },
     "execution_count": 34,
     "metadata": {},
     "output_type": "execute_result"
    }
   ],
   "source": [
    "len(df['query'].unique())"
   ]
  },
  {
   "cell_type": "code",
   "execution_count": 56,
   "metadata": {},
   "outputs": [],
   "source": [
    "rfam = pd.read_csv('/Users/yvesmartin/src/supermodels-data/rfam/data/rfam.csv')"
   ]
  },
  {
   "cell_type": "code",
   "execution_count": 57,
   "metadata": {},
   "outputs": [
    {
     "data": {
      "text/html": [
       "<div>\n",
       "<style scoped>\n",
       "    .dataframe tbody tr th:only-of-type {\n",
       "        vertical-align: middle;\n",
       "    }\n",
       "\n",
       "    .dataframe tbody tr th {\n",
       "        vertical-align: top;\n",
       "    }\n",
       "\n",
       "    .dataframe thead th {\n",
       "        text-align: right;\n",
       "    }\n",
       "</style>\n",
       "<table border=\"1\" class=\"dataframe\">\n",
       "  <thead>\n",
       "    <tr style=\"text-align: right;\">\n",
       "      <th></th>\n",
       "      <th>family</th>\n",
       "      <th>reference</th>\n",
       "      <th>ref_desc</th>\n",
       "      <th>sequence</th>\n",
       "      <th>family_name</th>\n",
       "      <th>full_family_name</th>\n",
       "      <th>clan_name</th>\n",
       "    </tr>\n",
       "  </thead>\n",
       "  <tbody>\n",
       "    <tr>\n",
       "      <th>0</th>\n",
       "      <td>RF03636</td>\n",
       "      <td>AEWC01008534.1/27091-27004</td>\n",
       "      <td>Solanum tuberosum cultivar DM 1-3 516 R44 scf0...</td>\n",
       "      <td>TACGCAGGAGAGATGATGCTGGACGATAGAGATATGAGAATATTAA...</td>\n",
       "      <td>MIR4376</td>\n",
       "      <td>MIR4376 microRNA precursor family</td>\n",
       "      <td>NaN</td>\n",
       "    </tr>\n",
       "    <tr>\n",
       "      <th>1</th>\n",
       "      <td>RF03636</td>\n",
       "      <td>CM001069.2/4541889-4541964</td>\n",
       "      <td>Solanum lycopersicum cultivar Heinz 1706 chrom...</td>\n",
       "      <td>TACGCAGGAGAGATGATGCTGGACGATAGAGAAAATGGGATTTAAT...</td>\n",
       "      <td>MIR4376</td>\n",
       "      <td>MIR4376 microRNA precursor family</td>\n",
       "      <td>NaN</td>\n",
       "    </tr>\n",
       "    <tr>\n",
       "      <th>2</th>\n",
       "      <td>RF03636</td>\n",
       "      <td>CM002817.1/83173031-83173111</td>\n",
       "      <td>Capsicum annuum cultivar Zunla-1 chromosome 6,...</td>\n",
       "      <td>TACGCAGGAGAGATGATGCTGGACGATAGAGATAGGAATAATGGGC...</td>\n",
       "      <td>MIR4376</td>\n",
       "      <td>MIR4376 microRNA precursor family</td>\n",
       "      <td>NaN</td>\n",
       "    </tr>\n",
       "    <tr>\n",
       "      <th>3</th>\n",
       "      <td>RF03636</td>\n",
       "      <td>AYMY01S002128.1/82671-82774</td>\n",
       "      <td>Nicotiana tabacum cultivar TN90 Ntab-TN90_scaf...</td>\n",
       "      <td>TACGCAGGAGAGATGATGCTGGATAATGGAGCATCCCTACTTAGCT...</td>\n",
       "      <td>MIR4376</td>\n",
       "      <td>MIR4376 microRNA precursor family</td>\n",
       "      <td>NaN</td>\n",
       "    </tr>\n",
       "    <tr>\n",
       "      <th>4</th>\n",
       "      <td>RF03636</td>\n",
       "      <td>MJEQ01004217.1/14857-14960</td>\n",
       "      <td>Nicotiana attenuata strain UT scaffold04217, w...</td>\n",
       "      <td>TACGCAGGAGAGATGATGCTGGATAATGGACCATCCCTACTTAGCT...</td>\n",
       "      <td>MIR4376</td>\n",
       "      <td>MIR4376 microRNA precursor family</td>\n",
       "      <td>NaN</td>\n",
       "    </tr>\n",
       "    <tr>\n",
       "      <th>...</th>\n",
       "      <td>...</td>\n",
       "      <td>...</td>\n",
       "      <td>...</td>\n",
       "      <td>...</td>\n",
       "      <td>...</td>\n",
       "      <td>...</td>\n",
       "      <td>...</td>\n",
       "    </tr>\n",
       "    <tr>\n",
       "      <th>3081743</th>\n",
       "      <td>RF01532</td>\n",
       "      <td>AAHA01000001.1/3813320-3813388</td>\n",
       "      <td>Trypanosoma brucei brucei strain 927/4 GUTat10...</td>\n",
       "      <td>CGCCAGCAGCCGCCCCGGGCAGGAUGGCGCCCGUGUCCUUGGCGUG...</td>\n",
       "      <td>TB10Cs3H2</td>\n",
       "      <td>Trypanosomatid snoRNA TB10Cs3H2</td>\n",
       "      <td>NaN</td>\n",
       "    </tr>\n",
       "    <tr>\n",
       "      <th>3081744</th>\n",
       "      <td>RF01532</td>\n",
       "      <td>FR796465.1/103544-103472_1</td>\n",
       "      <td>Leishmania infantum JPCM5 genome chromosome 33</td>\n",
       "      <td>UGCCGCCUGCACCUUCCGGGCAGGAUGCCGCCCUUGCGCCCUUGGC...</td>\n",
       "      <td>TB10Cs3H2</td>\n",
       "      <td>Trypanosomatid snoRNA TB10Cs3H2</td>\n",
       "      <td>NaN</td>\n",
       "    </tr>\n",
       "    <tr>\n",
       "      <th>3081745</th>\n",
       "      <td>RF01532</td>\n",
       "      <td>FR799008.1/88022-87950_1</td>\n",
       "      <td>Leishmania braziliensis MHOM/BR/75/M2904 compl...</td>\n",
       "      <td>UGCUGCCUGCACCUUCCGGGCAGGAUGACGCCCUUGCGGCCUUGGC...</td>\n",
       "      <td>TB10Cs3H2</td>\n",
       "      <td>Trypanosomatid snoRNA TB10Cs3H2</td>\n",
       "      <td>NaN</td>\n",
       "    </tr>\n",
       "    <tr>\n",
       "      <th>3081746</th>\n",
       "      <td>RF01532</td>\n",
       "      <td>FN554973.1/3774444-3774512</td>\n",
       "      <td>Trypanosoma brucei gambiense DAL972 chromosome...</td>\n",
       "      <td>CGCUAGCAGCCGCCCCGGGCAGGAUGGCGCCCGUGUCCUUGGCGUG...</td>\n",
       "      <td>TB10Cs3H2</td>\n",
       "      <td>Trypanosomatid snoRNA TB10Cs3H2</td>\n",
       "      <td>NaN</td>\n",
       "    </tr>\n",
       "    <tr>\n",
       "      <th>3081747</th>\n",
       "      <td>RF01532</td>\n",
       "      <td>HE575323.1/3715102-3715168</td>\n",
       "      <td>Trypanosoma congolense IL3000 annotated genomi...</td>\n",
       "      <td>UGUUCCCAGCCACACCGGGCAGGAUGGCGCCCGGUGAUGGCGUCGC...</td>\n",
       "      <td>TB10Cs3H2</td>\n",
       "      <td>Trypanosomatid snoRNA TB10Cs3H2</td>\n",
       "      <td>NaN</td>\n",
       "    </tr>\n",
       "  </tbody>\n",
       "</table>\n",
       "<p>3081748 rows × 7 columns</p>\n",
       "</div>"
      ],
      "text/plain": [
       "          family                       reference  \\\n",
       "0        RF03636      AEWC01008534.1/27091-27004   \n",
       "1        RF03636      CM001069.2/4541889-4541964   \n",
       "2        RF03636    CM002817.1/83173031-83173111   \n",
       "3        RF03636     AYMY01S002128.1/82671-82774   \n",
       "4        RF03636      MJEQ01004217.1/14857-14960   \n",
       "...          ...                             ...   \n",
       "3081743  RF01532  AAHA01000001.1/3813320-3813388   \n",
       "3081744  RF01532      FR796465.1/103544-103472_1   \n",
       "3081745  RF01532        FR799008.1/88022-87950_1   \n",
       "3081746  RF01532      FN554973.1/3774444-3774512   \n",
       "3081747  RF01532      HE575323.1/3715102-3715168   \n",
       "\n",
       "                                                  ref_desc  \\\n",
       "0        Solanum tuberosum cultivar DM 1-3 516 R44 scf0...   \n",
       "1        Solanum lycopersicum cultivar Heinz 1706 chrom...   \n",
       "2        Capsicum annuum cultivar Zunla-1 chromosome 6,...   \n",
       "3        Nicotiana tabacum cultivar TN90 Ntab-TN90_scaf...   \n",
       "4        Nicotiana attenuata strain UT scaffold04217, w...   \n",
       "...                                                    ...   \n",
       "3081743  Trypanosoma brucei brucei strain 927/4 GUTat10...   \n",
       "3081744     Leishmania infantum JPCM5 genome chromosome 33   \n",
       "3081745  Leishmania braziliensis MHOM/BR/75/M2904 compl...   \n",
       "3081746  Trypanosoma brucei gambiense DAL972 chromosome...   \n",
       "3081747  Trypanosoma congolense IL3000 annotated genomi...   \n",
       "\n",
       "                                                  sequence family_name  \\\n",
       "0        TACGCAGGAGAGATGATGCTGGACGATAGAGATATGAGAATATTAA...     MIR4376   \n",
       "1        TACGCAGGAGAGATGATGCTGGACGATAGAGAAAATGGGATTTAAT...     MIR4376   \n",
       "2        TACGCAGGAGAGATGATGCTGGACGATAGAGATAGGAATAATGGGC...     MIR4376   \n",
       "3        TACGCAGGAGAGATGATGCTGGATAATGGAGCATCCCTACTTAGCT...     MIR4376   \n",
       "4        TACGCAGGAGAGATGATGCTGGATAATGGACCATCCCTACTTAGCT...     MIR4376   \n",
       "...                                                    ...         ...   \n",
       "3081743  CGCCAGCAGCCGCCCCGGGCAGGAUGGCGCCCGUGUCCUUGGCGUG...   TB10Cs3H2   \n",
       "3081744  UGCCGCCUGCACCUUCCGGGCAGGAUGCCGCCCUUGCGCCCUUGGC...   TB10Cs3H2   \n",
       "3081745  UGCUGCCUGCACCUUCCGGGCAGGAUGACGCCCUUGCGGCCUUGGC...   TB10Cs3H2   \n",
       "3081746  CGCUAGCAGCCGCCCCGGGCAGGAUGGCGCCCGUGUCCUUGGCGUG...   TB10Cs3H2   \n",
       "3081747  UGUUCCCAGCCACACCGGGCAGGAUGGCGCCCGGUGAUGGCGUCGC...   TB10Cs3H2   \n",
       "\n",
       "                          full_family_name clan_name  \n",
       "0        MIR4376 microRNA precursor family       NaN  \n",
       "1        MIR4376 microRNA precursor family       NaN  \n",
       "2        MIR4376 microRNA precursor family       NaN  \n",
       "3        MIR4376 microRNA precursor family       NaN  \n",
       "4        MIR4376 microRNA precursor family       NaN  \n",
       "...                                    ...       ...  \n",
       "3081743    Trypanosomatid snoRNA TB10Cs3H2       NaN  \n",
       "3081744    Trypanosomatid snoRNA TB10Cs3H2       NaN  \n",
       "3081745    Trypanosomatid snoRNA TB10Cs3H2       NaN  \n",
       "3081746    Trypanosomatid snoRNA TB10Cs3H2       NaN  \n",
       "3081747    Trypanosomatid snoRNA TB10Cs3H2       NaN  \n",
       "\n",
       "[3081748 rows x 7 columns]"
      ]
     },
     "execution_count": 57,
     "metadata": {},
     "output_type": "execute_result"
    }
   ],
   "source": [
    "rfam"
   ]
  },
  {
   "cell_type": "code",
   "execution_count": 52,
   "metadata": {},
   "outputs": [
    {
     "data": {
      "text/html": [
       "<div>\n",
       "<style scoped>\n",
       "    .dataframe tbody tr th:only-of-type {\n",
       "        vertical-align: middle;\n",
       "    }\n",
       "\n",
       "    .dataframe tbody tr th {\n",
       "        vertical-align: top;\n",
       "    }\n",
       "\n",
       "    .dataframe thead th {\n",
       "        text-align: right;\n",
       "    }\n",
       "</style>\n",
       "<table border=\"1\" class=\"dataframe\">\n",
       "  <thead>\n",
       "    <tr style=\"text-align: right;\">\n",
       "      <th></th>\n",
       "      <th>sequence</th>\n",
       "      <th>reference</th>\n",
       "    </tr>\n",
       "  </thead>\n",
       "  <tbody>\n",
       "    <tr>\n",
       "      <th>0</th>\n",
       "      <td>GGGGAUGACUGGUUUCGACUUGGAAUGGUUGUUCCAGGAGAAGCGG...</td>\n",
       "      <td>bpRNA_RFAM_3948</td>\n",
       "    </tr>\n",
       "    <tr>\n",
       "      <th>1</th>\n",
       "      <td>GGUCAUGAGUGCCAGCGACAAGCCCCGGCUCGCUGGCCGGCAACCC...</td>\n",
       "      <td>bpRNA_RFAM_18423</td>\n",
       "    </tr>\n",
       "    <tr>\n",
       "      <th>2</th>\n",
       "      <td>AUACAUACCUGGCCGGGGGAAGUCGGUGAUCAAGACGGCCGAGUCC...</td>\n",
       "      <td>bpRNA_RFAM_838</td>\n",
       "    </tr>\n",
       "    <tr>\n",
       "      <th>3</th>\n",
       "      <td>AAAUGGUGGCCCGGCGUUGGUUCCUGUCCUAUGACAGGCGAAGAGG...</td>\n",
       "      <td>bpRNA_RFAM_9155</td>\n",
       "    </tr>\n",
       "    <tr>\n",
       "      <th>4</th>\n",
       "      <td>GGACUUGGGCUUGAGGGGAGGGGUGCUCUCUGUGCCUGAGGGACAU...</td>\n",
       "      <td>bpRNA_RFAM_20831</td>\n",
       "    </tr>\n",
       "    <tr>\n",
       "      <th>...</th>\n",
       "      <td>...</td>\n",
       "      <td>...</td>\n",
       "    </tr>\n",
       "    <tr>\n",
       "      <th>39596</th>\n",
       "      <td>AGGAUAAAAACUGGGGGGUAUUAGAAGUCAAGAAAAUAAUAGAUGC...</td>\n",
       "      <td>bpRNA_RFAM_39718</td>\n",
       "    </tr>\n",
       "    <tr>\n",
       "      <th>39597</th>\n",
       "      <td>AGGAGACCAGCCCCGCCUUCCCAGUGUUCAGACUACCUGUUCAGGA...</td>\n",
       "      <td>bpRNA_RFAM_7639</td>\n",
       "    </tr>\n",
       "    <tr>\n",
       "      <th>39598</th>\n",
       "      <td>UGUGCAUCGUGGUCAAAUGCUCAGACUCCUGUGGUGGCUGCUCAUG...</td>\n",
       "      <td>bpRNA_RFAM_19577</td>\n",
       "    </tr>\n",
       "    <tr>\n",
       "      <th>39599</th>\n",
       "      <td>CCCAAAGGUUCCCUCAGGCUGAAUGGAAACCAGCCAGAGAGUGUAA...</td>\n",
       "      <td>bpRNA_RFAM_23681</td>\n",
       "    </tr>\n",
       "    <tr>\n",
       "      <th>39600</th>\n",
       "      <td>UUCUGAUCUGUCGAUUCGACUCCCUCCCGUCGGCCCUGAGACACCU...</td>\n",
       "      <td>bpRNA_RFAM_33397</td>\n",
       "    </tr>\n",
       "  </tbody>\n",
       "</table>\n",
       "<p>39601 rows × 2 columns</p>\n",
       "</div>"
      ],
      "text/plain": [
       "                                                sequence         reference\n",
       "0      GGGGAUGACUGGUUUCGACUUGGAAUGGUUGUUCCAGGAGAAGCGG...   bpRNA_RFAM_3948\n",
       "1      GGUCAUGAGUGCCAGCGACAAGCCCCGGCUCGCUGGCCGGCAACCC...  bpRNA_RFAM_18423\n",
       "2      AUACAUACCUGGCCGGGGGAAGUCGGUGAUCAAGACGGCCGAGUCC...    bpRNA_RFAM_838\n",
       "3      AAAUGGUGGCCCGGCGUUGGUUCCUGUCCUAUGACAGGCGAAGAGG...   bpRNA_RFAM_9155\n",
       "4      GGACUUGGGCUUGAGGGGAGGGGUGCUCUCUGUGCCUGAGGGACAU...  bpRNA_RFAM_20831\n",
       "...                                                  ...               ...\n",
       "39596  AGGAUAAAAACUGGGGGGUAUUAGAAGUCAAGAAAAUAAUAGAUGC...  bpRNA_RFAM_39718\n",
       "39597  AGGAGACCAGCCCCGCCUUCCCAGUGUUCAGACUACCUGUUCAGGA...   bpRNA_RFAM_7639\n",
       "39598  UGUGCAUCGUGGUCAAAUGCUCAGACUCCUGUGGUGGCUGCUCAUG...  bpRNA_RFAM_19577\n",
       "39599  CCCAAAGGUUCCCUCAGGCUGAAUGGAAACCAGCCAGAGAGUGUAA...  bpRNA_RFAM_23681\n",
       "39600  UUCUGAUCUGUCGAUUCGACUCCCUCCCGUCGGCCCUGAGACACCU...  bpRNA_RFAM_33397\n",
       "\n",
       "[39601 rows x 2 columns]"
      ]
     },
     "execution_count": 52,
     "metadata": {},
     "output_type": "execute_result"
    }
   ],
   "source": [
    "bp_rfam = pd.DataFrame(open('/Users/yvesmartin/src/supermodels-data/family-classification/bprna_rfam.fasta').read().split('>')[1:], columns=['sequence'])   \n",
    "bp_rfam['reference'] = bp_rfam['sequence'].apply(lambda x: x.split('\\n', 1)[0].replace('\\n', ''))\n",
    "bp_rfam['sequence'] = bp_rfam['sequence'].apply(lambda x: x.split('\\n', 1)[1].replace('\\n', ''))\n",
    "bp_rfam"
   ]
  },
  {
   "cell_type": "code",
   "execution_count": 102,
   "metadata": {},
   "outputs": [],
   "source": [
    "df = pd.merge(bp_rfam, rfam, on='sequence', how='inner')\n",
    "with open('temp.txt', 'w') as f:\n",
    "    for n in df['family_name'].unique():\n",
    "        f.write('{}\\n'.format(n))"
   ]
  },
  {
   "cell_type": "code",
   "execution_count": 138,
   "metadata": {},
   "outputs": [
    {
     "name": "stdout",
     "output_type": "stream",
     "text": [
      "                count                                   full_family_name\n",
      "family_name                                                             \n",
      "RF_site6            2             {Polymerase ribosomal frameshift site}\n",
      "sn2841              2                       {Small nucleolar RNA sn2841}\n",
      "TB3Cs2H1            2                   {Trypanosomatid snoRNA TB3Cs2H1}\n",
      "snoR110             2                      {Small nucleolar RNA snoR110}\n",
      "SBRMV1_UPD-PKd      2  {Pseudoknot of upstream pseudoknot domain (UPD...\n",
      "SBRMV1_UPD-PKf      2  {Pseudoknot of upstream pseudoknot domain (UPD...\n",
      "SBWMV1_UPD-PKb      2  {Pseudoknot of upstream pseudoknot domain (UPD...\n",
      "Diantho_3_UTR       2               {Dianthovirus RNA2 3'UTR stem loops}\n",
      "SBWMV1_UPD-PKh      2  {Pseudoknot of upstream pseudoknot domain (UPD...\n",
      "sR40                2                         {Small nucleolar RNA sR40}\n",
      "count\n",
      "5     116\n",
      "3      90\n",
      "6      85\n",
      "4      79\n",
      "2      78\n",
      "7      58\n",
      "8      42\n",
      "9      35\n",
      "10     35\n",
      "20     27\n",
      "Name: count, dtype: int64\n"
     ]
    }
   ],
   "source": [
    "def clean_family(x):\n",
    "    if 'mir-' in x or 'MIR' in x or 'lsy-6' in x:\n",
    "        return 'microRNA'\n",
    "    if 'rRNA' in x:\n",
    "        return 'rRNA'\n",
    "    if 'CbSR' in x:\n",
    "        return 'sRNA'\n",
    "    if 'virus' in x.lower():\n",
    "        return 'virus'\n",
    "    if 'HACA' in x:\n",
    "        return 'sRNP'\n",
    "    if 'RNaseP' in x:\n",
    "        return 'RNaseP'\n",
    "    if 'CRISPR' in x:\n",
    "        return 'crRNA'\n",
    "    if 'sn' in x:\n",
    "        return 'snRNA'\n",
    "    if 'CuYV_BPYV' in x:\n",
    "        return 'virus'\n",
    "    if 'SPCSV' in x:\n",
    "        return 'virus'\n",
    "    if 'HAV' in x:\n",
    "        return 'virus'\n",
    "    if 'STnc' in x:\n",
    "        return 'sRNA'\n",
    "    if 'CC' in x:\n",
    "        return 'sRNA'\n",
    "    if 'Gl_U' in x:\n",
    "        return 'snRNA'\n",
    "    else:\n",
    "        return x\n",
    "\n",
    "df['family_name'] = df['family_name'].apply(clean_family)\n",
    "print(df.groupby('family_name').agg({'family_name': 'count', 'full_family_name':set}).rename(columns={'family_name':'count'}).sort_values('count').head(10))\n",
    "print(df['family_name'].value_counts().value_counts().head(10))"
   ]
  }
 ],
 "metadata": {
  "kernelspec": {
   "display_name": "Python 3",
   "language": "python",
   "name": "python3"
  },
  "language_info": {
   "codemirror_mode": {
    "name": "ipython",
    "version": 3
   },
   "file_extension": ".py",
   "mimetype": "text/x-python",
   "name": "python",
   "nbconvert_exporter": "python",
   "pygments_lexer": "ipython3",
   "version": "3.11.6"
  }
 },
 "nbformat": 4,
 "nbformat_minor": 2
}
