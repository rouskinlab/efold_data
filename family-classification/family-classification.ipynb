{
 "cells": [
  {
   "cell_type": "code",
   "execution_count": 2,
   "metadata": {},
   "outputs": [],
   "source": [
    "import json\n",
    "import pandas as pd\n",
    "import numpy as np"
   ]
  },
  {
   "cell_type": "markdown",
   "metadata": {},
   "source": [
    "## Ribonanza"
   ]
  },
  {
   "cell_type": "code",
   "execution_count": 3,
   "metadata": {},
   "outputs": [],
   "source": [
    "def rename_families(x):\n",
    "    if x == '5s' or x == '5S_rRNA' or x == '16s' or x == '16S_rRNA' or x == '23s' or x == '23S_rRNA':\n",
    "        return 'rRNA'\n",
    "    if x == 'grp1': \n",
    "        return 'group_I_intron'\n",
    "    if x == 'grp2':\n",
    "        return 'group_II_intron'\n",
    "    if x == 'srp':\n",
    "        return 'SRP'\n",
    "    else: \n",
    "        return x"
   ]
  },
  {
   "cell_type": "markdown",
   "metadata": {},
   "source": [
    "## RNAStralign"
   ]
  },
  {
   "cell_type": "code",
   "execution_count": 4,
   "metadata": {},
   "outputs": [
    {
     "data": {
      "text/plain": [
       "family\n",
       "rRNA              18893\n",
       "tRNA               6436\n",
       "group_I_intron      511\n",
       "SRP                 193\n",
       "tmRNA               170\n",
       "RNaseP               46\n",
       "telomerase           37\n",
       "Name: count, dtype: int64"
      ]
     },
     "execution_count": 4,
     "metadata": {},
     "output_type": "execute_result"
    }
   ],
   "source": [
    "data = json.load(open('../RNAStralign/data.json'))\n",
    "families = pd.DataFrame.from_dict(data, orient='index')['family'].apply(lambda x: x.split('__')[0].replace('_database', '')).apply(rename_families)\n",
    "fam_rnastralign = families.value_counts()\n",
    "fam_rnastralign"
   ]
  },
  {
   "cell_type": "markdown",
   "metadata": {},
   "source": [
    "## archiveII"
   ]
  },
  {
   "cell_type": "code",
   "execution_count": 5,
   "metadata": {},
   "outputs": [
    {
     "data": {
      "text/plain": [
       "index\n",
       "rRNA               1294\n",
       "SRP                 725\n",
       "tRNA                493\n",
       "RNaseP              429\n",
       "tmRNA               404\n",
       "group_I_intron       93\n",
       "telomerase           37\n",
       "group_II_intron      11\n",
       "Name: count, dtype: int64"
      ]
     },
     "execution_count": 5,
     "metadata": {},
     "output_type": "execute_result"
    }
   ],
   "source": [
    "data = json.load(open('../archiveII/data/archiveII/data.json'))\n",
    "families = pd.DataFrame.from_dict(data, orient='index').reset_index()['index'].apply(lambda x: x.split('_')[0]).apply(rename_families)\n",
    "fam_archivII = families.value_counts()\n",
    "fam_archivII"
   ]
  },
  {
   "cell_type": "markdown",
   "metadata": {},
   "source": [
    "## bpRNA"
   ]
  },
  {
   "cell_type": "code",
   "execution_count": 6,
   "metadata": {},
   "outputs": [],
   "source": [
    "data = json.load(open('../bpRNA/data/bpRNA/data.json'))\n",
    "df = pd.DataFrame.from_dict(data, orient='index').reset_index().rename(columns={'index': 'reference'})\n",
    "df['family'] = df['reference'].apply(lambda x: x.split('_')[1])\n",
    "df['sequence'] = df['sequence'].apply(lambda x: x.replace('T', 'U'))\n",
    "df.set_index('reference', inplace=True)\n",
    "print(len(df))  "
   ]
  },
  {
   "cell_type": "code",
   "execution_count": null,
   "metadata": {},
   "outputs": [
    {
     "data": {
      "text/plain": [
       "family\n",
       "RFAM     39601\n",
       "CRW      24552\n",
       "SRP        723\n",
       "PDB        533\n",
       "SPR        483\n",
       "RNP        419\n",
       "tmRNA      404\n",
       "Name: count, dtype: int64"
      ]
     },
     "execution_count": 43,
     "metadata": {},
     "output_type": "execute_result"
    }
   ],
   "source": [
    "df['family'].value_counts()"
   ]
  },
  {
   "cell_type": "markdown",
   "metadata": {},
   "source": [
    "### bpRNA/labeled"
   ]
  },
  {
   "cell_type": "code",
   "execution_count": null,
   "metadata": {},
   "outputs": [
    {
     "data": {
      "text/plain": [
       "family\n",
       "SRP      723\n",
       "ncRNA    533\n",
       "SPR      483\n",
       "RNP      419\n",
       "tmRNA    404\n",
       "Name: count, dtype: int64"
      ]
     },
     "execution_count": 46,
     "metadata": {},
     "output_type": "execute_result"
    }
   ],
   "source": [
    "valid_labels = list(fam_archivII.keys()) + list(fam_rnastralign.keys()) + ['SPR', 'RNP', 'ncRNA']\n",
    "df['family'] = df['family'].apply(lambda x: 'ncRNA' if x == 'PDB' else x)\n",
    "df[df['family'].isin(valid_labels)]['family'].value_counts()"
   ]
  },
  {
   "cell_type": "markdown",
   "metadata": {},
   "source": [
    "### bpRNA/unlabeled"
   ]
  },
  {
   "cell_type": "code",
   "execution_count": null,
   "metadata": {},
   "outputs": [
    {
     "data": {
      "text/plain": [
       "64153"
      ]
     },
     "execution_count": 47,
     "metadata": {},
     "output_type": "execute_result"
    }
   ],
   "source": [
    "df_un = df[~df['family'].isin(valid_labels)].copy()\n",
    "df_un = df_un[['sequence']].reset_index().rename(columns={'index': 'reference'})\n",
    "len(df_un)"
   ]
  },
  {
   "cell_type": "code",
   "execution_count": null,
   "metadata": {},
   "outputs": [
    {
     "data": {
      "text/html": [
       "<div>\n",
       "<style scoped>\n",
       "    .dataframe tbody tr th:only-of-type {\n",
       "        vertical-align: middle;\n",
       "    }\n",
       "\n",
       "    .dataframe tbody tr th {\n",
       "        vertical-align: top;\n",
       "    }\n",
       "\n",
       "    .dataframe thead th {\n",
       "        text-align: right;\n",
       "    }\n",
       "</style>\n",
       "<table border=\"1\" class=\"dataframe\">\n",
       "  <thead>\n",
       "    <tr style=\"text-align: right;\">\n",
       "      <th></th>\n",
       "      <th>reference</th>\n",
       "      <th>sequence</th>\n",
       "    </tr>\n",
       "  </thead>\n",
       "  <tbody>\n",
       "    <tr>\n",
       "      <th>0</th>\n",
       "      <td>bpRNA_CRW_9331</td>\n",
       "      <td>CGUGUCGUGAGAUGUUGGGUUAAGUCCCGCAACGAGCGCAACCCUU...</td>\n",
       "    </tr>\n",
       "    <tr>\n",
       "      <th>1</th>\n",
       "      <td>bpRNA_CRW_16343</td>\n",
       "      <td>CCUGACGACCAUAGCGAGCGGGUCCCACCUGACCCCAUGCCGAACU...</td>\n",
       "    </tr>\n",
       "    <tr>\n",
       "      <th>2</th>\n",
       "      <td>bpRNA_CRW_14876</td>\n",
       "      <td>GAUGAACGCUGGCGGCGUGCCUAAUACAUGCAAGUCGAGCGAACAG...</td>\n",
       "    </tr>\n",
       "    <tr>\n",
       "      <th>3</th>\n",
       "      <td>bpRNA_CRW_50032</td>\n",
       "      <td>GUCAGGAUAGCUCAGUUGGUAGAGCAGAGGACUGAAAAUC</td>\n",
       "    </tr>\n",
       "    <tr>\n",
       "      <th>4</th>\n",
       "      <td>bpRNA_CRW_40524</td>\n",
       "      <td>AGGGCCUAUAGCUCAGUUGGUUAGAGCACACGCCUGAUAAGCGUGA...</td>\n",
       "    </tr>\n",
       "    <tr>\n",
       "      <th>...</th>\n",
       "      <td>...</td>\n",
       "      <td>...</td>\n",
       "    </tr>\n",
       "    <tr>\n",
       "      <th>64148</th>\n",
       "      <td>bpRNA_CRW_43706</td>\n",
       "      <td>GGGUCUGUAGCUCAGUCGGUUAGAGCAGGGGACUCAUAAUCCCUUG...</td>\n",
       "    </tr>\n",
       "    <tr>\n",
       "      <th>64149</th>\n",
       "      <td>bpRNA_CRW_15161</td>\n",
       "      <td>GAUCCUGGCUCAGGACGAACGCUGGCGGCGUGCCUAAUACAUGCAA...</td>\n",
       "    </tr>\n",
       "    <tr>\n",
       "      <th>64150</th>\n",
       "      <td>bpRNA_RFAM_19577</td>\n",
       "      <td>UGUGCAUCGUGGUCAAAUGCUCAGACUCCUGUGGUGGCUGCUCAUG...</td>\n",
       "    </tr>\n",
       "    <tr>\n",
       "      <th>64151</th>\n",
       "      <td>bpRNA_RFAM_23681</td>\n",
       "      <td>CCCAAAGGUUCCCUCAGGCUGAAUGGAAACCAGCCAGAGAGUGUAA...</td>\n",
       "    </tr>\n",
       "    <tr>\n",
       "      <th>64152</th>\n",
       "      <td>bpRNA_RFAM_33397</td>\n",
       "      <td>UUCUGAUCUGUCGAUUCGACUCCCUCCCGUCGGCCCUGAGACACCU...</td>\n",
       "    </tr>\n",
       "  </tbody>\n",
       "</table>\n",
       "<p>64153 rows × 2 columns</p>\n",
       "</div>"
      ],
      "text/plain": [
       "              reference                                           sequence\n",
       "0        bpRNA_CRW_9331  CGUGUCGUGAGAUGUUGGGUUAAGUCCCGCAACGAGCGCAACCCUU...\n",
       "1       bpRNA_CRW_16343  CCUGACGACCAUAGCGAGCGGGUCCCACCUGACCCCAUGCCGAACU...\n",
       "2       bpRNA_CRW_14876  GAUGAACGCUGGCGGCGUGCCUAAUACAUGCAAGUCGAGCGAACAG...\n",
       "3       bpRNA_CRW_50032           GUCAGGAUAGCUCAGUUGGUAGAGCAGAGGACUGAAAAUC\n",
       "4       bpRNA_CRW_40524  AGGGCCUAUAGCUCAGUUGGUUAGAGCACACGCCUGAUAAGCGUGA...\n",
       "...                 ...                                                ...\n",
       "64148   bpRNA_CRW_43706  GGGUCUGUAGCUCAGUCGGUUAGAGCAGGGGACUCAUAAUCCCUUG...\n",
       "64149   bpRNA_CRW_15161  GAUCCUGGCUCAGGACGAACGCUGGCGGCGUGCCUAAUACAUGCAA...\n",
       "64150  bpRNA_RFAM_19577  UGUGCAUCGUGGUCAAAUGCUCAGACUCCUGUGGUGGCUGCUCAUG...\n",
       "64151  bpRNA_RFAM_23681  CCCAAAGGUUCCCUCAGGCUGAAUGGAAACCAGCCAGAGAGUGUAA...\n",
       "64152  bpRNA_RFAM_33397  UUCUGAUCUGUCGAUUCGACUCCCUCCCGUCGGCCCUGAGACACCU...\n",
       "\n",
       "[64153 rows x 2 columns]"
      ]
     },
     "execution_count": 48,
     "metadata": {},
     "output_type": "execute_result"
    }
   ],
   "source": [
    "df_un"
   ]
  },
  {
   "cell_type": "markdown",
   "metadata": {},
   "source": [
    "### Add labels from external databases through sequence matching\n",
    "\n",
    "#### Rfam fasta files"
   ]
  },
  {
   "cell_type": "code",
   "execution_count": null,
   "metadata": {},
   "outputs": [],
   "source": [
    "rfam = pd.read_csv('/Users/yvesmartin/src/supermodels-data/rfam/data/rfam.csv')\n",
    "rfam = rfam[['ref_desc', 'sequence', 'family_name', 'full_family_name', 'clan_name']]\n",
    "rfam['sequence'] = rfam['sequence'].apply(lambda x: x.replace('T', 'U'))"
   ]
  },
  {
   "cell_type": "code",
   "execution_count": null,
   "metadata": {},
   "outputs": [
    {
     "data": {
      "text/html": [
       "<div>\n",
       "<style scoped>\n",
       "    .dataframe tbody tr th:only-of-type {\n",
       "        vertical-align: middle;\n",
       "    }\n",
       "\n",
       "    .dataframe tbody tr th {\n",
       "        vertical-align: top;\n",
       "    }\n",
       "\n",
       "    .dataframe thead th {\n",
       "        text-align: right;\n",
       "    }\n",
       "</style>\n",
       "<table border=\"1\" class=\"dataframe\">\n",
       "  <thead>\n",
       "    <tr style=\"text-align: right;\">\n",
       "      <th></th>\n",
       "      <th>reference</th>\n",
       "      <th>sequence</th>\n",
       "      <th>ref_desc</th>\n",
       "      <th>family_name</th>\n",
       "      <th>full_family_name</th>\n",
       "      <th>clan_name</th>\n",
       "    </tr>\n",
       "  </thead>\n",
       "  <tbody>\n",
       "    <tr>\n",
       "      <th>182156</th>\n",
       "      <td>bpRNA_RFAM_23070</td>\n",
       "      <td>CCUUCAUUGGUUUACCUCAAACCUGUUGUGAUGUAAGUUAAUGAAG...</td>\n",
       "      <td>Streptococcus sanguinis SK36, complete genome.</td>\n",
       "      <td>23S-methyl</td>\n",
       "      <td>23S methyl RNA motif</td>\n",
       "      <td>NaN</td>\n",
       "    </tr>\n",
       "    <tr>\n",
       "      <th>184249</th>\n",
       "      <td>bpRNA_RFAM_23072</td>\n",
       "      <td>CGUUUGGCGGUCGAUAUCAGCGUUUAACUGUUAGCGGCAGACAAGU...</td>\n",
       "      <td>Lactobacillus brevis ATCC 367, complete genome.</td>\n",
       "      <td>23S-methyl</td>\n",
       "      <td>23S methyl RNA motif</td>\n",
       "      <td>NaN</td>\n",
       "    </tr>\n",
       "    <tr>\n",
       "      <th>126285</th>\n",
       "      <td>bpRNA_RFAM_23065</td>\n",
       "      <td>CGUUUGGUAGUUAACAUCGACAUGUCGUUGGUGACUACCGAGUUGU...</td>\n",
       "      <td>Lactobacillus plantarum WCFS1 complete genome</td>\n",
       "      <td>23S-methyl</td>\n",
       "      <td>23S methyl RNA motif</td>\n",
       "      <td>NaN</td>\n",
       "    </tr>\n",
       "    <tr>\n",
       "      <th>34815</th>\n",
       "      <td>bpRNA_RFAM_23059</td>\n",
       "      <td>UUUUCAUUGGUUUUUAUCAGGUUCCUGUUCUGAUAAAAGUUAGUGA...</td>\n",
       "      <td>Enterococcus villorum ATCC 700913 genomic scaf...</td>\n",
       "      <td>23S-methyl</td>\n",
       "      <td>23S methyl RNA motif</td>\n",
       "      <td>NaN</td>\n",
       "    </tr>\n",
       "    <tr>\n",
       "      <th>206677</th>\n",
       "      <td>bpRNA_RFAM_23077</td>\n",
       "      <td>UUUUCCCUAACUUUUAUCAGAAUACUUUUUGAUAAAAGCUAGUGAU...</td>\n",
       "      <td>Lactobacillus sakei strain 23K complete genome.</td>\n",
       "      <td>23S-methyl</td>\n",
       "      <td>23S methyl RNA motif</td>\n",
       "      <td>NaN</td>\n",
       "    </tr>\n",
       "    <tr>\n",
       "      <th>...</th>\n",
       "      <td>...</td>\n",
       "      <td>...</td>\n",
       "      <td>...</td>\n",
       "      <td>...</td>\n",
       "      <td>...</td>\n",
       "      <td>...</td>\n",
       "    </tr>\n",
       "    <tr>\n",
       "      <th>223807</th>\n",
       "      <td>bpRNA_CRW_54700</td>\n",
       "      <td>AAAGACUCAGUCCUAACCUUACUAUUGGUUUUUGCUAGACAUAUAC...</td>\n",
       "      <td>NaN</td>\n",
       "      <td>NaN</td>\n",
       "      <td>NaN</td>\n",
       "      <td>NaN</td>\n",
       "    </tr>\n",
       "    <tr>\n",
       "      <th>223808</th>\n",
       "      <td>bpRNA_CRW_43706</td>\n",
       "      <td>GGGUCUGUAGCUCAGUCGGUUAGAGCAGGGGACUCAUAAUCCCUUG...</td>\n",
       "      <td>NaN</td>\n",
       "      <td>NaN</td>\n",
       "      <td>NaN</td>\n",
       "      <td>NaN</td>\n",
       "    </tr>\n",
       "    <tr>\n",
       "      <th>223809</th>\n",
       "      <td>bpRNA_CRW_15161</td>\n",
       "      <td>GAUCCUGGCUCAGGACGAACGCUGGCGGCGUGCCUAAUACAUGCAA...</td>\n",
       "      <td>NaN</td>\n",
       "      <td>NaN</td>\n",
       "      <td>NaN</td>\n",
       "      <td>NaN</td>\n",
       "    </tr>\n",
       "    <tr>\n",
       "      <th>223830</th>\n",
       "      <td>bpRNA_RFAM_23681</td>\n",
       "      <td>CCCAAAGGUUCCCUCAGGCUGAAUGGAAACCAGCCAGAGAGUGUAA...</td>\n",
       "      <td>NaN</td>\n",
       "      <td>NaN</td>\n",
       "      <td>NaN</td>\n",
       "      <td>NaN</td>\n",
       "    </tr>\n",
       "    <tr>\n",
       "      <th>223831</th>\n",
       "      <td>bpRNA_RFAM_33397</td>\n",
       "      <td>UUCUGAUCUGUCGAUUCGACUCCCUCCCGUCGGCCCUGAGACACCU...</td>\n",
       "      <td>NaN</td>\n",
       "      <td>NaN</td>\n",
       "      <td>NaN</td>\n",
       "      <td>NaN</td>\n",
       "    </tr>\n",
       "  </tbody>\n",
       "</table>\n",
       "<p>64153 rows × 6 columns</p>\n",
       "</div>"
      ],
      "text/plain": [
       "               reference                                           sequence  \\\n",
       "182156  bpRNA_RFAM_23070  CCUUCAUUGGUUUACCUCAAACCUGUUGUGAUGUAAGUUAAUGAAG...   \n",
       "184249  bpRNA_RFAM_23072  CGUUUGGCGGUCGAUAUCAGCGUUUAACUGUUAGCGGCAGACAAGU...   \n",
       "126285  bpRNA_RFAM_23065  CGUUUGGUAGUUAACAUCGACAUGUCGUUGGUGACUACCGAGUUGU...   \n",
       "34815   bpRNA_RFAM_23059  UUUUCAUUGGUUUUUAUCAGGUUCCUGUUCUGAUAAAAGUUAGUGA...   \n",
       "206677  bpRNA_RFAM_23077  UUUUCCCUAACUUUUAUCAGAAUACUUUUUGAUAAAAGCUAGUGAU...   \n",
       "...                  ...                                                ...   \n",
       "223807   bpRNA_CRW_54700  AAAGACUCAGUCCUAACCUUACUAUUGGUUUUUGCUAGACAUAUAC...   \n",
       "223808   bpRNA_CRW_43706  GGGUCUGUAGCUCAGUCGGUUAGAGCAGGGGACUCAUAAUCCCUUG...   \n",
       "223809   bpRNA_CRW_15161  GAUCCUGGCUCAGGACGAACGCUGGCGGCGUGCCUAAUACAUGCAA...   \n",
       "223830  bpRNA_RFAM_23681  CCCAAAGGUUCCCUCAGGCUGAAUGGAAACCAGCCAGAGAGUGUAA...   \n",
       "223831  bpRNA_RFAM_33397  UUCUGAUCUGUCGAUUCGACUCCCUCCCGUCGGCCCUGAGACACCU...   \n",
       "\n",
       "                                                 ref_desc family_name  \\\n",
       "182156     Streptococcus sanguinis SK36, complete genome.  23S-methyl   \n",
       "184249    Lactobacillus brevis ATCC 367, complete genome.  23S-methyl   \n",
       "126285      Lactobacillus plantarum WCFS1 complete genome  23S-methyl   \n",
       "34815   Enterococcus villorum ATCC 700913 genomic scaf...  23S-methyl   \n",
       "206677    Lactobacillus sakei strain 23K complete genome.  23S-methyl   \n",
       "...                                                   ...         ...   \n",
       "223807                                                NaN         NaN   \n",
       "223808                                                NaN         NaN   \n",
       "223809                                                NaN         NaN   \n",
       "223830                                                NaN         NaN   \n",
       "223831                                                NaN         NaN   \n",
       "\n",
       "            full_family_name clan_name  \n",
       "182156  23S methyl RNA motif       NaN  \n",
       "184249  23S methyl RNA motif       NaN  \n",
       "126285  23S methyl RNA motif       NaN  \n",
       "34815   23S methyl RNA motif       NaN  \n",
       "206677  23S methyl RNA motif       NaN  \n",
       "...                      ...       ...  \n",
       "223807                   NaN       NaN  \n",
       "223808                   NaN       NaN  \n",
       "223809                   NaN       NaN  \n",
       "223830                   NaN       NaN  \n",
       "223831                   NaN       NaN  \n",
       "\n",
       "[64153 rows x 6 columns]"
      ]
     },
     "execution_count": 50,
     "metadata": {},
     "output_type": "execute_result"
    }
   ],
   "source": [
    "df = pd.merge(df_un, rfam, on='sequence', how='left')\n",
    "df.sort_values(by='family_name', inplace=True, na_position='last')\n",
    "df.drop_duplicates(subset=['reference'], inplace=True, keep='first')\n",
    "df"
   ]
  },
  {
   "cell_type": "markdown",
   "metadata": {},
   "source": [
    "#### CRW "
   ]
  },
  {
   "cell_type": "code",
   "execution_count": null,
   "metadata": {},
   "outputs": [
    {
     "data": {
      "text/plain": [
       "family_name\n",
       "tRNA              3620\n",
       "5S_rRNA            848\n",
       "RNaseP_bact_a      450\n",
       "SAM                433\n",
       "tmRNA              413\n",
       "                  ... \n",
       "CbSR2                1\n",
       "CbSR14               1\n",
       "SBWMV2_UPD-PKl       1\n",
       "CbSR1                1\n",
       "TB10Cs2H2            1\n",
       "Name: count, Length: 1604, dtype: int64"
      ]
     },
     "execution_count": 51,
     "metadata": {},
     "output_type": "execute_result"
    }
   ],
   "source": [
    "data = pd.DataFrame.from_dict(json.load(open('../CRW/crw.json')), orient='index').reset_index().rename(columns={'index': 'reference', 'family':'family_name'})[['sequence', 'family_name']]\n",
    "df = pd.merge(df, data, on='sequence', how='left')\n",
    "df['family_name'] = df.apply(lambda x: x['family_name_x'] if pd.isnull(x['family_name_y']) else x['family_name_y'], axis=1)\n",
    "df.drop(['family_name_x', 'family_name_y'], axis=1, inplace=True)\n",
    "df['family_name'].value_counts()"
   ]
  },
  {
   "cell_type": "code",
   "execution_count": null,
   "metadata": {},
   "outputs": [],
   "source": [
    "old_len = len(df)"
   ]
  },
  {
   "cell_type": "code",
   "execution_count": null,
   "metadata": {},
   "outputs": [
    {
     "ename": "NameError",
     "evalue": "name 'df' is not defined",
     "output_type": "error",
     "traceback": [
      "\u001b[0;31m---------------------------------------------------------------------------\u001b[0m",
      "\u001b[0;31mNameError\u001b[0m                                 Traceback (most recent call last)",
      "Cell \u001b[0;32mIn[1], line 75\u001b[0m\n\u001b[1;32m     72\u001b[0m                 \u001b[38;5;28;01mreturn\u001b[39;00m family     \n\u001b[1;32m     73\u001b[0m     \u001b[38;5;28;01mreturn\u001b[39;00m \u001b[38;5;124m'\u001b[39m\u001b[38;5;124mUNCLASSIFIED\u001b[39m\u001b[38;5;124m'\u001b[39m\n\u001b[0;32m---> 75\u001b[0m df_temp \u001b[38;5;241m=\u001b[39m \u001b[43mdf\u001b[49m\u001b[38;5;241m.\u001b[39mcopy()\n\u001b[1;32m     76\u001b[0m df_temp[\u001b[38;5;124m'\u001b[39m\u001b[38;5;124mfamily\u001b[39m\u001b[38;5;124m'\u001b[39m] \u001b[38;5;241m=\u001b[39m df\u001b[38;5;241m.\u001b[39mapply(clean_family, axis\u001b[38;5;241m=\u001b[39m\u001b[38;5;241m1\u001b[39m)\n\u001b[1;32m     77\u001b[0m df_temp[\u001b[38;5;124m'\u001b[39m\u001b[38;5;124mlength\u001b[39m\u001b[38;5;124m'\u001b[39m] \u001b[38;5;241m=\u001b[39m df_temp[\u001b[38;5;124m'\u001b[39m\u001b[38;5;124msequence\u001b[39m\u001b[38;5;124m'\u001b[39m]\u001b[38;5;241m.\u001b[39mapply(\u001b[38;5;28mlen\u001b[39m)\n",
      "\u001b[0;31mNameError\u001b[0m: name 'df' is not defined"
     ]
    }
   ],
   "source": [
    "translation_family_name = {\n",
    "    'sRNA': ['sRNA', 'rli', 'rivX', 'CC', 'STnc', 'sau-', 'Atu_', 'GlsR', '6C', 'ArcZ', 'Bsr', 'C0', 'CyaR_RyeE', 'whalefall-1', 'tpke11', 'tfoR',\\\n",
    "        't44', 'sro', 'FsrA', 'sraA', 'ryfA',                   ],\n",
    "    'tRNA': ['tRNA', 'TLS-PK'],\n",
    "    'rRNA': ['rRNA', '5s', '5S_rRNA', '16s', '16S_rRNA', '23s', '23S_rRNA', 'RF_site', 'ribozyme'],\n",
    "    'ncRNA': ['ncRNA', 'rdlD', 'NRON', 'CopA', 'DicF', 'uc_338', 'Dicty_Class_I_RNA', 'DsrA', 'FourU', 'srg1', 'sok', 'symR', 'sar', 'rncO', \\\n",
    "            'rydB'                              ],\n",
    "    'group_I_intron': ['grp1'],\n",
    "    'group_II_intron': ['grp2', 'group-II'],\n",
    "    'SRP': ['srp', 'SRP'],\n",
    "    'RNaseP': ['RNaseP'],\n",
    "    'crRNA': ['CRISPR'],\n",
    "    'RNP': ['HACA'],\n",
    "    'snRNA': ['snRNA', 'sn', 'Gl_U', 'SNORA', 'U1', 'U7', 'U3', 'VA', 'SCARNA'],\n",
    "    'microRNA': ['mir-', 'MIR', 'lsy-6'],\n",
    "    'virus': ['virus', 'CuYV_BPYV', 'SPCSV', 'HAV', 'BMV3_UPD', 'Rubella_3', 'HIV', 'HBV'],\n",
    "    'tmRNA': ['tmRNA'],\n",
    "    'mRNA': ['SAM', 'mini-ykkC', 'FIE3'],\n",
    "    'CRE': ['sucA', 'Antizyme_FSE', 'CAESAR', 'ylbH', 'yjdF', 'ydaO-yuaA', 'ybhL', 'wcaG', 'G-CSF_SLDE', 'GABA3', 'GAIT', 'speF'],\n",
    "    'other': ['IMES-3', 'isrK', 'isrL', 'DapZ'],\n",
    "    'telomerase': ['tp2'],\n",
    "}\n",
    "\n",
    "translation_clan_name = {\n",
    "    'snRNA': ['7SK'],\n",
    "    'ncRNA': ['Csr_Rsm_clan', 'FinP-traJ','Glm', 'suhB'],\n",
    "    'sRNA': ['RyeA-RyeB', 'LhrC'],\n",
    "    'RNaseP': ['RNaseP'],\n",
    "    'mRNA': ['SL'],\n",
    "}\n",
    "\n",
    "translation_family_description = {\n",
    "    'mRNA': ['riboswitch', 'UTR', 'mRNA', 'promoter', ],\n",
    "    'snRNA': ['spliceosomal', 'Small nucleolar', 'snoRNA', 'Small Nucleolar RNA'],\n",
    "    'sRNA': ['sRNA', 'small RNA', 'AniS', 'Anti-Q RNA', 'Hfq binding'],\n",
    "    'virus': ['virus'],\n",
    "    'microRNA': ['microRNA'],\n",
    "    'tRNA': ['tRNA'],\n",
    "    'tmRNA': ['tmRNA'],\n",
    "    'crRNA': ['CRISPR'],\n",
    "    'telomerase': ['telomerase'],\n",
    "    '23S_rRNA': ['23S'],\n",
    "    '6S_rRNA': ['6S'],\n",
    "    'motif': ['ALIL pseudoknot', 'Hammerhead', 'motif', 'Stem loopII regulatory element in POLB'],\n",
    "    'CRE': ['Alpha operon ribosome binding site', 'leader'],\n",
    "    'rRNA': ['rRNA', 'Ribosomal', 'ribosomal', 'ribozyme'],\n",
    "    'ncRNA': ['Y RNA']\n",
    "}\n",
    "\n",
    "def clean_family(row):\n",
    "    x = row['clan_name']\n",
    "    if not pd.isna(x):\n",
    "        for family, v in translation_clan_name.items():\n",
    "            for vv in v:\n",
    "                if vv in x:\n",
    "                    return family\n",
    "\n",
    "    x = row['family_name']\n",
    "    if pd.isna(x):\n",
    "        return np.nan\n",
    "    for family, v in translation_family_name.items():\n",
    "        for vv in v:\n",
    "            if vv in x:\n",
    "                return family\n",
    "            \n",
    "    full_family_name = row['full_family_name']\n",
    "    if pd.isna(full_family_name):\n",
    "        return np.nan\n",
    "    for family, keywords in translation_family_description.items():\n",
    "        for kw in keywords:\n",
    "            if kw in full_family_name:\n",
    "                return family     \n",
    "    return 'UNCLASSIFIED'\n",
    "\n",
    "df_temp = df.copy()\n",
    "df_temp['family'] = df.apply(clean_family, axis=1)\n",
    "df_temp['length'] = df_temp['sequence'].apply(len)\n",
    "print(f\"You removed {old_len - len(df_temp[df_temp['family'] == 'UNCLASSIFIED'])} sequences!\")\n",
    "print(\"{} sequences without family\".format(old_len:=len(df_temp[df_temp['family'] == 'UNCLASSIFIED'])))\n",
    "print(df_temp[df_temp['family'] == 'UNCLASSIFIED'][['full_family_name', 'family_name']].dropna())\n",
    "print(df_temp.value_counts('family'))"
   ]
  }
 ],
 "metadata": {
  "kernelspec": {
   "display_name": "Python 3",
   "language": "python",
   "name": "python3"
  },
  "language_info": {
   "codemirror_mode": {
    "name": "ipython",
    "version": 3
   },
   "file_extension": ".py",
   "mimetype": "text/x-python",
   "name": "python",
   "nbconvert_exporter": "python",
   "pygments_lexer": "ipython3",
   "version": "3.11.6"
  }
 },
 "nbformat": 4,
 "nbformat_minor": 2
}
