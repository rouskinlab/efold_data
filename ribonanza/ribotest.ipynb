{
 "cells": [
  {
   "cell_type": "code",
   "execution_count": 1,
   "metadata": {},
   "outputs": [],
   "source": [
    "import pandas as pd\n",
    "\n",
    "df = pd.read_csv('/Users/yvesmartin/data/ribonanza/test_sequences.csv')"
   ]
  },
  {
   "cell_type": "code",
   "execution_count": 3,
   "metadata": {},
   "outputs": [],
   "source": [
    "import json\n",
    "\n",
    "bpp = json.load(open('data/bpp.json'))"
   ]
  },
  {
   "cell_type": "code",
   "execution_count": 4,
   "metadata": {},
   "outputs": [],
   "source": [
    "bpp = pd.DataFrame(bpp).T"
   ]
  },
  {
   "cell_type": "code",
   "execution_count": 5,
   "metadata": {},
   "outputs": [
    {
     "data": {
      "text/html": [
       "<div>\n",
       "<style scoped>\n",
       "    .dataframe tbody tr th:only-of-type {\n",
       "        vertical-align: middle;\n",
       "    }\n",
       "\n",
       "    .dataframe tbody tr th {\n",
       "        vertical-align: top;\n",
       "    }\n",
       "\n",
       "    .dataframe thead th {\n",
       "        text-align: right;\n",
       "    }\n",
       "</style>\n",
       "<table border=\"1\" class=\"dataframe\">\n",
       "  <thead>\n",
       "    <tr style=\"text-align: right;\">\n",
       "      <th></th>\n",
       "      <th>structure</th>\n",
       "    </tr>\n",
       "  </thead>\n",
       "  <tbody>\n",
       "    <tr>\n",
       "      <th>0000036aef5c</th>\n",
       "      <td>[[5, 21], [6, 20], [7, 19], [8, 18], [9, 17], ...</td>\n",
       "    </tr>\n",
       "    <tr>\n",
       "      <th>00001f736234</th>\n",
       "      <td>[[5, 21], [6, 20], [7, 19], [8, 18], [9, 17], ...</td>\n",
       "    </tr>\n",
       "    <tr>\n",
       "      <th>00002535a3cf</th>\n",
       "      <td>[[5, 21], [6, 20], [7, 19], [8, 18], [9, 17], ...</td>\n",
       "    </tr>\n",
       "    <tr>\n",
       "      <th>00002a5f37f3</th>\n",
       "      <td>[[1, 149], [2, 148], [3, 147], [6, 20], [7, 19...</td>\n",
       "    </tr>\n",
       "    <tr>\n",
       "      <th>00002c821637</th>\n",
       "      <td>[[5, 21], [6, 20], [7, 19], [8, 18], [9, 17], ...</td>\n",
       "    </tr>\n",
       "    <tr>\n",
       "      <th>...</th>\n",
       "      <td>...</td>\n",
       "    </tr>\n",
       "    <tr>\n",
       "      <th>ffffde700333</th>\n",
       "      <td>[[5, 21], [6, 20], [7, 19], [8, 18], [9, 17], ...</td>\n",
       "    </tr>\n",
       "    <tr>\n",
       "      <th>ffffe6075b10</th>\n",
       "      <td>[[5, 21], [6, 20], [7, 19], [8, 18], [9, 17], ...</td>\n",
       "    </tr>\n",
       "    <tr>\n",
       "      <th>ffffea5adcdc</th>\n",
       "      <td>[[5, 21], [6, 20], [7, 19], [8, 18], [9, 17], ...</td>\n",
       "    </tr>\n",
       "    <tr>\n",
       "      <th>fffff1a0b9c7</th>\n",
       "      <td>[[5, 21], [6, 20], [7, 19], [8, 18], [9, 17], ...</td>\n",
       "    </tr>\n",
       "    <tr>\n",
       "      <th>fffff856246f</th>\n",
       "      <td>[[5, 21], [6, 20], [7, 19], [8, 18], [9, 17], ...</td>\n",
       "    </tr>\n",
       "  </tbody>\n",
       "</table>\n",
       "<p>2112718 rows × 1 columns</p>\n",
       "</div>"
      ],
      "text/plain": [
       "                                                      structure\n",
       "0000036aef5c  [[5, 21], [6, 20], [7, 19], [8, 18], [9, 17], ...\n",
       "00001f736234  [[5, 21], [6, 20], [7, 19], [8, 18], [9, 17], ...\n",
       "00002535a3cf  [[5, 21], [6, 20], [7, 19], [8, 18], [9, 17], ...\n",
       "00002a5f37f3  [[1, 149], [2, 148], [3, 147], [6, 20], [7, 19...\n",
       "00002c821637  [[5, 21], [6, 20], [7, 19], [8, 18], [9, 17], ...\n",
       "...                                                         ...\n",
       "ffffde700333  [[5, 21], [6, 20], [7, 19], [8, 18], [9, 17], ...\n",
       "ffffe6075b10  [[5, 21], [6, 20], [7, 19], [8, 18], [9, 17], ...\n",
       "ffffea5adcdc  [[5, 21], [6, 20], [7, 19], [8, 18], [9, 17], ...\n",
       "fffff1a0b9c7  [[5, 21], [6, 20], [7, 19], [8, 18], [9, 17], ...\n",
       "fffff856246f  [[5, 21], [6, 20], [7, 19], [8, 18], [9, 17], ...\n",
       "\n",
       "[2112718 rows x 1 columns]"
      ]
     },
     "execution_count": 5,
     "metadata": {},
     "output_type": "execute_result"
    }
   ],
   "source": [
    "bpp"
   ]
  },
  {
   "cell_type": "code",
   "execution_count": 7,
   "metadata": {},
   "outputs": [
    {
     "data": {
      "text/plain": [
       "sequence_id\n",
       "eee73c1836bc    GGGAACGACUCGAGUAGAGUCGAAAAUUUCCUUCCAAAUCCUGAGG...\n",
       "d2a929af7a97    GGGAACGACUCGAGUAGAGUCGAAAAUGUAAUCAGAUUGCUUCUCC...\n",
       "d39a4425ff45    GGGAACGACUCGAGUAGAGUCGAAAAAACACAUGAAUUUGAGGGUU...\n",
       "1fc41e92d553    GGGAACGACUCGAGUAGAGUCGAAAAUCAGAGCUGGCAAAUGGAUG...\n",
       "1d0826fb892f    GGGAACGACUCGAGUAGAGUCGAAAAUUUGGUAUUUGAUGCAUUAA...\n",
       "                                      ...                        \n",
       "3cf515909422    GGGAACGACUCGAGUAGAGUCGAAAAGGAGGGAAAAGUUAUCAGGC...\n",
       "3606852d6c2b    GGGAACGACUCGAGUAGAGUCGAAAAGGAGGGAAAAGUUAUCAGGC...\n",
       "49b9448fd455    GGGAACGACUCGAGUAGAGUCGAAAAGGAGGGAAAAGUUAUCAGGC...\n",
       "eb9bd6372550    GGGAACGACUCGAGUAGAGUCGAAAAGGAGGGAAAAGUUAUCAGGC...\n",
       "0dd65209259b    GGGAACGACUCGAGUAGAGUCGAAAAGGAGGGAAAAGUUAUCAGGC...\n",
       "Name: sequence, Length: 1343823, dtype: object"
      ]
     },
     "execution_count": 7,
     "metadata": {},
     "output_type": "execute_result"
    }
   ],
   "source": [
    "df.set_index('sequence_id', inplace=True)\n",
    "df = df['sequence']\n",
    "df"
   ]
  },
  {
   "cell_type": "code",
   "execution_count": 10,
   "metadata": {},
   "outputs": [],
   "source": [
    "data = pd.merge(\n",
    "    df,\n",
    "    bpp,\n",
    "    left_index=True,\n",
    "    right_index=True,\n",
    "    how='inner'\n",
    ")"
   ]
  },
  {
   "cell_type": "code",
   "execution_count": 13,
   "metadata": {},
   "outputs": [],
   "source": [
    "from rouskinhf import dump_json\n",
    "\n",
    "dump_json(data, './data/ribo-test.json')"
   ]
  },
  {
   "cell_type": "code",
   "execution_count": 15,
   "metadata": {},
   "outputs": [
    {
     "data": {
      "application/vnd.jupyter.widget-view+json": {
       "model_id": "d94b4dd1b3474263ad93da1559bbed17",
       "version_major": 2,
       "version_minor": 0
      },
      "text/plain": [
       "ribo-test.json:   0%|          | 0.00/837M [00:00<?, ?B/s]"
      ]
     },
     "metadata": {},
     "output_type": "display_data"
    }
   ],
   "source": [
    "from rouskinhf import upload_dataset\n",
    "import envbash\n",
    "envbash.load.load_envbash('../.env')\n",
    "\n",
    "upload_dataset(\n",
    "    datapath='./data/ribo-test.json',\n",
    "    exist_ok=True,\n",
    ")\n",
    "\n"
   ]
  }
 ],
 "metadata": {
  "kernelspec": {
   "display_name": "Python 3",
   "language": "python",
   "name": "python3"
  },
  "language_info": {
   "codemirror_mode": {
    "name": "ipython",
    "version": 3
   },
   "file_extension": ".py",
   "mimetype": "text/x-python",
   "name": "python",
   "nbconvert_exporter": "python",
   "pygments_lexer": "ipython3",
   "version": "3.11.6"
  }
 },
 "nbformat": 4,
 "nbformat_minor": 2
}
