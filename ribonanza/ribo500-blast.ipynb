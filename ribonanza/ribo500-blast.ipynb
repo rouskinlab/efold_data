{
 "cells": [
  {
   "cell_type": "code",
   "execution_count": null,
   "metadata": {},
   "outputs": [],
   "source": [
    "import pandas as pd\n",
    "import json\n",
    "import numpy as np\n",
    "import rouskinhf"
   ]
  },
  {
   "cell_type": "markdown",
   "metadata": {},
   "source": [
    "## Make a blast database"
   ]
  },
  {
   "cell_type": "code",
   "execution_count": null,
   "metadata": {},
   "outputs": [],
   "source": [
    "def json_to_fasta(data, path):\n",
    "    with open(path, 'w') as f:\n",
    "        for ref, attr in data.items():\n",
    "            f.write('>' + ref + '\\n')\n",
    "            f.write('N' * 26 + attr['sequence'][26:-21] + 'N' * 21 + '\\n')\n",
    "\n",
    "data = rouskinhf.get_dataset('ribo500')\n",
    "json_to_fasta(data, 'db/ribo500.fasta')"
   ]
  },
  {
   "cell_type": "code",
   "execution_count": null,
   "metadata": {},
   "outputs": [],
   "source": [
    "!makeblastdb -in db/ribo500.fasta -dbtype nucl -out db/ribo500"
   ]
  },
  {
   "cell_type": "markdown",
   "metadata": {},
   "source": [
    "## Run BLAST on ribo500 vs itself"
   ]
  },
  {
   "cell_type": "code",
   "execution_count": null,
   "metadata": {},
   "outputs": [],
   "source": [
    "!blastn -db db/ribo500 -query db/ribo500.fasta -outfmt 6 -out blast_out/ribo500.csv"
   ]
  },
  {
   "cell_type": "markdown",
   "metadata": {},
   "source": [
    "## Intepret the results\n",
    " \n",
    "- keep the smallest subset of the dataset so that each element of the dataset is in the subset or has a match in the subset"
   ]
  },
  {
   "cell_type": "code",
   "execution_count": null,
   "metadata": {},
   "outputs": [],
   "source": [
    "import pandas as pd\n",
    "from tqdm import tqdm\n",
    "\n",
    "df = pd.read_csv('blast_out/ribo500.csv', sep='\\t', header=None)\n",
    "df.columns = ['qseqid', 'sseqid', 'pident', 'length', 'mismatch', 'gapopen', 'qstart', 'qend',\n",
    "              'sstart', 'send', 'evalue', 'bitscore']\n",
    "\n",
    "# remove self matches\n",
    "df = df[df['qseqid'] != df['sseqid']]\n",
    "\n",
    "# Only keep matches with 80% identity on 80% of the minimal length\n",
    "# df = df[(df['pident'] >= 80)&(df['length'] >= 112)]\n",
    "\n",
    "df"
   ]
  },
  {
   "cell_type": "code",
   "execution_count": null,
   "metadata": {},
   "outputs": [],
   "source": [
    "# keep the list of matches for each reference\n",
    "df = df.groupby('qseqid')['sseqid'].apply(list).reset_index()\n",
    "\n",
    "# Add reads to the dataset\n",
    "df_reads = pd.read_csv('~/data/ribonanza/train_data.csv')[['sequence_id', 'reads']]\n",
    "df_reads.drop_duplicates(inplace=True)\n",
    "df = pd.merge(df, df_reads, left_on='qseqid', right_on='sequence_id', how='inner')\n",
    "df.drop_duplicates('qseqid', inplace=True)\n",
    "df = df.sort_values('reads', ascending=False)\n",
    "non_aligned = set(data.keys()) - set(df['qseqid'])  \n",
    "df = pd.concat([df, pd.DataFrame({'qseqid': list(non_aligned)})])\n",
    "df"
   ]
  },
  {
   "cell_type": "code",
   "execution_count": null,
   "metadata": {},
   "outputs": [],
   "source": [
    "# keep the smallest number of references that cover 100% of the references\n",
    "keep = set()\n",
    "seen = set()\n",
    "for i, row in tqdm(df.iterrows(), total=len(df)):\n",
    "    if row['qseqid'] not in seen:\n",
    "        seen.add(row['qseqid'])\n",
    "        keep.add(row['qseqid'])\n",
    "        if not (type(row['sseqid']) == float and np.isnan(row['sseqid'])):\n",
    "            seen.update(row['sseqid'])\n",
    "\n",
    "print(\"Number of references to keep:\", len(keep))\n",
    "print(\"Number of references to remove:\", len(df) - len(keep))"
   ]
  },
  {
   "cell_type": "code",
   "execution_count": null,
   "metadata": {},
   "outputs": [],
   "source": [
    "data_out = {}\n",
    "\n",
    "for ref in keep:\n",
    "    data_out[ref] = data[ref]\n",
    "    \n",
    "data_out"
   ]
  },
  {
   "cell_type": "code",
   "execution_count": null,
   "metadata": {},
   "outputs": [],
   "source": [
    "import rouskinhf\n",
    "\n",
    "rouskinhf.dump_json(\n",
    "    data_out,\n",
    "    'data/ribo500-blast.json',\n",
    ")"
   ]
  },
  {
   "cell_type": "code",
   "execution_count": null,
   "metadata": {},
   "outputs": [],
   "source": [
    "rouskinhf.convert(\n",
    "    'json', 'data/ribo500-blast.json'\n",
    ")"
   ]
  },
  {
   "cell_type": "code",
   "execution_count": null,
   "metadata": {},
   "outputs": [],
   "source": [
    "rouskinhf.upload_dataset(\n",
    "    'data/ribo500-blast.json',\n",
    "    exist_ok=True,\n",
    ")"
   ]
  }
 ],
 "metadata": {
  "kernelspec": {
   "display_name": "Python 3",
   "language": "python",
   "name": "python3"
  },
  "language_info": {
   "codemirror_mode": {
    "name": "ipython",
    "version": 3
   },
   "file_extension": ".py",
   "mimetype": "text/x-python",
   "name": "python",
   "nbconvert_exporter": "python",
   "pygments_lexer": "ipython3",
   "version": "3.11.6"
  }
 },
 "nbformat": 4,
 "nbformat_minor": 2
}
