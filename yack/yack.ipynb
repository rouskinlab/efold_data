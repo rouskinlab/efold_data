{
 "cells": [
  {
   "cell_type": "code",
   "execution_count": 15,
   "metadata": {},
   "outputs": [],
   "source": [
    "# list datasets for yack\n",
    "from rouskinhf import *\n",
    "import pandas as pd\n",
    "\n",
    "datasets = [\"zuber\", 'bpRNA','RNAstralign','archiveII',\"ribo500-blast\"]\n",
    "\n",
    "data = pd.DataFrame()\n",
    "for name in datasets:\n",
    "    ds = pd.DataFrame.from_dict(get_dataset(name), orient='index')\n",
    "    data = pd.concat([data, ds], axis=0)  \n",
    "      \n",
    "data.reset_index(inplace=True)\n",
    "data.rename(columns={'index': 'reference'}, inplace=True)"
   ]
  },
  {
   "cell_type": "code",
   "execution_count": 16,
   "metadata": {},
   "outputs": [
    {
     "name": "stdout",
     "output_type": "stream",
     "text": [
      "Remove 28 sequences below 10nt\n",
      "Remove 392 sequences with no structure\n",
      "1312     bpRNA_CRW_45342\n",
      "1390     bpRNA_CRW_48649\n",
      "1410     bpRNA_CRW_44793\n",
      "1430     bpRNA_CRW_46034\n",
      "1470     bpRNA_CRW_41561\n",
      "              ...       \n",
      "86573             Schi_3\n",
      "95386           srp_Crit\n",
      "96469              16s_M\n",
      "97378         srp_Schi_4\n",
      "97548        srp_Leis_19\n",
      "Name: reference, Length: 392, dtype: object\n"
     ]
    }
   ],
   "source": [
    "# remove sequences below 10nt \n",
    "print(\"Remove {} sequences below 10nt\".format((data['sequence'].str.len() < 10).sum()))\n",
    "data = data[data['sequence'].str.len() >= 10]\n",
    "\n",
    "# remove sequences with no structure\n",
    "print(\"Remove {} sequences with no structure\".format((data['structure'].str.len() == 0).sum()))\n",
    "print(data[data['structure'].str.len() == 0]['reference'])\n",
    "data = data[data['structure'].str.len() > 0]\n",
    "\n",
    "# rename non-unique references\n",
    "for i, group in data.groupby('reference'):\n",
    "    if len(group) > 1:\n",
    "        for j, row in group.iterrows():\n",
    "            data.loc[j, 'reference'] = row['reference'] + '__' + str(j)\n",
    "\n",
    "assert len(data['reference'].unique()) == len(data)\n",
    "\n",
    "data.set_index('reference', inplace=True)\n",
    "dump_json(data.to_dict(orient='index'), 'datasets.json')"
   ]
  },
  {
   "cell_type": "code",
   "execution_count": 17,
   "metadata": {},
   "outputs": [
    {
     "name": "stderr",
     "output_type": "stream",
     "text": [
      "Parsing json file: 100%|██████████| 144230/144230 [00:04<00:00, 31667.10it/s]\n"
     ]
    },
    {
     "name": "stdout",
     "output_type": "stream",
     "text": [
      "Over a total of 144230 datapoints, there are:\n",
      "### OUTPUT\n",
      "- ALL: 125259 valid datapoints\n",
      "- INCLUDED: 0 duplicate sequences with different structure / dms / shape\n",
      "### MODIFIED\n",
      "- 0 multiple sequences with the same reference (renamed reference)\n",
      "### FILTERED OUT\n",
      "- 0 invalid datapoints (ex: sequence with non-regular characters)\n",
      "- 0 datapoints with bad structures\n",
      "- 18971 duplicate sequences with the same structure / dms / shape\n",
      "- 0 datapoints removed because of low AUROC (<0.8)\n"
     ]
    }
   ],
   "source": [
    "dump_json(\n",
    "    convert('json', 'datasets.json', name='yack'),\n",
    "    path=\"yack.json\")"
   ]
  },
  {
   "cell_type": "code",
   "execution_count": 19,
   "metadata": {},
   "outputs": [],
   "source": [
    "commit_message = \"remove sequences below 10nt and sequences with no structure\""
   ]
  },
  {
   "cell_type": "code",
   "execution_count": 20,
   "metadata": {},
   "outputs": [
    {
     "data": {
      "application/vnd.jupyter.widget-view+json": {
       "model_id": "2ec7a7b59e8444c08a0ad6e5d0d5c782",
       "version_major": 2,
       "version_minor": 0
      },
      "text/plain": [
       "yack.json:   0%|          | 0.00/262M [00:00<?, ?B/s]"
      ]
     },
     "metadata": {},
     "output_type": "display_data"
    }
   ],
   "source": [
    "upload_dataset('yack.json', exist_ok=True, commit_message=commit_message)"
   ]
  },
  {
   "cell_type": "markdown",
   "metadata": {},
   "source": [
    "## Yack train / valid"
   ]
  },
  {
   "cell_type": "code",
   "execution_count": 21,
   "metadata": {},
   "outputs": [
    {
     "data": {
      "application/vnd.jupyter.widget-view+json": {
       "model_id": "dbc4e46c305b4f0bb86c189af61da2df",
       "version_major": 2,
       "version_minor": 0
      },
      "text/plain": [
       "yack_train.json:   0%|          | 0.00/253M [00:00<?, ?B/s]"
      ]
     },
     "metadata": {},
     "output_type": "display_data"
    }
   ],
   "source": [
    "from rouskinhf import *\n",
    "\n",
    "# VALID: \n",
    "# pick 4096 random references from the dataset\n",
    "import numpy as np\n",
    "data = get_dataset('yack')\n",
    "valid_refs = np.random.choice(list(data.keys()), size=4096, replace=False)\n",
    "\n",
    "# save valid dataset\n",
    "data_valid = {k: data[k] for k in valid_refs}\n",
    "dump_json(data_valid, 'yack_valid.json')\n",
    "upload_dataset('yack_valid.json', exist_ok=True, commit_message=commit_message)\n",
    "\n",
    "# TRAIN:\n",
    "# keep only the references that are not in the valid dataset\n",
    "data_train = {k: data[k] for k in data if k not in valid_refs}\n",
    "dump_json(data_train, 'yack_train.json')\n",
    "upload_dataset('yack_train.json', exist_ok=True, commit_message=commit_message)"
   ]
  }
 ],
 "metadata": {
  "kernelspec": {
   "display_name": "Python 3",
   "language": "python",
   "name": "python3"
  },
  "language_info": {
   "codemirror_mode": {
    "name": "ipython",
    "version": 3
   },
   "file_extension": ".py",
   "mimetype": "text/x-python",
   "name": "python",
   "nbconvert_exporter": "python",
   "pygments_lexer": "ipython3",
   "version": "3.11.6"
  }
 },
 "nbformat": 4,
 "nbformat_minor": 2
}
