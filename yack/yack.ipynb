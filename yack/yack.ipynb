{
 "cells": [
  {
   "cell_type": "code",
   "execution_count": 3,
   "metadata": {},
   "outputs": [
    {
     "name": "stdout",
     "output_type": "stream",
     "text": [
      "zuber: Downloading dataset from HuggingFace Hub...\n"
     ]
    },
    {
     "data": {
      "application/vnd.jupyter.widget-view+json": {
       "model_id": "bed7f5f805794786a0b871181132ab2e",
       "version_major": 2,
       "version_minor": 0
      },
      "text/plain": [
       "Fetching 1 files:   0%|          | 0/1 [00:00<?, ?it/s]"
      ]
     },
     "metadata": {},
     "output_type": "display_data"
    },
    {
     "name": "stdout",
     "output_type": "stream",
     "text": [
      "zuber: Download complete. File saved at data/zuber/data.json\n",
      "bpRNA: Downloading dataset from HuggingFace Hub...\n"
     ]
    },
    {
     "data": {
      "application/vnd.jupyter.widget-view+json": {
       "model_id": "d3ba12f9ab974ba7a5ba9b1ac03b863b",
       "version_major": 2,
       "version_minor": 0
      },
      "text/plain": [
       "Fetching 1 files:   0%|          | 0/1 [00:00<?, ?it/s]"
      ]
     },
     "metadata": {},
     "output_type": "display_data"
    },
    {
     "name": "stdout",
     "output_type": "stream",
     "text": [
      "bpRNA: Download complete. File saved at data/bpRNA/data.json\n",
      "RNAstralign: Downloading dataset from HuggingFace Hub...\n"
     ]
    },
    {
     "data": {
      "application/vnd.jupyter.widget-view+json": {
       "model_id": "8c885e36de714f18b4cb36d651862634",
       "version_major": 2,
       "version_minor": 0
      },
      "text/plain": [
       "Fetching 1 files:   0%|          | 0/1 [00:00<?, ?it/s]"
      ]
     },
     "metadata": {},
     "output_type": "display_data"
    },
    {
     "name": "stdout",
     "output_type": "stream",
     "text": [
      "RNAstralign: Download complete. File saved at data/RNAstralign/data.json\n",
      "archiveII: Downloading dataset from HuggingFace Hub...\n"
     ]
    },
    {
     "data": {
      "application/vnd.jupyter.widget-view+json": {
       "model_id": "fc9ca029228b4121b16e52662c88afa2",
       "version_major": 2,
       "version_minor": 0
      },
      "text/plain": [
       "Fetching 1 files:   0%|          | 0/1 [00:00<?, ?it/s]"
      ]
     },
     "metadata": {},
     "output_type": "display_data"
    },
    {
     "name": "stdout",
     "output_type": "stream",
     "text": [
      "archiveII: Download complete. File saved at data/archiveII/data.json\n",
      "ribo500-blast: Downloading dataset from HuggingFace Hub...\n"
     ]
    },
    {
     "data": {
      "application/vnd.jupyter.widget-view+json": {
       "model_id": "fa4e1f2e64674402a071424b041de5f9",
       "version_major": 2,
       "version_minor": 0
      },
      "text/plain": [
       "Fetching 1 files:   0%|          | 0/1 [00:00<?, ?it/s]"
      ]
     },
     "metadata": {},
     "output_type": "display_data"
    },
    {
     "name": "stdout",
     "output_type": "stream",
     "text": [
      "ribo500-blast: Download complete. File saved at data/ribo500-blast/data.json\n"
     ]
    }
   ],
   "source": [
    "# list datasets for yack\n",
    "from rouskinhf import *\n",
    "import pandas as pd\n",
    "\n",
    "datasets = [\"zuber\", 'bpRNA','RNAstralign','archiveII',\"ribo500-blast\"]\n",
    "\n",
    "data = pd.DataFrame()\n",
    "for name in datasets:\n",
    "    ds = pd.DataFrame.from_dict(get_dataset(name), orient='index')\n",
    "    data = pd.concat([data, ds], axis=0)  \n",
    "      \n",
    "data.reset_index(inplace=True)\n",
    "data.rename(columns={'index': 'reference'}, inplace=True)"
   ]
  },
  {
   "cell_type": "code",
   "execution_count": 4,
   "metadata": {},
   "outputs": [],
   "source": [
    "# rename non-unique references\n",
    "for i, group in data.groupby('reference'):\n",
    "    if len(group) > 1:\n",
    "        for j, row in group.iterrows():\n",
    "            data.loc[j, 'reference'] = row['reference'] + '__' + str(j)\n",
    "\n",
    "assert len(data['reference'].unique()) == len(data)\n",
    "\n",
    "data.set_index('reference', inplace=True)\n",
    "dump_json(data.to_dict(orient='index'), 'datasets.json')"
   ]
  },
  {
   "cell_type": "code",
   "execution_count": 6,
   "metadata": {},
   "outputs": [
    {
     "name": "stderr",
     "output_type": "stream",
     "text": [
      "Parsing json file: 100%|██████████| 144650/144650 [00:04<00:00, 31869.91it/s]\n"
     ]
    },
    {
     "name": "stdout",
     "output_type": "stream",
     "text": [
      "Over a total of 144650 datapoints, there are:\n",
      "### OUTPUT\n",
      "- ALL: 125671 valid datapoints\n",
      "- INCLUDED: 0 duplicate sequences with different structure / dms / shape\n",
      "### MODIFIED\n",
      "- 0 multiple sequences with the same reference (renamed reference)\n",
      "### FILTERED OUT\n",
      "- 0 invalid datapoints (ex: sequence with non-regular characters)\n",
      "- 0 datapoints with bad structures\n",
      "- 18979 duplicate sequences with the same structure / dms / shape\n",
      "- 0 datapoints removed because of low AUROC (<0.8)\n"
     ]
    }
   ],
   "source": [
    "dump_json(\n",
    "    convert('json', 'datasets.json', name='yack'),\n",
    "    path=\"yack.json\")"
   ]
  },
  {
   "cell_type": "code",
   "execution_count": 8,
   "metadata": {},
   "outputs": [
    {
     "data": {
      "application/vnd.jupyter.widget-view+json": {
       "model_id": "d81fcc5cae8e451fa6fc32974c8c36b7",
       "version_major": 2,
       "version_minor": 0
      },
      "text/plain": [
       "yack.json:   0%|          | 0.00/262M [00:00<?, ?B/s]"
      ]
     },
     "metadata": {},
     "output_type": "display_data"
    }
   ],
   "source": [
    "upload_dataset('yack.json', exist_ok=True)"
   ]
  },
  {
   "cell_type": "markdown",
   "metadata": {},
   "source": [
    "## Yack train / valid"
   ]
  },
  {
   "cell_type": "code",
   "execution_count": 3,
   "metadata": {},
   "outputs": [
    {
     "data": {
      "application/vnd.jupyter.widget-view+json": {
       "model_id": "2f740a85a2cc48f2bbab1a1a1c49f599",
       "version_major": 2,
       "version_minor": 0
      },
      "text/plain": [
       "yack_train.json:   0%|          | 0.00/253M [00:00<?, ?B/s]"
      ]
     },
     "metadata": {},
     "output_type": "display_data"
    }
   ],
   "source": [
    "from rouskinhf import *\n",
    "\n",
    "# VALID: \n",
    "# pick 4096 random references from the dataset\n",
    "import numpy as np\n",
    "data = get_dataset('yack')\n",
    "valid_refs = np.random.choice(list(data.keys()), size=4096, replace=False)\n",
    "\n",
    "# save valid dataset\n",
    "data_valid = {k: data[k] for k in valid_refs}\n",
    "dump_json(data_valid, 'yack_valid.json')\n",
    "upload_dataset('yack_valid.json', exist_ok=True)\n",
    "\n",
    "# TRAIN:\n",
    "# keep only the references that are not in the valid dataset\n",
    "data_train = {k: data[k] for k in data if k not in valid_refs}\n",
    "dump_json(data_train, 'yack_train.json')\n",
    "upload_dataset('yack_train.json', exist_ok=True)"
   ]
  }
 ],
 "metadata": {
  "kernelspec": {
   "display_name": "Python 3",
   "language": "python",
   "name": "python3"
  },
  "language_info": {
   "codemirror_mode": {
    "name": "ipython",
    "version": 3
   },
   "file_extension": ".py",
   "mimetype": "text/x-python",
   "name": "python",
   "nbconvert_exporter": "python",
   "pygments_lexer": "ipython3",
   "version": "3.11.6"
  }
 },
 "nbformat": 4,
 "nbformat_minor": 2
}
