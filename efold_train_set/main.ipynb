{
 "cells": [
  {
   "cell_type": "code",
   "execution_count": 8,
   "metadata": {},
   "outputs": [],
   "source": [
    "import rouskinhf\n",
    "import pandas as pd\n",
    "import numpy as np\n",
    "\n",
    "training_dataset_names = ['rnacentral_synthetic', 'ribo500-blast', 'bpRNA-1m', 'pri_miRNA', 'human_mRNA']\n",
    "\n",
    "def dataset_to_df(dataset_name):\n",
    "    return pd.DataFrame.from_dict(rouskinhf.get_dataset(dataset_name), orient='index').reset_index()\n",
    "\n",
    "train_set = pd.concat({name: dataset_to_df(name) for name in training_dataset_names})\n",
    "train_set = train_set.drop_duplicates('sequence')"
   ]
  },
  {
   "cell_type": "code",
   "execution_count": 9,
   "metadata": {},
   "outputs": [],
   "source": [
    "train_set.reset_index(drop=True, inplace=True)\n",
    "train_set.set_index('index', inplace=True)  "
   ]
  },
  {
   "cell_type": "code",
   "execution_count": 11,
   "metadata": {},
   "outputs": [],
   "source": [
    "rouskinhf.dump_json(train_set.to_dict(orient='index'), 'efold_train.json')"
   ]
  },
  {
   "cell_type": "code",
   "execution_count": 12,
   "metadata": {},
   "outputs": [
    {
     "data": {
      "application/vnd.jupyter.widget-view+json": {
       "model_id": "dc9736f1731d45d9b9d9b012c619e7f4",
       "version_major": 2,
       "version_minor": 0
      },
      "text/plain": [
       "efold_train.json:   0%|          | 0.00/425M [00:00<?, ?B/s]"
      ]
     },
     "metadata": {},
     "output_type": "display_data"
    }
   ],
   "source": [
    "rouskinhf.upload_dataset('efold_train.json')"
   ]
  }
 ],
 "metadata": {
  "kernelspec": {
   "display_name": "Python 3",
   "language": "python",
   "name": "python3"
  },
  "language_info": {
   "codemirror_mode": {
    "name": "ipython",
    "version": 3
   },
   "file_extension": ".py",
   "mimetype": "text/x-python",
   "name": "python",
   "nbconvert_exporter": "python",
   "pygments_lexer": "ipython3",
   "version": "3.11.6"
  }
 },
 "nbformat": 4,
 "nbformat_minor": 2
}
