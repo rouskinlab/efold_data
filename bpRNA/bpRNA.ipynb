{
 "cells": [
  {
   "cell_type": "markdown",
   "metadata": {},
   "source": [
    "## Run RouskinHF"
   ]
  },
  {
   "cell_type": "code",
   "execution_count": 22,
   "metadata": {},
   "outputs": [
    {
     "name": "stderr",
     "output_type": "stream",
     "text": [
      "Parsing bpseq files: 100%|██████████| 102318/102318 [00:36<00:00, 2769.98it/s]\n"
     ]
    },
    {
     "name": "stdout",
     "output_type": "stream",
     "text": [
      "Over a total of 102318 datapoints, there are:\n",
      "### OUTPUT\n",
      "- ALL: 66715 valid datapoints\n",
      "- INCLUDED: 1482 duplicate sequences with different structure / dms / shape\n",
      "### MODIFIED\n",
      "- 0 multiple sequences with the same reference (renamed reference)\n",
      "### FILTERED OUT\n",
      "- 5064 invalid datapoints (ex: sequence with non-regular characters)\n",
      "- 0 datapoints with bad structures\n",
      "- 30539 duplicate sequences with the same structure / dms / shape\n"
     ]
    }
   ],
   "source": [
    "from rouskinhf import convert\n",
    "\n",
    "data = convert(\n",
    "    'bpseq',\n",
    "    '/Users/yvesmartin/data/bpRNA',\n",
    "    name='bpRNA',\n",
    "    path_out='data',\n",
    "    filter=True\n",
    ")"
   ]
  },
  {
   "cell_type": "markdown",
   "metadata": {},
   "source": [
    "## Visualise\n",
    "\n"
   ]
  },
  {
   "cell_type": "code",
   "execution_count": null,
   "metadata": {},
   "outputs": [],
   "source": [
    "import pandas as pd\n",
    "\n",
    "df = pd.read_json('/Users/yvesmartin/src/supermodels-data/bpRNA/data/bpRNA/data.json', orient='index')\n",
    "df.sequence.apply(len).hist(bins=10)"
   ]
  },
  {
   "cell_type": "markdown",
   "metadata": {},
   "source": [
    "## Upload"
   ]
  },
  {
   "cell_type": "code",
   "execution_count": null,
   "metadata": {},
   "outputs": [],
   "source": [
    "from rouskinhf import upload_dataset\n",
    "import envbash\n",
    "envbash.load.load_envbash('../.env')\n",
    "\n",
    "upload_dataset(\n",
    "    '/Users/yvesmartin/src/supermodels-data/bpRNA/data/bpRNA/data.json',\n",
    "    commit_message='fixed rouskinhf reference bug',\n",
    ")"
   ]
  },
  {
   "cell_type": "code",
   "execution_count": 19,
   "metadata": {},
   "outputs": [],
   "source": [
    "# bpRNA90\n",
    "import rouskinhf\n",
    "df90 =  [s.replace('T','U') for s in open('/Users/yvesmartin/data/bpRNA/bpRNA_1m_90.fasta').read().split('\\n') if not s.startswith('>')]\n",
    "data90 = {k:v for k,v in data.items() if v['sequence'].replace('T','U') in df90}\n",
    "\n",
    "\n",
    "rouskinhf.dump_json(\n",
    "    data90,\n",
    "    'data/bpRNA90.json',\n",
    ")"
   ]
  },
  {
   "cell_type": "code",
   "execution_count": 21,
   "metadata": {},
   "outputs": [
    {
     "name": "stderr",
     "output_type": "stream",
     "text": [
      "Parsing json file: 100%|██████████| 27701/27701 [00:00<00:00, 100838.76it/s]\n"
     ]
    },
    {
     "name": "stdout",
     "output_type": "stream",
     "text": [
      "Over a total of 27701 datapoints, there are:\n",
      "### OUTPUT\n",
      "- ALL: 27701 valid datapoints\n",
      "- INCLUDED: 575 duplicate sequences with different structure / dms / shape\n",
      "### MODIFIED\n",
      "- 0 multiple sequences with the same reference (renamed reference)\n",
      "### FILTERED OUT\n",
      "- 0 invalid datapoints (ex: sequence with non-regular characters)\n",
      "- 0 datapoints with bad structures\n",
      "- 0 duplicate sequences with the same structure / dms / shape\n"
     ]
    }
   ],
   "source": [
    "data = convert(\n",
    "    'json',\n",
    "    'data/bpRNA90.json',\n",
    "    name='bpRNA90',\n",
    "    path_out='data',\n",
    "    filter=True\n",
    ")"
   ]
  },
  {
   "cell_type": "code",
   "execution_count": 26,
   "metadata": {},
   "outputs": [
    {
     "data": {
      "application/vnd.jupyter.widget-view+json": {
       "model_id": "016fcb90d28c4cb2812f04ac3019252e",
       "version_major": 2,
       "version_minor": 0
      },
      "text/plain": [
       "data.json:   0%|          | 0.00/20.7M [00:00<?, ?B/s]"
      ]
     },
     "metadata": {},
     "output_type": "display_data"
    }
   ],
   "source": [
    "rouskinhf.upload_dataset(\n",
    "    'data/bpRNA90/data.json',\n",
    "    commit_message='added bpRNA90 dataset',\n",
    "    exist_ok=True,\n",
    ")"
   ]
  }
 ],
 "metadata": {
  "kernelspec": {
   "display_name": "Python 3",
   "language": "python",
   "name": "python3"
  },
  "language_info": {
   "codemirror_mode": {
    "name": "ipython",
    "version": 3
   },
   "file_extension": ".py",
   "mimetype": "text/x-python",
   "name": "python",
   "nbconvert_exporter": "python",
   "pygments_lexer": "ipython3",
   "version": "3.11.6"
  }
 },
 "nbformat": 4,
 "nbformat_minor": 2
}
