{
 "cells": [
  {
   "cell_type": "code",
   "execution_count": 11,
   "metadata": {},
   "outputs": [],
   "source": [
    "import rouskinhf\n",
    "import pandas as pd\n",
    "import numpy as np\n"
   ]
  },
  {
   "cell_type": "code",
   "execution_count": 47,
   "metadata": {},
   "outputs": [],
   "source": [
    "\n",
    "training_dataset_names = ['rnacentral_synthetic', 'ribo500-blast', 'bpRNA-1m', 'pri_miRNA', 'human_mRNA']\n",
    "testing_dataset_names = [ 'PDB', 'viral_fragments', 'lncRNA', 'archiveII_filtered']\n",
    "\n",
    "def dataset_to_df(dataset_name):\n",
    "    return pd.DataFrame.from_dict(rouskinhf.get_dataset(dataset_name), orient='index').reset_index()\n",
    "\n",
    "train_set = pd.concat({name: dataset_to_df(name) for name in training_dataset_names})\n",
    "train_set = train_set.drop_duplicates('sequence')\n",
    "test_set = pd.concat({name: dataset_to_df(name) for name in testing_dataset_names})"
   ]
  },
  {
   "cell_type": "code",
   "execution_count": 48,
   "metadata": {},
   "outputs": [
    {
     "data": {
      "text/html": [
       "<div>\n",
       "<style scoped>\n",
       "    .dataframe tbody tr th:only-of-type {\n",
       "        vertical-align: middle;\n",
       "    }\n",
       "\n",
       "    .dataframe tbody tr th {\n",
       "        vertical-align: top;\n",
       "    }\n",
       "\n",
       "    .dataframe thead th {\n",
       "        text-align: right;\n",
       "    }\n",
       "</style>\n",
       "<table border=\"1\" class=\"dataframe\">\n",
       "  <thead>\n",
       "    <tr style=\"text-align: right;\">\n",
       "      <th></th>\n",
       "      <th></th>\n",
       "      <th>index</th>\n",
       "      <th>sequence</th>\n",
       "      <th>structure</th>\n",
       "      <th>dms</th>\n",
       "      <th>shape</th>\n",
       "    </tr>\n",
       "  </thead>\n",
       "  <tbody>\n",
       "    <tr>\n",
       "      <th rowspan=\"5\" valign=\"top\">rnacentral_synthetic</th>\n",
       "      <th>0</th>\n",
       "      <td>RF02271.fa.csv_1</td>\n",
       "      <td>UCUUAUGGAUGAGCAAAGAAAGUGGUUUCUUGAGAUGGAAUUUACU...</td>\n",
       "      <td>[[26, 39], [18, 47], [7, 59], [6, 60], [17, 48...</td>\n",
       "      <td>NaN</td>\n",
       "      <td>NaN</td>\n",
       "    </tr>\n",
       "    <tr>\n",
       "      <th>1</th>\n",
       "      <td>RF02271.fa.csv_2</td>\n",
       "      <td>UCUUAUGGGUGAGCAAGAAAAGUGGUUUCUUGAGAUGGAAGCUACU...</td>\n",
       "      <td>[[23, 42], [29, 36], [26, 39], [22, 43], [20, ...</td>\n",
       "      <td>NaN</td>\n",
       "      <td>NaN</td>\n",
       "    </tr>\n",
       "    <tr>\n",
       "      <th>2</th>\n",
       "      <td>RF02271.fa.csv_3</td>\n",
       "      <td>UCUUACGGAUGAGCAAAGAAAGUGGUUUCUUGAACAGAAACUACUC...</td>\n",
       "      <td>[[4, 61], [3, 62], [29, 35], [13, 51], [20, 44...</td>\n",
       "      <td>NaN</td>\n",
       "      <td>NaN</td>\n",
       "    </tr>\n",
       "    <tr>\n",
       "      <th>3</th>\n",
       "      <td>RF02271.fa.csv_4</td>\n",
       "      <td>GUCUACAGCAAUGUUGCCCUGAACAAGCCCGAUCCCAUCUGAUUGU...</td>\n",
       "      <td>[[93, 108], [94, 107], [39, 76], [83, 116], [4...</td>\n",
       "      <td>NaN</td>\n",
       "      <td>NaN</td>\n",
       "    </tr>\n",
       "    <tr>\n",
       "      <th>4</th>\n",
       "      <td>RF02271.fa.csv_5</td>\n",
       "      <td>UGAGACUCCCUCACCGCCCUGGGUGUGCCUGAUCCCAUAUGAUCUC...</td>\n",
       "      <td>[[5, 111], [30, 43], [71, 102], [21, 52], [20,...</td>\n",
       "      <td>NaN</td>\n",
       "      <td>NaN</td>\n",
       "    </tr>\n",
       "    <tr>\n",
       "      <th>...</th>\n",
       "      <th>...</th>\n",
       "      <td>...</td>\n",
       "      <td>...</td>\n",
       "      <td>...</td>\n",
       "      <td>...</td>\n",
       "      <td>...</td>\n",
       "    </tr>\n",
       "    <tr>\n",
       "      <th rowspan=\"5\" valign=\"top\">human_mRNA</th>\n",
       "      <th>1451</th>\n",
       "      <td>ENSG00000284791.2</td>\n",
       "      <td>GGGGGUGCUCGGCGUGCUGUCCCUGCUGGUGCUUUGCGGGGUCCUG...</td>\n",
       "      <td>[[29, 139], [366, 474], [176, 277], [10, 162],...</td>\n",
       "      <td>[-1000.0, -1000.0, -1000.0, -1000.0, -1000.0, ...</td>\n",
       "      <td>NaN</td>\n",
       "    </tr>\n",
       "    <tr>\n",
       "      <th>1452</th>\n",
       "      <td>ENSG00000286522.2</td>\n",
       "      <td>GGGUGCAGGCAAGCUUUUCUGUGGUUUUGCCAUGGCUCGUACUAAA...</td>\n",
       "      <td>[[240, 304], [223, 233], [280, 297], [249, 254...</td>\n",
       "      <td>[-1000.0, -1000.0, -1000.0, -1000.0, -1000.0, ...</td>\n",
       "      <td>NaN</td>\n",
       "    </tr>\n",
       "    <tr>\n",
       "      <th>1453</th>\n",
       "      <td>ENSG00000287363.4</td>\n",
       "      <td>GGGAGACACCGUCAUGCAAGGGGGUGAAGGCUCCACACUCGUCCCG...</td>\n",
       "      <td>[[197, 220], [25, 154], [91, 120], [198, 219],...</td>\n",
       "      <td>[-1000.0, -1000.0, -1000.0, 0.7213, -1000.0, 0...</td>\n",
       "      <td>NaN</td>\n",
       "    </tr>\n",
       "    <tr>\n",
       "      <th>1454</th>\n",
       "      <td>ENSG00000288920.1</td>\n",
       "      <td>GGGUUUUCCGCGCUACCUGCAGAGGGGUCCAUACGGCGUUGUUCUG...</td>\n",
       "      <td>[[614, 631], [480, 484], [260, 279], [517, 542...</td>\n",
       "      <td>[-1000.0, -1000.0, -1000.0, -1000.0, -1000.0, ...</td>\n",
       "      <td>NaN</td>\n",
       "    </tr>\n",
       "    <tr>\n",
       "      <th>1455</th>\n",
       "      <td>ENSG00000291309.1</td>\n",
       "      <td>GGGGGUCAGUCUUCCUCUGGGCCCUGCUGUGAGGGCCUUUCCCGCC...</td>\n",
       "      <td>[[408, 416], [257, 320], [409, 415], [258, 319...</td>\n",
       "      <td>[-1000.0, -1000.0, -1000.0, -1000.0, -1000.0, ...</td>\n",
       "      <td>NaN</td>\n",
       "    </tr>\n",
       "  </tbody>\n",
       "</table>\n",
       "<p>359472 rows × 5 columns</p>\n",
       "</div>"
      ],
      "text/plain": [
       "                                       index  \\\n",
       "rnacentral_synthetic 0      RF02271.fa.csv_1   \n",
       "                     1      RF02271.fa.csv_2   \n",
       "                     2      RF02271.fa.csv_3   \n",
       "                     3      RF02271.fa.csv_4   \n",
       "                     4      RF02271.fa.csv_5   \n",
       "...                                      ...   \n",
       "human_mRNA           1451  ENSG00000284791.2   \n",
       "                     1452  ENSG00000286522.2   \n",
       "                     1453  ENSG00000287363.4   \n",
       "                     1454  ENSG00000288920.1   \n",
       "                     1455  ENSG00000291309.1   \n",
       "\n",
       "                                                                    sequence  \\\n",
       "rnacentral_synthetic 0     UCUUAUGGAUGAGCAAAGAAAGUGGUUUCUUGAGAUGGAAUUUACU...   \n",
       "                     1     UCUUAUGGGUGAGCAAGAAAAGUGGUUUCUUGAGAUGGAAGCUACU...   \n",
       "                     2     UCUUACGGAUGAGCAAAGAAAGUGGUUUCUUGAACAGAAACUACUC...   \n",
       "                     3     GUCUACAGCAAUGUUGCCCUGAACAAGCCCGAUCCCAUCUGAUUGU...   \n",
       "                     4     UGAGACUCCCUCACCGCCCUGGGUGUGCCUGAUCCCAUAUGAUCUC...   \n",
       "...                                                                      ...   \n",
       "human_mRNA           1451  GGGGGUGCUCGGCGUGCUGUCCCUGCUGGUGCUUUGCGGGGUCCUG...   \n",
       "                     1452  GGGUGCAGGCAAGCUUUUCUGUGGUUUUGCCAUGGCUCGUACUAAA...   \n",
       "                     1453  GGGAGACACCGUCAUGCAAGGGGGUGAAGGCUCCACACUCGUCCCG...   \n",
       "                     1454  GGGUUUUCCGCGCUACCUGCAGAGGGGUCCAUACGGCGUUGUUCUG...   \n",
       "                     1455  GGGGGUCAGUCUUCCUCUGGGCCCUGCUGUGAGGGCCUUUCCCGCC...   \n",
       "\n",
       "                                                                   structure  \\\n",
       "rnacentral_synthetic 0     [[26, 39], [18, 47], [7, 59], [6, 60], [17, 48...   \n",
       "                     1     [[23, 42], [29, 36], [26, 39], [22, 43], [20, ...   \n",
       "                     2     [[4, 61], [3, 62], [29, 35], [13, 51], [20, 44...   \n",
       "                     3     [[93, 108], [94, 107], [39, 76], [83, 116], [4...   \n",
       "                     4     [[5, 111], [30, 43], [71, 102], [21, 52], [20,...   \n",
       "...                                                                      ...   \n",
       "human_mRNA           1451  [[29, 139], [366, 474], [176, 277], [10, 162],...   \n",
       "                     1452  [[240, 304], [223, 233], [280, 297], [249, 254...   \n",
       "                     1453  [[197, 220], [25, 154], [91, 120], [198, 219],...   \n",
       "                     1454  [[614, 631], [480, 484], [260, 279], [517, 542...   \n",
       "                     1455  [[408, 416], [257, 320], [409, 415], [258, 319...   \n",
       "\n",
       "                                                                         dms  \\\n",
       "rnacentral_synthetic 0                                                   NaN   \n",
       "                     1                                                   NaN   \n",
       "                     2                                                   NaN   \n",
       "                     3                                                   NaN   \n",
       "                     4                                                   NaN   \n",
       "...                                                                      ...   \n",
       "human_mRNA           1451  [-1000.0, -1000.0, -1000.0, -1000.0, -1000.0, ...   \n",
       "                     1452  [-1000.0, -1000.0, -1000.0, -1000.0, -1000.0, ...   \n",
       "                     1453  [-1000.0, -1000.0, -1000.0, 0.7213, -1000.0, 0...   \n",
       "                     1454  [-1000.0, -1000.0, -1000.0, -1000.0, -1000.0, ...   \n",
       "                     1455  [-1000.0, -1000.0, -1000.0, -1000.0, -1000.0, ...   \n",
       "\n",
       "                          shape  \n",
       "rnacentral_synthetic 0      NaN  \n",
       "                     1      NaN  \n",
       "                     2      NaN  \n",
       "                     3      NaN  \n",
       "                     4      NaN  \n",
       "...                         ...  \n",
       "human_mRNA           1451   NaN  \n",
       "                     1452   NaN  \n",
       "                     1453   NaN  \n",
       "                     1454   NaN  \n",
       "                     1455   NaN  \n",
       "\n",
       "[359472 rows x 5 columns]"
      ]
     },
     "execution_count": 48,
     "metadata": {},
     "output_type": "execute_result"
    }
   ],
   "source": [
    "train_set"
   ]
  },
  {
   "cell_type": "code",
   "execution_count": 49,
   "metadata": {},
   "outputs": [
    {
     "data": {
      "text/html": [
       "<div>\n",
       "<style scoped>\n",
       "    .dataframe tbody tr th:only-of-type {\n",
       "        vertical-align: middle;\n",
       "    }\n",
       "\n",
       "    .dataframe tbody tr th {\n",
       "        vertical-align: top;\n",
       "    }\n",
       "\n",
       "    .dataframe thead th {\n",
       "        text-align: right;\n",
       "    }\n",
       "</style>\n",
       "<table border=\"1\" class=\"dataframe\">\n",
       "  <thead>\n",
       "    <tr style=\"text-align: right;\">\n",
       "      <th></th>\n",
       "      <th>level_0_x</th>\n",
       "      <th>level_1_x</th>\n",
       "      <th>sequence</th>\n",
       "      <th>structure_x</th>\n",
       "      <th>dms_x</th>\n",
       "      <th>shape_x</th>\n",
       "      <th>level_0_y</th>\n",
       "      <th>level_1_y</th>\n",
       "      <th>structure_y</th>\n",
       "      <th>dms_y</th>\n",
       "      <th>shape_y</th>\n",
       "      <th>source</th>\n",
       "    </tr>\n",
       "  </thead>\n",
       "  <tbody>\n",
       "    <tr>\n",
       "      <th>0</th>\n",
       "      <td>rnacentral_synthetic</td>\n",
       "      <td>RF02271.fa.csv_107</td>\n",
       "      <td>GUCUACGACCAUACCACGUUGAAAGCACGACAUCUCGUCCGAUCUG...</td>\n",
       "      <td>[[3, 114], [4, 113], [96, 104], [24, 51], [67,...</td>\n",
       "      <td>NaN</td>\n",
       "      <td>NaN</td>\n",
       "      <td>archiveII_filtered</td>\n",
       "      <td>5s_Dirofilaria-immitis-1</td>\n",
       "      <td>[[0, 117], [1, 116], [2, 115], [3, 114], [4, 1...</td>\n",
       "      <td>NaN</td>\n",
       "      <td>NaN</td>\n",
       "      <td>rnacentral_synthetic contains archiveII_filtered</td>\n",
       "    </tr>\n",
       "    <tr>\n",
       "      <th>1</th>\n",
       "      <td>rnacentral_synthetic</td>\n",
       "      <td>RF02271.fa.csv_6961</td>\n",
       "      <td>ACAUACGACCAUAGGGUGUGGAAAACAGGGCUUCCCGUCCGCUCAG...</td>\n",
       "      <td>[[79, 97], [8, 110], [0, 118], [19, 58], [84, ...</td>\n",
       "      <td>NaN</td>\n",
       "      <td>NaN</td>\n",
       "      <td>archiveII_filtered</td>\n",
       "      <td>5s_Emericella-nidulans-6</td>\n",
       "      <td>[[0, 118], [1, 117], [2, 116], [3, 115], [4, 1...</td>\n",
       "      <td>NaN</td>\n",
       "      <td>NaN</td>\n",
       "      <td>rnacentral_synthetic contains archiveII_filtered</td>\n",
       "    </tr>\n",
       "    <tr>\n",
       "      <th>2</th>\n",
       "      <td>rnacentral_synthetic</td>\n",
       "      <td>RF02271.fa.csv_11174</td>\n",
       "      <td>CAUAACGGUCAUAGCGGAGGAGUUACAUCCGAUCCCAUCCCGAUCU...</td>\n",
       "      <td>[[30, 46], [19, 58], [72, 100], [29, 47], [18,...</td>\n",
       "      <td>NaN</td>\n",
       "      <td>NaN</td>\n",
       "      <td>archiveII_filtered</td>\n",
       "      <td>5s_Methanococcus-maripaludis-1</td>\n",
       "      <td>[[0, 112], [2, 111], [3, 110], [4, 109], [5, 1...</td>\n",
       "      <td>NaN</td>\n",
       "      <td>NaN</td>\n",
       "      <td>rnacentral_synthetic contains archiveII_filtered</td>\n",
       "    </tr>\n",
       "    <tr>\n",
       "      <th>3</th>\n",
       "      <td>bpRNA-1m</td>\n",
       "      <td>bpRNA_PDB_307</td>\n",
       "      <td>GGGAUCACAAGUAGGACUUCGGUCCGAAUACAGAUCUC</td>\n",
       "      <td>[[0, 37], [1, 36], [2, 35], [3, 34], [4, 33], ...</td>\n",
       "      <td>NaN</td>\n",
       "      <td>NaN</td>\n",
       "      <td>PDB</td>\n",
       "      <td>2KHY-2D</td>\n",
       "      <td>[[0, 37], [2, 35], [3, 34], [4, 33], [5, 32], ...</td>\n",
       "      <td>NaN</td>\n",
       "      <td>NaN</td>\n",
       "      <td>bpRNA-1m contains PDB</td>\n",
       "    </tr>\n",
       "    <tr>\n",
       "      <th>4</th>\n",
       "      <td>bpRNA-1m</td>\n",
       "      <td>bpRNA_PDB_342</td>\n",
       "      <td>GGGACCUUCCAAGUCUC</td>\n",
       "      <td>[[0, 16], [1, 15], [2, 14], [3, 13], [4, 12]]</td>\n",
       "      <td>NaN</td>\n",
       "      <td>NaN</td>\n",
       "      <td>PDB</td>\n",
       "      <td>2LBL-2D</td>\n",
       "      <td>[[0, 16], [1, 15], [2, 14], [3, 13], [4, 12]]</td>\n",
       "      <td>NaN</td>\n",
       "      <td>NaN</td>\n",
       "      <td>bpRNA-1m contains PDB</td>\n",
       "    </tr>\n",
       "    <tr>\n",
       "      <th>...</th>\n",
       "      <td>...</td>\n",
       "      <td>...</td>\n",
       "      <td>...</td>\n",
       "      <td>...</td>\n",
       "      <td>...</td>\n",
       "      <td>...</td>\n",
       "      <td>...</td>\n",
       "      <td>...</td>\n",
       "      <td>...</td>\n",
       "      <td>...</td>\n",
       "      <td>...</td>\n",
       "      <td>...</td>\n",
       "    </tr>\n",
       "    <tr>\n",
       "      <th>283</th>\n",
       "      <td>bpRNA-1m</td>\n",
       "      <td>bpRNA_PDB_312</td>\n",
       "      <td>GGACGGUGGCAGCACUGUCUAGCUGCGGGCAUUAGACUGGAAAACU...</td>\n",
       "      <td>[[1, 18], [2, 17], [3, 16], [4, 15], [5, 14], ...</td>\n",
       "      <td>NaN</td>\n",
       "      <td>NaN</td>\n",
       "      <td>PDB</td>\n",
       "      <td>2KRL-2D</td>\n",
       "      <td>[[1, 18], [2, 17], [3, 16], [4, 15], [5, 14], ...</td>\n",
       "      <td>NaN</td>\n",
       "      <td>NaN</td>\n",
       "      <td>bpRNA-1m contains PDB</td>\n",
       "    </tr>\n",
       "    <tr>\n",
       "      <th>284</th>\n",
       "      <td>bpRNA-1m</td>\n",
       "      <td>bpRNA_PDB_19</td>\n",
       "      <td>GGCGACGGUGUAAAAAUCUCGCC</td>\n",
       "      <td>[[0, 22], [1, 21], [2, 20], [3, 19], [4, 18], ...</td>\n",
       "      <td>NaN</td>\n",
       "      <td>NaN</td>\n",
       "      <td>PDB</td>\n",
       "      <td>1BVJ-2D</td>\n",
       "      <td>[[0, 22], [1, 21], [2, 20], [3, 19], [4, 18], ...</td>\n",
       "      <td>NaN</td>\n",
       "      <td>NaN</td>\n",
       "      <td>bpRNA-1m contains PDB</td>\n",
       "    </tr>\n",
       "    <tr>\n",
       "      <th>285</th>\n",
       "      <td>bpRNA-1m</td>\n",
       "      <td>bpRNA_PDB_78</td>\n",
       "      <td>GGGCGUGCCC</td>\n",
       "      <td>[[0, 9], [1, 8], [2, 6]]</td>\n",
       "      <td>NaN</td>\n",
       "      <td>NaN</td>\n",
       "      <td>PDB</td>\n",
       "      <td>1IDV-2D</td>\n",
       "      <td>[[0, 9], [1, 8], [2, 7]]</td>\n",
       "      <td>NaN</td>\n",
       "      <td>NaN</td>\n",
       "      <td>bpRNA-1m contains PDB</td>\n",
       "    </tr>\n",
       "    <tr>\n",
       "      <th>286</th>\n",
       "      <td>bpRNA-1m</td>\n",
       "      <td>bpRNA_PDB_373</td>\n",
       "      <td>GGUUUCUUUUUAGUGAUUUUUCCAAACCCCUUUGUGCAAAAAUCAUUA</td>\n",
       "      <td>[[0, 27], [1, 26], [2, 25], [3, 24], [4, 23], ...</td>\n",
       "      <td>NaN</td>\n",
       "      <td>NaN</td>\n",
       "      <td>PDB</td>\n",
       "      <td>2M8K-2D</td>\n",
       "      <td>[[0, 27], [1, 26], [2, 25], [3, 24], [4, 23], ...</td>\n",
       "      <td>NaN</td>\n",
       "      <td>NaN</td>\n",
       "      <td>bpRNA-1m contains PDB</td>\n",
       "    </tr>\n",
       "    <tr>\n",
       "      <th>287</th>\n",
       "      <td>bpRNA-1m</td>\n",
       "      <td>bpRNA_PDB_426</td>\n",
       "      <td>GGGAUCCAUGACAGGAUCCC</td>\n",
       "      <td>[[0, 19], [1, 18], [2, 17], [3, 16], [4, 15], ...</td>\n",
       "      <td>NaN</td>\n",
       "      <td>NaN</td>\n",
       "      <td>PDB</td>\n",
       "      <td>2RPK-2D</td>\n",
       "      <td>[[0, 19], [1, 18], [2, 17], [3, 16], [4, 15], ...</td>\n",
       "      <td>NaN</td>\n",
       "      <td>NaN</td>\n",
       "      <td>bpRNA-1m contains PDB</td>\n",
       "    </tr>\n",
       "  </tbody>\n",
       "</table>\n",
       "<p>288 rows × 12 columns</p>\n",
       "</div>"
      ],
      "text/plain": [
       "                level_0_x             level_1_x  \\\n",
       "0    rnacentral_synthetic    RF02271.fa.csv_107   \n",
       "1    rnacentral_synthetic   RF02271.fa.csv_6961   \n",
       "2    rnacentral_synthetic  RF02271.fa.csv_11174   \n",
       "3                bpRNA-1m         bpRNA_PDB_307   \n",
       "4                bpRNA-1m         bpRNA_PDB_342   \n",
       "..                    ...                   ...   \n",
       "283              bpRNA-1m         bpRNA_PDB_312   \n",
       "284              bpRNA-1m          bpRNA_PDB_19   \n",
       "285              bpRNA-1m          bpRNA_PDB_78   \n",
       "286              bpRNA-1m         bpRNA_PDB_373   \n",
       "287              bpRNA-1m         bpRNA_PDB_426   \n",
       "\n",
       "                                              sequence  \\\n",
       "0    GUCUACGACCAUACCACGUUGAAAGCACGACAUCUCGUCCGAUCUG...   \n",
       "1    ACAUACGACCAUAGGGUGUGGAAAACAGGGCUUCCCGUCCGCUCAG...   \n",
       "2    CAUAACGGUCAUAGCGGAGGAGUUACAUCCGAUCCCAUCCCGAUCU...   \n",
       "3               GGGAUCACAAGUAGGACUUCGGUCCGAAUACAGAUCUC   \n",
       "4                                    GGGACCUUCCAAGUCUC   \n",
       "..                                                 ...   \n",
       "283  GGACGGUGGCAGCACUGUCUAGCUGCGGGCAUUAGACUGGAAAACU...   \n",
       "284                            GGCGACGGUGUAAAAAUCUCGCC   \n",
       "285                                         GGGCGUGCCC   \n",
       "286   GGUUUCUUUUUAGUGAUUUUUCCAAACCCCUUUGUGCAAAAAUCAUUA   \n",
       "287                               GGGAUCCAUGACAGGAUCCC   \n",
       "\n",
       "                                           structure_x dms_x shape_x  \\\n",
       "0    [[3, 114], [4, 113], [96, 104], [24, 51], [67,...   NaN     NaN   \n",
       "1    [[79, 97], [8, 110], [0, 118], [19, 58], [84, ...   NaN     NaN   \n",
       "2    [[30, 46], [19, 58], [72, 100], [29, 47], [18,...   NaN     NaN   \n",
       "3    [[0, 37], [1, 36], [2, 35], [3, 34], [4, 33], ...   NaN     NaN   \n",
       "4        [[0, 16], [1, 15], [2, 14], [3, 13], [4, 12]]   NaN     NaN   \n",
       "..                                                 ...   ...     ...   \n",
       "283  [[1, 18], [2, 17], [3, 16], [4, 15], [5, 14], ...   NaN     NaN   \n",
       "284  [[0, 22], [1, 21], [2, 20], [3, 19], [4, 18], ...   NaN     NaN   \n",
       "285                           [[0, 9], [1, 8], [2, 6]]   NaN     NaN   \n",
       "286  [[0, 27], [1, 26], [2, 25], [3, 24], [4, 23], ...   NaN     NaN   \n",
       "287  [[0, 19], [1, 18], [2, 17], [3, 16], [4, 15], ...   NaN     NaN   \n",
       "\n",
       "              level_0_y                       level_1_y  \\\n",
       "0    archiveII_filtered        5s_Dirofilaria-immitis-1   \n",
       "1    archiveII_filtered        5s_Emericella-nidulans-6   \n",
       "2    archiveII_filtered  5s_Methanococcus-maripaludis-1   \n",
       "3                   PDB                         2KHY-2D   \n",
       "4                   PDB                         2LBL-2D   \n",
       "..                  ...                             ...   \n",
       "283                 PDB                         2KRL-2D   \n",
       "284                 PDB                         1BVJ-2D   \n",
       "285                 PDB                         1IDV-2D   \n",
       "286                 PDB                         2M8K-2D   \n",
       "287                 PDB                         2RPK-2D   \n",
       "\n",
       "                                           structure_y dms_y shape_y  \\\n",
       "0    [[0, 117], [1, 116], [2, 115], [3, 114], [4, 1...   NaN     NaN   \n",
       "1    [[0, 118], [1, 117], [2, 116], [3, 115], [4, 1...   NaN     NaN   \n",
       "2    [[0, 112], [2, 111], [3, 110], [4, 109], [5, 1...   NaN     NaN   \n",
       "3    [[0, 37], [2, 35], [3, 34], [4, 33], [5, 32], ...   NaN     NaN   \n",
       "4        [[0, 16], [1, 15], [2, 14], [3, 13], [4, 12]]   NaN     NaN   \n",
       "..                                                 ...   ...     ...   \n",
       "283  [[1, 18], [2, 17], [3, 16], [4, 15], [5, 14], ...   NaN     NaN   \n",
       "284  [[0, 22], [1, 21], [2, 20], [3, 19], [4, 18], ...   NaN     NaN   \n",
       "285                           [[0, 9], [1, 8], [2, 7]]   NaN     NaN   \n",
       "286  [[0, 27], [1, 26], [2, 25], [3, 24], [4, 23], ...   NaN     NaN   \n",
       "287  [[0, 19], [1, 18], [2, 17], [3, 16], [4, 15], ...   NaN     NaN   \n",
       "\n",
       "                                               source  \n",
       "0    rnacentral_synthetic contains archiveII_filtered  \n",
       "1    rnacentral_synthetic contains archiveII_filtered  \n",
       "2    rnacentral_synthetic contains archiveII_filtered  \n",
       "3                               bpRNA-1m contains PDB  \n",
       "4                               bpRNA-1m contains PDB  \n",
       "..                                                ...  \n",
       "283                             bpRNA-1m contains PDB  \n",
       "284                             bpRNA-1m contains PDB  \n",
       "285                             bpRNA-1m contains PDB  \n",
       "286                             bpRNA-1m contains PDB  \n",
       "287                             bpRNA-1m contains PDB  \n",
       "\n",
       "[288 rows x 12 columns]"
      ]
     },
     "execution_count": 49,
     "metadata": {},
     "output_type": "execute_result"
    }
   ],
   "source": [
    "intersection"
   ]
  },
  {
   "cell_type": "code",
   "execution_count": 23,
   "metadata": {},
   "outputs": [
    {
     "name": "stdout",
     "output_type": "stream",
     "text": [
      "288/761 sequences of the testing set are in the training set\n"
     ]
    }
   ],
   "source": [
    "print(\"{}/{} sequences of the testing set are in the training set\".format(len(set(test_set['sequence']).intersection(set(train_set['sequence']))), len(test_set['sequence'])))"
   ]
  },
  {
   "cell_type": "code",
   "execution_count": 31,
   "metadata": {},
   "outputs": [
    {
     "data": {
      "application/vnd.plotly.v1+json": {
       "config": {
        "plotlyServerURL": "https://plot.ly"
       },
       "data": [
        {
         "domain": {
          "x": [
           0,
           1
          ],
          "y": [
           0,
           1
          ]
         },
         "hovertemplate": "source=%{label}<extra></extra>",
         "labels": [
          "rnacentral_synthetic contains archiveII_filtered",
          "rnacentral_synthetic contains archiveII_filtered",
          "rnacentral_synthetic contains archiveII_filtered",
          "bpRNA-1m contains PDB",
          "bpRNA-1m contains PDB",
          "bpRNA-1m contains PDB",
          "bpRNA-1m contains PDB",
          "bpRNA-1m contains PDB",
          "bpRNA-1m contains PDB",
          "bpRNA-1m contains PDB",
          "bpRNA-1m contains PDB",
          "bpRNA-1m contains PDB",
          "bpRNA-1m contains PDB",
          "bpRNA-1m contains PDB",
          "bpRNA-1m contains PDB",
          "bpRNA-1m contains PDB",
          "bpRNA-1m contains PDB",
          "bpRNA-1m contains PDB",
          "bpRNA-1m contains PDB",
          "bpRNA-1m contains PDB",
          "bpRNA-1m contains PDB",
          "bpRNA-1m contains PDB",
          "bpRNA-1m contains PDB",
          "bpRNA-1m contains PDB",
          "bpRNA-1m contains PDB",
          "bpRNA-1m contains PDB",
          "bpRNA-1m contains PDB",
          "bpRNA-1m contains PDB",
          "bpRNA-1m contains PDB",
          "bpRNA-1m contains PDB",
          "bpRNA-1m contains PDB",
          "bpRNA-1m contains PDB",
          "bpRNA-1m contains PDB",
          "bpRNA-1m contains PDB",
          "bpRNA-1m contains PDB",
          "bpRNA-1m contains PDB",
          "bpRNA-1m contains PDB",
          "bpRNA-1m contains PDB",
          "bpRNA-1m contains PDB",
          "bpRNA-1m contains PDB",
          "bpRNA-1m contains PDB",
          "bpRNA-1m contains PDB",
          "bpRNA-1m contains PDB",
          "bpRNA-1m contains PDB",
          "bpRNA-1m contains PDB",
          "bpRNA-1m contains PDB",
          "bpRNA-1m contains PDB",
          "bpRNA-1m contains PDB",
          "bpRNA-1m contains PDB",
          "bpRNA-1m contains PDB",
          "bpRNA-1m contains PDB",
          "bpRNA-1m contains PDB",
          "bpRNA-1m contains PDB",
          "bpRNA-1m contains PDB",
          "bpRNA-1m contains PDB",
          "bpRNA-1m contains PDB",
          "bpRNA-1m contains PDB",
          "bpRNA-1m contains PDB",
          "bpRNA-1m contains PDB",
          "bpRNA-1m contains PDB",
          "bpRNA-1m contains PDB",
          "bpRNA-1m contains PDB",
          "bpRNA-1m contains PDB",
          "bpRNA-1m contains PDB",
          "bpRNA-1m contains PDB",
          "bpRNA-1m contains PDB",
          "bpRNA-1m contains PDB",
          "bpRNA-1m contains PDB",
          "bpRNA-1m contains PDB",
          "bpRNA-1m contains PDB",
          "bpRNA-1m contains PDB",
          "bpRNA-1m contains PDB",
          "bpRNA-1m contains PDB",
          "bpRNA-1m contains PDB",
          "bpRNA-1m contains PDB",
          "bpRNA-1m contains PDB",
          "bpRNA-1m contains PDB",
          "bpRNA-1m contains PDB",
          "bpRNA-1m contains PDB",
          "bpRNA-1m contains PDB",
          "bpRNA-1m contains PDB",
          "bpRNA-1m contains PDB",
          "bpRNA-1m contains PDB",
          "bpRNA-1m contains PDB",
          "bpRNA-1m contains PDB",
          "bpRNA-1m contains PDB",
          "bpRNA-1m contains PDB",
          "bpRNA-1m contains PDB",
          "bpRNA-1m contains PDB",
          "bpRNA-1m contains PDB",
          "bpRNA-1m contains PDB",
          "bpRNA-1m contains PDB",
          "bpRNA-1m contains PDB",
          "bpRNA-1m contains PDB",
          "bpRNA-1m contains PDB",
          "bpRNA-1m contains PDB",
          "bpRNA-1m contains PDB",
          "bpRNA-1m contains PDB",
          "bpRNA-1m contains PDB",
          "bpRNA-1m contains PDB",
          "bpRNA-1m contains PDB",
          "bpRNA-1m contains PDB",
          "bpRNA-1m contains PDB",
          "bpRNA-1m contains PDB",
          "bpRNA-1m contains PDB",
          "bpRNA-1m contains PDB",
          "bpRNA-1m contains PDB",
          "bpRNA-1m contains PDB",
          "bpRNA-1m contains PDB",
          "bpRNA-1m contains PDB",
          "bpRNA-1m contains PDB",
          "bpRNA-1m contains PDB",
          "bpRNA-1m contains PDB",
          "bpRNA-1m contains PDB",
          "bpRNA-1m contains PDB",
          "bpRNA-1m contains PDB",
          "bpRNA-1m contains PDB",
          "bpRNA-1m contains PDB",
          "bpRNA-1m contains PDB",
          "bpRNA-1m contains PDB",
          "bpRNA-1m contains PDB",
          "bpRNA-1m contains PDB",
          "bpRNA-1m contains PDB",
          "bpRNA-1m contains PDB",
          "bpRNA-1m contains PDB",
          "bpRNA-1m contains PDB",
          "bpRNA-1m contains PDB",
          "bpRNA-1m contains PDB",
          "bpRNA-1m contains PDB",
          "bpRNA-1m contains PDB",
          "bpRNA-1m contains PDB",
          "bpRNA-1m contains PDB",
          "bpRNA-1m contains PDB",
          "bpRNA-1m contains PDB",
          "bpRNA-1m contains PDB",
          "bpRNA-1m contains PDB",
          "bpRNA-1m contains PDB",
          "bpRNA-1m contains PDB",
          "bpRNA-1m contains PDB",
          "bpRNA-1m contains PDB",
          "bpRNA-1m contains PDB",
          "bpRNA-1m contains PDB",
          "bpRNA-1m contains PDB",
          "bpRNA-1m contains PDB",
          "bpRNA-1m contains PDB",
          "bpRNA-1m contains PDB",
          "bpRNA-1m contains PDB",
          "bpRNA-1m contains PDB",
          "bpRNA-1m contains PDB",
          "bpRNA-1m contains PDB",
          "bpRNA-1m contains PDB",
          "bpRNA-1m contains PDB",
          "bpRNA-1m contains PDB",
          "bpRNA-1m contains PDB",
          "bpRNA-1m contains PDB",
          "bpRNA-1m contains PDB",
          "bpRNA-1m contains PDB",
          "bpRNA-1m contains PDB",
          "bpRNA-1m contains PDB",
          "bpRNA-1m contains PDB",
          "bpRNA-1m contains PDB",
          "bpRNA-1m contains PDB",
          "bpRNA-1m contains PDB",
          "bpRNA-1m contains PDB",
          "bpRNA-1m contains PDB",
          "bpRNA-1m contains PDB",
          "bpRNA-1m contains PDB",
          "bpRNA-1m contains PDB",
          "bpRNA-1m contains PDB",
          "bpRNA-1m contains PDB",
          "bpRNA-1m contains PDB",
          "bpRNA-1m contains PDB",
          "bpRNA-1m contains PDB",
          "bpRNA-1m contains PDB",
          "bpRNA-1m contains PDB",
          "bpRNA-1m contains PDB",
          "bpRNA-1m contains PDB",
          "bpRNA-1m contains PDB",
          "bpRNA-1m contains PDB",
          "bpRNA-1m contains PDB",
          "bpRNA-1m contains PDB",
          "bpRNA-1m contains PDB",
          "bpRNA-1m contains PDB",
          "bpRNA-1m contains PDB",
          "bpRNA-1m contains PDB",
          "bpRNA-1m contains PDB",
          "bpRNA-1m contains PDB",
          "bpRNA-1m contains PDB",
          "bpRNA-1m contains PDB",
          "bpRNA-1m contains PDB",
          "bpRNA-1m contains PDB",
          "bpRNA-1m contains PDB",
          "bpRNA-1m contains PDB",
          "bpRNA-1m contains PDB",
          "bpRNA-1m contains PDB",
          "bpRNA-1m contains PDB",
          "bpRNA-1m contains PDB",
          "bpRNA-1m contains PDB",
          "bpRNA-1m contains PDB",
          "bpRNA-1m contains PDB",
          "bpRNA-1m contains PDB",
          "bpRNA-1m contains PDB",
          "bpRNA-1m contains PDB",
          "bpRNA-1m contains PDB",
          "bpRNA-1m contains PDB",
          "bpRNA-1m contains PDB",
          "bpRNA-1m contains PDB",
          "bpRNA-1m contains PDB",
          "bpRNA-1m contains PDB",
          "bpRNA-1m contains PDB",
          "bpRNA-1m contains PDB",
          "bpRNA-1m contains PDB",
          "bpRNA-1m contains PDB",
          "bpRNA-1m contains PDB",
          "bpRNA-1m contains PDB",
          "bpRNA-1m contains PDB",
          "bpRNA-1m contains PDB",
          "bpRNA-1m contains PDB",
          "bpRNA-1m contains PDB",
          "bpRNA-1m contains PDB",
          "bpRNA-1m contains PDB",
          "bpRNA-1m contains PDB",
          "bpRNA-1m contains PDB",
          "bpRNA-1m contains PDB",
          "bpRNA-1m contains PDB",
          "bpRNA-1m contains PDB",
          "bpRNA-1m contains PDB",
          "bpRNA-1m contains PDB",
          "bpRNA-1m contains PDB",
          "bpRNA-1m contains PDB",
          "bpRNA-1m contains PDB",
          "bpRNA-1m contains PDB",
          "bpRNA-1m contains PDB",
          "bpRNA-1m contains PDB",
          "bpRNA-1m contains PDB",
          "bpRNA-1m contains PDB",
          "bpRNA-1m contains PDB",
          "bpRNA-1m contains PDB",
          "bpRNA-1m contains PDB",
          "bpRNA-1m contains PDB",
          "bpRNA-1m contains PDB",
          "bpRNA-1m contains PDB",
          "bpRNA-1m contains PDB",
          "bpRNA-1m contains PDB",
          "bpRNA-1m contains PDB",
          "bpRNA-1m contains PDB",
          "bpRNA-1m contains PDB",
          "bpRNA-1m contains PDB",
          "bpRNA-1m contains PDB",
          "bpRNA-1m contains PDB",
          "bpRNA-1m contains PDB",
          "bpRNA-1m contains PDB",
          "bpRNA-1m contains PDB",
          "bpRNA-1m contains PDB",
          "bpRNA-1m contains PDB",
          "bpRNA-1m contains PDB",
          "bpRNA-1m contains PDB",
          "bpRNA-1m contains PDB",
          "bpRNA-1m contains PDB",
          "bpRNA-1m contains PDB",
          "bpRNA-1m contains PDB",
          "bpRNA-1m contains PDB",
          "bpRNA-1m contains PDB",
          "bpRNA-1m contains PDB",
          "bpRNA-1m contains PDB",
          "bpRNA-1m contains PDB",
          "bpRNA-1m contains PDB",
          "bpRNA-1m contains PDB",
          "bpRNA-1m contains PDB",
          "bpRNA-1m contains PDB",
          "bpRNA-1m contains PDB",
          "bpRNA-1m contains PDB",
          "bpRNA-1m contains PDB",
          "bpRNA-1m contains PDB",
          "bpRNA-1m contains PDB",
          "bpRNA-1m contains PDB",
          "bpRNA-1m contains PDB",
          "bpRNA-1m contains PDB",
          "bpRNA-1m contains PDB",
          "bpRNA-1m contains PDB",
          "bpRNA-1m contains PDB",
          "bpRNA-1m contains PDB",
          "bpRNA-1m contains PDB",
          "bpRNA-1m contains PDB",
          "bpRNA-1m contains PDB",
          "bpRNA-1m contains PDB",
          "bpRNA-1m contains PDB",
          "bpRNA-1m contains PDB"
         ],
         "legendgroup": "",
         "name": "",
         "showlegend": true,
         "type": "pie"
        }
       ],
       "layout": {
        "legend": {
         "tracegroupgap": 0
        },
        "template": {
         "data": {
          "bar": [
           {
            "error_x": {
             "color": "#2a3f5f"
            },
            "error_y": {
             "color": "#2a3f5f"
            },
            "marker": {
             "line": {
              "color": "#E5ECF6",
              "width": 0.5
             },
             "pattern": {
              "fillmode": "overlay",
              "size": 10,
              "solidity": 0.2
             }
            },
            "type": "bar"
           }
          ],
          "barpolar": [
           {
            "marker": {
             "line": {
              "color": "#E5ECF6",
              "width": 0.5
             },
             "pattern": {
              "fillmode": "overlay",
              "size": 10,
              "solidity": 0.2
             }
            },
            "type": "barpolar"
           }
          ],
          "carpet": [
           {
            "aaxis": {
             "endlinecolor": "#2a3f5f",
             "gridcolor": "white",
             "linecolor": "white",
             "minorgridcolor": "white",
             "startlinecolor": "#2a3f5f"
            },
            "baxis": {
             "endlinecolor": "#2a3f5f",
             "gridcolor": "white",
             "linecolor": "white",
             "minorgridcolor": "white",
             "startlinecolor": "#2a3f5f"
            },
            "type": "carpet"
           }
          ],
          "choropleth": [
           {
            "colorbar": {
             "outlinewidth": 0,
             "ticks": ""
            },
            "type": "choropleth"
           }
          ],
          "contour": [
           {
            "colorbar": {
             "outlinewidth": 0,
             "ticks": ""
            },
            "colorscale": [
             [
              0,
              "#0d0887"
             ],
             [
              0.1111111111111111,
              "#46039f"
             ],
             [
              0.2222222222222222,
              "#7201a8"
             ],
             [
              0.3333333333333333,
              "#9c179e"
             ],
             [
              0.4444444444444444,
              "#bd3786"
             ],
             [
              0.5555555555555556,
              "#d8576b"
             ],
             [
              0.6666666666666666,
              "#ed7953"
             ],
             [
              0.7777777777777778,
              "#fb9f3a"
             ],
             [
              0.8888888888888888,
              "#fdca26"
             ],
             [
              1,
              "#f0f921"
             ]
            ],
            "type": "contour"
           }
          ],
          "contourcarpet": [
           {
            "colorbar": {
             "outlinewidth": 0,
             "ticks": ""
            },
            "type": "contourcarpet"
           }
          ],
          "heatmap": [
           {
            "colorbar": {
             "outlinewidth": 0,
             "ticks": ""
            },
            "colorscale": [
             [
              0,
              "#0d0887"
             ],
             [
              0.1111111111111111,
              "#46039f"
             ],
             [
              0.2222222222222222,
              "#7201a8"
             ],
             [
              0.3333333333333333,
              "#9c179e"
             ],
             [
              0.4444444444444444,
              "#bd3786"
             ],
             [
              0.5555555555555556,
              "#d8576b"
             ],
             [
              0.6666666666666666,
              "#ed7953"
             ],
             [
              0.7777777777777778,
              "#fb9f3a"
             ],
             [
              0.8888888888888888,
              "#fdca26"
             ],
             [
              1,
              "#f0f921"
             ]
            ],
            "type": "heatmap"
           }
          ],
          "heatmapgl": [
           {
            "colorbar": {
             "outlinewidth": 0,
             "ticks": ""
            },
            "colorscale": [
             [
              0,
              "#0d0887"
             ],
             [
              0.1111111111111111,
              "#46039f"
             ],
             [
              0.2222222222222222,
              "#7201a8"
             ],
             [
              0.3333333333333333,
              "#9c179e"
             ],
             [
              0.4444444444444444,
              "#bd3786"
             ],
             [
              0.5555555555555556,
              "#d8576b"
             ],
             [
              0.6666666666666666,
              "#ed7953"
             ],
             [
              0.7777777777777778,
              "#fb9f3a"
             ],
             [
              0.8888888888888888,
              "#fdca26"
             ],
             [
              1,
              "#f0f921"
             ]
            ],
            "type": "heatmapgl"
           }
          ],
          "histogram": [
           {
            "marker": {
             "pattern": {
              "fillmode": "overlay",
              "size": 10,
              "solidity": 0.2
             }
            },
            "type": "histogram"
           }
          ],
          "histogram2d": [
           {
            "colorbar": {
             "outlinewidth": 0,
             "ticks": ""
            },
            "colorscale": [
             [
              0,
              "#0d0887"
             ],
             [
              0.1111111111111111,
              "#46039f"
             ],
             [
              0.2222222222222222,
              "#7201a8"
             ],
             [
              0.3333333333333333,
              "#9c179e"
             ],
             [
              0.4444444444444444,
              "#bd3786"
             ],
             [
              0.5555555555555556,
              "#d8576b"
             ],
             [
              0.6666666666666666,
              "#ed7953"
             ],
             [
              0.7777777777777778,
              "#fb9f3a"
             ],
             [
              0.8888888888888888,
              "#fdca26"
             ],
             [
              1,
              "#f0f921"
             ]
            ],
            "type": "histogram2d"
           }
          ],
          "histogram2dcontour": [
           {
            "colorbar": {
             "outlinewidth": 0,
             "ticks": ""
            },
            "colorscale": [
             [
              0,
              "#0d0887"
             ],
             [
              0.1111111111111111,
              "#46039f"
             ],
             [
              0.2222222222222222,
              "#7201a8"
             ],
             [
              0.3333333333333333,
              "#9c179e"
             ],
             [
              0.4444444444444444,
              "#bd3786"
             ],
             [
              0.5555555555555556,
              "#d8576b"
             ],
             [
              0.6666666666666666,
              "#ed7953"
             ],
             [
              0.7777777777777778,
              "#fb9f3a"
             ],
             [
              0.8888888888888888,
              "#fdca26"
             ],
             [
              1,
              "#f0f921"
             ]
            ],
            "type": "histogram2dcontour"
           }
          ],
          "mesh3d": [
           {
            "colorbar": {
             "outlinewidth": 0,
             "ticks": ""
            },
            "type": "mesh3d"
           }
          ],
          "parcoords": [
           {
            "line": {
             "colorbar": {
              "outlinewidth": 0,
              "ticks": ""
             }
            },
            "type": "parcoords"
           }
          ],
          "pie": [
           {
            "automargin": true,
            "type": "pie"
           }
          ],
          "scatter": [
           {
            "fillpattern": {
             "fillmode": "overlay",
             "size": 10,
             "solidity": 0.2
            },
            "type": "scatter"
           }
          ],
          "scatter3d": [
           {
            "line": {
             "colorbar": {
              "outlinewidth": 0,
              "ticks": ""
             }
            },
            "marker": {
             "colorbar": {
              "outlinewidth": 0,
              "ticks": ""
             }
            },
            "type": "scatter3d"
           }
          ],
          "scattercarpet": [
           {
            "marker": {
             "colorbar": {
              "outlinewidth": 0,
              "ticks": ""
             }
            },
            "type": "scattercarpet"
           }
          ],
          "scattergeo": [
           {
            "marker": {
             "colorbar": {
              "outlinewidth": 0,
              "ticks": ""
             }
            },
            "type": "scattergeo"
           }
          ],
          "scattergl": [
           {
            "marker": {
             "colorbar": {
              "outlinewidth": 0,
              "ticks": ""
             }
            },
            "type": "scattergl"
           }
          ],
          "scattermapbox": [
           {
            "marker": {
             "colorbar": {
              "outlinewidth": 0,
              "ticks": ""
             }
            },
            "type": "scattermapbox"
           }
          ],
          "scatterpolar": [
           {
            "marker": {
             "colorbar": {
              "outlinewidth": 0,
              "ticks": ""
             }
            },
            "type": "scatterpolar"
           }
          ],
          "scatterpolargl": [
           {
            "marker": {
             "colorbar": {
              "outlinewidth": 0,
              "ticks": ""
             }
            },
            "type": "scatterpolargl"
           }
          ],
          "scatterternary": [
           {
            "marker": {
             "colorbar": {
              "outlinewidth": 0,
              "ticks": ""
             }
            },
            "type": "scatterternary"
           }
          ],
          "surface": [
           {
            "colorbar": {
             "outlinewidth": 0,
             "ticks": ""
            },
            "colorscale": [
             [
              0,
              "#0d0887"
             ],
             [
              0.1111111111111111,
              "#46039f"
             ],
             [
              0.2222222222222222,
              "#7201a8"
             ],
             [
              0.3333333333333333,
              "#9c179e"
             ],
             [
              0.4444444444444444,
              "#bd3786"
             ],
             [
              0.5555555555555556,
              "#d8576b"
             ],
             [
              0.6666666666666666,
              "#ed7953"
             ],
             [
              0.7777777777777778,
              "#fb9f3a"
             ],
             [
              0.8888888888888888,
              "#fdca26"
             ],
             [
              1,
              "#f0f921"
             ]
            ],
            "type": "surface"
           }
          ],
          "table": [
           {
            "cells": {
             "fill": {
              "color": "#EBF0F8"
             },
             "line": {
              "color": "white"
             }
            },
            "header": {
             "fill": {
              "color": "#C8D4E3"
             },
             "line": {
              "color": "white"
             }
            },
            "type": "table"
           }
          ]
         },
         "layout": {
          "annotationdefaults": {
           "arrowcolor": "#2a3f5f",
           "arrowhead": 0,
           "arrowwidth": 1
          },
          "autotypenumbers": "strict",
          "coloraxis": {
           "colorbar": {
            "outlinewidth": 0,
            "ticks": ""
           }
          },
          "colorscale": {
           "diverging": [
            [
             0,
             "#8e0152"
            ],
            [
             0.1,
             "#c51b7d"
            ],
            [
             0.2,
             "#de77ae"
            ],
            [
             0.3,
             "#f1b6da"
            ],
            [
             0.4,
             "#fde0ef"
            ],
            [
             0.5,
             "#f7f7f7"
            ],
            [
             0.6,
             "#e6f5d0"
            ],
            [
             0.7,
             "#b8e186"
            ],
            [
             0.8,
             "#7fbc41"
            ],
            [
             0.9,
             "#4d9221"
            ],
            [
             1,
             "#276419"
            ]
           ],
           "sequential": [
            [
             0,
             "#0d0887"
            ],
            [
             0.1111111111111111,
             "#46039f"
            ],
            [
             0.2222222222222222,
             "#7201a8"
            ],
            [
             0.3333333333333333,
             "#9c179e"
            ],
            [
             0.4444444444444444,
             "#bd3786"
            ],
            [
             0.5555555555555556,
             "#d8576b"
            ],
            [
             0.6666666666666666,
             "#ed7953"
            ],
            [
             0.7777777777777778,
             "#fb9f3a"
            ],
            [
             0.8888888888888888,
             "#fdca26"
            ],
            [
             1,
             "#f0f921"
            ]
           ],
           "sequentialminus": [
            [
             0,
             "#0d0887"
            ],
            [
             0.1111111111111111,
             "#46039f"
            ],
            [
             0.2222222222222222,
             "#7201a8"
            ],
            [
             0.3333333333333333,
             "#9c179e"
            ],
            [
             0.4444444444444444,
             "#bd3786"
            ],
            [
             0.5555555555555556,
             "#d8576b"
            ],
            [
             0.6666666666666666,
             "#ed7953"
            ],
            [
             0.7777777777777778,
             "#fb9f3a"
            ],
            [
             0.8888888888888888,
             "#fdca26"
            ],
            [
             1,
             "#f0f921"
            ]
           ]
          },
          "colorway": [
           "#636efa",
           "#EF553B",
           "#00cc96",
           "#ab63fa",
           "#FFA15A",
           "#19d3f3",
           "#FF6692",
           "#B6E880",
           "#FF97FF",
           "#FECB52"
          ],
          "font": {
           "color": "#2a3f5f"
          },
          "geo": {
           "bgcolor": "white",
           "lakecolor": "white",
           "landcolor": "#E5ECF6",
           "showlakes": true,
           "showland": true,
           "subunitcolor": "white"
          },
          "hoverlabel": {
           "align": "left"
          },
          "hovermode": "closest",
          "mapbox": {
           "style": "light"
          },
          "paper_bgcolor": "white",
          "plot_bgcolor": "#E5ECF6",
          "polar": {
           "angularaxis": {
            "gridcolor": "white",
            "linecolor": "white",
            "ticks": ""
           },
           "bgcolor": "#E5ECF6",
           "radialaxis": {
            "gridcolor": "white",
            "linecolor": "white",
            "ticks": ""
           }
          },
          "scene": {
           "xaxis": {
            "backgroundcolor": "#E5ECF6",
            "gridcolor": "white",
            "gridwidth": 2,
            "linecolor": "white",
            "showbackground": true,
            "ticks": "",
            "zerolinecolor": "white"
           },
           "yaxis": {
            "backgroundcolor": "#E5ECF6",
            "gridcolor": "white",
            "gridwidth": 2,
            "linecolor": "white",
            "showbackground": true,
            "ticks": "",
            "zerolinecolor": "white"
           },
           "zaxis": {
            "backgroundcolor": "#E5ECF6",
            "gridcolor": "white",
            "gridwidth": 2,
            "linecolor": "white",
            "showbackground": true,
            "ticks": "",
            "zerolinecolor": "white"
           }
          },
          "shapedefaults": {
           "line": {
            "color": "#2a3f5f"
           }
          },
          "ternary": {
           "aaxis": {
            "gridcolor": "white",
            "linecolor": "white",
            "ticks": ""
           },
           "baxis": {
            "gridcolor": "white",
            "linecolor": "white",
            "ticks": ""
           },
           "bgcolor": "#E5ECF6",
           "caxis": {
            "gridcolor": "white",
            "linecolor": "white",
            "ticks": ""
           }
          },
          "title": {
           "x": 0.05
          },
          "xaxis": {
           "automargin": true,
           "gridcolor": "white",
           "linecolor": "white",
           "ticks": "",
           "title": {
            "standoff": 15
           },
           "zerolinecolor": "white",
           "zerolinewidth": 2
          },
          "yaxis": {
           "automargin": true,
           "gridcolor": "white",
           "linecolor": "white",
           "ticks": "",
           "title": {
            "standoff": 15
           },
           "zerolinecolor": "white",
           "zerolinewidth": 2
          }
         }
        },
        "title": {
         "text": "Sources of the sequences in the intersection of the training and testing sets"
        }
       }
      }
     },
     "metadata": {},
     "output_type": "display_data"
    }
   ],
   "source": [
    "intersection = pd.merge(train_set.reset_index(), test_set.reset_index(), on='sequence', how='inner')\n",
    "\n",
    "import plotly.express as px\n",
    "\n",
    "intersection['source'] = intersection['level_0_x'] + ' contains ' + intersection['level_0_y']\n",
    "\n",
    "fig = px.pie(intersection, names='source', title='Sources of the sequences in the intersection of the training and testing sets')\n",
    "fig.show()"
   ]
  },
  {
   "cell_type": "code",
   "execution_count": 46,
   "metadata": {},
   "outputs": [
    {
     "data": {
      "text/plain": [
       "MultiIndex([('rnacentral_synthetic',  'RF02271.fa.csv_1'),\n",
       "            ('rnacentral_synthetic',  'RF02271.fa.csv_2'),\n",
       "            ('rnacentral_synthetic',  'RF02271.fa.csv_3'),\n",
       "            ('rnacentral_synthetic',  'RF02271.fa.csv_4'),\n",
       "            ('rnacentral_synthetic',  'RF02271.fa.csv_5'),\n",
       "            ('rnacentral_synthetic',  'RF02271.fa.csv_6'),\n",
       "            ('rnacentral_synthetic',  'RF02271.fa.csv_7'),\n",
       "            ('rnacentral_synthetic',  'RF02271.fa.csv_8'),\n",
       "            ('rnacentral_synthetic',  'RF02271.fa.csv_9'),\n",
       "            ('rnacentral_synthetic', 'RF02271.fa.csv_10'),\n",
       "            ...\n",
       "            (          'human_mRNA', 'ENSG00000283329.2'),\n",
       "            (          'human_mRNA', 'ENSG00000283706.2'),\n",
       "            (          'human_mRNA', 'ENSG00000283755.2'),\n",
       "            (          'human_mRNA', 'ENSG00000283980.1'),\n",
       "            (          'human_mRNA', 'ENSG00000284638.2'),\n",
       "            (          'human_mRNA', 'ENSG00000284791.2'),\n",
       "            (          'human_mRNA', 'ENSG00000286522.2'),\n",
       "            (          'human_mRNA', 'ENSG00000287363.4'),\n",
       "            (          'human_mRNA', 'ENSG00000288920.1'),\n",
       "            (          'human_mRNA', 'ENSG00000291309.1')],\n",
       "           length=359472)"
      ]
     },
     "execution_count": 46,
     "metadata": {},
     "output_type": "execute_result"
    }
   ],
   "source": [
    "train_set.index"
   ]
  },
  {
   "cell_type": "code",
   "execution_count": 41,
   "metadata": {},
   "outputs": [
    {
     "name": "stdout",
     "output_type": "stream",
     "text": [
      "\n",
      "\n",
      "Building a new DB, current time: 05/08/2024 14:20:57\n",
      "New DB name:   /Users/yvesmartin/src/supermodels-data/blast/train\n",
      "New DB title:  blast/train.fasta\n",
      "Sequence type: Nucleotide\n",
      "Keep MBits: T\n",
      "Maximum file size: 3000000000B\n",
      "BLAST options error: File blast/train.fasta does not exist\n"
     ]
    }
   ],
   "source": [
    "# tun blast\n",
    "\n",
    "!mkdir -p blast\n",
    "\n",
    "def write_fasta(filename, df):\n",
    "    with open(filename, 'w') as f:\n",
    "        for i, seq in enumerate(sequences):\n",
    "            f.write(\">{}\\n{}\\n\".format(i, seq))\n",
    "            \n",
    "    \n",
    "# make a blast database\n",
    "!makeblastdb -in blast/train.fasta -dbtype nucl -out blast/train\n"
   ]
  },
  {
   "cell_type": "code",
   "execution_count": null,
   "metadata": {},
   "outputs": [],
   "source": []
  }
 ],
 "metadata": {
  "kernelspec": {
   "display_name": "Python 3",
   "language": "python",
   "name": "python3"
  },
  "language_info": {
   "codemirror_mode": {
    "name": "ipython",
    "version": 3
   },
   "file_extension": ".py",
   "mimetype": "text/x-python",
   "name": "python",
   "nbconvert_exporter": "python",
   "pygments_lexer": "ipython3",
   "version": "3.11.6"
  }
 },
 "nbformat": 4,
 "nbformat_minor": 2
}
