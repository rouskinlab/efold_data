{
 "cells": [
  {
   "cell_type": "markdown",
   "metadata": {},
   "source": [
    "## Fragment long viral RNA "
   ]
  },
  {
   "cell_type": "code",
   "execution_count": 1,
   "metadata": {},
   "outputs": [],
   "source": [
    "from rouskinhf import convert\n",
    "import pandas as pd\n",
    "import numpy as np\n",
    "\n",
    "from src import compare_frags"
   ]
  },
  {
   "cell_type": "markdown",
   "metadata": {},
   "source": [
    "### SARS"
   ]
  },
  {
   "cell_type": "code",
   "execution_count": 2,
   "metadata": {},
   "outputs": [
    {
     "name": "stderr",
     "output_type": "stream",
     "text": [
      "Parsing ct files:   0%|          | 0/1 [00:00<?, ?it/s]"
     ]
    },
    {
     "name": "stderr",
     "output_type": "stream",
     "text": [
      "Parsing ct files: 100%|██████████| 1/1 [00:00<00:00, 32.51it/s]\n"
     ]
    },
    {
     "name": "stdout",
     "output_type": "stream",
     "text": [
      "Drop 0 datapoints with None values (null sequence or reference)\n"
     ]
    }
   ],
   "source": [
    "## Import data from Sun\n",
    "\n",
    "# Import ct file\n",
    "data = convert(\n",
    "    'ct',\n",
    "    'data/SARS2/Sun/',\n",
    "    name='SARS2',\n",
    "    path_out='',\n",
    "    filter=False\n",
    ")\n",
    "df = pd.DataFrame(data).T\n",
    "sequence_Sun = df['sequence']['SARS2'].upper().replace('T','U')\n",
    "paired_bases_Sun = np.array(df['structure']['SARS2'])\n",
    "\n",
    "\n",
    "# Import shape file\n",
    "UKN = -1000\n",
    "data_shape = pd.read_excel('data/SARS2/Sun/GSE153984_SARS2-icSHAPE.xlsx', header=None)\n",
    "data_shape.fillna(UKN, inplace=True)\n",
    "\n",
    "full_shape_Sun = data_shape[2].values\n",
    "assert ''.join(data_shape[1].tolist()).upper().replace('T','U') == sequence_Sun, 'Sequence mismatch'"
   ]
  },
  {
   "cell_type": "code",
   "execution_count": 3,
   "metadata": {},
   "outputs": [
    {
     "name": "stderr",
     "output_type": "stream",
     "text": [
      "Parsing ct files: 100%|██████████| 1/1 [00:00<00:00, 38.09it/s]\n"
     ]
    },
    {
     "name": "stdout",
     "output_type": "stream",
     "text": [
      "Drop 0 datapoints with None values (null sequence or reference)\n"
     ]
    }
   ],
   "source": [
    "## Import data from Lan\n",
    "\n",
    "# Import ct file\n",
    "data = convert(\n",
    "    'ct',\n",
    "    'data/SARS2/Lan/',\n",
    "    name='SARS',\n",
    "    path_out='',\n",
    "    filter=False\n",
    ")\n",
    "df = pd.DataFrame(data).T\n",
    "sequence_Lan = df['sequence']['SARS']\n",
    "paired_bases_Lan = np.array(df['structure']['SARS'])\n",
    "\n",
    "# Import dms file\n",
    "UKN = -1000\n",
    "data_dms = pd.read_excel('data/SARS2/Lan/SARS_DMS.xlsx')\n",
    "data_dms.fillna(UKN, inplace=True)\n",
    "\n",
    "full_dms_Lan = data_dms['Vero (filtered)'].values\n",
    "max_dms = np.median(full_dms_Lan[full_dms_Lan!=UKN][full_dms_Lan[full_dms_Lan!=UKN]>np.percentile(full_dms_Lan[full_dms_Lan!=UKN], 95)])\n",
    "full_dms_Lan[full_dms_Lan!=UKN] =  full_dms_Lan[full_dms_Lan!=UKN] / max_dms\n",
    "full_dms_Lan[full_dms_Lan>1] = 1\n",
    "\n",
    "assert ''.join(data_dms['Nucleotide'].tolist()) == sequence_Lan, 'Sequence mismatch'"
   ]
  },
  {
   "cell_type": "code",
   "execution_count": 5,
   "metadata": {},
   "outputs": [],
   "source": [
    "gold_data = compare_frags([sequence_Lan, sequence_Sun], [full_dms_Lan, full_shape_Sun], [paired_bases_Lan, paired_bases_Sun])"
   ]
  },
  {
   "cell_type": "markdown",
   "metadata": {},
   "source": [
    "### HIV"
   ]
  },
  {
   "cell_type": "code",
   "execution_count": 32,
   "metadata": {},
   "outputs": [],
   "source": [
    "all_struct_HIV = pd.read_excel('data/HIV/nar-01265-r-2015-File010.xlsx', header=1)\n",
    "\n",
    "def convert_to_CT(df, column, name, path):\n",
    "    df_CT = df[['Position', 'Nucleotide ', column]].copy()\n",
    "\n",
    "    df_CT['Position+1'] = df_CT['Position'] + 1\n",
    "    df_CT['Position-1'] = df_CT['Position'] - 1\n",
    "    df_CT[['Position', 'Nucleotide ', 'Position-1', 'Position+1', column, 'Position']].to_csv(path, sep='\\t', index=False, header=[name, str(len(df))]+['']*4)\n",
    "\n",
    "\n",
    "convert_to_CT(all_struct_HIV, column='Watts09', name='HIV', path='data/HIV/Watts/HIV.ct')\n",
    "convert_to_CT(all_struct_HIV, column='PPfold, SHAPE', name='HIV', path='data/HIV/Sukosd/HIV.ct')\n",
    "\n",
    "# Import shape file\n",
    "UKN = -1000\n",
    "data_shape = pd.read_csv('data/HIV/Sukosd/41586_2009_BFnature08237_MOESM312_ESM.txt', header=None, sep='\\t')\n",
    "data_shape.fillna(UKN, inplace=True)\n",
    "full_shape_HIV = data_shape[2].values"
   ]
  },
  {
   "cell_type": "code",
   "execution_count": 33,
   "metadata": {},
   "outputs": [
    {
     "name": "stderr",
     "output_type": "stream",
     "text": [
      "Parsing ct files: 100%|██████████| 1/1 [00:00<00:00, 76.19it/s]"
     ]
    },
    {
     "name": "stdout",
     "output_type": "stream",
     "text": [
      "Drop 0 datapoints with None values (null sequence or reference)\n"
     ]
    },
    {
     "name": "stderr",
     "output_type": "stream",
     "text": [
      "\n"
     ]
    }
   ],
   "source": [
    "# Import ct file from Watts\n",
    "data = convert(\n",
    "    'ct',\n",
    "    'data/HIV/Watts/',\n",
    "    name='HIV',\n",
    "    path_out='',\n",
    "    filter=False\n",
    ")\n",
    "df = pd.DataFrame(data).T\n",
    "sequence_Watts = df['sequence']['HIV'].upper().replace('T','U')\n",
    "paired_bases_Watts = np.array(df['structure']['HIV'])\n",
    "\n",
    "assert ''.join(data_shape[1].tolist()).upper().replace('T','U') == sequence_Watts, 'Sequence mismatch'"
   ]
  },
  {
   "cell_type": "code",
   "execution_count": 34,
   "metadata": {},
   "outputs": [
    {
     "name": "stderr",
     "output_type": "stream",
     "text": [
      "Parsing ct files: 100%|██████████| 1/1 [00:00<00:00, 100.11it/s]"
     ]
    },
    {
     "name": "stdout",
     "output_type": "stream",
     "text": [
      "Drop 0 datapoints with None values (null sequence or reference)\n"
     ]
    },
    {
     "name": "stderr",
     "output_type": "stream",
     "text": [
      "\n"
     ]
    }
   ],
   "source": [
    "# Import ct file from Sukosd\n",
    "data = convert(\n",
    "    'ct',\n",
    "    'data/HIV/Sukosd/',\n",
    "    name='HIV',\n",
    "    path_out='',\n",
    "    filter=False\n",
    ")\n",
    "df = pd.DataFrame(data).T\n",
    "sequence_Sukosd = df['sequence']['HIV'].upper().replace('T','U')\n",
    "paired_bases_Sukosd = np.array(df['structure']['HIV'])\n",
    "\n",
    "assert ''.join(data_shape[1].tolist()).upper().replace('T','U') == sequence_Sukosd, 'Sequence mismatch'"
   ]
  },
  {
   "cell_type": "code",
   "execution_count": 39,
   "metadata": {},
   "outputs": [
    {
     "data": {
      "text/html": [
       "<div>\n",
       "<style scoped>\n",
       "    .dataframe tbody tr th:only-of-type {\n",
       "        vertical-align: middle;\n",
       "    }\n",
       "\n",
       "    .dataframe tbody tr th {\n",
       "        vertical-align: top;\n",
       "    }\n",
       "\n",
       "    .dataframe thead th {\n",
       "        text-align: right;\n",
       "    }\n",
       "</style>\n",
       "<table border=\"1\" class=\"dataframe\">\n",
       "  <thead>\n",
       "    <tr style=\"text-align: right;\">\n",
       "      <th></th>\n",
       "      <th>sequence</th>\n",
       "      <th>dms</th>\n",
       "    </tr>\n",
       "  </thead>\n",
       "  <tbody>\n",
       "    <tr>\n",
       "      <th>HIV_0</th>\n",
       "      <td>GGUCUCUCUGGUUAGACCAGAUCUGAGCCUGGGAGCUCUCUGGCUA...</td>\n",
       "      <td>[-1000.0, -1000.0, -1000.0, -1000.0, -1000.0, ...</td>\n",
       "    </tr>\n",
       "    <tr>\n",
       "      <th>HIV_1</th>\n",
       "      <td>GGGAACCCACUGCUUAAGCCUCAAUAAAGCUUGCCUUGAGUGCUCA...</td>\n",
       "      <td>[0.61, 0.05, 0.06, 0.04, 0.01, 0.03, 0.42, 0.0...</td>\n",
       "    </tr>\n",
       "  </tbody>\n",
       "</table>\n",
       "</div>"
      ],
      "text/plain": [
       "                                                sequence  \\\n",
       "HIV_0  GGUCUCUCUGGUUAGACCAGAUCUGAGCCUGGGAGCUCUCUGGCUA...   \n",
       "HIV_1  GGGAACCCACUGCUUAAGCCUCAAUAAAGCUUGCCUUGAGUGCUCA...   \n",
       "\n",
       "                                                     dms  \n",
       "HIV_0  [-1000.0, -1000.0, -1000.0, -1000.0, -1000.0, ...  \n",
       "HIV_1  [0.61, 0.05, 0.06, 0.04, 0.01, 0.03, 0.42, 0.0...  "
      ]
     },
     "execution_count": 39,
     "metadata": {},
     "output_type": "execute_result"
    }
   ],
   "source": [
    "compare_frags([sequence_Sukosd, sequence_Watts], [full_shape_HIV, full_shape_HIV], [paired_bases_Sukosd, paired_bases_Watts],\n",
    "              name='HIV', min_length=40, min_unpaired_length=3, min_auroc=0.8, min_f1=0.8)"
   ]
  },
  {
   "cell_type": "markdown",
   "metadata": {},
   "source": [
    "## Convert to rouskinHF"
   ]
  },
  {
   "cell_type": "code",
   "execution_count": 15,
   "metadata": {},
   "outputs": [],
   "source": [
    "import envbash\n",
    "envbash.load.load_envbash('../.env')\n",
    "from rouskinhf import convert, upload_dataset, get_dataset"
   ]
  },
  {
   "cell_type": "markdown",
   "metadata": {},
   "source": [
    "## Pre-processing"
   ]
  },
  {
   "cell_type": "code",
   "execution_count": 6,
   "metadata": {},
   "outputs": [
    {
     "name": "stdout",
     "output_type": "stream",
     "text": [
      "{'SARS_0': {'sequence': 'GACACGAGTAACTCGTCTATCTTCTGCAGGCTGCTTACGGTTTCGTCCGTGTTGCAGCCGATCATCAGCACATCTAGGTTTCGTCCGGGTGTGACCGAAAGGTAAGATGGAGAGCCTTGT', 'dotbracket': '.....((((...(((.((((((((.....((((((.(((((......)))))..)))))).........(((((((.((......)))))))))(((....)))))))))))))).))))'}, 'SARS_1': {'sequence': 'GAACGGTAATAAAGGAGCTGGTGGCCATAGTTACGGCGCCGATCTAAAGTCATTTGACTTAGGCGACGAGCTTGGCACTGATCCTTATGAAGATTTTCAAGAAAACTGGAACACTAAACA', 'dotbracket': '....((((....(((((..(((((.(((.((((.((.((((......(((((....))))).)))).)))))))))))))).))))).((((....)))).....))))...........'}, 'SARS_2': {'sequence': 'GCCCTGATGGCTACCCTCTTGAGTGCATTAAAGACCTTCTAGCACGTGCTGGTAAAGCTTCATGCACTTTGTCCGAACAACTGGACTTTATTGACACTAAGAGGGGTGTATACTGCTGCC', 'dotbracket': '((((.....)))).(((((((((((((((..(((.....(((((....))))).....))).)))))))).(((((......)))))............)))))))..............'}, 'SARS_3': {'sequence': 'CTGGACTTTATTGACACTAAGAGGGGTGTATACTGCTGCCGTGAACATGAGCATGAAATTGCTTGGTACACGGAACGTTCTGAAAAGAGCTATGAATTGCAGACACCTTTTGAAATT\n"
     ]
    }
   ],
   "source": [
    "import json\n",
    "\n",
    "path = '/Users/yvesmartin/data/viral_fragments/viral_fragments.json'\n",
    "raw = json.load(open(path))\n",
    "data = {}\n",
    "\n",
    "for k, v in raw.items():\n",
    "    prefix = k\n",
    "    for idx, (k2, v2) in enumerate(v.items()):\n",
    "        data[f'{prefix}_{idx}'] = {'sequence': k2, 'dotbracket': v2}\n",
    "\n",
    "json.dump(data, open('data/formatted_viral_fragments.json', 'w'), indent=2)\n",
    "print(str(data)[:1000])"
   ]
  },
  {
   "cell_type": "markdown",
   "metadata": {},
   "source": [
    "## RouskinHF filtering"
   ]
  },
  {
   "cell_type": "code",
   "execution_count": 9,
   "metadata": {},
   "outputs": [
    {
     "name": "stderr",
     "output_type": "stream",
     "text": [
      "Parsing json file: 100%|██████████| 53/53 [00:00<00:00, 36448.29it/s]"
     ]
    },
    {
     "name": "stdout",
     "output_type": "stream",
     "text": [
      "Over a total of 53 datapoints, there are:\n",
      "### OUTPUT\n",
      "- 53 valid datapoints\n",
      "### MODIFIED\n",
      "- 0 multiple sequences with the same reference (renamed reference)\n",
      "- 0 duplicate sequences with different structure / dms / shape\n",
      "### FILTERED OUT\n",
      "- 0 invalid datapoints (ex: sequence with non-regular characters)\n",
      "- 0 datapoints with bad structures\n",
      "- 0 duplicate sequences with the same structure / dms / shape\n"
     ]
    },
    {
     "name": "stderr",
     "output_type": "stream",
     "text": [
      "\n"
     ]
    }
   ],
   "source": [
    "from rouskinhf import convert\n",
    "\n",
    "data = convert(\n",
    "    'json',\n",
    "    'data/formatted_viral_fragments.json',\n",
    "    name='viral_fragments',\n",
    "    path_out='data',\n",
    "    filter=True\n",
    ")"
   ]
  },
  {
   "cell_type": "markdown",
   "metadata": {},
   "source": [
    "## To HuggingFace"
   ]
  },
  {
   "cell_type": "code",
   "execution_count": 16,
   "metadata": {},
   "outputs": [],
   "source": [
    "from rouskinhf import upload_dataset\n",
    "\n",
    "upload_dataset(\n",
    "    'data/viral_fragments/data.json',\n",
    "    commit_message='init commit',\n",
    ")"
   ]
  }
 ],
 "metadata": {
  "kernelspec": {
   "display_name": "Python 3",
   "language": "python",
   "name": "python3"
  },
  "language_info": {
   "codemirror_mode": {
    "name": "ipython",
    "version": 3
   },
   "file_extension": ".py",
   "mimetype": "text/x-python",
   "name": "python",
   "nbconvert_exporter": "python",
   "pygments_lexer": "ipython3",
   "version": "3.10.9"
  }
 },
 "nbformat": 4,
 "nbformat_minor": 2
}
