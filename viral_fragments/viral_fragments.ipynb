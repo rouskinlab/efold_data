{
 "cells": [
  {
   "cell_type": "code",
   "execution_count": 15,
   "metadata": {},
   "outputs": [],
   "source": [
    "import envbash\n",
    "envbash.load.load_envbash('../.env')\n",
    "from rouskinhf import convert, upload_dataset, get_dataset"
   ]
  },
  {
   "cell_type": "markdown",
   "metadata": {},
   "source": [
    "## Pre-processing"
   ]
  },
  {
   "cell_type": "code",
   "execution_count": 6,
   "metadata": {},
   "outputs": [
    {
     "name": "stdout",
     "output_type": "stream",
     "text": [
      "{'SARS_0': {'sequence': 'GACACGAGTAACTCGTCTATCTTCTGCAGGCTGCTTACGGTTTCGTCCGTGTTGCAGCCGATCATCAGCACATCTAGGTTTCGTCCGGGTGTGACCGAAAGGTAAGATGGAGAGCCTTGT', 'dotbracket': '.....((((...(((.((((((((.....((((((.(((((......)))))..)))))).........(((((((.((......)))))))))(((....)))))))))))))).))))'}, 'SARS_1': {'sequence': 'GAACGGTAATAAAGGAGCTGGTGGCCATAGTTACGGCGCCGATCTAAAGTCATTTGACTTAGGCGACGAGCTTGGCACTGATCCTTATGAAGATTTTCAAGAAAACTGGAACACTAAACA', 'dotbracket': '....((((....(((((..(((((.(((.((((.((.((((......(((((....))))).)))).)))))))))))))).))))).((((....)))).....))))...........'}, 'SARS_2': {'sequence': 'GCCCTGATGGCTACCCTCTTGAGTGCATTAAAGACCTTCTAGCACGTGCTGGTAAAGCTTCATGCACTTTGTCCGAACAACTGGACTTTATTGACACTAAGAGGGGTGTATACTGCTGCC', 'dotbracket': '((((.....)))).(((((((((((((((..(((.....(((((....))))).....))).)))))))).(((((......)))))............)))))))..............'}, 'SARS_3': {'sequence': 'CTGGACTTTATTGACACTAAGAGGGGTGTATACTGCTGCCGTGAACATGAGCATGAAATTGCTTGGTACACGGAACGTTCTGAAAAGAGCTATGAATTGCAGACACCTTTTGAAATT\n"
     ]
    }
   ],
   "source": [
    "import json\n",
    "\n",
    "path = '/Users/yvesmartin/data/viral_fragments/viral_fragments.json'\n",
    "raw = json.load(open(path))\n",
    "data = {}\n",
    "\n",
    "for k, v in raw.items():\n",
    "    prefix = k\n",
    "    for idx, (k2, v2) in enumerate(v.items()):\n",
    "        data[f'{prefix}_{idx}'] = {'sequence': k2, 'dotbracket': v2}\n",
    "\n",
    "json.dump(data, open('data/formatted_viral_fragments.json', 'w'), indent=2)\n",
    "print(str(data)[:1000])"
   ]
  },
  {
   "cell_type": "markdown",
   "metadata": {},
   "source": [
    "## RouskinHF filtering"
   ]
  },
  {
   "cell_type": "code",
   "execution_count": 9,
   "metadata": {},
   "outputs": [
    {
     "name": "stderr",
     "output_type": "stream",
     "text": [
      "Parsing json file: 100%|██████████| 53/53 [00:00<00:00, 36448.29it/s]"
     ]
    },
    {
     "name": "stdout",
     "output_type": "stream",
     "text": [
      "Over a total of 53 datapoints, there are:\n",
      "### OUTPUT\n",
      "- 53 valid datapoints\n",
      "### MODIFIED\n",
      "- 0 multiple sequences with the same reference (renamed reference)\n",
      "- 0 duplicate sequences with different structure / dms / shape\n",
      "### FILTERED OUT\n",
      "- 0 invalid datapoints (ex: sequence with non-regular characters)\n",
      "- 0 datapoints with bad structures\n",
      "- 0 duplicate sequences with the same structure / dms / shape\n"
     ]
    },
    {
     "name": "stderr",
     "output_type": "stream",
     "text": [
      "\n"
     ]
    }
   ],
   "source": [
    "from rouskinhf import convert\n",
    "\n",
    "data = convert(\n",
    "    'json',\n",
    "    'data/formatted_viral_fragments.json',\n",
    "    name='viral_fragments',\n",
    "    path_out='data',\n",
    "    filter=True\n",
    ")"
   ]
  },
  {
   "cell_type": "markdown",
   "metadata": {},
   "source": [
    "## To HuggingFace"
   ]
  },
  {
   "cell_type": "code",
   "execution_count": 16,
   "metadata": {},
   "outputs": [],
   "source": [
    "from rouskinhf import upload_dataset\n",
    "\n",
    "upload_dataset(\n",
    "    'data/viral_fragments/data.json',\n",
    "    commit_message='init commit',\n",
    ")"
   ]
  }
 ],
 "metadata": {
  "kernelspec": {
   "display_name": "Python 3",
   "language": "python",
   "name": "python3"
  },
  "language_info": {
   "codemirror_mode": {
    "name": "ipython",
    "version": 3
   },
   "file_extension": ".py",
   "mimetype": "text/x-python",
   "name": "python",
   "nbconvert_exporter": "python",
   "pygments_lexer": "ipython3",
   "version": "3.11.6"
  }
 },
 "nbformat": 4,
 "nbformat_minor": 2
}
