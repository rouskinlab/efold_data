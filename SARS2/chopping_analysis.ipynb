{
 "cells": [
  {
   "cell_type": "code",
   "execution_count": 1,
   "metadata": {},
   "outputs": [],
   "source": [
    "import sys\n",
    "import os\n",
    "import numpy as np \n",
    "import pandas as pd\n",
    "\n",
    "import plotly.express as px\n",
    "import plotly.graph_objects as go\n",
    "\n",
    "from rouskinhf import convert"
   ]
  },
  {
   "cell_type": "code",
   "execution_count": 2,
   "metadata": {},
   "outputs": [
    {
     "name": "stderr",
     "output_type": "stream",
     "text": [
      "Parsing ct files:   0%|          | 0/1 [00:00<?, ?it/s]"
     ]
    },
    {
     "name": "stderr",
     "output_type": "stream",
     "text": [
      "Parsing ct files: 100%|██████████| 1/1 [00:00<00:00, 47.17it/s]"
     ]
    },
    {
     "name": "stdout",
     "output_type": "stream",
     "text": [
      "Drop 0 datapoints with None values (null sequence or reference)\n"
     ]
    },
    {
     "name": "stderr",
     "output_type": "stream",
     "text": [
      "\n"
     ]
    }
   ],
   "source": [
    "# Import ct file\n",
    "data = convert(\n",
    "    'ct',\n",
    "    'data/',\n",
    "    name='SARS2',\n",
    "    path_out='data',\n",
    "    filter=False\n",
    ")"
   ]
  },
  {
   "cell_type": "code",
   "execution_count": 3,
   "metadata": {},
   "outputs": [],
   "source": [
    "# Import DMS data\n",
    "df = pd.DataFrame(data).T\n",
    "sequence = df['sequence']['SARS']\n",
    "paired_bases = np.array(df['structure']['SARS'])\n"
   ]
  },
  {
   "cell_type": "code",
   "execution_count": 4,
   "metadata": {},
   "outputs": [
    {
     "data": {
      "text/plain": [
       "True"
      ]
     },
     "execution_count": 4,
     "metadata": {},
     "output_type": "execute_result"
    }
   ],
   "source": [
    "import pandas as pd\n",
    "UKN = -1000\n",
    "data_dms = pd.read_excel('data/SARS_DMS.xlsx')\n",
    "data_dms.fillna(UKN, inplace=True)\n",
    "\n",
    "full_dms = data_dms['Vero (filtered)'].values\n",
    "max_dms = np.median(full_dms[full_dms!=UKN][full_dms[full_dms!=UKN]>np.percentile(full_dms[full_dms!=UKN], 95)])\n",
    "full_dms[full_dms!=UKN] =  full_dms[full_dms!=UKN] / max_dms\n",
    "full_dms[full_dms>1] = 1\n",
    "\n",
    "''.join(data_dms['Nucleotide'].tolist()) == sequence"
   ]
  },
  {
   "cell_type": "code",
   "execution_count": 5,
   "metadata": {},
   "outputs": [],
   "source": [
    "# Find all non paired bases to get candidate cutting points\n",
    "all_paired_bases = np.sort(paired_bases.flatten())\n",
    "\n",
    "len_nonPaired_regions = np.diff(all_paired_bases) - 1\n",
    "cut_points = np.round( (all_paired_bases[:-1] + all_paired_bases[1:]) / 2).astype(int)\n",
    "\n",
    "distance_between_cut_points = np.diff(cut_points[len_nonPaired_regions > 14])"
   ]
  },
  {
   "cell_type": "code",
   "execution_count": 6,
   "metadata": {},
   "outputs": [
    {
     "name": "stdout",
     "output_type": "stream",
     "text": [
      "Number of regions 118\n"
     ]
    },
    {
     "data": {
      "application/vnd.plotly.v1+json": {
       "config": {
        "plotlyServerURL": "https://plot.ly"
       },
       "data": [
        {
         "alignmentgroup": "True",
         "bingroup": "x",
         "hovertemplate": "variable=0<br>value=%{x}<br>count=%{y}<extra></extra>",
         "legendgroup": "0",
         "marker": {
          "color": "#636efa",
          "pattern": {
           "shape": ""
          }
         },
         "name": "0",
         "offsetgroup": "0",
         "orientation": "v",
         "showlegend": true,
         "type": "histogram",
         "x": [
          602,
          192,
          147,
          233,
          34,
          41,
          51,
          1120,
          350,
          357,
          389,
          20,
          130,
          306,
          225,
          251,
          717,
          811,
          23,
          381,
          59,
          127,
          82,
          481,
          467,
          350,
          215,
          625,
          50,
          130,
          90,
          367,
          47,
          205,
          695,
          336,
          74,
          162,
          24,
          99,
          365,
          194,
          160,
          38,
          128,
          22,
          94,
          583,
          1147,
          62,
          66,
          482,
          620,
          40,
          59,
          545,
          101,
          390,
          299,
          924,
          538,
          267,
          151,
          60,
          391,
          81,
          225,
          29,
          322,
          70,
          89,
          145,
          210,
          38,
          816,
          688,
          38,
          55,
          425,
          236,
          54,
          574,
          80,
          210,
          136,
          146,
          36,
          48,
          34,
          276,
          182,
          114,
          58,
          28,
          530,
          122,
          79,
          37,
          282,
          294,
          956,
          201,
          264,
          181,
          73,
          289,
          82,
          390,
          293,
          53,
          200,
          39,
          35,
          192,
          116,
          32,
          53,
          329
         ],
         "xaxis": "x",
         "yaxis": "y"
        }
       ],
       "layout": {
        "barmode": "relative",
        "legend": {
         "title": {
          "text": "variable"
         },
         "tracegroupgap": 0
        },
        "margin": {
         "t": 60
        },
        "template": {
         "data": {
          "bar": [
           {
            "error_x": {
             "color": "#2a3f5f"
            },
            "error_y": {
             "color": "#2a3f5f"
            },
            "marker": {
             "line": {
              "color": "#E5ECF6",
              "width": 0.5
             },
             "pattern": {
              "fillmode": "overlay",
              "size": 10,
              "solidity": 0.2
             }
            },
            "type": "bar"
           }
          ],
          "barpolar": [
           {
            "marker": {
             "line": {
              "color": "#E5ECF6",
              "width": 0.5
             },
             "pattern": {
              "fillmode": "overlay",
              "size": 10,
              "solidity": 0.2
             }
            },
            "type": "barpolar"
           }
          ],
          "carpet": [
           {
            "aaxis": {
             "endlinecolor": "#2a3f5f",
             "gridcolor": "white",
             "linecolor": "white",
             "minorgridcolor": "white",
             "startlinecolor": "#2a3f5f"
            },
            "baxis": {
             "endlinecolor": "#2a3f5f",
             "gridcolor": "white",
             "linecolor": "white",
             "minorgridcolor": "white",
             "startlinecolor": "#2a3f5f"
            },
            "type": "carpet"
           }
          ],
          "choropleth": [
           {
            "colorbar": {
             "outlinewidth": 0,
             "ticks": ""
            },
            "type": "choropleth"
           }
          ],
          "contour": [
           {
            "colorbar": {
             "outlinewidth": 0,
             "ticks": ""
            },
            "colorscale": [
             [
              0,
              "#0d0887"
             ],
             [
              0.1111111111111111,
              "#46039f"
             ],
             [
              0.2222222222222222,
              "#7201a8"
             ],
             [
              0.3333333333333333,
              "#9c179e"
             ],
             [
              0.4444444444444444,
              "#bd3786"
             ],
             [
              0.5555555555555556,
              "#d8576b"
             ],
             [
              0.6666666666666666,
              "#ed7953"
             ],
             [
              0.7777777777777778,
              "#fb9f3a"
             ],
             [
              0.8888888888888888,
              "#fdca26"
             ],
             [
              1,
              "#f0f921"
             ]
            ],
            "type": "contour"
           }
          ],
          "contourcarpet": [
           {
            "colorbar": {
             "outlinewidth": 0,
             "ticks": ""
            },
            "type": "contourcarpet"
           }
          ],
          "heatmap": [
           {
            "colorbar": {
             "outlinewidth": 0,
             "ticks": ""
            },
            "colorscale": [
             [
              0,
              "#0d0887"
             ],
             [
              0.1111111111111111,
              "#46039f"
             ],
             [
              0.2222222222222222,
              "#7201a8"
             ],
             [
              0.3333333333333333,
              "#9c179e"
             ],
             [
              0.4444444444444444,
              "#bd3786"
             ],
             [
              0.5555555555555556,
              "#d8576b"
             ],
             [
              0.6666666666666666,
              "#ed7953"
             ],
             [
              0.7777777777777778,
              "#fb9f3a"
             ],
             [
              0.8888888888888888,
              "#fdca26"
             ],
             [
              1,
              "#f0f921"
             ]
            ],
            "type": "heatmap"
           }
          ],
          "heatmapgl": [
           {
            "colorbar": {
             "outlinewidth": 0,
             "ticks": ""
            },
            "colorscale": [
             [
              0,
              "#0d0887"
             ],
             [
              0.1111111111111111,
              "#46039f"
             ],
             [
              0.2222222222222222,
              "#7201a8"
             ],
             [
              0.3333333333333333,
              "#9c179e"
             ],
             [
              0.4444444444444444,
              "#bd3786"
             ],
             [
              0.5555555555555556,
              "#d8576b"
             ],
             [
              0.6666666666666666,
              "#ed7953"
             ],
             [
              0.7777777777777778,
              "#fb9f3a"
             ],
             [
              0.8888888888888888,
              "#fdca26"
             ],
             [
              1,
              "#f0f921"
             ]
            ],
            "type": "heatmapgl"
           }
          ],
          "histogram": [
           {
            "marker": {
             "pattern": {
              "fillmode": "overlay",
              "size": 10,
              "solidity": 0.2
             }
            },
            "type": "histogram"
           }
          ],
          "histogram2d": [
           {
            "colorbar": {
             "outlinewidth": 0,
             "ticks": ""
            },
            "colorscale": [
             [
              0,
              "#0d0887"
             ],
             [
              0.1111111111111111,
              "#46039f"
             ],
             [
              0.2222222222222222,
              "#7201a8"
             ],
             [
              0.3333333333333333,
              "#9c179e"
             ],
             [
              0.4444444444444444,
              "#bd3786"
             ],
             [
              0.5555555555555556,
              "#d8576b"
             ],
             [
              0.6666666666666666,
              "#ed7953"
             ],
             [
              0.7777777777777778,
              "#fb9f3a"
             ],
             [
              0.8888888888888888,
              "#fdca26"
             ],
             [
              1,
              "#f0f921"
             ]
            ],
            "type": "histogram2d"
           }
          ],
          "histogram2dcontour": [
           {
            "colorbar": {
             "outlinewidth": 0,
             "ticks": ""
            },
            "colorscale": [
             [
              0,
              "#0d0887"
             ],
             [
              0.1111111111111111,
              "#46039f"
             ],
             [
              0.2222222222222222,
              "#7201a8"
             ],
             [
              0.3333333333333333,
              "#9c179e"
             ],
             [
              0.4444444444444444,
              "#bd3786"
             ],
             [
              0.5555555555555556,
              "#d8576b"
             ],
             [
              0.6666666666666666,
              "#ed7953"
             ],
             [
              0.7777777777777778,
              "#fb9f3a"
             ],
             [
              0.8888888888888888,
              "#fdca26"
             ],
             [
              1,
              "#f0f921"
             ]
            ],
            "type": "histogram2dcontour"
           }
          ],
          "mesh3d": [
           {
            "colorbar": {
             "outlinewidth": 0,
             "ticks": ""
            },
            "type": "mesh3d"
           }
          ],
          "parcoords": [
           {
            "line": {
             "colorbar": {
              "outlinewidth": 0,
              "ticks": ""
             }
            },
            "type": "parcoords"
           }
          ],
          "pie": [
           {
            "automargin": true,
            "type": "pie"
           }
          ],
          "scatter": [
           {
            "fillpattern": {
             "fillmode": "overlay",
             "size": 10,
             "solidity": 0.2
            },
            "type": "scatter"
           }
          ],
          "scatter3d": [
           {
            "line": {
             "colorbar": {
              "outlinewidth": 0,
              "ticks": ""
             }
            },
            "marker": {
             "colorbar": {
              "outlinewidth": 0,
              "ticks": ""
             }
            },
            "type": "scatter3d"
           }
          ],
          "scattercarpet": [
           {
            "marker": {
             "colorbar": {
              "outlinewidth": 0,
              "ticks": ""
             }
            },
            "type": "scattercarpet"
           }
          ],
          "scattergeo": [
           {
            "marker": {
             "colorbar": {
              "outlinewidth": 0,
              "ticks": ""
             }
            },
            "type": "scattergeo"
           }
          ],
          "scattergl": [
           {
            "marker": {
             "colorbar": {
              "outlinewidth": 0,
              "ticks": ""
             }
            },
            "type": "scattergl"
           }
          ],
          "scattermapbox": [
           {
            "marker": {
             "colorbar": {
              "outlinewidth": 0,
              "ticks": ""
             }
            },
            "type": "scattermapbox"
           }
          ],
          "scatterpolar": [
           {
            "marker": {
             "colorbar": {
              "outlinewidth": 0,
              "ticks": ""
             }
            },
            "type": "scatterpolar"
           }
          ],
          "scatterpolargl": [
           {
            "marker": {
             "colorbar": {
              "outlinewidth": 0,
              "ticks": ""
             }
            },
            "type": "scatterpolargl"
           }
          ],
          "scatterternary": [
           {
            "marker": {
             "colorbar": {
              "outlinewidth": 0,
              "ticks": ""
             }
            },
            "type": "scatterternary"
           }
          ],
          "surface": [
           {
            "colorbar": {
             "outlinewidth": 0,
             "ticks": ""
            },
            "colorscale": [
             [
              0,
              "#0d0887"
             ],
             [
              0.1111111111111111,
              "#46039f"
             ],
             [
              0.2222222222222222,
              "#7201a8"
             ],
             [
              0.3333333333333333,
              "#9c179e"
             ],
             [
              0.4444444444444444,
              "#bd3786"
             ],
             [
              0.5555555555555556,
              "#d8576b"
             ],
             [
              0.6666666666666666,
              "#ed7953"
             ],
             [
              0.7777777777777778,
              "#fb9f3a"
             ],
             [
              0.8888888888888888,
              "#fdca26"
             ],
             [
              1,
              "#f0f921"
             ]
            ],
            "type": "surface"
           }
          ],
          "table": [
           {
            "cells": {
             "fill": {
              "color": "#EBF0F8"
             },
             "line": {
              "color": "white"
             }
            },
            "header": {
             "fill": {
              "color": "#C8D4E3"
             },
             "line": {
              "color": "white"
             }
            },
            "type": "table"
           }
          ]
         },
         "layout": {
          "annotationdefaults": {
           "arrowcolor": "#2a3f5f",
           "arrowhead": 0,
           "arrowwidth": 1
          },
          "autotypenumbers": "strict",
          "coloraxis": {
           "colorbar": {
            "outlinewidth": 0,
            "ticks": ""
           }
          },
          "colorscale": {
           "diverging": [
            [
             0,
             "#8e0152"
            ],
            [
             0.1,
             "#c51b7d"
            ],
            [
             0.2,
             "#de77ae"
            ],
            [
             0.3,
             "#f1b6da"
            ],
            [
             0.4,
             "#fde0ef"
            ],
            [
             0.5,
             "#f7f7f7"
            ],
            [
             0.6,
             "#e6f5d0"
            ],
            [
             0.7,
             "#b8e186"
            ],
            [
             0.8,
             "#7fbc41"
            ],
            [
             0.9,
             "#4d9221"
            ],
            [
             1,
             "#276419"
            ]
           ],
           "sequential": [
            [
             0,
             "#0d0887"
            ],
            [
             0.1111111111111111,
             "#46039f"
            ],
            [
             0.2222222222222222,
             "#7201a8"
            ],
            [
             0.3333333333333333,
             "#9c179e"
            ],
            [
             0.4444444444444444,
             "#bd3786"
            ],
            [
             0.5555555555555556,
             "#d8576b"
            ],
            [
             0.6666666666666666,
             "#ed7953"
            ],
            [
             0.7777777777777778,
             "#fb9f3a"
            ],
            [
             0.8888888888888888,
             "#fdca26"
            ],
            [
             1,
             "#f0f921"
            ]
           ],
           "sequentialminus": [
            [
             0,
             "#0d0887"
            ],
            [
             0.1111111111111111,
             "#46039f"
            ],
            [
             0.2222222222222222,
             "#7201a8"
            ],
            [
             0.3333333333333333,
             "#9c179e"
            ],
            [
             0.4444444444444444,
             "#bd3786"
            ],
            [
             0.5555555555555556,
             "#d8576b"
            ],
            [
             0.6666666666666666,
             "#ed7953"
            ],
            [
             0.7777777777777778,
             "#fb9f3a"
            ],
            [
             0.8888888888888888,
             "#fdca26"
            ],
            [
             1,
             "#f0f921"
            ]
           ]
          },
          "colorway": [
           "#636efa",
           "#EF553B",
           "#00cc96",
           "#ab63fa",
           "#FFA15A",
           "#19d3f3",
           "#FF6692",
           "#B6E880",
           "#FF97FF",
           "#FECB52"
          ],
          "font": {
           "color": "#2a3f5f"
          },
          "geo": {
           "bgcolor": "white",
           "lakecolor": "white",
           "landcolor": "#E5ECF6",
           "showlakes": true,
           "showland": true,
           "subunitcolor": "white"
          },
          "hoverlabel": {
           "align": "left"
          },
          "hovermode": "closest",
          "mapbox": {
           "style": "light"
          },
          "paper_bgcolor": "white",
          "plot_bgcolor": "#E5ECF6",
          "polar": {
           "angularaxis": {
            "gridcolor": "white",
            "linecolor": "white",
            "ticks": ""
           },
           "bgcolor": "#E5ECF6",
           "radialaxis": {
            "gridcolor": "white",
            "linecolor": "white",
            "ticks": ""
           }
          },
          "scene": {
           "xaxis": {
            "backgroundcolor": "#E5ECF6",
            "gridcolor": "white",
            "gridwidth": 2,
            "linecolor": "white",
            "showbackground": true,
            "ticks": "",
            "zerolinecolor": "white"
           },
           "yaxis": {
            "backgroundcolor": "#E5ECF6",
            "gridcolor": "white",
            "gridwidth": 2,
            "linecolor": "white",
            "showbackground": true,
            "ticks": "",
            "zerolinecolor": "white"
           },
           "zaxis": {
            "backgroundcolor": "#E5ECF6",
            "gridcolor": "white",
            "gridwidth": 2,
            "linecolor": "white",
            "showbackground": true,
            "ticks": "",
            "zerolinecolor": "white"
           }
          },
          "shapedefaults": {
           "line": {
            "color": "#2a3f5f"
           }
          },
          "ternary": {
           "aaxis": {
            "gridcolor": "white",
            "linecolor": "white",
            "ticks": ""
           },
           "baxis": {
            "gridcolor": "white",
            "linecolor": "white",
            "ticks": ""
           },
           "bgcolor": "#E5ECF6",
           "caxis": {
            "gridcolor": "white",
            "linecolor": "white",
            "ticks": ""
           }
          },
          "title": {
           "x": 0.05
          },
          "xaxis": {
           "automargin": true,
           "gridcolor": "white",
           "linecolor": "white",
           "ticks": "",
           "title": {
            "standoff": 15
           },
           "zerolinecolor": "white",
           "zerolinewidth": 2
          },
          "yaxis": {
           "automargin": true,
           "gridcolor": "white",
           "linecolor": "white",
           "ticks": "",
           "title": {
            "standoff": 15
           },
           "zerolinecolor": "white",
           "zerolinewidth": 2
          }
         }
        },
        "xaxis": {
         "anchor": "y",
         "domain": [
          0,
          1
         ],
         "title": {
          "text": "value"
         }
        },
        "yaxis": {
         "anchor": "x",
         "domain": [
          0,
          1
         ],
         "title": {
          "text": "count"
         }
        }
       }
      }
     },
     "metadata": {},
     "output_type": "display_data"
    }
   ],
   "source": [
    "print(\"Number of regions\", len(distance_between_cut_points))\n",
    "px.histogram(distance_between_cut_points, log_y=False)"
   ]
  },
  {
   "cell_type": "code",
   "execution_count": 7,
   "metadata": {},
   "outputs": [],
   "source": [
    "# Find unstructured regions\n",
    "dot = np.array(['.']*len(sequence))\n",
    "dot[paired_bases[:,0]] = '('\n",
    "dot[paired_bases[:,1]] = ')'\n",
    "dot = ''.join(dot)\n",
    "\n",
    "unstructured_regions = np.zeros(len(sequence), dtype=bool)\n",
    "\n",
    "bracket_counter = 0\n",
    "for i in range(len(dot)):\n",
    "\n",
    "    if dot[i] == '(':\n",
    "        bracket_counter += 1\n",
    "    elif dot[i] == ')':\n",
    "        bracket_counter -= 1\n",
    "    else:\n",
    "        if bracket_counter == 0:\n",
    "            unstructured_regions[i] = True\n",
    "\n",
    "    assert bracket_counter >= 0\n"
   ]
  },
  {
   "cell_type": "code",
   "execution_count": 8,
   "metadata": {},
   "outputs": [],
   "source": [
    "sub_seqs = []\n",
    "cut_idxs = []\n",
    "\n",
    "cut_prev = -1\n",
    "for i in range(len(cut_points)):\n",
    "    if (cut_points[i] - cut_prev > 500) and len_nonPaired_regions[i] > 11 and unstructured_regions[cut_points[i]]:\n",
    "        sub_seqs.append(sequence[cut_prev+1:cut_points[i]+1])\n",
    "        cut_idxs.append(cut_points[i])\n",
    "\n",
    "        cut_prev = cut_points[i]\n",
    "\n",
    "sub_seqs.append(sequence[cut_prev+1:])\n",
    "cut_idxs.append(len(sequence))"
   ]
  },
  {
   "cell_type": "code",
   "execution_count": 9,
   "metadata": {},
   "outputs": [
    {
     "name": "stdout",
     "output_type": "stream",
     "text": [
      "29882\n",
      "29882\n"
     ]
    },
    {
     "data": {
      "application/vnd.plotly.v1+json": {
       "config": {
        "plotlyServerURL": "https://plot.ly"
       },
       "data": [
        {
         "alignmentgroup": "True",
         "bingroup": "x",
         "hovertemplate": "variable=0<br>value=%{x}<br>count=%{y}<extra></extra>",
         "legendgroup": "0",
         "marker": {
          "color": "#636efa",
          "pattern": {
           "shape": ""
          }
         },
         "name": "0",
         "offsetgroup": "0",
         "orientation": "v",
         "showlegend": true,
         "type": "histogram",
         "x": [
          741,
          647,
          887,
          658,
          534,
          869,
          747,
          1032,
          590,
          514,
          1706,
          658,
          622,
          536,
          742,
          1576,
          502,
          502,
          874,
          1322,
          1802,
          508,
          696,
          874,
          1542,
          716,
          732,
          552,
          562,
          782,
          692,
          956,
          574,
          516,
          683,
          519,
          530,
          387
         ],
         "xaxis": "x",
         "yaxis": "y"
        }
       ],
       "layout": {
        "barmode": "relative",
        "legend": {
         "title": {
          "text": "variable"
         },
         "tracegroupgap": 0
        },
        "template": {
         "data": {
          "bar": [
           {
            "error_x": {
             "color": "#2a3f5f"
            },
            "error_y": {
             "color": "#2a3f5f"
            },
            "marker": {
             "line": {
              "color": "#E5ECF6",
              "width": 0.5
             },
             "pattern": {
              "fillmode": "overlay",
              "size": 10,
              "solidity": 0.2
             }
            },
            "type": "bar"
           }
          ],
          "barpolar": [
           {
            "marker": {
             "line": {
              "color": "#E5ECF6",
              "width": 0.5
             },
             "pattern": {
              "fillmode": "overlay",
              "size": 10,
              "solidity": 0.2
             }
            },
            "type": "barpolar"
           }
          ],
          "carpet": [
           {
            "aaxis": {
             "endlinecolor": "#2a3f5f",
             "gridcolor": "white",
             "linecolor": "white",
             "minorgridcolor": "white",
             "startlinecolor": "#2a3f5f"
            },
            "baxis": {
             "endlinecolor": "#2a3f5f",
             "gridcolor": "white",
             "linecolor": "white",
             "minorgridcolor": "white",
             "startlinecolor": "#2a3f5f"
            },
            "type": "carpet"
           }
          ],
          "choropleth": [
           {
            "colorbar": {
             "outlinewidth": 0,
             "ticks": ""
            },
            "type": "choropleth"
           }
          ],
          "contour": [
           {
            "colorbar": {
             "outlinewidth": 0,
             "ticks": ""
            },
            "colorscale": [
             [
              0,
              "#0d0887"
             ],
             [
              0.1111111111111111,
              "#46039f"
             ],
             [
              0.2222222222222222,
              "#7201a8"
             ],
             [
              0.3333333333333333,
              "#9c179e"
             ],
             [
              0.4444444444444444,
              "#bd3786"
             ],
             [
              0.5555555555555556,
              "#d8576b"
             ],
             [
              0.6666666666666666,
              "#ed7953"
             ],
             [
              0.7777777777777778,
              "#fb9f3a"
             ],
             [
              0.8888888888888888,
              "#fdca26"
             ],
             [
              1,
              "#f0f921"
             ]
            ],
            "type": "contour"
           }
          ],
          "contourcarpet": [
           {
            "colorbar": {
             "outlinewidth": 0,
             "ticks": ""
            },
            "type": "contourcarpet"
           }
          ],
          "heatmap": [
           {
            "colorbar": {
             "outlinewidth": 0,
             "ticks": ""
            },
            "colorscale": [
             [
              0,
              "#0d0887"
             ],
             [
              0.1111111111111111,
              "#46039f"
             ],
             [
              0.2222222222222222,
              "#7201a8"
             ],
             [
              0.3333333333333333,
              "#9c179e"
             ],
             [
              0.4444444444444444,
              "#bd3786"
             ],
             [
              0.5555555555555556,
              "#d8576b"
             ],
             [
              0.6666666666666666,
              "#ed7953"
             ],
             [
              0.7777777777777778,
              "#fb9f3a"
             ],
             [
              0.8888888888888888,
              "#fdca26"
             ],
             [
              1,
              "#f0f921"
             ]
            ],
            "type": "heatmap"
           }
          ],
          "heatmapgl": [
           {
            "colorbar": {
             "outlinewidth": 0,
             "ticks": ""
            },
            "colorscale": [
             [
              0,
              "#0d0887"
             ],
             [
              0.1111111111111111,
              "#46039f"
             ],
             [
              0.2222222222222222,
              "#7201a8"
             ],
             [
              0.3333333333333333,
              "#9c179e"
             ],
             [
              0.4444444444444444,
              "#bd3786"
             ],
             [
              0.5555555555555556,
              "#d8576b"
             ],
             [
              0.6666666666666666,
              "#ed7953"
             ],
             [
              0.7777777777777778,
              "#fb9f3a"
             ],
             [
              0.8888888888888888,
              "#fdca26"
             ],
             [
              1,
              "#f0f921"
             ]
            ],
            "type": "heatmapgl"
           }
          ],
          "histogram": [
           {
            "marker": {
             "pattern": {
              "fillmode": "overlay",
              "size": 10,
              "solidity": 0.2
             }
            },
            "type": "histogram"
           }
          ],
          "histogram2d": [
           {
            "colorbar": {
             "outlinewidth": 0,
             "ticks": ""
            },
            "colorscale": [
             [
              0,
              "#0d0887"
             ],
             [
              0.1111111111111111,
              "#46039f"
             ],
             [
              0.2222222222222222,
              "#7201a8"
             ],
             [
              0.3333333333333333,
              "#9c179e"
             ],
             [
              0.4444444444444444,
              "#bd3786"
             ],
             [
              0.5555555555555556,
              "#d8576b"
             ],
             [
              0.6666666666666666,
              "#ed7953"
             ],
             [
              0.7777777777777778,
              "#fb9f3a"
             ],
             [
              0.8888888888888888,
              "#fdca26"
             ],
             [
              1,
              "#f0f921"
             ]
            ],
            "type": "histogram2d"
           }
          ],
          "histogram2dcontour": [
           {
            "colorbar": {
             "outlinewidth": 0,
             "ticks": ""
            },
            "colorscale": [
             [
              0,
              "#0d0887"
             ],
             [
              0.1111111111111111,
              "#46039f"
             ],
             [
              0.2222222222222222,
              "#7201a8"
             ],
             [
              0.3333333333333333,
              "#9c179e"
             ],
             [
              0.4444444444444444,
              "#bd3786"
             ],
             [
              0.5555555555555556,
              "#d8576b"
             ],
             [
              0.6666666666666666,
              "#ed7953"
             ],
             [
              0.7777777777777778,
              "#fb9f3a"
             ],
             [
              0.8888888888888888,
              "#fdca26"
             ],
             [
              1,
              "#f0f921"
             ]
            ],
            "type": "histogram2dcontour"
           }
          ],
          "mesh3d": [
           {
            "colorbar": {
             "outlinewidth": 0,
             "ticks": ""
            },
            "type": "mesh3d"
           }
          ],
          "parcoords": [
           {
            "line": {
             "colorbar": {
              "outlinewidth": 0,
              "ticks": ""
             }
            },
            "type": "parcoords"
           }
          ],
          "pie": [
           {
            "automargin": true,
            "type": "pie"
           }
          ],
          "scatter": [
           {
            "fillpattern": {
             "fillmode": "overlay",
             "size": 10,
             "solidity": 0.2
            },
            "type": "scatter"
           }
          ],
          "scatter3d": [
           {
            "line": {
             "colorbar": {
              "outlinewidth": 0,
              "ticks": ""
             }
            },
            "marker": {
             "colorbar": {
              "outlinewidth": 0,
              "ticks": ""
             }
            },
            "type": "scatter3d"
           }
          ],
          "scattercarpet": [
           {
            "marker": {
             "colorbar": {
              "outlinewidth": 0,
              "ticks": ""
             }
            },
            "type": "scattercarpet"
           }
          ],
          "scattergeo": [
           {
            "marker": {
             "colorbar": {
              "outlinewidth": 0,
              "ticks": ""
             }
            },
            "type": "scattergeo"
           }
          ],
          "scattergl": [
           {
            "marker": {
             "colorbar": {
              "outlinewidth": 0,
              "ticks": ""
             }
            },
            "type": "scattergl"
           }
          ],
          "scattermapbox": [
           {
            "marker": {
             "colorbar": {
              "outlinewidth": 0,
              "ticks": ""
             }
            },
            "type": "scattermapbox"
           }
          ],
          "scatterpolar": [
           {
            "marker": {
             "colorbar": {
              "outlinewidth": 0,
              "ticks": ""
             }
            },
            "type": "scatterpolar"
           }
          ],
          "scatterpolargl": [
           {
            "marker": {
             "colorbar": {
              "outlinewidth": 0,
              "ticks": ""
             }
            },
            "type": "scatterpolargl"
           }
          ],
          "scatterternary": [
           {
            "marker": {
             "colorbar": {
              "outlinewidth": 0,
              "ticks": ""
             }
            },
            "type": "scatterternary"
           }
          ],
          "surface": [
           {
            "colorbar": {
             "outlinewidth": 0,
             "ticks": ""
            },
            "colorscale": [
             [
              0,
              "#0d0887"
             ],
             [
              0.1111111111111111,
              "#46039f"
             ],
             [
              0.2222222222222222,
              "#7201a8"
             ],
             [
              0.3333333333333333,
              "#9c179e"
             ],
             [
              0.4444444444444444,
              "#bd3786"
             ],
             [
              0.5555555555555556,
              "#d8576b"
             ],
             [
              0.6666666666666666,
              "#ed7953"
             ],
             [
              0.7777777777777778,
              "#fb9f3a"
             ],
             [
              0.8888888888888888,
              "#fdca26"
             ],
             [
              1,
              "#f0f921"
             ]
            ],
            "type": "surface"
           }
          ],
          "table": [
           {
            "cells": {
             "fill": {
              "color": "#EBF0F8"
             },
             "line": {
              "color": "white"
             }
            },
            "header": {
             "fill": {
              "color": "#C8D4E3"
             },
             "line": {
              "color": "white"
             }
            },
            "type": "table"
           }
          ]
         },
         "layout": {
          "annotationdefaults": {
           "arrowcolor": "#2a3f5f",
           "arrowhead": 0,
           "arrowwidth": 1
          },
          "autotypenumbers": "strict",
          "coloraxis": {
           "colorbar": {
            "outlinewidth": 0,
            "ticks": ""
           }
          },
          "colorscale": {
           "diverging": [
            [
             0,
             "#8e0152"
            ],
            [
             0.1,
             "#c51b7d"
            ],
            [
             0.2,
             "#de77ae"
            ],
            [
             0.3,
             "#f1b6da"
            ],
            [
             0.4,
             "#fde0ef"
            ],
            [
             0.5,
             "#f7f7f7"
            ],
            [
             0.6,
             "#e6f5d0"
            ],
            [
             0.7,
             "#b8e186"
            ],
            [
             0.8,
             "#7fbc41"
            ],
            [
             0.9,
             "#4d9221"
            ],
            [
             1,
             "#276419"
            ]
           ],
           "sequential": [
            [
             0,
             "#0d0887"
            ],
            [
             0.1111111111111111,
             "#46039f"
            ],
            [
             0.2222222222222222,
             "#7201a8"
            ],
            [
             0.3333333333333333,
             "#9c179e"
            ],
            [
             0.4444444444444444,
             "#bd3786"
            ],
            [
             0.5555555555555556,
             "#d8576b"
            ],
            [
             0.6666666666666666,
             "#ed7953"
            ],
            [
             0.7777777777777778,
             "#fb9f3a"
            ],
            [
             0.8888888888888888,
             "#fdca26"
            ],
            [
             1,
             "#f0f921"
            ]
           ],
           "sequentialminus": [
            [
             0,
             "#0d0887"
            ],
            [
             0.1111111111111111,
             "#46039f"
            ],
            [
             0.2222222222222222,
             "#7201a8"
            ],
            [
             0.3333333333333333,
             "#9c179e"
            ],
            [
             0.4444444444444444,
             "#bd3786"
            ],
            [
             0.5555555555555556,
             "#d8576b"
            ],
            [
             0.6666666666666666,
             "#ed7953"
            ],
            [
             0.7777777777777778,
             "#fb9f3a"
            ],
            [
             0.8888888888888888,
             "#fdca26"
            ],
            [
             1,
             "#f0f921"
            ]
           ]
          },
          "colorway": [
           "#636efa",
           "#EF553B",
           "#00cc96",
           "#ab63fa",
           "#FFA15A",
           "#19d3f3",
           "#FF6692",
           "#B6E880",
           "#FF97FF",
           "#FECB52"
          ],
          "font": {
           "color": "#2a3f5f"
          },
          "geo": {
           "bgcolor": "white",
           "lakecolor": "white",
           "landcolor": "#E5ECF6",
           "showlakes": true,
           "showland": true,
           "subunitcolor": "white"
          },
          "hoverlabel": {
           "align": "left"
          },
          "hovermode": "closest",
          "mapbox": {
           "style": "light"
          },
          "paper_bgcolor": "white",
          "plot_bgcolor": "#E5ECF6",
          "polar": {
           "angularaxis": {
            "gridcolor": "white",
            "linecolor": "white",
            "ticks": ""
           },
           "bgcolor": "#E5ECF6",
           "radialaxis": {
            "gridcolor": "white",
            "linecolor": "white",
            "ticks": ""
           }
          },
          "scene": {
           "xaxis": {
            "backgroundcolor": "#E5ECF6",
            "gridcolor": "white",
            "gridwidth": 2,
            "linecolor": "white",
            "showbackground": true,
            "ticks": "",
            "zerolinecolor": "white"
           },
           "yaxis": {
            "backgroundcolor": "#E5ECF6",
            "gridcolor": "white",
            "gridwidth": 2,
            "linecolor": "white",
            "showbackground": true,
            "ticks": "",
            "zerolinecolor": "white"
           },
           "zaxis": {
            "backgroundcolor": "#E5ECF6",
            "gridcolor": "white",
            "gridwidth": 2,
            "linecolor": "white",
            "showbackground": true,
            "ticks": "",
            "zerolinecolor": "white"
           }
          },
          "shapedefaults": {
           "line": {
            "color": "#2a3f5f"
           }
          },
          "ternary": {
           "aaxis": {
            "gridcolor": "white",
            "linecolor": "white",
            "ticks": ""
           },
           "baxis": {
            "gridcolor": "white",
            "linecolor": "white",
            "ticks": ""
           },
           "bgcolor": "#E5ECF6",
           "caxis": {
            "gridcolor": "white",
            "linecolor": "white",
            "ticks": ""
           }
          },
          "title": {
           "x": 0.05
          },
          "xaxis": {
           "automargin": true,
           "gridcolor": "white",
           "linecolor": "white",
           "ticks": "",
           "title": {
            "standoff": 15
           },
           "zerolinecolor": "white",
           "zerolinewidth": 2
          },
          "yaxis": {
           "automargin": true,
           "gridcolor": "white",
           "linecolor": "white",
           "ticks": "",
           "title": {
            "standoff": 15
           },
           "zerolinecolor": "white",
           "zerolinewidth": 2
          }
         }
        },
        "title": {
         "text": "Length of sub sequences (38 sequences | min length=387 | max length=1802)"
        },
        "xaxis": {
         "anchor": "y",
         "domain": [
          0,
          1
         ],
         "title": {
          "text": "value"
         }
        },
        "yaxis": {
         "anchor": "x",
         "domain": [
          0,
          1
         ],
         "title": {
          "text": "count"
         }
        }
       }
      }
     },
     "metadata": {},
     "output_type": "display_data"
    }
   ],
   "source": [
    "print(np.sum([len(s) for s in sub_seqs]))\n",
    "print(len(sequence))\n",
    "px.histogram([len(s) for s in sub_seqs], \n",
    "             title=f'Length of sub sequences ({len(sub_seqs)} sequences | min length={min([len(s) for s in sub_seqs])} | max length={max([len(s) for s in sub_seqs])})')"
   ]
  },
  {
   "cell_type": "code",
   "execution_count": 14,
   "metadata": {},
   "outputs": [],
   "source": [
    "## Output json dataset\n",
    "\n",
    "data_struct = {'SARS2_'+str(i): {'sequence': sub_seqs[i], 'dms': []} for i in range(len(sub_seqs))}\n",
    "\n",
    "lens = []\n",
    "start_idx = -1\n",
    "for i, end_idx in enumerate(cut_idxs):\n",
    "\n",
    "    sub_struct = paired_bases[(paired_bases[:,0] > start_idx) & (paired_bases[:,1] <= end_idx)] - start_idx - 1\n",
    "    sub_dms = full_dms[start_idx+1:end_idx+1]\n",
    "\n",
    "    # data_struct['SARS2_'+str(i)]['paired_bases'] = sub_struct.tolist()\n",
    "    data_struct['SARS2_'+str(i)]['dms'] = sub_dms.tolist()\n",
    "    start_idx = end_idx\n",
    "\n",
    "import json \n",
    "json.dump(data_struct, open('data/sars_dms_fragments.json', 'w'), indent=2)\n",
    "    "
   ]
  },
  {
   "cell_type": "code",
   "execution_count": 13,
   "metadata": {},
   "outputs": [
    {
     "data": {
      "text/html": [
       "<div>\n",
       "<style scoped>\n",
       "    .dataframe tbody tr th:only-of-type {\n",
       "        vertical-align: middle;\n",
       "    }\n",
       "\n",
       "    .dataframe tbody tr th {\n",
       "        vertical-align: top;\n",
       "    }\n",
       "\n",
       "    .dataframe thead th {\n",
       "        text-align: right;\n",
       "    }\n",
       "</style>\n",
       "<table border=\"1\" class=\"dataframe\">\n",
       "  <thead>\n",
       "    <tr style=\"text-align: right;\">\n",
       "      <th></th>\n",
       "      <th>sequence</th>\n",
       "      <th>dms</th>\n",
       "    </tr>\n",
       "  </thead>\n",
       "  <tbody>\n",
       "    <tr>\n",
       "      <th>SARS2_0</th>\n",
       "      <td>AUUAAAGGUUUAUACCUUCCCAGGUAACAAACCAACCAACUUUCGA...</td>\n",
       "      <td>[0.0, -1000.0, -1000.0, 0.011850711812235473, ...</td>\n",
       "    </tr>\n",
       "    <tr>\n",
       "      <th>SARS2_1</th>\n",
       "      <td>AAACUGGAACACUAAACAUAGCAGUGGUGUUACCCGUGAACUCAUG...</td>\n",
       "      <td>[0.17606771835321278, 0.4972681800692573, 0.62...</td>\n",
       "    </tr>\n",
       "    <tr>\n",
       "      <th>SARS2_2</th>\n",
       "      <td>AUUCAGAAGUAGGACCUGAGCAUAGUCUUGCCGAAUACCAUAAUGA...</td>\n",
       "      <td>[0.533589842247018, -1000.0, -1000.0, 0.375836...</td>\n",
       "    </tr>\n",
       "    <tr>\n",
       "      <th>SARS2_3</th>\n",
       "      <td>AUUAAGGAGAGUGUUCAGACAUUCUUUAAGCUUGUAAAUAAAUUUU...</td>\n",
       "      <td>[0.44032320123124274, -1000.0, -1000.0, 0.4172...</td>\n",
       "    </tr>\n",
       "    <tr>\n",
       "      <th>SARS2_4</th>\n",
       "      <td>UUACACCACUGGGCAUUGAUUUAGAUGAGUGGAGUAUGGCUACAUA...</td>\n",
       "      <td>[-1000.0, -1000.0, 0.6525586764140053, 0.66040...</td>\n",
       "    </tr>\n",
       "    <tr>\n",
       "      <th>SARS2_5</th>\n",
       "      <td>GAGGAGGUGUUGCAGGAGCCUUAAAUAAGGCUACUAACAAUGCCAU...</td>\n",
       "      <td>[-1000.0, 0.36490958060792605, -1000.0, -1000....</td>\n",
       "    </tr>\n",
       "    <tr>\n",
       "      <th>SARS2_6</th>\n",
       "      <td>UCUAUUAUCUCUAAUGAGAAGCAAGAAAUUCUUGGAACUGUUUCUU...</td>\n",
       "      <td>[-1000.0, 0.2954982685648326, -1000.0, 0.36629...</td>\n",
       "    </tr>\n",
       "    <tr>\n",
       "      <th>SARS2_7</th>\n",
       "      <td>AUAAAACCUCAUAAUUCACAUGAAGGUAAAACAUUUUAUGUUUUAC...</td>\n",
       "      <td>[0.44155444401692956, -1000.0, 0.3141208156983...</td>\n",
       "    </tr>\n",
       "    <tr>\n",
       "      <th>SARS2_8</th>\n",
       "      <td>GCUUCAAGAGAGCUUAAAGUUACAUUUUUCCCUGACUUAAAUGGUG...</td>\n",
       "      <td>[-1000.0, 0.21608310888803384, -1000.0, -1000....</td>\n",
       "    </tr>\n",
       "    <tr>\n",
       "      <th>SARS2_9</th>\n",
       "      <td>CAAAGUUGUUAGUACAACUACUAACAUAGUUACACGGUGUUUAAAC...</td>\n",
       "      <td>[0.9325125048095421, 0.4848018468641785, 0.389...</td>\n",
       "    </tr>\n",
       "    <tr>\n",
       "      <th>SARS2_10</th>\n",
       "      <td>ACUGCUUUUGGCUUAGUUGCAGAGUGGUUUUUGGCAUAUAUUCUUU...</td>\n",
       "      <td>[0.6176221623701423, 0.7832243170450173, -1000...</td>\n",
       "    </tr>\n",
       "    <tr>\n",
       "      <th>SARS2_11</th>\n",
       "      <td>AGUUUUUAGUGCAGUUGGUAACAUCUGUUACACACCAUCAAAACUU...</td>\n",
       "      <td>[0.32012312427856865, -1000.0, -1000.0, -1000....</td>\n",
       "    </tr>\n",
       "    <tr>\n",
       "      <th>SARS2_12</th>\n",
       "      <td>GUUAUUUACUUGUACUUGACAUUUUAUCUUACUAAUGAUGUUUCUU...</td>\n",
       "      <td>[-1000.0, -1000.0, -1000.0, 0.2360908041554443...</td>\n",
       "    </tr>\n",
       "    <tr>\n",
       "      <th>SARS2_13</th>\n",
       "      <td>ACCCUAAUUAUGAAGAUUUACUCAUUCGUAAGUCUAAUCAUAAUUU...</td>\n",
       "      <td>[0.3216621777606771, 0.5363601385148133, 0.504...</td>\n",
       "    </tr>\n",
       "    <tr>\n",
       "      <th>SARS2_14</th>\n",
       "      <td>UUUAACCUUGUGGCUAUGAAGUACAAUUAUGAACCUCUAACACAAG...</td>\n",
       "      <td>[-1000.0, -1000.0, -1000.0, 0.4392458637937668...</td>\n",
       "    </tr>\n",
       "    <tr>\n",
       "      <th>SARS2_15</th>\n",
       "      <td>UUACUUCUAACUACUCAGGUGUAGUUACAACUGUCAUGUUUUUGGC...</td>\n",
       "      <td>[-1000.0, -1000.0, 0.46879569065025006, 0.8767...</td>\n",
       "    </tr>\n",
       "    <tr>\n",
       "      <th>SARS2_16</th>\n",
       "      <td>UGUAUUAUCUUUCUGUGCUUUUGCUGUAGAUGCUGCUAAAGCUUAC...</td>\n",
       "      <td>[-1000.0, -1000.0, -1000.0, 0.3328972681800692...</td>\n",
       "    </tr>\n",
       "    <tr>\n",
       "      <th>SARS2_17</th>\n",
       "      <td>AAGUAGCUGGUUUUGCUAAAUUCCUAAAAACUAAUUGUUGUCGCUU...</td>\n",
       "      <td>[0.3710657945363601, 0.36244709503655254, -100...</td>\n",
       "    </tr>\n",
       "    <tr>\n",
       "      <th>SARS2_18</th>\n",
       "      <td>UAAUCAAGAUCUCAAUGGUAACUGGUAUGAUUUCGGUGAUUUCAUA...</td>\n",
       "      <td>[-1000.0, 0.3041169680646402, 0.36552520200076...</td>\n",
       "    </tr>\n",
       "    <tr>\n",
       "      <th>SARS2_19</th>\n",
       "      <td>AAAUCAGCUGGUUUUCCAUUUAAUAAAUGGGGUAAGGCUAGACUUU...</td>\n",
       "      <td>[0.2003847633705271, 0.6094651789149673, 0.456...</td>\n",
       "    </tr>\n",
       "    <tr>\n",
       "      <th>SARS2_20</th>\n",
       "      <td>CAAUUCACAGACUUCAUUAAGAUGUGGUGCUUGCAUACGUAGACCA...</td>\n",
       "      <td>[0.8009234320892651, 0.5985378991919968, 0.504...</td>\n",
       "    </tr>\n",
       "    <tr>\n",
       "      <th>SARS2_21</th>\n",
       "      <td>UUAAAGAUUGUAGUAAGGUAAUCACUGGGUUACAUCCUACACAGGC...</td>\n",
       "      <td>[-1000.0, -1000.0, 0.16683339746056175, 0.3898...</td>\n",
       "    </tr>\n",
       "    <tr>\n",
       "      <th>SARS2_22</th>\n",
       "      <td>CUCUGACAGAGUCGUAUUUGUCUUAUGGGCACAUGGCUUUGAGUUG...</td>\n",
       "      <td>[0.4552520200076952, -1000.0, 0.50804155444401...</td>\n",
       "    </tr>\n",
       "    <tr>\n",
       "      <th>SARS2_23</th>\n",
       "      <td>UAACUUGCCUGGUUGUGAUGGUGGCAGUUUGUAUGUAAAUAAACAU...</td>\n",
       "      <td>[-1000.0, 0.2088495575221239, 0.29826856483262...</td>\n",
       "    </tr>\n",
       "    <tr>\n",
       "      <th>SARS2_24</th>\n",
       "      <td>ACACAGUUCAAUUAUUAUAAGAAAGUUGAUGGUGUUGUCCAACAAU...</td>\n",
       "      <td>[0.25579068872643324, 0.30134667179684493, 0.2...</td>\n",
       "    </tr>\n",
       "    <tr>\n",
       "      <th>SARS2_25</th>\n",
       "      <td>CAAAGUUUUCAGAUCCUCAGUUUUACAUUCAACUCAGGACUUGUUC...</td>\n",
       "      <td>[0.3686033089649865, 0.26348595613697573, 0.22...</td>\n",
       "    </tr>\n",
       "    <tr>\n",
       "      <th>SARS2_26</th>\n",
       "      <td>AUAAUGAAAAUGGAACCAUUACAGAUGCUGUAGACUGUGCACUUGA...</td>\n",
       "      <td>[0.148056944978838, -1000.0, 0.187148903424394...</td>\n",
       "    </tr>\n",
       "    <tr>\n",
       "      <th>SARS2_27</th>\n",
       "      <td>CUGUUUGUGGACCUAAAAAGUCUACUAAUUUGGUUAAAAACAAAUG...</td>\n",
       "      <td>[0.383532127741439, -1000.0, -1000.0, -1000.0,...</td>\n",
       "    </tr>\n",
       "    <tr>\n",
       "      <th>SARS2_28</th>\n",
       "      <td>ACUCUAAUAACUCUAUUGCCAUACCCACAAAUUUUACUAUUAGUGU...</td>\n",
       "      <td>[0.335205848403232, 0.512966525586764, -1000.0...</td>\n",
       "    </tr>\n",
       "    <tr>\n",
       "      <th>SARS2_29</th>\n",
       "      <td>ACAAAUACCAUUUGCUAUGCAAAUGGCUUAUAGGUUUAAUGGUAUU...</td>\n",
       "      <td>[0.4066179299730665, 0.8937283570604078, 0.338...</td>\n",
       "    </tr>\n",
       "    <tr>\n",
       "      <th>SARS2_30</th>\n",
       "      <td>AUUUUAAGAAUCAUACAUCACCAGAUGUUGAUUUAGGUGACAUCUC...</td>\n",
       "      <td>[0.1731435167372066, -1000.0, -1000.0, -1000.0...</td>\n",
       "    </tr>\n",
       "    <tr>\n",
       "      <th>SARS2_31</th>\n",
       "      <td>AUGCUUUAGUCUACUUCUUGCAGAGUAUAAACUUUGUAAGAAUAAU...</td>\n",
       "      <td>[0.49696036937283566, -1000.0, -1000.0, 0.9320...</td>\n",
       "    </tr>\n",
       "    <tr>\n",
       "      <th>SARS2_32</th>\n",
       "      <td>UAAUUUUCCUCUGGCUGUUAUGGCCAGUAACUUUAGCUUGUUUUGU...</td>\n",
       "      <td>[-1000.0, 0.0957291265871489, 0.12958830319353...</td>\n",
       "    </tr>\n",
       "    <tr>\n",
       "      <th>SARS2_33</th>\n",
       "      <td>UAAUUAUUAUGAGGACUUUUAAAGUUUCCAUUUGGAAUCUUGAUUA...</td>\n",
       "      <td>[-1000.0, 0.47541362062331666, 0.3776837245094...</td>\n",
       "    </tr>\n",
       "    <tr>\n",
       "      <th>SARS2_34</th>\n",
       "      <td>ACUUUCAUUAAUUGACUUCUAUUUGUGCUUUUUAGCCUUUCUGCUA...</td>\n",
       "      <td>[0.2751827626010004, 0.4412466333205079, -1000...</td>\n",
       "    </tr>\n",
       "    <tr>\n",
       "      <th>SARS2_35</th>\n",
       "      <td>ACAUGGCAAGGAAGACCUUAAAUUCCCUCGAGGACAAGGCGUUCCA...</td>\n",
       "      <td>[0.7504424778761061, 1.0, 0.738283955367449, -...</td>\n",
       "    </tr>\n",
       "    <tr>\n",
       "      <th>SARS2_36</th>\n",
       "      <td>GAGCAAAAUGUCUGGUAAAGGCCAACAACAACAAGGCCAAACUGUC...</td>\n",
       "      <td>[-1000.0, 0.08941900731050403, -1000.0, 0.1423...</td>\n",
       "    </tr>\n",
       "    <tr>\n",
       "      <th>SARS2_37</th>\n",
       "      <td>AACAAUCCAUGAGCAGUGCUGACUCAACUCAGGCCUAAACUCAUGC...</td>\n",
       "      <td>[0.7324355521354367, 0.655021161985379, 0.9362...</td>\n",
       "    </tr>\n",
       "  </tbody>\n",
       "</table>\n",
       "</div>"
      ],
      "text/plain": [
       "                                                   sequence  \\\n",
       "SARS2_0   AUUAAAGGUUUAUACCUUCCCAGGUAACAAACCAACCAACUUUCGA...   \n",
       "SARS2_1   AAACUGGAACACUAAACAUAGCAGUGGUGUUACCCGUGAACUCAUG...   \n",
       "SARS2_2   AUUCAGAAGUAGGACCUGAGCAUAGUCUUGCCGAAUACCAUAAUGA...   \n",
       "SARS2_3   AUUAAGGAGAGUGUUCAGACAUUCUUUAAGCUUGUAAAUAAAUUUU...   \n",
       "SARS2_4   UUACACCACUGGGCAUUGAUUUAGAUGAGUGGAGUAUGGCUACAUA...   \n",
       "SARS2_5   GAGGAGGUGUUGCAGGAGCCUUAAAUAAGGCUACUAACAAUGCCAU...   \n",
       "SARS2_6   UCUAUUAUCUCUAAUGAGAAGCAAGAAAUUCUUGGAACUGUUUCUU...   \n",
       "SARS2_7   AUAAAACCUCAUAAUUCACAUGAAGGUAAAACAUUUUAUGUUUUAC...   \n",
       "SARS2_8   GCUUCAAGAGAGCUUAAAGUUACAUUUUUCCCUGACUUAAAUGGUG...   \n",
       "SARS2_9   CAAAGUUGUUAGUACAACUACUAACAUAGUUACACGGUGUUUAAAC...   \n",
       "SARS2_10  ACUGCUUUUGGCUUAGUUGCAGAGUGGUUUUUGGCAUAUAUUCUUU...   \n",
       "SARS2_11  AGUUUUUAGUGCAGUUGGUAACAUCUGUUACACACCAUCAAAACUU...   \n",
       "SARS2_12  GUUAUUUACUUGUACUUGACAUUUUAUCUUACUAAUGAUGUUUCUU...   \n",
       "SARS2_13  ACCCUAAUUAUGAAGAUUUACUCAUUCGUAAGUCUAAUCAUAAUUU...   \n",
       "SARS2_14  UUUAACCUUGUGGCUAUGAAGUACAAUUAUGAACCUCUAACACAAG...   \n",
       "SARS2_15  UUACUUCUAACUACUCAGGUGUAGUUACAACUGUCAUGUUUUUGGC...   \n",
       "SARS2_16  UGUAUUAUCUUUCUGUGCUUUUGCUGUAGAUGCUGCUAAAGCUUAC...   \n",
       "SARS2_17  AAGUAGCUGGUUUUGCUAAAUUCCUAAAAACUAAUUGUUGUCGCUU...   \n",
       "SARS2_18  UAAUCAAGAUCUCAAUGGUAACUGGUAUGAUUUCGGUGAUUUCAUA...   \n",
       "SARS2_19  AAAUCAGCUGGUUUUCCAUUUAAUAAAUGGGGUAAGGCUAGACUUU...   \n",
       "SARS2_20  CAAUUCACAGACUUCAUUAAGAUGUGGUGCUUGCAUACGUAGACCA...   \n",
       "SARS2_21  UUAAAGAUUGUAGUAAGGUAAUCACUGGGUUACAUCCUACACAGGC...   \n",
       "SARS2_22  CUCUGACAGAGUCGUAUUUGUCUUAUGGGCACAUGGCUUUGAGUUG...   \n",
       "SARS2_23  UAACUUGCCUGGUUGUGAUGGUGGCAGUUUGUAUGUAAAUAAACAU...   \n",
       "SARS2_24  ACACAGUUCAAUUAUUAUAAGAAAGUUGAUGGUGUUGUCCAACAAU...   \n",
       "SARS2_25  CAAAGUUUUCAGAUCCUCAGUUUUACAUUCAACUCAGGACUUGUUC...   \n",
       "SARS2_26  AUAAUGAAAAUGGAACCAUUACAGAUGCUGUAGACUGUGCACUUGA...   \n",
       "SARS2_27  CUGUUUGUGGACCUAAAAAGUCUACUAAUUUGGUUAAAAACAAAUG...   \n",
       "SARS2_28  ACUCUAAUAACUCUAUUGCCAUACCCACAAAUUUUACUAUUAGUGU...   \n",
       "SARS2_29  ACAAAUACCAUUUGCUAUGCAAAUGGCUUAUAGGUUUAAUGGUAUU...   \n",
       "SARS2_30  AUUUUAAGAAUCAUACAUCACCAGAUGUUGAUUUAGGUGACAUCUC...   \n",
       "SARS2_31  AUGCUUUAGUCUACUUCUUGCAGAGUAUAAACUUUGUAAGAAUAAU...   \n",
       "SARS2_32  UAAUUUUCCUCUGGCUGUUAUGGCCAGUAACUUUAGCUUGUUUUGU...   \n",
       "SARS2_33  UAAUUAUUAUGAGGACUUUUAAAGUUUCCAUUUGGAAUCUUGAUUA...   \n",
       "SARS2_34  ACUUUCAUUAAUUGACUUCUAUUUGUGCUUUUUAGCCUUUCUGCUA...   \n",
       "SARS2_35  ACAUGGCAAGGAAGACCUUAAAUUCCCUCGAGGACAAGGCGUUCCA...   \n",
       "SARS2_36  GAGCAAAAUGUCUGGUAAAGGCCAACAACAACAAGGCCAAACUGUC...   \n",
       "SARS2_37  AACAAUCCAUGAGCAGUGCUGACUCAACUCAGGCCUAAACUCAUGC...   \n",
       "\n",
       "                                                        dms  \n",
       "SARS2_0   [0.0, -1000.0, -1000.0, 0.011850711812235473, ...  \n",
       "SARS2_1   [0.17606771835321278, 0.4972681800692573, 0.62...  \n",
       "SARS2_2   [0.533589842247018, -1000.0, -1000.0, 0.375836...  \n",
       "SARS2_3   [0.44032320123124274, -1000.0, -1000.0, 0.4172...  \n",
       "SARS2_4   [-1000.0, -1000.0, 0.6525586764140053, 0.66040...  \n",
       "SARS2_5   [-1000.0, 0.36490958060792605, -1000.0, -1000....  \n",
       "SARS2_6   [-1000.0, 0.2954982685648326, -1000.0, 0.36629...  \n",
       "SARS2_7   [0.44155444401692956, -1000.0, 0.3141208156983...  \n",
       "SARS2_8   [-1000.0, 0.21608310888803384, -1000.0, -1000....  \n",
       "SARS2_9   [0.9325125048095421, 0.4848018468641785, 0.389...  \n",
       "SARS2_10  [0.6176221623701423, 0.7832243170450173, -1000...  \n",
       "SARS2_11  [0.32012312427856865, -1000.0, -1000.0, -1000....  \n",
       "SARS2_12  [-1000.0, -1000.0, -1000.0, 0.2360908041554443...  \n",
       "SARS2_13  [0.3216621777606771, 0.5363601385148133, 0.504...  \n",
       "SARS2_14  [-1000.0, -1000.0, -1000.0, 0.4392458637937668...  \n",
       "SARS2_15  [-1000.0, -1000.0, 0.46879569065025006, 0.8767...  \n",
       "SARS2_16  [-1000.0, -1000.0, -1000.0, 0.3328972681800692...  \n",
       "SARS2_17  [0.3710657945363601, 0.36244709503655254, -100...  \n",
       "SARS2_18  [-1000.0, 0.3041169680646402, 0.36552520200076...  \n",
       "SARS2_19  [0.2003847633705271, 0.6094651789149673, 0.456...  \n",
       "SARS2_20  [0.8009234320892651, 0.5985378991919968, 0.504...  \n",
       "SARS2_21  [-1000.0, -1000.0, 0.16683339746056175, 0.3898...  \n",
       "SARS2_22  [0.4552520200076952, -1000.0, 0.50804155444401...  \n",
       "SARS2_23  [-1000.0, 0.2088495575221239, 0.29826856483262...  \n",
       "SARS2_24  [0.25579068872643324, 0.30134667179684493, 0.2...  \n",
       "SARS2_25  [0.3686033089649865, 0.26348595613697573, 0.22...  \n",
       "SARS2_26  [0.148056944978838, -1000.0, 0.187148903424394...  \n",
       "SARS2_27  [0.383532127741439, -1000.0, -1000.0, -1000.0,...  \n",
       "SARS2_28  [0.335205848403232, 0.512966525586764, -1000.0...  \n",
       "SARS2_29  [0.4066179299730665, 0.8937283570604078, 0.338...  \n",
       "SARS2_30  [0.1731435167372066, -1000.0, -1000.0, -1000.0...  \n",
       "SARS2_31  [0.49696036937283566, -1000.0, -1000.0, 0.9320...  \n",
       "SARS2_32  [-1000.0, 0.0957291265871489, 0.12958830319353...  \n",
       "SARS2_33  [-1000.0, 0.47541362062331666, 0.3776837245094...  \n",
       "SARS2_34  [0.2751827626010004, 0.4412466333205079, -1000...  \n",
       "SARS2_35  [0.7504424778761061, 1.0, 0.738283955367449, -...  \n",
       "SARS2_36  [-1000.0, 0.08941900731050403, -1000.0, 0.1423...  \n",
       "SARS2_37  [0.7324355521354367, 0.655021161985379, 0.9362...  "
      ]
     },
     "execution_count": 13,
     "metadata": {},
     "output_type": "execute_result"
    }
   ],
   "source": [
    "pd.DataFrame.from_dict(data_struct).T"
   ]
  }
 ],
 "metadata": {
  "kernelspec": {
   "display_name": "Python 3",
   "language": "python",
   "name": "python3"
  },
  "language_info": {
   "codemirror_mode": {
    "name": "ipython",
    "version": 3
   },
   "file_extension": ".py",
   "mimetype": "text/x-python",
   "name": "python",
   "nbconvert_exporter": "python",
   "pygments_lexer": "ipython3",
   "version": "3.10.9"
  },
  "orig_nbformat": 4
 },
 "nbformat": 4,
 "nbformat_minor": 2
}
