{
 "cells": [
  {
   "cell_type": "code",
   "execution_count": 1,
   "metadata": {},
   "outputs": [],
   "source": [
    "import pandas as pd\n",
    "\n",
    "from rouskinhf import get_dataset"
   ]
  },
  {
   "cell_type": "code",
   "execution_count": 2,
   "metadata": {},
   "outputs": [
    {
     "data": {
      "text/html": [
       "<div>\n",
       "<style scoped>\n",
       "    .dataframe tbody tr th:only-of-type {\n",
       "        vertical-align: middle;\n",
       "    }\n",
       "\n",
       "    .dataframe tbody tr th {\n",
       "        vertical-align: top;\n",
       "    }\n",
       "\n",
       "    .dataframe thead th {\n",
       "        text-align: right;\n",
       "    }\n",
       "</style>\n",
       "<table border=\"1\" class=\"dataframe\">\n",
       "  <thead>\n",
       "    <tr style=\"text-align: right;\">\n",
       "      <th></th>\n",
       "      <th>sequence</th>\n",
       "      <th>structure</th>\n",
       "    </tr>\n",
       "  </thead>\n",
       "  <tbody>\n",
       "    <tr>\n",
       "      <th>5s_Saccharopolyspora-erythraea-1</th>\n",
       "      <td>GUUGUCGGUGGCGAUAGCGGUGGGGAAACGCCCGGUCCCUUUCCGA...</td>\n",
       "      <td>[[0, 121], [1, 120], [2, 119], [4, 117], [5, 1...</td>\n",
       "    </tr>\n",
       "    <tr>\n",
       "      <th>5s_Thermotoga-neapolitana-1</th>\n",
       "      <td>UCCCCGGGUGCCGAUACUGGGGCGGGAAACACCCGGUUCCAUUCCG...</td>\n",
       "      <td>[[1, 120], [2, 119], [3, 118], [4, 117], [5, 1...</td>\n",
       "    </tr>\n",
       "    <tr>\n",
       "      <th>16s_H</th>\n",
       "      <td>CCGCCCGUCAAAGCACCCGAGUGAGGUCCGGAUGAGGCCACCACAC...</td>\n",
       "      <td>[[2, 87], [5, 83], [6, 82], [10, 77], [11, 76]...</td>\n",
       "    </tr>\n",
       "    <tr>\n",
       "      <th>23s_E</th>\n",
       "      <td>AGCGUACACGGUGGAUGCCCUGGCAGUCAGAGGCGAUGAAGGACGU...</td>\n",
       "      <td>[[1, 511], [2, 510], [3, 509], [4, 508], [5, 5...</td>\n",
       "    </tr>\n",
       "    <tr>\n",
       "      <th>16s_H_1</th>\n",
       "      <td>AAUAGGUUUGGUCCUAGCCUUUCUAUUAGCUCUUAGUAAGAUUACA...</td>\n",
       "      <td>[[3, 19], [4, 18], [5, 17], [6, 16], [7, 15], ...</td>\n",
       "    </tr>\n",
       "    <tr>\n",
       "      <th>...</th>\n",
       "      <td>...</td>\n",
       "      <td>...</td>\n",
       "    </tr>\n",
       "    <tr>\n",
       "      <th>5s_Spirobolus-sp-1</th>\n",
       "      <td>GUCAACGGCCAUACUACGUUGAAAACACCAGUUCUCGUCUGAUCAC...</td>\n",
       "      <td>[[0, 117], [1, 116], [2, 115], [3, 114], [4, 1...</td>\n",
       "    </tr>\n",
       "    <tr>\n",
       "      <th>23s_T_6</th>\n",
       "      <td>AGCCGGCGACUCACGGUCGUGGGCGAGCUUAAGCCGUUGAGGCGGA...</td>\n",
       "      <td>[[1, 706], [2, 705], [3, 704], [4, 703], [5, 7...</td>\n",
       "    </tr>\n",
       "    <tr>\n",
       "      <th>23s_H_6</th>\n",
       "      <td>AGGAAAGUUGAGGAGAGCUGUCCCUAGUACGAGAGGACCGGGAUGG...</td>\n",
       "      <td>[[1, 156], [2, 155], [3, 154], [4, 153], [5, 1...</td>\n",
       "    </tr>\n",
       "    <tr>\n",
       "      <th>23s_B_6</th>\n",
       "      <td>AGAGGGGUGAGAAUCCCUCCACCGAAUGCCUAAGGGUUCCUGAGGA...</td>\n",
       "      <td>[[1, 18], [2, 17], [3, 16], [4, 15], [5, 14], ...</td>\n",
       "    </tr>\n",
       "    <tr>\n",
       "      <th>5s_Acetobacter-sp</th>\n",
       "      <td>GAUCUGGUGGCCAUGGCGGGGCGCAAUCACCCGAUCCCAUCCCGAA...</td>\n",
       "      <td>[[0, 117], [1, 116], [2, 115], [3, 114], [4, 1...</td>\n",
       "    </tr>\n",
       "  </tbody>\n",
       "</table>\n",
       "<p>355 rows × 2 columns</p>\n",
       "</div>"
      ],
      "text/plain": [
       "                                                                           sequence  \\\n",
       "5s_Saccharopolyspora-erythraea-1  GUUGUCGGUGGCGAUAGCGGUGGGGAAACGCCCGGUCCCUUUCCGA...   \n",
       "5s_Thermotoga-neapolitana-1       UCCCCGGGUGCCGAUACUGGGGCGGGAAACACCCGGUUCCAUUCCG...   \n",
       "16s_H                             CCGCCCGUCAAAGCACCCGAGUGAGGUCCGGAUGAGGCCACCACAC...   \n",
       "23s_E                             AGCGUACACGGUGGAUGCCCUGGCAGUCAGAGGCGAUGAAGGACGU...   \n",
       "16s_H_1                           AAUAGGUUUGGUCCUAGCCUUUCUAUUAGCUCUUAGUAAGAUUACA...   \n",
       "...                                                                             ...   \n",
       "5s_Spirobolus-sp-1                GUCAACGGCCAUACUACGUUGAAAACACCAGUUCUCGUCUGAUCAC...   \n",
       "23s_T_6                           AGCCGGCGACUCACGGUCGUGGGCGAGCUUAAGCCGUUGAGGCGGA...   \n",
       "23s_H_6                           AGGAAAGUUGAGGAGAGCUGUCCCUAGUACGAGAGGACCGGGAUGG...   \n",
       "23s_B_6                           AGAGGGGUGAGAAUCCCUCCACCGAAUGCCUAAGGGUUCCUGAGGA...   \n",
       "5s_Acetobacter-sp                 GAUCUGGUGGCCAUGGCGGGGCGCAAUCACCCGAUCCCAUCCCGAA...   \n",
       "\n",
       "                                                                          structure  \n",
       "5s_Saccharopolyspora-erythraea-1  [[0, 121], [1, 120], [2, 119], [4, 117], [5, 1...  \n",
       "5s_Thermotoga-neapolitana-1       [[1, 120], [2, 119], [3, 118], [4, 117], [5, 1...  \n",
       "16s_H                             [[2, 87], [5, 83], [6, 82], [10, 77], [11, 76]...  \n",
       "23s_E                             [[1, 511], [2, 510], [3, 509], [4, 508], [5, 5...  \n",
       "16s_H_1                           [[3, 19], [4, 18], [5, 17], [6, 16], [7, 15], ...  \n",
       "...                                                                             ...  \n",
       "5s_Spirobolus-sp-1                [[0, 117], [1, 116], [2, 115], [3, 114], [4, 1...  \n",
       "23s_T_6                           [[1, 706], [2, 705], [3, 704], [4, 703], [5, 7...  \n",
       "23s_H_6                           [[1, 156], [2, 155], [3, 154], [4, 153], [5, 1...  \n",
       "23s_B_6                           [[1, 18], [2, 17], [3, 16], [4, 15], [5, 14], ...  \n",
       "5s_Acetobacter-sp                 [[0, 117], [1, 116], [2, 115], [3, 114], [4, 1...  \n",
       "\n",
       "[355 rows x 2 columns]"
      ]
     },
     "execution_count": 2,
     "metadata": {},
     "output_type": "execute_result"
    }
   ],
   "source": [
    "seq = []\n",
    "for dataset in ['RNAstralign', 'bpRNA', 'ribo500-blast']:\n",
    "\n",
    "    data = get_dataset(dataset)\n",
    "\n",
    "    seq += pd.DataFrame(data).T['sequence'].to_list()\n",
    "\n",
    "\n",
    "# Keep sequences that are not in the other datasets\n",
    "data = get_dataset('archiveII')\n",
    "data_test = pd.DataFrame(data).T\n",
    "data_test = data_test[~data_test.sequence.isin(seq)]\n",
    "\n",
    "# Remove sequences that are more than 2000 nucleotides long\n",
    "data_test = data_test[data_test.sequence.str.len() <= 2000]\n",
    "data_test"
   ]
  },
  {
   "cell_type": "code",
   "execution_count": 3,
   "metadata": {},
   "outputs": [
    {
     "data": {
      "text/plain": [
       "5s        60.845070\n",
       "16s       26.197183\n",
       "23s        8.450704\n",
       "RNaseP     2.535211\n",
       "grp1       1.690141\n",
       "tRNA       0.281690\n",
       "Name: family, dtype: float64"
      ]
     },
     "execution_count": 3,
     "metadata": {},
     "output_type": "execute_result"
    }
   ],
   "source": [
    "data_test['family'] = [ref.split('_')[0] for ref in data_test.index]\n",
    "data_test.family.value_counts()\n",
    "\n",
    "# in percent\n",
    "data_test.family.value_counts(normalize=True) * 100"
   ]
  },
  {
   "cell_type": "markdown",
   "metadata": {},
   "source": [
    "## Convert to rouskinHF"
   ]
  },
  {
   "cell_type": "code",
   "execution_count": 4,
   "metadata": {},
   "outputs": [],
   "source": [
    "import envbash\n",
    "envbash.load.load_envbash('../.env')\n",
    "from rouskinhf import convert, upload_dataset, get_dataset"
   ]
  },
  {
   "cell_type": "markdown",
   "metadata": {},
   "source": [
    "## RouskinHF filtering"
   ]
  },
  {
   "cell_type": "code",
   "execution_count": 5,
   "metadata": {},
   "outputs": [
    {
     "name": "stderr",
     "output_type": "stream",
     "text": [
      "Parsing json file: 100%|██████████| 355/355 [00:00<00:00, 68295.47it/s]"
     ]
    },
    {
     "name": "stdout",
     "output_type": "stream",
     "text": [
      "Over a total of 355 datapoints, there are:\n",
      "### OUTPUT\n",
      "- ALL: 355 valid datapoints\n",
      "- INCLUDED: 0 duplicate sequences with different structure / dms / shape\n",
      "### MODIFIED\n",
      "- 0 multiple sequences with the same reference (renamed reference)\n",
      "### FILTERED OUT\n",
      "- 0 invalid datapoints (ex: sequence with non-regular characters)\n",
      "- 0 datapoints with bad structures\n",
      "- 0 duplicate sequences with the same structure / dms / shape\n"
     ]
    },
    {
     "name": "stderr",
     "output_type": "stream",
     "text": [
      "\n"
     ]
    }
   ],
   "source": [
    "from rouskinhf import convert, dump_json\n",
    "\n",
    "dump_json(data_test.to_dict(orient='index'),\n",
    "          'data/archiveII_blast.json')\n",
    "\n",
    "data = convert(\n",
    "    'json',\n",
    "    'data/archiveII_blast.json',\n",
    "    name='archiveII_blast',\n",
    "    path_out='data',\n",
    "    filter=True,\n",
    "    \n",
    ")"
   ]
  },
  {
   "cell_type": "markdown",
   "metadata": {},
   "source": [
    "## To HuggingFace"
   ]
  },
  {
   "cell_type": "code",
   "execution_count": 6,
   "metadata": {},
   "outputs": [],
   "source": [
    "from rouskinhf import upload_dataset\n",
    "\n",
    "upload_dataset(\n",
    "    'data/archiveII_blast/data.json',\n",
    "    commit_message='removed sequences > 2000 nt',\n",
    "    exist_ok=True\n",
    ")"
   ]
  },
  {
   "cell_type": "code",
   "execution_count": 11,
   "metadata": {},
   "outputs": [],
   "source": []
  }
 ],
 "metadata": {
  "kernelspec": {
   "display_name": "Python 3",
   "language": "python",
   "name": "python3"
  },
  "language_info": {
   "codemirror_mode": {
    "name": "ipython",
    "version": 3
   },
   "file_extension": ".py",
   "mimetype": "text/x-python",
   "name": "python",
   "nbconvert_exporter": "python",
   "pygments_lexer": "ipython3",
   "version": "3.10.9"
  }
 },
 "nbformat": 4,
 "nbformat_minor": 2
}
