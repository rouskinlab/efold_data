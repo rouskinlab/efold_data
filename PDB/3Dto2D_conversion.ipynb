{
 "cells": [
  {
   "cell_type": "code",
   "execution_count": 66,
   "metadata": {},
   "outputs": [],
   "source": [
    "from selenium import webdriver\n",
    "from selenium.webdriver.common.by import By\n",
    "from selenium.webdriver.chrome.options import Options\n",
    "\n",
    "from selenium.webdriver.chrome.service import Service\n",
    "from webdriver_manager.chrome import ChromeDriverManager\n",
    "\n",
    "import time\n",
    "import os\n",
    "\n",
    "from tqdm import tqdm"
   ]
  },
  {
   "cell_type": "code",
   "execution_count": 67,
   "metadata": {},
   "outputs": [],
   "source": [
    "download_folder = '/Users/alberic/Desktop/Pro/RouskinLab/projects/deep_learning/datasets/PDB/bpSEQ_files_pdbee' # Needs to be absolute !!\n",
    "\n",
    "chrome_options = Options()\n",
    "chrome_options.add_argument(\"--headless\")  # Run Chrome in headless mode (without GUI)\n",
    "chrome_options.add_argument(\"--no-sandbox\")\n",
    "chrome_options.add_argument(\"--disable-dev-shm-usage\")\n",
    "chrome_options.add_experimental_option(\"prefs\", {\n",
    "    \"download.default_directory\": download_folder,\n",
    "    \"download.prompt_for_download\": False,\n",
    "    \"download.directory_upgrade\": True,\n",
    "    \"safebrowsing.enabled\": True\n",
    "})\n",
    "# Specify the path to the ChromeDriver executable\n",
    "# driver = webdriver.Chrome(service=Service(ChromeDriverManager().install()), options=chrome_options)\n",
    "driver = webdriver.Chrome(options=chrome_options)\n"
   ]
  },
  {
   "cell_type": "code",
   "execution_count": 68,
   "metadata": {},
   "outputs": [],
   "source": [
    "import pandas as pd\n",
    "\n",
    "# This was filtered by:\n",
    "# - Entry polymer composition = RNA\n",
    "# - Number of assemblies = 1\n",
    "# - Number of Distinct Molecular Entities = 1\n",
    "# - Total Number of Polymer Instances (Chains) = 1\n",
    "\n",
    "# Louche:\n",
    "# - 1RXA\n",
    "PDB_IDs = pd.read_csv('rcsb_pdb_ids.txt').columns.tolist()"
   ]
  },
  {
   "cell_type": "code",
   "execution_count": 69,
   "metadata": {},
   "outputs": [
    {
     "name": "stderr",
     "output_type": "stream",
     "text": [
      "  4%|▍         | 19/447 [06:05<2:01:52, 17.08s/it]"
     ]
    },
    {
     "name": "stdout",
     "output_type": "stream",
     "text": [
      "Error with 1C2W\n"
     ]
    },
    {
     "name": "stderr",
     "output_type": "stream",
     "text": [
      " 24%|██▍       | 108/447 [34:46<1:37:20, 17.23s/it]"
     ]
    },
    {
     "name": "stdout",
     "output_type": "stream",
     "text": [
      "Error with 1P5M\n"
     ]
    },
    {
     "name": "stderr",
     "output_type": "stream",
     "text": [
      " 66%|██████▌   | 295/447 [1:35:32<43:54, 17.33s/it]  "
     ]
    },
    {
     "name": "stdout",
     "output_type": "stream",
     "text": [
      "Error with 2N1Q\n"
     ]
    },
    {
     "name": "stderr",
     "output_type": "stream",
     "text": [
      " 85%|████████▌ | 382/447 [2:09:06<19:51, 18.33s/it]  "
     ]
    },
    {
     "name": "stdout",
     "output_type": "stream",
     "text": [
      "Error with 6VU1\n"
     ]
    },
    {
     "name": "stderr",
     "output_type": "stream",
     "text": [
      " 86%|████████▋ | 386/447 [2:10:21<17:49, 17.54s/it]"
     ]
    },
    {
     "name": "stdout",
     "output_type": "stream",
     "text": [
      "Error with 6WLJ\n"
     ]
    },
    {
     "name": "stderr",
     "output_type": "stream",
     "text": [
      " 87%|████████▋ | 388/447 [2:10:54<16:21, 16.63s/it]"
     ]
    },
    {
     "name": "stdout",
     "output_type": "stream",
     "text": [
      "Error with 6WLL\n"
     ]
    },
    {
     "name": "stderr",
     "output_type": "stream",
     "text": [
      " 87%|████████▋ | 389/447 [2:11:06<14:46, 15.29s/it]"
     ]
    },
    {
     "name": "stdout",
     "output_type": "stream",
     "text": [
      "Error with 6WLM\n"
     ]
    },
    {
     "name": "stderr",
     "output_type": "stream",
     "text": [
      " 87%|████████▋ | 390/447 [2:11:18<13:25, 14.13s/it]"
     ]
    },
    {
     "name": "stdout",
     "output_type": "stream",
     "text": [
      "Error with 6WLN\n"
     ]
    },
    {
     "name": "stderr",
     "output_type": "stream",
     "text": [
      " 87%|████████▋ | 391/447 [2:11:30<12:42, 13.62s/it]"
     ]
    },
    {
     "name": "stdout",
     "output_type": "stream",
     "text": [
      "Error with 6WLO\n"
     ]
    },
    {
     "name": "stderr",
     "output_type": "stream",
     "text": [
      " 88%|████████▊ | 392/447 [2:11:42<12:09, 13.26s/it]"
     ]
    },
    {
     "name": "stdout",
     "output_type": "stream",
     "text": [
      "Error with 6WLQ\n"
     ]
    },
    {
     "name": "stderr",
     "output_type": "stream",
     "text": [
      " 88%|████████▊ | 394/447 [2:12:17<13:03, 14.79s/it]"
     ]
    },
    {
     "name": "stdout",
     "output_type": "stream",
     "text": [
      "Error with 6WLS\n"
     ]
    },
    {
     "name": "stderr",
     "output_type": "stream",
     "text": [
      " 88%|████████▊ | 395/447 [2:12:30<12:17, 14.19s/it]"
     ]
    },
    {
     "name": "stdout",
     "output_type": "stream",
     "text": [
      "Error with 6WLT\n"
     ]
    },
    {
     "name": "stderr",
     "output_type": "stream",
     "text": [
      " 91%|█████████▏| 409/447 [2:17:03<11:24, 18.01s/it]"
     ]
    },
    {
     "name": "stdout",
     "output_type": "stream",
     "text": [
      "Error with 7LVA\n"
     ]
    },
    {
     "name": "stderr",
     "output_type": "stream",
     "text": [
      " 98%|█████████▊| 440/447 [2:28:44<02:12, 18.94s/it]"
     ]
    },
    {
     "name": "stdout",
     "output_type": "stream",
     "text": [
      "Error with 8FCS\n"
     ]
    },
    {
     "name": "stderr",
     "output_type": "stream",
     "text": [
      " 99%|█████████▊| 441/447 [2:28:57<01:42, 17.12s/it]"
     ]
    },
    {
     "name": "stdout",
     "output_type": "stream",
     "text": [
      "Error with 8S95\n"
     ]
    },
    {
     "name": "stderr",
     "output_type": "stream",
     "text": [
      " 99%|█████████▉| 442/447 [2:29:10<01:18, 15.75s/it]"
     ]
    },
    {
     "name": "stdout",
     "output_type": "stream",
     "text": [
      "Error with 8SCF\n"
     ]
    },
    {
     "name": "stderr",
     "output_type": "stream",
     "text": [
      " 99%|█████████▉| 443/447 [2:29:22<00:59, 14.79s/it]"
     ]
    },
    {
     "name": "stdout",
     "output_type": "stream",
     "text": [
      "Error with 8SCH\n"
     ]
    },
    {
     "name": "stderr",
     "output_type": "stream",
     "text": [
      "100%|██████████| 447/447 [2:30:47<00:00, 20.24s/it]\n"
     ]
    }
   ],
   "source": [
    "for id in tqdm(PDB_IDs):\n",
    "\n",
    "    try:\n",
    "\n",
    "        # Open the website\n",
    "        driver.get('http://rnapdbee.cs.put.poznan.pl/') \n",
    "\n",
    "        # Fill the ID name\n",
    "        entry_box = driver.find_element(By.ID, 'pdbId')\n",
    "        entry_box.send_keys(id)\n",
    "\n",
    "        # Click the get button\n",
    "        driver.find_element(By.XPATH, \"//*[@id='tabs-1']/div[3]/div[2]/input[2]\").click()\n",
    "        time.sleep(10)\n",
    "        # Click the RUN button\n",
    "        driver.find_element(By.ID, 'commitPdb').click() \n",
    "        time.sleep(2)\n",
    "        # driver.find_element(By.NAME, 'isCt').click()\n",
    "        driver.find_element(By.NAME, 'isBpseq').click()\n",
    "        time.sleep(2)\n",
    "        driver.find_element(By.CLASS_NAME, 'downloadAll').click()\n",
    "        time.sleep(2)\n",
    "\n",
    "    except:\n",
    "        print('Error with ' + id)\n",
    "    "
   ]
  },
  {
   "cell_type": "code",
   "execution_count": 83,
   "metadata": {},
   "outputs": [],
   "source": [
    "# Go over all zip flese and unzip them and delete the zip files, then move the file inside the unzipped folder to the main folder\n",
    "import os\n",
    "import zipfile\n",
    "import shutil\n",
    "\n",
    "for file in os.listdir(download_folder):\n",
    "    if file.endswith('.zip'):\n",
    "        with zipfile.ZipFile(os.path.join(download_folder, file), 'r') as zip_ref:\n",
    "            zip_ref.extractall(download_folder)\n",
    "        os.remove(os.path.join(download_folder, file))\n",
    "\n",
    "        save_path = os.path.join(download_folder, file.split('-')[1])\n",
    "       \n",
    "        for path, subdirs, files in os.walk(save_path):\n",
    "            for name in files:\n",
    "                save_name = os.path.join(download_folder, name)\n",
    "                while os.path.exists(save_name):\n",
    "                    save_name = os.path.join(save_name.split('.txt')[0] + '_DUP' + '.txt')\n",
    "                os.rename(os.path.join(path, name), save_name)\n",
    "        shutil.rmtree(save_path)\n",
    "\n"
   ]
  },
  {
   "cell_type": "code",
   "execution_count": 84,
   "metadata": {},
   "outputs": [],
   "source": [
    "# convert .txt files to .ct files\n",
    "# And append name of file to the first line\n",
    "\n",
    "for file in os.listdir(download_folder):\n",
    "    if file.endswith('.txt'):\n",
    "        with open(os.path.join(download_folder, file), 'r') as f:\n",
    "            lines = f.readlines()\n",
    "            lines[0] = lines[0].split('\\n')[0] + ' ' + file.replace('-ct', '').split('.txt')[0] + '\\n'\n",
    "        with open(os.path.join(download_folder, file.replace('-ct', '').split('.txt')[0] + '.ct'), 'w') as f:\n",
    "            f.writelines(lines)\n",
    "        os.remove(os.path.join(download_folder, file))"
   ]
  },
  {
   "cell_type": "code",
   "execution_count": 92,
   "metadata": {},
   "outputs": [],
   "source": [
    "# convert .txt files to .ct files\n",
    "# And append name of file to the first line\n",
    "\n",
    "for file in os.listdir(download_folder):\n",
    "    if file.endswith('.bpseq'):\n",
    "        with open(os.path.join(download_folder, file), 'r') as f:\n",
    "            lines = f.readlines()\n",
    "            # lines[0] = lines[0].split(' ')[0] + ' ' + file.replace('-ct', '').split('.txt')[0] + '\\n'\n",
    "            lines[0] = ' '.join(lines[0].split(' ')[:3])+'\\n'\n",
    "        with open(os.path.join(download_folder, file), 'w') as f:\n",
    "            f.writelines(lines)\n"
   ]
  },
  {
   "cell_type": "code",
   "execution_count": 90,
   "metadata": {},
   "outputs": [
    {
     "data": {
      "text/plain": [
       "'1 g 38'"
      ]
     },
     "execution_count": 90,
     "metadata": {},
     "output_type": "execute_result"
    }
   ],
   "source": [
    "' '.join('1 g 38 1A9L-2D-bpseq'.split(' ')[:3])+'\\n'"
   ]
  },
  {
   "cell_type": "code",
   "execution_count": 85,
   "metadata": {},
   "outputs": [],
   "source": [
    "# Convert .txt files to .bpseq files by changinf file name\n",
    "\n",
    "for file in os.listdir(download_folder):\n",
    "    if file.endswith('.txt'):\n",
    "        os.rename(os.path.join(download_folder, file), os.path.join(download_folder, file.replace('-bpseq', '').split('.txt')[0] + '.bpseq'))"
   ]
  }
 ],
 "metadata": {
  "kernelspec": {
   "display_name": "Python 3",
   "language": "python",
   "name": "python3"
  },
  "language_info": {
   "codemirror_mode": {
    "name": "ipython",
    "version": 3
   },
   "file_extension": ".py",
   "mimetype": "text/x-python",
   "name": "python",
   "nbconvert_exporter": "python",
   "pygments_lexer": "ipython3",
   "version": "3.10.9"
  },
  "orig_nbformat": 4
 },
 "nbformat": 4,
 "nbformat_minor": 2
}
