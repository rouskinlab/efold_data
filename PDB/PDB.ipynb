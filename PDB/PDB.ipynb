{
 "cells": [
  {
   "cell_type": "code",
   "execution_count": 41,
   "metadata": {},
   "outputs": [],
   "source": [
    "import envbash\n",
    "envbash.load.load_envbash('../.env')\n",
    "from rouskinhf import convert, upload_dataset, get_dataset, dump_json\n",
    "import pandas as pd"
   ]
  },
  {
   "cell_type": "markdown",
   "metadata": {},
   "source": [
    "## RouskinHF filtering"
   ]
  },
  {
   "cell_type": "code",
   "execution_count": 56,
   "metadata": {},
   "outputs": [
    {
     "name": "stderr",
     "output_type": "stream",
     "text": [
      "Parsing bpseq files: 100%|██████████| 442/442 [00:00<00:00, 12933.73it/s]\n"
     ]
    },
    {
     "name": "stdout",
     "output_type": "stream",
     "text": [
      "Over a total of 442 datapoints, there are:\n",
      "### OUTPUT\n",
      "- 392 valid datapoints\n",
      "### MODIFIED\n",
      "- 0 multiple sequences with the same reference (renamed reference)\n",
      "- 36 duplicate sequences with different structure / dms / shape\n",
      "### FILTERED OUT\n",
      "- 0 invalid datapoints (ex: sequence with non-regular characters)\n",
      "- 0 datapoints with bad structures\n",
      "- 50 duplicate sequences with the same structure / dms / shape\n"
     ]
    },
    {
     "name": "stderr",
     "output_type": "stream",
     "text": [
      "Parsing json file: 100%|██████████| 356/356 [00:00<00:00, 220981.53it/s]"
     ]
    },
    {
     "name": "stdout",
     "output_type": "stream",
     "text": [
      "Over a total of 356 datapoints, there are:\n",
      "### OUTPUT\n",
      "- 356 valid datapoints\n",
      "### MODIFIED\n",
      "- 0 multiple sequences with the same reference (renamed reference)\n",
      "- 0 duplicate sequences with different structure / dms / shape\n",
      "### FILTERED OUT\n",
      "- 0 invalid datapoints (ex: sequence with non-regular characters)\n",
      "- 0 datapoints with bad structures\n",
      "- 0 duplicate sequences with the same structure / dms / shape\n"
     ]
    },
    {
     "name": "stderr",
     "output_type": "stream",
     "text": [
      "\n"
     ]
    }
   ],
   "source": [
    "data = convert(\n",
    "    'bpseq',\n",
    "    'data/bpSEQ_files_pdbee',\n",
    "    name='PDB',\n",
    "    path_out='data',\n",
    "    filter=True\n",
    ")\n",
    "\n",
    "data_dict = pd.DataFrame(data).T.drop_duplicates(subset=['sequence'])\n",
    "data_dict.T.to_json('data/bpSEQ_files_pdbee_filtered.json', indent=2)\n",
    "\n",
    "data = convert(\n",
    "    'json',\n",
    "    'data/bpSEQ_files_pdbee_filtered.json',\n",
    "    name='PDB',\n",
    "    path_out='data',\n",
    "    filter=True\n",
    ")"
   ]
  },
  {
   "cell_type": "markdown",
   "metadata": {},
   "source": [
    "## To HuggingFace"
   ]
  },
  {
   "cell_type": "code",
   "execution_count": 59,
   "metadata": {},
   "outputs": [],
   "source": [
    "upload_dataset(\n",
    "    datapath='data/PDB/data.json',\n",
    "    exist_ok=True,\n",
    "    commit_message='updated with new rouskinhf + Supermodels-data',\n",
    ")"
   ]
  },
  {
   "cell_type": "markdown",
   "metadata": {},
   "source": [
    "## Make PDB filters"
   ]
  },
  {
   "cell_type": "code",
   "execution_count": 18,
   "metadata": {},
   "outputs": [],
   "source": [
    "import pandas as pd\n",
    "\n",
    "pdb_data = get_dataset('PDB')\n",
    "df_pdb = pd.DataFrame.from_dict(pdb_data, orient='index')\n",
    "efold_train = get_dataset('efold_train')\n",
    "df_efold = pd.DataFrame.from_dict(efold_train, orient='index')\n"
   ]
  },
  {
   "cell_type": "code",
   "execution_count": 20,
   "metadata": {},
   "outputs": [
    {
     "name": "stdout",
     "output_type": "stream",
     "text": [
      "removed 285/356\n"
     ]
    }
   ],
   "source": [
    "df_pdb_filtered = df_pdb[~df_pdb['sequence'].isin(df_efold['sequence'])]\n",
    "\n",
    "print(\"removed {}/{}\".format(len(df_pdb) - len(df_pdb_filtered), len(df_pdb)))\n",
    "\n"
   ]
  },
  {
   "cell_type": "code",
   "execution_count": 24,
   "metadata": {},
   "outputs": [],
   "source": [
    "def df_to_fastas(df, path_out):\n",
    "    with open(path_out, 'w') as f:\n",
    "        for idx, row in df.iterrows():\n",
    "            f.write('>{}\\n{}\\n'.format(idx, row['sequence']))\n",
    "\n",
    "df_to_fastas(df_pdb_filtered, 'data/PDB/data_filtered.fasta')\n",
    "df_to_fastas(df_efold, 'data/efold_train/data.fasta')"
   ]
  },
  {
   "cell_type": "code",
   "execution_count": 29,
   "metadata": {},
   "outputs": [
    {
     "name": "stdout",
     "output_type": "stream",
     "text": [
      "82960.30s - pydevd: Sending message related to process being replaced timed-out after 5 seconds\n",
      "\n",
      "\n",
      "Building a new DB, current time: 05/09/2024 14:14:30\n",
      "New DB name:   /Users/yvesmartin/src/supermodels-data/PDB/db/efold_train\n",
      "New DB title:  data/efold_train/data.fasta\n",
      "Sequence type: Nucleotide\n",
      "Keep MBits: T\n",
      "Maximum file size: 3000000000B\n",
      "Adding sequences from FASTA; added 339247 sequences in 3.17595 seconds.\n",
      "\n",
      "\n"
     ]
    }
   ],
   "source": [
    "!makeblastdb -in data/efold_train/data.fasta -dbtype nucl -out db/efold_train"
   ]
  },
  {
   "cell_type": "code",
   "execution_count": 31,
   "metadata": {},
   "outputs": [
    {
     "name": "stdout",
     "output_type": "stream",
     "text": [
      "83018.49s - pydevd: Sending message related to process being replaced timed-out after 5 seconds\n"
     ]
    }
   ],
   "source": [
    "!blastn -query data/PDB/data_filtered.fasta -db db/efold_train -out results.txt -outfmt 6 -num_threads 4\n"
   ]
  },
  {
   "cell_type": "code",
   "execution_count": 47,
   "metadata": {},
   "outputs": [],
   "source": [
    "results = pd.read_csv('results.txt', sep='\\t', header=None)\n",
    "results.columns = ['query', 'subject', 'identity', 'length', 'mismatches', 'gapopenings', 'qstart', 'qend', 'sstart', 'send', 'evalue', 'bitscore']\n",
    "results.sort_values('evalue', inplace=True, ascending=True)\n",
    "results.drop_duplicates('query', keep='first', inplace=True)\n",
    "len(results)\n",
    "\n",
    "# remove matches from pdb_filtered\n",
    "df_pdb_filtered = df_pdb_filtered[~df_pdb_filtered['sequence'].isin(results['query'])]\n",
    "\n",
    "# push pdb_filtered to huggingface\n",
    "dump_json(df_pdb_filtered.to_dict(orient='index'), 'data/PDB/pdb_filtered.json')\n",
    "upload_dataset(\n",
    "    datapath='data/PDB/pdb_filtered.json',\n",
    "    exist_ok=True,\n",
    "    commit_message='updated with new rouskinhf + Supermodels-data',\n",
    ")"
   ]
  },
  {
   "cell_type": "code",
   "execution_count": 43,
   "metadata": {},
   "outputs": [
    {
     "data": {
      "text/html": [
       "<div>\n",
       "<style scoped>\n",
       "    .dataframe tbody tr th:only-of-type {\n",
       "        vertical-align: middle;\n",
       "    }\n",
       "\n",
       "    .dataframe tbody tr th {\n",
       "        vertical-align: top;\n",
       "    }\n",
       "\n",
       "    .dataframe thead th {\n",
       "        text-align: right;\n",
       "    }\n",
       "</style>\n",
       "<table border=\"1\" class=\"dataframe\">\n",
       "  <thead>\n",
       "    <tr style=\"text-align: right;\">\n",
       "      <th></th>\n",
       "      <th>sequence</th>\n",
       "      <th>structure</th>\n",
       "    </tr>\n",
       "  </thead>\n",
       "  <tbody>\n",
       "    <tr>\n",
       "      <th>8S95-2D</th>\n",
       "      <td>CGCCCGGAUAGCUCAGUCGGUAGAGCAGCGGCUAAAACAGCUCUGG...</td>\n",
       "      <td>[[1, 152], [2, 151], [3, 150], [4, 149], [5, 1...</td>\n",
       "    </tr>\n",
       "    <tr>\n",
       "      <th>1OSW-2D</th>\n",
       "      <td>GGAGGCGCUACGGCGAGGCUCC</td>\n",
       "      <td>[[0, 21], [1, 20], [2, 19], [3, 18], [5, 14], ...</td>\n",
       "    </tr>\n",
       "    <tr>\n",
       "      <th>8TNS-2D</th>\n",
       "      <td>GUGUGUGUGUGUGUGUGUGUGUGU</td>\n",
       "      <td>[]</td>\n",
       "    </tr>\n",
       "    <tr>\n",
       "      <th>7PTK-2D</th>\n",
       "      <td>GGGAGAGUACUAUUCAGAUGCAGACCGCAAGUUCAGAGCGGUUUGC...</td>\n",
       "      <td>[[0, 354], [1, 353], [2, 352], [3, 351], [4, 3...</td>\n",
       "    </tr>\n",
       "    <tr>\n",
       "      <th>8CLR-2D</th>\n",
       "      <td>GGCAGCUUGCUGCC</td>\n",
       "      <td>[[0, 13], [1, 12], [2, 11], [3, 10], [4, 9], [...</td>\n",
       "    </tr>\n",
       "    <tr>\n",
       "      <th>...</th>\n",
       "      <td>...</td>\n",
       "      <td>...</td>\n",
       "    </tr>\n",
       "    <tr>\n",
       "      <th>6MXQ-2D</th>\n",
       "      <td>GGCAGUAUAGUCCGAACUGCAACUUCGGUUCACCUUCUCUCUAACUGCC</td>\n",
       "      <td>[[0, 48], [1, 47], [2, 46], [3, 45], [4, 44], ...</td>\n",
       "    </tr>\n",
       "    <tr>\n",
       "      <th>5V17-2D</th>\n",
       "      <td>GGAUCAACCCCAGGUGUGGCACACCAGUCAUACCUUGAUCC</td>\n",
       "      <td>[[0, 40], [1, 39], [2, 38], [3, 37], [4, 36], ...</td>\n",
       "    </tr>\n",
       "    <tr>\n",
       "      <th>5V16-2D</th>\n",
       "      <td>GGAUCAAUAGCAGGUGUGGCACACCAGUCAUACCUUGAUCC</td>\n",
       "      <td>[[0, 40], [1, 39], [2, 38], [3, 37], [4, 36], ...</td>\n",
       "    </tr>\n",
       "    <tr>\n",
       "      <th>2MNC-2D</th>\n",
       "      <td>GGGUUGACCGUUGAAUCUCACGG</td>\n",
       "      <td>[[7, 22], [8, 21], [9, 20], [10, 19], [12, 18]]</td>\n",
       "    </tr>\n",
       "    <tr>\n",
       "      <th>7Q6L-2D</th>\n",
       "      <td>GGGCCAUAGGGUGGGAUCUGGG</td>\n",
       "      <td>[]</td>\n",
       "    </tr>\n",
       "  </tbody>\n",
       "</table>\n",
       "<p>71 rows × 2 columns</p>\n",
       "</div>"
      ],
      "text/plain": [
       "                                                  sequence  \\\n",
       "8S95-2D  CGCCCGGAUAGCUCAGUCGGUAGAGCAGCGGCUAAAACAGCUCUGG...   \n",
       "1OSW-2D                             GGAGGCGCUACGGCGAGGCUCC   \n",
       "8TNS-2D                           GUGUGUGUGUGUGUGUGUGUGUGU   \n",
       "7PTK-2D  GGGAGAGUACUAUUCAGAUGCAGACCGCAAGUUCAGAGCGGUUUGC...   \n",
       "8CLR-2D                                     GGCAGCUUGCUGCC   \n",
       "...                                                    ...   \n",
       "6MXQ-2D  GGCAGUAUAGUCCGAACUGCAACUUCGGUUCACCUUCUCUCUAACUGCC   \n",
       "5V17-2D          GGAUCAACCCCAGGUGUGGCACACCAGUCAUACCUUGAUCC   \n",
       "5V16-2D          GGAUCAAUAGCAGGUGUGGCACACCAGUCAUACCUUGAUCC   \n",
       "2MNC-2D                            GGGUUGACCGUUGAAUCUCACGG   \n",
       "7Q6L-2D                             GGGCCAUAGGGUGGGAUCUGGG   \n",
       "\n",
       "                                                 structure  \n",
       "8S95-2D  [[1, 152], [2, 151], [3, 150], [4, 149], [5, 1...  \n",
       "1OSW-2D  [[0, 21], [1, 20], [2, 19], [3, 18], [5, 14], ...  \n",
       "8TNS-2D                                                 []  \n",
       "7PTK-2D  [[0, 354], [1, 353], [2, 352], [3, 351], [4, 3...  \n",
       "8CLR-2D  [[0, 13], [1, 12], [2, 11], [3, 10], [4, 9], [...  \n",
       "...                                                    ...  \n",
       "6MXQ-2D  [[0, 48], [1, 47], [2, 46], [3, 45], [4, 44], ...  \n",
       "5V17-2D  [[0, 40], [1, 39], [2, 38], [3, 37], [4, 36], ...  \n",
       "5V16-2D  [[0, 40], [1, 39], [2, 38], [3, 37], [4, 36], ...  \n",
       "2MNC-2D    [[7, 22], [8, 21], [9, 20], [10, 19], [12, 18]]  \n",
       "7Q6L-2D                                                 []  \n",
       "\n",
       "[71 rows x 2 columns]"
      ]
     },
     "execution_count": 43,
     "metadata": {},
     "output_type": "execute_result"
    }
   ],
   "source": [
    "df_pdb_filtered"
   ]
  }
 ],
 "metadata": {
  "kernelspec": {
   "display_name": "Python 3",
   "language": "python",
   "name": "python3"
  },
  "language_info": {
   "codemirror_mode": {
    "name": "ipython",
    "version": 3
   },
   "file_extension": ".py",
   "mimetype": "text/x-python",
   "name": "python",
   "nbconvert_exporter": "python",
   "pygments_lexer": "ipython3",
   "version": "3.11.6"
  }
 },
 "nbformat": 4,
 "nbformat_minor": 2
}
