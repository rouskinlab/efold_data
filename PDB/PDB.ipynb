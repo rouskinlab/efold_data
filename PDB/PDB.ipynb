{
 "cells": [
  {
   "cell_type": "code",
   "execution_count": 1,
   "metadata": {},
   "outputs": [],
   "source": [
    "import envbash\n",
    "envbash.load.load_envbash('../.env')\n",
    "from rouskinhf import convert, upload_dataset, get_dataset\n",
    "import pandas as pd"
   ]
  },
  {
   "cell_type": "markdown",
   "metadata": {},
   "source": [
    "## RouskinHF filtering"
   ]
  },
  {
   "cell_type": "code",
   "execution_count": 56,
   "metadata": {},
   "outputs": [
    {
     "name": "stderr",
     "output_type": "stream",
     "text": [
      "Parsing bpseq files: 100%|██████████| 442/442 [00:00<00:00, 12933.73it/s]\n"
     ]
    },
    {
     "name": "stdout",
     "output_type": "stream",
     "text": [
      "Over a total of 442 datapoints, there are:\n",
      "### OUTPUT\n",
      "- 392 valid datapoints\n",
      "### MODIFIED\n",
      "- 0 multiple sequences with the same reference (renamed reference)\n",
      "- 36 duplicate sequences with different structure / dms / shape\n",
      "### FILTERED OUT\n",
      "- 0 invalid datapoints (ex: sequence with non-regular characters)\n",
      "- 0 datapoints with bad structures\n",
      "- 50 duplicate sequences with the same structure / dms / shape\n"
     ]
    },
    {
     "name": "stderr",
     "output_type": "stream",
     "text": [
      "Parsing json file: 100%|██████████| 356/356 [00:00<00:00, 220981.53it/s]"
     ]
    },
    {
     "name": "stdout",
     "output_type": "stream",
     "text": [
      "Over a total of 356 datapoints, there are:\n",
      "### OUTPUT\n",
      "- 356 valid datapoints\n",
      "### MODIFIED\n",
      "- 0 multiple sequences with the same reference (renamed reference)\n",
      "- 0 duplicate sequences with different structure / dms / shape\n",
      "### FILTERED OUT\n",
      "- 0 invalid datapoints (ex: sequence with non-regular characters)\n",
      "- 0 datapoints with bad structures\n",
      "- 0 duplicate sequences with the same structure / dms / shape\n"
     ]
    },
    {
     "name": "stderr",
     "output_type": "stream",
     "text": [
      "\n"
     ]
    }
   ],
   "source": [
    "data = convert(\n",
    "    'bpseq',\n",
    "    'data/bpSEQ_files_pdbee',\n",
    "    name='PDB',\n",
    "    path_out='data',\n",
    "    filter=True\n",
    ")\n",
    "\n",
    "data_dict = pd.DataFrame(data).T.drop_duplicates(subset=['sequence'])\n",
    "data_dict.T.to_json('data/bpSEQ_files_pdbee_filtered.json', indent=2)\n",
    "\n",
    "data = convert(\n",
    "    'json',\n",
    "    'data/bpSEQ_files_pdbee_filtered.json',\n",
    "    name='PDB',\n",
    "    path_out='data',\n",
    "    filter=True\n",
    ")"
   ]
  },
  {
   "cell_type": "markdown",
   "metadata": {},
   "source": [
    "## To HuggingFace"
   ]
  },
  {
   "cell_type": "code",
   "execution_count": 59,
   "metadata": {},
   "outputs": [],
   "source": [
    "upload_dataset(\n",
    "    datapath='data/PDB/data.json',\n",
    "    exist_ok=True,\n",
    "    commit_message='updated with new rouskinhf + Supermodels-data',\n",
    ")"
   ]
  }
 ],
 "metadata": {
  "kernelspec": {
   "display_name": "Python 3",
   "language": "python",
   "name": "python3"
  },
  "language_info": {
   "codemirror_mode": {
    "name": "ipython",
    "version": 3
   },
   "file_extension": ".py",
   "mimetype": "text/x-python",
   "name": "python",
   "nbconvert_exporter": "python",
   "pygments_lexer": "ipython3",
   "version": "3.10.9"
  }
 },
 "nbformat": 4,
 "nbformat_minor": 2
}
