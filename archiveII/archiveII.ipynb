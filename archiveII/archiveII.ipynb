{
 "cells": [
  {
   "cell_type": "markdown",
   "metadata": {},
   "source": [
    "## Run RouskinHF"
   ]
  },
  {
   "cell_type": "code",
   "execution_count": 1,
   "metadata": {},
   "outputs": [
    {
     "name": "stderr",
     "output_type": "stream",
     "text": [
      "Parsing ct files: 100%|██████████| 3975/3975 [00:01<00:00, 3267.40it/s]\n"
     ]
    },
    {
     "name": "stdout",
     "output_type": "stream",
     "text": [
      "Over a total of 3975 datapoints, there are:\n",
      "### OUTPUT\n",
      "- ALL: 3486 valid datapoints\n",
      "- INCLUDED: 26 duplicate sequences with different structure / dms / shape\n",
      "### MODIFIED\n",
      "- 1537 multiple sequences with the same reference (renamed reference)\n",
      "### FILTERED OUT\n",
      "- 0 invalid datapoints (ex: sequence with non-regular characters)\n",
      "- 0 datapoints with bad structures\n",
      "- 489 duplicate sequences with the same structure / dms / shape\n"
     ]
    }
   ],
   "source": [
    "from rouskinhf import convert\n",
    "\n",
    "data = convert(\n",
    "    'ct',\n",
    "    'data/archiveII',\n",
    "    name='archiveII',\n",
    "    path_out='data',\n",
    "    filter=True\n",
    ")"
   ]
  },
  {
   "cell_type": "code",
   "execution_count": 7,
   "metadata": {},
   "outputs": [],
   "source": [
    "import pandas as pd\n",
    "data = pd.DataFrame(data).T\n",
    "data = data[data.sequence.str.len() <=2000]\n",
    "\n",
    "\n",
    "from rouskinhf import dump_json\n",
    "\n",
    "dump_json(data.to_dict(orient='index'),\n",
    "          'data/archiveII.json')"
   ]
  },
  {
   "cell_type": "markdown",
   "metadata": {},
   "source": [
    "## Visualise\n",
    "\n"
   ]
  },
  {
   "cell_type": "code",
   "execution_count": 8,
   "metadata": {},
   "outputs": [
    {
     "data": {
      "text/plain": [
       "<AxesSubplot: >"
      ]
     },
     "execution_count": 8,
     "metadata": {},
     "output_type": "execute_result"
    },
    {
     "data": {
      "image/png": "[encoded data removed]",
      "text/plain": [
       "<Figure size 640x480 with 1 Axes>"
      ]
     },
     "metadata": {},
     "output_type": "display_data"
    }
   ],
   "source": [
    "import pandas as pd\n",
    "\n",
    "df = pd.read_json('data/archiveII.json', orient='index')\n",
    "df.sequence.apply(len).hist(bins=10)"
   ]
  },
  {
   "cell_type": "code",
   "execution_count": 10,
   "metadata": {},
   "outputs": [
    {
     "name": "stderr",
     "output_type": "stream",
     "text": [
      "Parsing json file: 100%|██████████| 3481/3481 [00:00<00:00, 123434.89it/s]\n"
     ]
    },
    {
     "name": "stdout",
     "output_type": "stream",
     "text": [
      "Over a total of 3481 datapoints, there are:\n",
      "### OUTPUT\n",
      "- ALL: 3481 valid datapoints\n",
      "- INCLUDED: 26 duplicate sequences with different structure / dms / shape\n",
      "### MODIFIED\n",
      "- 0 multiple sequences with the same reference (renamed reference)\n",
      "### FILTERED OUT\n",
      "- 0 invalid datapoints (ex: sequence with non-regular characters)\n",
      "- 0 datapoints with bad structures\n",
      "- 0 duplicate sequences with the same structure / dms / shape\n"
     ]
    }
   ],
   "source": [
    "# Reimport the data\n",
    "from rouskinhf import convert\n",
    "\n",
    "data = convert(\n",
    "    'json',\n",
    "    'data/archiveII.json',\n",
    "    name='archiveII',\n",
    "    path_out='data',\n",
    "    filter=True,\n",
    ")"
   ]
  },
  {
   "cell_type": "markdown",
   "metadata": {},
   "source": [
    "## Upload"
   ]
  },
  {
   "cell_type": "code",
   "execution_count": 12,
   "metadata": {},
   "outputs": [],
   "source": [
    "from rouskinhf import upload_dataset\n",
    "import envbash\n",
    "envbash.load.load_envbash('../.env')\n",
    "\n",
    "upload_dataset(\n",
    "    'data/archiveII/data.json',\n",
    "    commit_message='removed long sequences',\n",
    "    exist_ok=True\n",
    ")"
   ]
  }
 ],
 "metadata": {
  "kernelspec": {
   "display_name": "Python 3",
   "language": "python",
   "name": "python3"
  },
  "language_info": {
   "codemirror_mode": {
    "name": "ipython",
    "version": 3
   },
   "file_extension": ".py",
   "mimetype": "text/x-python",
   "name": "python",
   "nbconvert_exporter": "python",
   "pygments_lexer": "ipython3",
   "version": "3.10.9"
  }
 },
 "nbformat": 4,
 "nbformat_minor": 2
}
