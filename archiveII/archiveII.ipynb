{
 "cells": [
  {
   "cell_type": "markdown",
   "metadata": {},
   "source": [
    "## Run RouskinHF"
   ]
  },
  {
   "cell_type": "code",
   "execution_count": 1,
   "metadata": {},
   "outputs": [
    {
     "name": "stderr",
     "output_type": "stream",
     "text": [
      "Parsing ct files: 100%|██████████| 3975/3975 [00:01<00:00, 2800.24it/s]\n"
     ]
    },
    {
     "name": "stdout",
     "output_type": "stream",
     "text": [
      "Over a total of 3975 datapoints, there are:\n",
      "### OUTPUT\n",
      "- ALL: 3486 valid datapoints\n",
      "- INCLUDED: 26 duplicate sequences with different structure / dms / shape\n",
      "### MODIFIED\n",
      "- 1537 multiple sequences with the same reference (renamed reference)\n",
      "### FILTERED OUT\n",
      "- 0 invalid datapoints (ex: sequence with non-regular characters)\n",
      "- 0 datapoints with bad structures\n",
      "- 489 duplicate sequences with the same structure / dms / shape\n"
     ]
    }
   ],
   "source": [
    "from rouskinhf import convert\n",
    "\n",
    "data = convert(\n",
    "    'ct',\n",
    "    '/Users/yvesmartin/data/archiveII',\n",
    "    name='archiveII',\n",
    "    path_out='data',\n",
    "    filter=True\n",
    ")"
   ]
  },
  {
   "cell_type": "markdown",
   "metadata": {},
   "source": [
    "## Visualise\n",
    "\n"
   ]
  },
  {
   "cell_type": "code",
   "execution_count": 2,
   "metadata": {},
   "outputs": [
    {
     "data": {
      "text/plain": [
       "<Axes: >"
      ]
     },
     "execution_count": 2,
     "metadata": {},
     "output_type": "execute_result"
    },
    {
     "data": {
      "image/png": "[encoded data removed]",
      "text/plain": [
       "<Figure size 640x480 with 1 Axes>"
      ]
     },
     "metadata": {},
     "output_type": "display_data"
    }
   ],
   "source": [
    "import pandas as pd\n",
    "\n",
    "df = pd.read_json('data/archiveII/data.json', orient='index')\n",
    "df.sequence.apply(len).hist(bins=10)"
   ]
  },
  {
   "cell_type": "markdown",
   "metadata": {},
   "source": [
    "## Upload"
   ]
  },
  {
   "cell_type": "code",
   "execution_count": 3,
   "metadata": {},
   "outputs": [
    {
     "ename": "HfHubHTTPError",
     "evalue": "409 Client Error: Conflict for url: https://huggingface.co/api/repos/create (Request ID: Root=1-6577ed94-0f985f9d1991e7741507ff65;340864b7-6dee-4e4b-a19b-3efb9ea5deb3)\n\nYou already created this dataset repo",
     "output_type": "error",
     "traceback": [
      "\u001b[0;31m---------------------------------------------------------------------------\u001b[0m",
      "\u001b[0;31mHTTPError\u001b[0m                                 Traceback (most recent call last)",
      "File \u001b[0;32m~/.pyenv/versions/3.11.6/lib/python3.11/site-packages/huggingface_hub/utils/_errors.py:269\u001b[0m, in \u001b[0;36mhf_raise_for_status\u001b[0;34m(response, endpoint_name)\u001b[0m\n\u001b[1;32m    268\u001b[0m \u001b[39mtry\u001b[39;00m:\n\u001b[0;32m--> 269\u001b[0m     response\u001b[39m.\u001b[39;49mraise_for_status()\n\u001b[1;32m    270\u001b[0m \u001b[39mexcept\u001b[39;00m HTTPError \u001b[39mas\u001b[39;00m e:\n",
      "File \u001b[0;32m~/.pyenv/versions/3.11.6/lib/python3.11/site-packages/requests/models.py:1021\u001b[0m, in \u001b[0;36mResponse.raise_for_status\u001b[0;34m(self)\u001b[0m\n\u001b[1;32m   1020\u001b[0m \u001b[39mif\u001b[39;00m http_error_msg:\n\u001b[0;32m-> 1021\u001b[0m     \u001b[39mraise\u001b[39;00m HTTPError(http_error_msg, response\u001b[39m=\u001b[39m\u001b[39mself\u001b[39m)\n",
      "\u001b[0;31mHTTPError\u001b[0m: 409 Client Error: Conflict for url: https://huggingface.co/api/repos/create",
      "\nThe above exception was the direct cause of the following exception:\n",
      "\u001b[0;31mHfHubHTTPError\u001b[0m                            Traceback (most recent call last)",
      "\u001b[1;32m/Users/yvesmartin/src/supermodels-data/archiveII/archiveII.ipynb Cell 6\u001b[0m line \u001b[0;36m5\n\u001b[1;32m      <a href='vscode-notebook-cell:/Users/yvesmartin/src/supermodels-data/archiveII/archiveII.ipynb#W5sZmlsZQ%3D%3D?line=1'>2</a>\u001b[0m \u001b[39mimport\u001b[39;00m \u001b[39menvbash\u001b[39;00m\n\u001b[1;32m      <a href='vscode-notebook-cell:/Users/yvesmartin/src/supermodels-data/archiveII/archiveII.ipynb#W5sZmlsZQ%3D%3D?line=2'>3</a>\u001b[0m envbash\u001b[39m.\u001b[39mload\u001b[39m.\u001b[39mload_envbash(\u001b[39m'\u001b[39m\u001b[39m../.env\u001b[39m\u001b[39m'\u001b[39m)\n\u001b[0;32m----> <a href='vscode-notebook-cell:/Users/yvesmartin/src/supermodels-data/archiveII/archiveII.ipynb#W5sZmlsZQ%3D%3D?line=4'>5</a>\u001b[0m upload_dataset(\n\u001b[1;32m      <a href='vscode-notebook-cell:/Users/yvesmartin/src/supermodels-data/archiveII/archiveII.ipynb#W5sZmlsZQ%3D%3D?line=5'>6</a>\u001b[0m     \u001b[39m'\u001b[39;49m\u001b[39mdata/archiveII/data.json\u001b[39;49m\u001b[39m'\u001b[39;49m,\n\u001b[1;32m      <a href='vscode-notebook-cell:/Users/yvesmartin/src/supermodels-data/archiveII/archiveII.ipynb#W5sZmlsZQ%3D%3D?line=6'>7</a>\u001b[0m     commit_message\u001b[39m=\u001b[39;49m\u001b[39m'\u001b[39;49m\u001b[39mfixed rouskinhf reference bug\u001b[39;49m\u001b[39m'\u001b[39;49m,\n\u001b[1;32m      <a href='vscode-notebook-cell:/Users/yvesmartin/src/supermodels-data/archiveII/archiveII.ipynb#W5sZmlsZQ%3D%3D?line=7'>8</a>\u001b[0m )\n",
      "File \u001b[0;32m~/.pyenv/versions/3.11.6/lib/python3.11/site-packages/rouskinhf/hf.py:75\u001b[0m, in \u001b[0;36mupload_dataset\u001b[0;34m(datapath, exist_ok, commit_message, add_card, **kwargs)\u001b[0m\n\u001b[1;32m     71\u001b[0m \u001b[39m# data = clean_data(datapath)\u001b[39;00m\n\u001b[1;32m     73\u001b[0m hf_token \u001b[39m=\u001b[39m Env\u001b[39m.\u001b[39mget_hf_token()\n\u001b[0;32m---> 75\u001b[0m api\u001b[39m.\u001b[39;49mcreate_repo(\n\u001b[1;32m     76\u001b[0m     repo_id\u001b[39m=\u001b[39;49m\u001b[39m\"\u001b[39;49m\u001b[39mrouskinlab/\u001b[39;49m\u001b[39m\"\u001b[39;49m \u001b[39m+\u001b[39;49m name,\n\u001b[1;32m     77\u001b[0m     token\u001b[39m=\u001b[39;49mhf_token,\n\u001b[1;32m     78\u001b[0m     exist_ok\u001b[39m=\u001b[39;49mexist_ok,\n\u001b[1;32m     79\u001b[0m     private\u001b[39m=\u001b[39;49m\u001b[39mTrue\u001b[39;49;00m,\n\u001b[1;32m     80\u001b[0m     repo_type\u001b[39m=\u001b[39;49m\u001b[39m\"\u001b[39;49m\u001b[39mdataset\u001b[39;49m\u001b[39m\"\u001b[39;49m,\n\u001b[1;32m     81\u001b[0m )\n\u001b[1;32m     83\u001b[0m api\u001b[39m.\u001b[39mupload_file(\n\u001b[1;32m     84\u001b[0m     path_or_fileobj\u001b[39m=\u001b[39mdatapath,\n\u001b[1;32m     85\u001b[0m     path_in_repo\u001b[39m=\u001b[39m\u001b[39m\"\u001b[39m\u001b[39mdata.json\u001b[39m\u001b[39m\"\u001b[39m,\n\u001b[0;32m   (...)\u001b[0m\n\u001b[1;32m     90\u001b[0m     \u001b[39m*\u001b[39m\u001b[39m*\u001b[39mkwargs,\n\u001b[1;32m     91\u001b[0m )\n\u001b[1;32m     93\u001b[0m \u001b[39mif\u001b[39;00m add_card:\n",
      "File \u001b[0;32m~/.pyenv/versions/3.11.6/lib/python3.11/site-packages/huggingface_hub/utils/_validators.py:118\u001b[0m, in \u001b[0;36mvalidate_hf_hub_args.<locals>._inner_fn\u001b[0;34m(*args, **kwargs)\u001b[0m\n\u001b[1;32m    115\u001b[0m \u001b[39mif\u001b[39;00m check_use_auth_token:\n\u001b[1;32m    116\u001b[0m     kwargs \u001b[39m=\u001b[39m smoothly_deprecate_use_auth_token(fn_name\u001b[39m=\u001b[39mfn\u001b[39m.\u001b[39m\u001b[39m__name__\u001b[39m, has_token\u001b[39m=\u001b[39mhas_token, kwargs\u001b[39m=\u001b[39mkwargs)\n\u001b[0;32m--> 118\u001b[0m \u001b[39mreturn\u001b[39;00m fn(\u001b[39m*\u001b[39;49margs, \u001b[39m*\u001b[39;49m\u001b[39m*\u001b[39;49mkwargs)\n",
      "File \u001b[0;32m~/.pyenv/versions/3.11.6/lib/python3.11/site-packages/huggingface_hub/hf_api.py:2727\u001b[0m, in \u001b[0;36mHfApi.create_repo\u001b[0;34m(self, repo_id, token, private, repo_type, exist_ok, space_sdk, space_hardware, space_storage, space_sleep_time, space_secrets, space_variables)\u001b[0m\n\u001b[1;32m   2724\u001b[0m     \u001b[39mbreak\u001b[39;00m\n\u001b[1;32m   2726\u001b[0m \u001b[39mtry\u001b[39;00m:\n\u001b[0;32m-> 2727\u001b[0m     hf_raise_for_status(r)\n\u001b[1;32m   2728\u001b[0m \u001b[39mexcept\u001b[39;00m HTTPError \u001b[39mas\u001b[39;00m err:\n\u001b[1;32m   2729\u001b[0m     \u001b[39mif\u001b[39;00m exist_ok \u001b[39mand\u001b[39;00m err\u001b[39m.\u001b[39mresponse\u001b[39m.\u001b[39mstatus_code \u001b[39m==\u001b[39m \u001b[39m409\u001b[39m:\n\u001b[1;32m   2730\u001b[0m         \u001b[39m# Repo already exists and `exist_ok=True`\u001b[39;00m\n",
      "File \u001b[0;32m~/.pyenv/versions/3.11.6/lib/python3.11/site-packages/huggingface_hub/utils/_errors.py:320\u001b[0m, in \u001b[0;36mhf_raise_for_status\u001b[0;34m(response, endpoint_name)\u001b[0m\n\u001b[1;32m    316\u001b[0m     \u001b[39mraise\u001b[39;00m BadRequestError(message, response\u001b[39m=\u001b[39mresponse) \u001b[39mfrom\u001b[39;00m \u001b[39me\u001b[39;00m\n\u001b[1;32m    318\u001b[0m \u001b[39m# Convert `HTTPError` into a `HfHubHTTPError` to display request information\u001b[39;00m\n\u001b[1;32m    319\u001b[0m \u001b[39m# as well (request id and/or server error message)\u001b[39;00m\n\u001b[0;32m--> 320\u001b[0m \u001b[39mraise\u001b[39;00m HfHubHTTPError(\u001b[39mstr\u001b[39m(e), response\u001b[39m=\u001b[39mresponse) \u001b[39mfrom\u001b[39;00m \u001b[39me\u001b[39;00m\n",
      "\u001b[0;31mHfHubHTTPError\u001b[0m: 409 Client Error: Conflict for url: https://huggingface.co/api/repos/create (Request ID: Root=1-6577ed94-0f985f9d1991e7741507ff65;340864b7-6dee-4e4b-a19b-3efb9ea5deb3)\n\nYou already created this dataset repo"
     ]
    }
   ],
   "source": [
    "from rouskinhf import upload_dataset\n",
    "import envbash\n",
    "envbash.load.load_envbash('../.env')\n",
    "\n",
    "upload_dataset(\n",
    "    'data/archiveII/data.json',\n",
    "    commit_message='fixed rouskinhf reference bug',\n",
    ")"
   ]
  }
 ],
 "metadata": {
  "kernelspec": {
   "display_name": "Python 3",
   "language": "python",
   "name": "python3"
  },
  "language_info": {
   "codemirror_mode": {
    "name": "ipython",
    "version": 3
   },
   "file_extension": ".py",
   "mimetype": "text/x-python",
   "name": "python",
   "nbconvert_exporter": "python",
   "pygments_lexer": "ipython3",
   "version": "3.11.6"
  }
 },
 "nbformat": 4,
 "nbformat_minor": 2
}
