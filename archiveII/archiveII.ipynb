{
 "cells": [
  {
   "cell_type": "markdown",
   "metadata": {},
   "source": [
    "## Run RouskinHF"
   ]
  },
  {
   "cell_type": "code",
   "execution_count": 1,
   "metadata": {},
   "outputs": [
    {
     "name": "stderr",
     "output_type": "stream",
     "text": [
      "Parsing ct files: 100%|██████████| 3975/3975 [00:01<00:00, 2926.37it/s]\n"
     ]
    },
    {
     "name": "stdout",
     "output_type": "stream",
     "text": [
      "Over a total of 3975 datapoints, there are:\n",
      "### OUTPUT\n",
      "- ALL: 3486 valid datapoints\n",
      "- INCLUDED: 26 duplicate sequences with different structure / dms / shape\n",
      "### MODIFIED\n",
      "- 1537 multiple sequences with the same reference (renamed reference)\n",
      "### FILTERED OUT\n",
      "- 0 invalid datapoints (ex: sequence with non-regular characters)\n",
      "- 0 datapoints with bad structures\n",
      "- 489 duplicate sequences with the same structure / dms / shape\n"
     ]
    }
   ],
   "source": [
    "from rouskinhf import convert\n",
    "\n",
    "data = convert(\n",
    "    'ct',\n",
    "    '/Users/yvesmartin/data/archiveII',\n",
    "    name='archiveII',\n",
    "    path_out='data',\n",
    "    filter=True\n",
    ")"
   ]
  },
  {
   "cell_type": "markdown",
   "metadata": {},
   "source": [
    "## Visualise\n",
    "\n"
   ]
  },
  {
   "cell_type": "code",
   "execution_count": 2,
   "metadata": {},
   "outputs": [
    {
     "data": {
      "text/plain": [
       "<Axes: >"
      ]
     },
     "execution_count": 2,
     "metadata": {},
     "output_type": "execute_result"
    },
    {
     "data": {
      "image/png": "[encoded data removed]",
      "text/plain": [
       "<Figure size 640x480 with 1 Axes>"
      ]
     },
     "metadata": {},
     "output_type": "display_data"
    }
   ],
   "source": [
    "import pandas as pd\n",
    "\n",
    "df = pd.read_json('data/archiveII/data.json', orient='index')\n",
    "df.sequence.apply(len).hist(bins=10)"
   ]
  },
  {
   "cell_type": "markdown",
   "metadata": {},
   "source": [
    "## Upload"
   ]
  },
  {
   "cell_type": "code",
   "execution_count": 3,
   "metadata": {},
   "outputs": [],
   "source": [
    "from rouskinhf import upload_dataset\n",
    "import envbash\n",
    "envbash.load.load_envbash('../.env')\n",
    "\n",
    "upload_dataset(\n",
    "    'data/archiveII/data.json',\n",
    "    commit_message='fixed rouskinhf reference bug',\n",
    ")"
   ]
  },
  {
   "cell_type": "code",
   "execution_count": 5,
   "metadata": {},
   "outputs": [
    {
     "name": "stdout",
     "output_type": "stream",
     "text": [
      "efold_train: Downloading dataset from HuggingFace Hub...\n"
     ]
    },
    {
     "data": {
      "application/vnd.jupyter.widget-view+json": {
       "model_id": "761f8c023c93480faf0e7bbacf22aed6",
       "version_major": 2,
       "version_minor": 0
      },
      "text/plain": [
       "Fetching 1 files:   0%|          | 0/1 [00:00<?, ?it/s]"
      ]
     },
     "metadata": {},
     "output_type": "display_data"
    },
    {
     "name": "stdout",
     "output_type": "stream",
     "text": [
      "efold_train: Download complete. File saved at data/efold_train/data.json\n"
     ]
    }
   ],
   "source": [
    "import rouskinhf\n",
    "df_archiveII = pd.DataFrame.from_dict(data, orient='index')\n",
    "efold_train = rouskinhf.get_dataset('efold_train')\n",
    "df_efold = pd.DataFrame.from_dict(efold_train, orient='index')\n"
   ]
  },
  {
   "cell_type": "code",
   "execution_count": 11,
   "metadata": {},
   "outputs": [
    {
     "name": "stdout",
     "output_type": "stream",
     "text": [
      "3486\n"
     ]
    }
   ],
   "source": [
    "def df_to_fastas(df, path_out):\n",
    "    with open(path_out, 'w') as f:\n",
    "        for idx, row in df.iterrows():\n",
    "            f.write('>{}\\n{}\\n'.format(idx, row['sequence']))\n",
    "\n",
    "df_to_fastas(df_archiveII, 'data/archiveII/archiveII.fasta')\n",
    "df_to_fastas(df_efold, 'data/efold_train/efold_train.fasta')\n",
    "\n",
    "print(len(df_archiveII))"
   ]
  },
  {
   "cell_type": "code",
   "execution_count": 12,
   "metadata": {},
   "outputs": [
    {
     "name": "stdout",
     "output_type": "stream",
     "text": [
      "\n",
      "\n",
      "Building a new DB, current time: 05/09/2024 14:49:28\n",
      "New DB name:   /Users/yvesmartin/src/supermodels-data/archiveII/data/efold_train\n",
      "New DB title:  data/efold_train/efold_train.fasta\n",
      "Sequence type: Nucleotide\n",
      "Keep MBits: T\n",
      "Maximum file size: 3000000000B\n",
      "Adding sequences from FASTA; added 339247 sequences in 3.18507 seconds.\n",
      "\n",
      "\n"
     ]
    }
   ],
   "source": [
    "!makeblastdb -in data/efold_train/efold_train.fasta -dbtype nucl -out data/efold_train"
   ]
  },
  {
   "cell_type": "code",
   "execution_count": 15,
   "metadata": {},
   "outputs": [],
   "source": [
    "!blastn -query data/archiveII/archiveII.fasta -db data/efold_train -out data/efold_train/efold_train_vs_archiveII.blast -outfmt 6"
   ]
  },
  {
   "cell_type": "code",
   "execution_count": 18,
   "metadata": {},
   "outputs": [],
   "source": [
    "import pandas as pd\n",
    "\n",
    "df_blast = pd.read_csv('data/efold_train/efold_train_vs_archiveII.blast', sep='\\t', header=None)\n",
    "df_blast.columns = ['query', 'subject', 'identity', 'length', 'mismatches', 'gaps', 'qstart', 'qend', 'sstart', 'send', 'evalue', 'bitscore']\n",
    "df_blast.sort_values('evalue', inplace=True, ascending=True)\n",
    "df_blast.drop_duplicates('query', keep='first', inplace=True)\n",
    "df_blast.to_csv('efold_train_vs_archiveII.csv', sep='\\t', index=False)"
   ]
  },
  {
   "cell_type": "code",
   "execution_count": 24,
   "metadata": {},
   "outputs": [
    {
     "data": {
      "text/html": [
       "<div>\n",
       "<style scoped>\n",
       "    .dataframe tbody tr th:only-of-type {\n",
       "        vertical-align: middle;\n",
       "    }\n",
       "\n",
       "    .dataframe tbody tr th {\n",
       "        vertical-align: top;\n",
       "    }\n",
       "\n",
       "    .dataframe thead th {\n",
       "        text-align: right;\n",
       "    }\n",
       "</style>\n",
       "<table border=\"1\" class=\"dataframe\">\n",
       "  <thead>\n",
       "    <tr style=\"text-align: right;\">\n",
       "      <th></th>\n",
       "      <th>query</th>\n",
       "      <th>subject</th>\n",
       "      <th>identity</th>\n",
       "      <th>length</th>\n",
       "      <th>mismatches</th>\n",
       "      <th>gaps</th>\n",
       "      <th>qstart</th>\n",
       "      <th>qend</th>\n",
       "      <th>sstart</th>\n",
       "      <th>send</th>\n",
       "      <th>evalue</th>\n",
       "      <th>bitscore</th>\n",
       "    </tr>\n",
       "  </thead>\n",
       "  <tbody>\n",
       "    <tr>\n",
       "      <th>721</th>\n",
       "      <td>tmRNA_Prop_3</td>\n",
       "      <td>bpRNA_tmRNA_434</td>\n",
       "      <td>100.0</td>\n",
       "      <td>371</td>\n",
       "      <td>0</td>\n",
       "      <td>0</td>\n",
       "      <td>1</td>\n",
       "      <td>371</td>\n",
       "      <td>1</td>\n",
       "      <td>371</td>\n",
       "      <td>0.0</td>\n",
       "      <td>686.0</td>\n",
       "    </tr>\n",
       "    <tr>\n",
       "      <th>502</th>\n",
       "      <td>srp_Kluy</td>\n",
       "      <td>bpRNA_SRP_398</td>\n",
       "      <td>98.317</td>\n",
       "      <td>416</td>\n",
       "      <td>2</td>\n",
       "      <td>2</td>\n",
       "      <td>1</td>\n",
       "      <td>416</td>\n",
       "      <td>1</td>\n",
       "      <td>411</td>\n",
       "      <td>0.0</td>\n",
       "      <td>725.0</td>\n",
       "    </tr>\n",
       "    <tr>\n",
       "      <th>503</th>\n",
       "      <td>RNaseP_S_24</td>\n",
       "      <td>bpRNA_RNP_360</td>\n",
       "      <td>100.0</td>\n",
       "      <td>389</td>\n",
       "      <td>0</td>\n",
       "      <td>0</td>\n",
       "      <td>1</td>\n",
       "      <td>389</td>\n",
       "      <td>1</td>\n",
       "      <td>389</td>\n",
       "      <td>0.0</td>\n",
       "      <td>719.0</td>\n",
       "    </tr>\n",
       "    <tr>\n",
       "      <th>504</th>\n",
       "      <td>RNaseP_ESH212C</td>\n",
       "      <td>bpRNA_RNP_153</td>\n",
       "      <td>100.0</td>\n",
       "      <td>355</td>\n",
       "      <td>0</td>\n",
       "      <td>0</td>\n",
       "      <td>1</td>\n",
       "      <td>355</td>\n",
       "      <td>1</td>\n",
       "      <td>355</td>\n",
       "      <td>0.0</td>\n",
       "      <td>656.0</td>\n",
       "    </tr>\n",
       "    <tr>\n",
       "      <th>505</th>\n",
       "      <td>tmRNA_Stap</td>\n",
       "      <td>bpRNA_tmRNA_550</td>\n",
       "      <td>100.0</td>\n",
       "      <td>361</td>\n",
       "      <td>0</td>\n",
       "      <td>0</td>\n",
       "      <td>1</td>\n",
       "      <td>361</td>\n",
       "      <td>1</td>\n",
       "      <td>361</td>\n",
       "      <td>0.0</td>\n",
       "      <td>667.0</td>\n",
       "    </tr>\n",
       "    <tr>\n",
       "      <th>...</th>\n",
       "      <td>...</td>\n",
       "      <td>...</td>\n",
       "      <td>...</td>\n",
       "      <td>...</td>\n",
       "      <td>...</td>\n",
       "      <td>...</td>\n",
       "      <td>...</td>\n",
       "      <td>...</td>\n",
       "      <td>...</td>\n",
       "      <td>...</td>\n",
       "      <td>...</td>\n",
       "      <td>...</td>\n",
       "    </tr>\n",
       "    <tr>\n",
       "      <th>925</th>\n",
       "      <td>RNaseP_Prochlorococcus-TATL2-2</td>\n",
       "      <td>bpRNA_RNP_259</td>\n",
       "      <td>100.0</td>\n",
       "      <td>311</td>\n",
       "      <td>0</td>\n",
       "      <td>0</td>\n",
       "      <td>1</td>\n",
       "      <td>311</td>\n",
       "      <td>1</td>\n",
       "      <td>311</td>\n",
       "      <td>9.91e-164</td>\n",
       "      <td>575.0</td>\n",
       "    </tr>\n",
       "    <tr>\n",
       "      <th>3435</th>\n",
       "      <td>srp_Cory</td>\n",
       "      <td>bpRNA_SRP_226</td>\n",
       "      <td>100.0</td>\n",
       "      <td>52</td>\n",
       "      <td>0</td>\n",
       "      <td>0</td>\n",
       "      <td>1</td>\n",
       "      <td>52</td>\n",
       "      <td>1</td>\n",
       "      <td>52</td>\n",
       "      <td>9.950000000000001e-21</td>\n",
       "      <td>97.1</td>\n",
       "    </tr>\n",
       "    <tr>\n",
       "      <th>3434</th>\n",
       "      <td>srp_Cory_5</td>\n",
       "      <td>bpRNA_SRP_227</td>\n",
       "      <td>100.0</td>\n",
       "      <td>52</td>\n",
       "      <td>0</td>\n",
       "      <td>0</td>\n",
       "      <td>1</td>\n",
       "      <td>52</td>\n",
       "      <td>1</td>\n",
       "      <td>52</td>\n",
       "      <td>9.950000000000001e-21</td>\n",
       "      <td>97.1</td>\n",
       "    </tr>\n",
       "    <tr>\n",
       "      <th>2763</th>\n",
       "      <td>5s_Bacteroides-fragilis-2</td>\n",
       "      <td>RF02271.fa.csv_6262</td>\n",
       "      <td>96.296</td>\n",
       "      <td>108</td>\n",
       "      <td>4</td>\n",
       "      <td>0</td>\n",
       "      <td>3</td>\n",
       "      <td>110</td>\n",
       "      <td>3</td>\n",
       "      <td>110</td>\n",
       "      <td>9.959999999999999e-45</td>\n",
       "      <td>178.0</td>\n",
       "    </tr>\n",
       "    <tr>\n",
       "      <th>0</th>\n",
       "      <td>query</td>\n",
       "      <td>subject</td>\n",
       "      <td>identity</td>\n",
       "      <td>length</td>\n",
       "      <td>mismatches</td>\n",
       "      <td>gaps</td>\n",
       "      <td>qstart</td>\n",
       "      <td>qend</td>\n",
       "      <td>sstart</td>\n",
       "      <td>send</td>\n",
       "      <td>evalue</td>\n",
       "      <td>bitscore</td>\n",
       "    </tr>\n",
       "  </tbody>\n",
       "</table>\n",
       "<p>3465 rows × 12 columns</p>\n",
       "</div>"
      ],
      "text/plain": [
       "                               query              subject  identity  length  \\\n",
       "721                     tmRNA_Prop_3      bpRNA_tmRNA_434     100.0     371   \n",
       "502                         srp_Kluy        bpRNA_SRP_398    98.317     416   \n",
       "503                      RNaseP_S_24        bpRNA_RNP_360     100.0     389   \n",
       "504                   RNaseP_ESH212C        bpRNA_RNP_153     100.0     355   \n",
       "505                       tmRNA_Stap      bpRNA_tmRNA_550     100.0     361   \n",
       "...                              ...                  ...       ...     ...   \n",
       "925   RNaseP_Prochlorococcus-TATL2-2        bpRNA_RNP_259     100.0     311   \n",
       "3435                        srp_Cory        bpRNA_SRP_226     100.0      52   \n",
       "3434                      srp_Cory_5        bpRNA_SRP_227     100.0      52   \n",
       "2763       5s_Bacteroides-fragilis-2  RF02271.fa.csv_6262    96.296     108   \n",
       "0                              query              subject  identity  length   \n",
       "\n",
       "      mismatches  gaps  qstart  qend  sstart  send                 evalue  \\\n",
       "721            0     0       1   371       1   371                    0.0   \n",
       "502            2     2       1   416       1   411                    0.0   \n",
       "503            0     0       1   389       1   389                    0.0   \n",
       "504            0     0       1   355       1   355                    0.0   \n",
       "505            0     0       1   361       1   361                    0.0   \n",
       "...          ...   ...     ...   ...     ...   ...                    ...   \n",
       "925            0     0       1   311       1   311              9.91e-164   \n",
       "3435           0     0       1    52       1    52  9.950000000000001e-21   \n",
       "3434           0     0       1    52       1    52  9.950000000000001e-21   \n",
       "2763           4     0       3   110       3   110  9.959999999999999e-45   \n",
       "0     mismatches  gaps  qstart  qend  sstart  send                 evalue   \n",
       "\n",
       "      bitscore  \n",
       "721      686.0  \n",
       "502      725.0  \n",
       "503      719.0  \n",
       "504      656.0  \n",
       "505      667.0  \n",
       "...        ...  \n",
       "925      575.0  \n",
       "3435      97.1  \n",
       "3434      97.1  \n",
       "2763     178.0  \n",
       "0     bitscore  \n",
       "\n",
       "[3465 rows x 12 columns]"
      ]
     },
     "execution_count": 24,
     "metadata": {},
     "output_type": "execute_result"
    }
   ],
   "source": [
    "df_blast"
   ]
  },
  {
   "cell_type": "code",
   "execution_count": 33,
   "metadata": {},
   "outputs": [
    {
     "data": {
      "text/plain": [
       "Text(0, 0.5, 'Identity (%)')"
      ]
     },
     "execution_count": 33,
     "metadata": {},
     "output_type": "execute_result"
    },
    {
     "data": {
      "image/png": "[encoded data removed]",
      "text/plain": [
       "<Figure size 640x480 with 1 Axes>"
      ]
     },
     "metadata": {},
     "output_type": "display_data"
    }
   ],
   "source": [
    "df = pd.merge(df_blast, pd.DataFrame.from_dict(data, orient='index'), left_on='query', right_index=True, how='inner')\n",
    "df['ratio'] = df['length'].astype(int) / df['sequence'].apply(len)\n",
    "\n",
    "import matplotlib.pyplot as plt\n",
    "\n",
    "plt.scatter(df['ratio'], df['identity'].astype(float))\n",
    "plt.xlim(0, 1.1)\n",
    "plt.ylim(0, 110)\n",
    "plt.xlabel('Ratio of alignment length to sequence length')\n",
    "plt.ylabel('Identity (%)')\n"
   ]
  }
 ],
 "metadata": {
  "kernelspec": {
   "display_name": "Python 3",
   "language": "python",
   "name": "python3"
  },
  "language_info": {
   "codemirror_mode": {
    "name": "ipython",
    "version": 3
   },
   "file_extension": ".py",
   "mimetype": "text/x-python",
   "name": "python",
   "nbconvert_exporter": "python",
   "pygments_lexer": "ipython3",
   "version": "3.11.6"
  }
 },
 "nbformat": 4,
 "nbformat_minor": 2
}
