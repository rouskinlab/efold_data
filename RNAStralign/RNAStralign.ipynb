{
 "cells": [
  {
   "cell_type": "markdown",
   "metadata": {},
   "source": [
    "## Run RouskinHF across folders"
   ]
  },
  {
   "cell_type": "code",
   "execution_count": 13,
   "metadata": {},
   "outputs": [
    {
     "name": "stderr",
     "output_type": "stream",
     "text": [
      "Parsing ct files: 100%|██████████| 4206/4206 [00:06<00:00, 617.76it/s]\n"
     ]
    },
    {
     "name": "stdout",
     "output_type": "stream",
     "text": [
      "Over a total of 4206 datapoints, there are:\n",
      "### OUTPUT\n",
      "- ALL: 3159 valid datapoints\n",
      "- INCLUDED: 6 duplicate sequences with different structure / dms / shape\n",
      "### MODIFIED\n",
      "- 0 multiple sequences with the same reference (renamed reference)\n",
      "### FILTERED OUT\n",
      "- 858 invalid datapoints (ex: sequence with non-regular characters)\n",
      "- 0 datapoints with bad structures\n",
      "- 189 duplicate sequences with the same structure / dms / shape\n"
     ]
    },
    {
     "name": "stderr",
     "output_type": "stream",
     "text": [
      "Parsing ct files: 100%|██████████| 4704/4704 [00:05<00:00, 808.64it/s]\n"
     ]
    },
    {
     "name": "stdout",
     "output_type": "stream",
     "text": [
      "Over a total of 4704 datapoints, there are:\n",
      "### OUTPUT\n",
      "- ALL: 3618 valid datapoints\n",
      "- INCLUDED: 7 duplicate sequences with different structure / dms / shape\n",
      "### MODIFIED\n",
      "- 0 multiple sequences with the same reference (renamed reference)\n",
      "### FILTERED OUT\n",
      "- 691 invalid datapoints (ex: sequence with non-regular characters)\n",
      "- 0 datapoints with bad structures\n",
      "- 395 duplicate sequences with the same structure / dms / shape\n"
     ]
    },
    {
     "name": "stderr",
     "output_type": "stream",
     "text": [
      "Parsing ct files: 100%|██████████| 2946/2946 [00:04<00:00, 679.41it/s]\n"
     ]
    },
    {
     "name": "stdout",
     "output_type": "stream",
     "text": [
      "Over a total of 2946 datapoints, there are:\n",
      "### OUTPUT\n",
      "- ALL: 2166 valid datapoints\n",
      "- INCLUDED: 4 duplicate sequences with different structure / dms / shape\n",
      "### MODIFIED\n",
      "- 0 multiple sequences with the same reference (renamed reference)\n",
      "### FILTERED OUT\n",
      "- 459 invalid datapoints (ex: sequence with non-regular characters)\n",
      "- 0 datapoints with bad structures\n",
      "- 321 duplicate sequences with the same structure / dms / shape\n"
     ]
    },
    {
     "name": "stderr",
     "output_type": "stream",
     "text": [
      "Parsing ct files: 0it [00:00, ?it/s]\n"
     ]
    },
    {
     "name": "stdout",
     "output_type": "stream",
     "text": [
      "Over a total of 0 datapoints, there are:\n",
      "### OUTPUT\n",
      "- ALL: 0 valid datapoints\n",
      "- INCLUDED: 0 duplicate sequences with different structure / dms / shape\n",
      "### MODIFIED\n",
      "- 0 multiple sequences with the same reference (renamed reference)\n",
      "### FILTERED OUT\n",
      "- 0 invalid datapoints (ex: sequence with non-regular characters)\n",
      "- 0 datapoints with bad structures\n"
     ]
    },
    {
     "name": "stderr",
     "output_type": "stream",
     "text": [
      "Parsing ct files: 100%|██████████| 143/143 [00:00<00:00, 945.49it/s]\n"
     ]
    },
    {
     "name": "stdout",
     "output_type": "stream",
     "text": [
      "Over a total of 143 datapoints, there are:\n",
      "### OUTPUT\n",
      "- ALL: 10 valid datapoints\n",
      "- INCLUDED: 4 duplicate sequences with different structure / dms / shape\n",
      "### MODIFIED\n",
      "- 5 multiple sequences with the same reference (renamed reference)\n",
      "### FILTERED OUT\n",
      "- 133 invalid datapoints (ex: sequence with non-regular characters)\n",
      "- 0 datapoints with bad structures\n",
      "- 0 duplicate sequences with the same structure / dms / shape\n"
     ]
    },
    {
     "name": "stderr",
     "output_type": "stream",
     "text": [
      "Parsing ct files: 100%|██████████| 81/81 [00:00<00:00, 2704.24it/s]\n"
     ]
    },
    {
     "name": "stdout",
     "output_type": "stream",
     "text": [
      "Over a total of 81 datapoints, there are:\n",
      "### OUTPUT\n",
      "- ALL: 4 valid datapoints\n",
      "- INCLUDED: 2 duplicate sequences with different structure / dms / shape\n",
      "### MODIFIED\n",
      "- 3 multiple sequences with the same reference (renamed reference)\n",
      "### FILTERED OUT\n",
      "- 77 invalid datapoints (ex: sequence with non-regular characters)\n",
      "- 0 datapoints with bad structures\n",
      "- 0 duplicate sequences with the same structure / dms / shape\n"
     ]
    },
    {
     "name": "stderr",
     "output_type": "stream",
     "text": [
      "Parsing ct files: 100%|██████████| 54/54 [00:00<00:00, 2481.62it/s]\n"
     ]
    },
    {
     "name": "stdout",
     "output_type": "stream",
     "text": [
      "Over a total of 54 datapoints, there are:\n",
      "### OUTPUT\n",
      "- ALL: 0 valid datapoints\n",
      "- INCLUDED: 0 duplicate sequences with different structure / dms / shape\n",
      "### MODIFIED\n",
      "- 0 multiple sequences with the same reference (renamed reference)\n",
      "### FILTERED OUT\n",
      "- 54 invalid datapoints (ex: sequence with non-regular characters)\n",
      "- 0 datapoints with bad structures\n"
     ]
    },
    {
     "name": "stderr",
     "output_type": "stream",
     "text": [
      "Parsing ct files: 100%|██████████| 68/68 [00:00<00:00, 2460.47it/s]\n"
     ]
    },
    {
     "name": "stdout",
     "output_type": "stream",
     "text": [
      "Over a total of 68 datapoints, there are:\n",
      "### OUTPUT\n",
      "- ALL: 49 valid datapoints\n",
      "- INCLUDED: 24 duplicate sequences with different structure / dms / shape\n",
      "### MODIFIED\n",
      "- 26 multiple sequences with the same reference (renamed reference)\n",
      "### FILTERED OUT\n",
      "- 19 invalid datapoints (ex: sequence with non-regular characters)\n",
      "- 0 datapoints with bad structures\n",
      "- 0 duplicate sequences with the same structure / dms / shape\n"
     ]
    },
    {
     "name": "stderr",
     "output_type": "stream",
     "text": [
      "Parsing ct files: 100%|██████████| 349/349 [00:00<00:00, 3385.88it/s]\n"
     ]
    },
    {
     "name": "stdout",
     "output_type": "stream",
     "text": [
      "Over a total of 349 datapoints, there are:\n",
      "### OUTPUT\n",
      "- ALL: 53 valid datapoints\n",
      "- INCLUDED: 4 duplicate sequences with different structure / dms / shape\n",
      "### MODIFIED\n",
      "- 11 multiple sequences with the same reference (renamed reference)\n",
      "### FILTERED OUT\n",
      "- 284 invalid datapoints (ex: sequence with non-regular characters)\n",
      "- 0 datapoints with bad structures\n",
      "- 12 duplicate sequences with the same structure / dms / shape\n"
     ]
    },
    {
     "name": "stderr",
     "output_type": "stream",
     "text": [
      "Parsing ct files: 100%|██████████| 29/29 [00:00<00:00, 2949.29it/s]\n"
     ]
    },
    {
     "name": "stdout",
     "output_type": "stream",
     "text": [
      "Over a total of 29 datapoints, there are:\n",
      "### OUTPUT\n",
      "- ALL: 2 valid datapoints\n",
      "- INCLUDED: 1 duplicate sequences with different structure / dms / shape\n",
      "### MODIFIED\n",
      "- 1 multiple sequences with the same reference (renamed reference)\n",
      "### FILTERED OUT\n",
      "- 27 invalid datapoints (ex: sequence with non-regular characters)\n",
      "- 0 datapoints with bad structures\n",
      "- 0 duplicate sequences with the same structure / dms / shape\n"
     ]
    },
    {
     "name": "stderr",
     "output_type": "stream",
     "text": [
      "Parsing ct files: 100%|██████████| 163/163 [00:00<00:00, 2693.06it/s]\n"
     ]
    },
    {
     "name": "stdout",
     "output_type": "stream",
     "text": [
      "Over a total of 163 datapoints, there are:\n",
      "### OUTPUT\n",
      "- ALL: 6 valid datapoints\n",
      "- INCLUDED: 2 duplicate sequences with different structure / dms / shape\n",
      "### MODIFIED\n",
      "- 2 multiple sequences with the same reference (renamed reference)\n",
      "### FILTERED OUT\n",
      "- 157 invalid datapoints (ex: sequence with non-regular characters)\n",
      "- 0 datapoints with bad structures\n",
      "- 0 duplicate sequences with the same structure / dms / shape\n"
     ]
    },
    {
     "name": "stderr",
     "output_type": "stream",
     "text": [
      "Parsing ct files: 100%|██████████| 13/13 [00:00<00:00, 2859.10it/s]\n"
     ]
    },
    {
     "name": "stdout",
     "output_type": "stream",
     "text": [
      "Over a total of 13 datapoints, there are:\n",
      "### OUTPUT\n",
      "- ALL: 0 valid datapoints\n",
      "- INCLUDED: 0 duplicate sequences with different structure / dms / shape\n",
      "### MODIFIED\n",
      "- 0 multiple sequences with the same reference (renamed reference)\n",
      "### FILTERED OUT\n",
      "- 13 invalid datapoints (ex: sequence with non-regular characters)\n",
      "- 0 datapoints with bad structures\n"
     ]
    },
    {
     "name": "stderr",
     "output_type": "stream",
     "text": [
      "Parsing ct files: 100%|██████████| 34/34 [00:00<00:00, 3590.29it/s]\n"
     ]
    },
    {
     "name": "stdout",
     "output_type": "stream",
     "text": [
      "Over a total of 34 datapoints, there are:\n",
      "### OUTPUT\n",
      "- ALL: 7 valid datapoints\n",
      "- INCLUDED: 3 duplicate sequences with different structure / dms / shape\n",
      "### MODIFIED\n",
      "- 5 multiple sequences with the same reference (renamed reference)\n",
      "### FILTERED OUT\n",
      "- 27 invalid datapoints (ex: sequence with non-regular characters)\n",
      "- 0 datapoints with bad structures\n",
      "- 0 duplicate sequences with the same structure / dms / shape\n"
     ]
    },
    {
     "name": "stderr",
     "output_type": "stream",
     "text": [
      "Parsing ct files: 100%|██████████| 96/96 [00:00<00:00, 2857.22it/s]\n"
     ]
    },
    {
     "name": "stdout",
     "output_type": "stream",
     "text": [
      "Over a total of 96 datapoints, there are:\n",
      "### OUTPUT\n",
      "- ALL: 3 valid datapoints\n",
      "- INCLUDED: 1 duplicate sequences with different structure / dms / shape\n",
      "### MODIFIED\n",
      "- 1 multiple sequences with the same reference (renamed reference)\n",
      "### FILTERED OUT\n",
      "- 93 invalid datapoints (ex: sequence with non-regular characters)\n",
      "- 0 datapoints with bad structures\n",
      "- 0 duplicate sequences with the same structure / dms / shape\n"
     ]
    },
    {
     "name": "stderr",
     "output_type": "stream",
     "text": [
      "Parsing ct files: 0it [00:00, ?it/s]\n"
     ]
    },
    {
     "name": "stdout",
     "output_type": "stream",
     "text": [
      "Over a total of 0 datapoints, there are:\n",
      "### OUTPUT\n",
      "- ALL: 0 valid datapoints\n",
      "- INCLUDED: 0 duplicate sequences with different structure / dms / shape\n",
      "### MODIFIED\n",
      "- 0 multiple sequences with the same reference (renamed reference)\n",
      "### FILTERED OUT\n",
      "- 0 invalid datapoints (ex: sequence with non-regular characters)\n",
      "- 0 datapoints with bad structures\n"
     ]
    },
    {
     "name": "stderr",
     "output_type": "stream",
     "text": [
      "Parsing ct files: 100%|██████████| 29/29 [00:00<00:00, 3170.13it/s]\n"
     ]
    },
    {
     "name": "stdout",
     "output_type": "stream",
     "text": [
      "Over a total of 29 datapoints, there are:\n",
      "### OUTPUT\n",
      "- ALL: 0 valid datapoints\n",
      "- INCLUDED: 0 duplicate sequences with different structure / dms / shape\n",
      "### MODIFIED\n",
      "- 0 multiple sequences with the same reference (renamed reference)\n",
      "### FILTERED OUT\n",
      "- 29 invalid datapoints (ex: sequence with non-regular characters)\n",
      "- 0 datapoints with bad structures\n"
     ]
    },
    {
     "name": "stderr",
     "output_type": "stream",
     "text": [
      "Parsing ct files: 100%|██████████| 100/100 [00:00<00:00, 2096.71it/s]\n"
     ]
    },
    {
     "name": "stdout",
     "output_type": "stream",
     "text": [
      "Over a total of 100 datapoints, there are:\n",
      "### OUTPUT\n",
      "- ALL: 33 valid datapoints\n",
      "- INCLUDED: 16 duplicate sequences with different structure / dms / shape\n",
      "### MODIFIED\n",
      "- 25 multiple sequences with the same reference (renamed reference)\n",
      "### FILTERED OUT\n",
      "- 53 invalid datapoints (ex: sequence with non-regular characters)\n",
      "- 0 datapoints with bad structures\n",
      "- 14 duplicate sequences with the same structure / dms / shape\n"
     ]
    },
    {
     "name": "stderr",
     "output_type": "stream",
     "text": [
      "Parsing ct files: 100%|██████████| 813/813 [00:00<00:00, 1920.91it/s]\n"
     ]
    },
    {
     "name": "stdout",
     "output_type": "stream",
     "text": [
      "Over a total of 813 datapoints, there are:\n",
      "### OUTPUT\n",
      "- ALL: 453 valid datapoints\n",
      "- INCLUDED: 12 duplicate sequences with different structure / dms / shape\n",
      "### MODIFIED\n",
      "- 280 multiple sequences with the same reference (renamed reference)\n",
      "### FILTERED OUT\n",
      "- 285 invalid datapoints (ex: sequence with non-regular characters)\n",
      "- 0 datapoints with bad structures\n",
      "- 75 duplicate sequences with the same structure / dms / shape\n"
     ]
    },
    {
     "name": "stderr",
     "output_type": "stream",
     "text": [
      "Parsing ct files: 100%|██████████| 110/110 [00:00<00:00, 2448.15it/s]\n"
     ]
    },
    {
     "name": "stdout",
     "output_type": "stream",
     "text": [
      "Over a total of 110 datapoints, there are:\n",
      "### OUTPUT\n",
      "- ALL: 87 valid datapoints\n",
      "- INCLUDED: 0 duplicate sequences with different structure / dms / shape\n",
      "### MODIFIED\n",
      "- 33 multiple sequences with the same reference (renamed reference)\n",
      "### FILTERED OUT\n",
      "- 10 invalid datapoints (ex: sequence with non-regular characters)\n",
      "- 0 datapoints with bad structures\n",
      "- 13 duplicate sequences with the same structure / dms / shape\n"
     ]
    },
    {
     "name": "stderr",
     "output_type": "stream",
     "text": [
      "Parsing ct files: 100%|██████████| 53/53 [00:00<00:00, 2487.20it/s]"
     ]
    },
    {
     "name": "stdout",
     "output_type": "stream",
     "text": [
      "Over a total of 53 datapoints, there are:\n",
      "### OUTPUT\n",
      "- ALL: 42 valid datapoints\n",
      "- INCLUDED: 0 duplicate sequences with different structure / dms / shape\n",
      "### MODIFIED\n",
      "- 7 multiple sequences with the same reference (renamed reference)\n",
      "### FILTERED OUT\n",
      "- 11 invalid datapoints (ex: sequence with non-regular characters)\n",
      "- 0 datapoints with bad structures\n",
      "- 0 duplicate sequences with the same structure / dms / shape\n"
     ]
    },
    {
     "name": "stderr",
     "output_type": "stream",
     "text": [
      "\n"
     ]
    }
   ],
   "source": [
    "import os\n",
    "from rouskinhf import convert\n",
    "\n",
    "path = '/Users/yvesmartin/data/RNAStralign'\n",
    "for family in os.listdir(path):\n",
    "    if not os.path.isdir(path+'/{}'.format(family)):\n",
    "        continue\n",
    "    for f in os.listdir(path+'/{}'.format(family)):\n",
    "        if os.path.isdir(path+'/{}/{}'.format(family, f)):    \n",
    "            data = convert(\n",
    "                'ct',\n",
    "                path+'/{}/{}'.format(family, f),\n",
    "                name='{}-{}'.format(family, f),\n",
    "                path_out='data',\n",
    "                filter=True\n",
    "            )\n",
    "    if os.path.isfile('data/{}/{}'.format(family, f)):\n",
    "        data = convert(\n",
    "                'ct',\n",
    "                path+'/{}'.format(family),\n",
    "                name='{}'.format(family),\n",
    "                path_out='data',\n",
    "                filter=True\n",
    "            )"
   ]
  },
  {
   "cell_type": "code",
   "execution_count": 17,
   "metadata": {},
   "outputs": [
    {
     "name": "stderr",
     "output_type": "stream",
     "text": [
      "Parsing json file: 100%|██████████| 19746/19746 [00:00<00:00, 47317.13it/s]\n"
     ]
    },
    {
     "name": "stdout",
     "output_type": "stream",
     "text": [
      "Over a total of 19746 datapoints, there are:\n",
      "### OUTPUT\n",
      "- ALL: 19737 valid datapoints\n",
      "- INCLUDED: 50 duplicate sequences with different structure / dms / shape\n",
      "### MODIFIED\n",
      "- 0 multiple sequences with the same reference (renamed reference)\n",
      "### FILTERED OUT\n",
      "- 0 invalid datapoints (ex: sequence with non-regular characters)\n",
      "- 0 datapoints with bad structures\n",
      "- 9 duplicate sequences with the same structure / dms / shape\n"
     ]
    }
   ],
   "source": [
    "data = {}\n",
    "refs = {}\n",
    "import json\n",
    "for family in os.listdir('data'):\n",
    "    path = 'data/{}/data.json'.format(family)\n",
    "    if not os.path.isfile(path):\n",
    "        continue\n",
    "    temp = json.load(open(path))\n",
    "    for k in temp:\n",
    "        if k not in refs:\n",
    "            refs[k] = 0\n",
    "            data[k] = temp[k]\n",
    "        else:\n",
    "            refs[k] += 1\n",
    "            data[f\"{k}_{refs[k]}\"] = temp[k]\n",
    "            \n",
    "json.dump(data, open('data.json', 'w'))\n",
    "\n",
    "data = convert(\n",
    "                'json',\n",
    "                'data.json',\n",
    "                name='RNAstralign',\n",
    "                path_out='data',\n",
    "                filter=True\n",
    "            )"
   ]
  },
  {
   "cell_type": "markdown",
   "metadata": {},
   "source": [
    "## Visualise\n",
    "\n"
   ]
  },
  {
   "cell_type": "code",
   "execution_count": 19,
   "metadata": {},
   "outputs": [
    {
     "data": {
      "text/plain": [
       "<Axes: >"
      ]
     },
     "execution_count": 19,
     "metadata": {},
     "output_type": "execute_result"
    },
    {
     "data": {
      "image/png": "[encoded data removed]",
      "text/plain": [
       "<Figure size 640x480 with 1 Axes>"
      ]
     },
     "metadata": {},
     "output_type": "display_data"
    }
   ],
   "source": [
    "import pandas as pd\n",
    "\n",
    "df = pd.read_json('data/RNAstralign/data.json', orient='index')\n",
    "df.sequence.apply(len).hist(bins=10)"
   ]
  },
  {
   "cell_type": "markdown",
   "metadata": {},
   "source": [
    "## Upload"
   ]
  },
  {
   "cell_type": "code",
   "execution_count": 20,
   "metadata": {},
   "outputs": [
    {
     "data": {
      "application/vnd.jupyter.widget-view+json": {
       "model_id": "6f2fae98d0ec47c981bbd096d3cc2808",
       "version_major": 2,
       "version_minor": 0
      },
      "text/plain": [
       "data.json:   0%|          | 0.00/60.3M [00:00<?, ?B/s]"
      ]
     },
     "metadata": {},
     "output_type": "display_data"
    }
   ],
   "source": [
    "from rouskinhf import upload_dataset\n",
    "import envbash\n",
    "envbash.load.load_envbash('../.env')\n",
    "\n",
    "upload_dataset(\n",
    "    'data/RNAstralign/data.json',\n",
    "    commit_message='init commit'\n",
    ")"
   ]
  }
 ],
 "metadata": {
  "kernelspec": {
   "display_name": "Python 3",
   "language": "python",
   "name": "python3"
  },
  "language_info": {
   "codemirror_mode": {
    "name": "ipython",
    "version": 3
   },
   "file_extension": ".py",
   "mimetype": "text/x-python",
   "name": "python",
   "nbconvert_exporter": "python",
   "pygments_lexer": "ipython3",
   "version": "3.11.6"
  }
 },
 "nbformat": 4,
 "nbformat_minor": 2
}
