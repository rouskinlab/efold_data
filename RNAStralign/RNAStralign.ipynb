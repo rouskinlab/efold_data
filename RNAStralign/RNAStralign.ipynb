{
 "cells": [
  {
   "cell_type": "markdown",
   "metadata": {},
   "source": [
    "## Put all files in a folder with the family as a prefix"
   ]
  },
  {
   "cell_type": "code",
   "execution_count": null,
   "metadata": {},
   "outputs": [],
   "source": [
    "import os\n",
    "from rouskinhf import convert\n",
    "\n",
    "path = '/Users/yvesmartin/data/RNAStralign/'\n",
    "os.mkdir('data')\n",
    "def fetch(path, prefix=''):\n",
    "    for filename in os.listdir(path):\n",
    "        file = os.path.join(path, filename)\n",
    "        if os.path.isdir(file):\n",
    "            fetch(file, prefix+filename+'__')\n",
    "        else:\n",
    "            if filename.endswith('.ct'):\n",
    "                filename = filename.replace('(', '_').replace(')', '_')   \n",
    "                os.system(cmd:=f'cp \"{file}\" data/{prefix}####{filename}')\n",
    "fetch(path)"
   ]
  },
  {
   "cell_type": "markdown",
   "metadata": {},
   "source": [
    "## Run RouskinHF on the folder"
   ]
  },
  {
   "cell_type": "code",
   "execution_count": 4,
   "metadata": {},
   "outputs": [
    {
     "name": "stderr",
     "output_type": "stream",
     "text": [
      "Parsing ct files: 100%|██████████| 37149/37149 [00:15<00:00, 2405.21it/s]\n"
     ]
    },
    {
     "name": "stdout",
     "output_type": "stream",
     "text": [
      "Over a total of 37149 datapoints, there are:\n",
      "### OUTPUT\n",
      "- ALL: 27125 valid datapoints\n",
      "- INCLUDED: 104 duplicate sequences with different structure / dms / shape\n",
      "### MODIFIED\n",
      "- 1244 multiple sequences with the same reference (renamed reference)\n",
      "### FILTERED OUT\n",
      "- 3949 invalid datapoints (ex: sequence with non-regular characters)\n",
      "- 9 datapoints with bad structures\n",
      "- 6066 duplicate sequences with the same structure / dms / shape\n"
     ]
    }
   ],
   "source": [
    "# !pip install /Users/yvesmartin/src/rouskinhf\n",
    "from rouskinhf import convert\n",
    "data = convert(\n",
    "                'ct',\n",
    "                'data',\n",
    "                name='RNAstralign',\n",
    "                filter=True\n",
    "            )"
   ]
  },
  {
   "cell_type": "code",
   "execution_count": 12,
   "metadata": {},
   "outputs": [
    {
     "data": {
      "text/plain": [
       "27125"
      ]
     },
     "execution_count": 12,
     "metadata": {},
     "output_type": "execute_result"
    }
   ],
   "source": [
    "len(data)"
   ]
  },
  {
   "cell_type": "markdown",
   "metadata": {},
   "source": [
    "## Rename the refs so that the family as an attribute of the json"
   ]
  },
  {
   "cell_type": "code",
   "execution_count": 13,
   "metadata": {},
   "outputs": [
    {
     "name": "stdout",
     "output_type": "stream",
     "text": [
      "27082\n"
     ]
    }
   ],
   "source": [
    "new_data = {}\n",
    "refs = {}\n",
    "for ref, attr in data.items():\n",
    "    if '__####' in ref:\n",
    "        family, ref = ref.split('__####')\n",
    "        attr['family'] = family\n",
    "    if not ref in refs:\n",
    "        refs[ref] = 0\n",
    "    else:\n",
    "        while f'{ref}_{refs[ref]}' in refs:\n",
    "            refs[ref] += 1\n",
    "        ref = f'{ref}_{refs[ref]}'\n",
    "    new_data[ref] = attr\n",
    "    \n",
    "import json\n",
    "with open('data/RNAstralign/data.json', 'w') as f:\n",
    "    f.write('{\\n')\n",
    "    for idx, (ref, attr) in enumerate(new_data.items()):\n",
    "        f.write(json.dumps({ref: attr})[1:-1])\n",
    "        if idx < len(new_data)-1:\n",
    "            f.write(',\\n')\n",
    "    f.write('\\n}')\n",
    "    "
   ]
  },
  {
   "cell_type": "markdown",
   "metadata": {},
   "source": [
    "## Visualise\n",
    "\n"
   ]
  },
  {
   "cell_type": "code",
   "execution_count": 14,
   "metadata": {},
   "outputs": [
    {
     "data": {
      "text/plain": [
       "<Axes: >"
      ]
     },
     "execution_count": 14,
     "metadata": {},
     "output_type": "execute_result"
    },
    {
     "data": {
      "image/png": "[encoded data removed]",
      "text/plain": [
       "<Figure size 640x480 with 1 Axes>"
      ]
     },
     "metadata": {},
     "output_type": "display_data"
    }
   ],
   "source": [
    "import pandas as pd\n",
    "\n",
    "df = pd.DataFrame.from_dict(new_data, orient='index')\n",
    "df.sequence.apply(len).hist(bins=10)"
   ]
  },
  {
   "cell_type": "markdown",
   "metadata": {},
   "source": [
    "## Upload"
   ]
  },
  {
   "cell_type": "code",
   "execution_count": 15,
   "metadata": {},
   "outputs": [
    {
     "data": {
      "application/vnd.jupyter.widget-view+json": {
       "model_id": "9ed6709f08564108b5190ecd9b851b3a",
       "version_major": 2,
       "version_minor": 0
      },
      "text/plain": [
       "data.json:   0%|          | 0.00/64.9M [00:00<?, ?B/s]"
      ]
     },
     "metadata": {},
     "output_type": "display_data"
    }
   ],
   "source": [
    "\n",
    "from rouskinhf import upload_dataset\n",
    "import envbash\n",
    "envbash.load.load_envbash('../.env')\n",
    "\n",
    "upload_dataset(\n",
    "    'data/RNAstralign/data.json',\n",
    "    commit_message='fixed rouskinhf reference bug',\n",
    "    exist_ok=True\n",
    ")"
   ]
  }
 ],
 "metadata": {
  "kernelspec": {
   "display_name": "Python 3",
   "language": "python",
   "name": "python3"
  },
  "language_info": {
   "codemirror_mode": {
    "name": "ipython",
    "version": 3
   },
   "file_extension": ".py",
   "mimetype": "text/x-python",
   "name": "python",
   "nbconvert_exporter": "python",
   "pygments_lexer": "ipython3",
   "version": "3.11.6"
  }
 },
 "nbformat": 4,
 "nbformat_minor": 2
}
