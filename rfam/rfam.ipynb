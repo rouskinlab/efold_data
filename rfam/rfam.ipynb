{
 "cells": [
  {
   "cell_type": "markdown",
   "metadata": {},
   "source": [
    "## Rfam pull"
   ]
  },
  {
   "cell_type": "code",
   "execution_count": 4,
   "metadata": {},
   "outputs": [
    {
     "name": "stderr",
     "output_type": "stream",
     "text": [
      "--2023-12-12 11:20:40--  https://ftp.ebi.ac.uk/pub/databases/Rfam/CURRENT/fasta_files/RF04300.fa.gz\n",
      "Resolving ftp.ebi.ac.uk (ftp.ebi.ac.uk)... 193.62.193.165\n",
      "Connecting to ftp.ebi.ac.uk (ftp.ebi.ac.uk)|193.62.193.165|:443... connected.\n",
      "HTTP request sent, awaiting response... 200 OK\n",
      "Length: 629 [application/x-gzip]\n",
      "Saving to: ‘/Users/yvesmartin/data/rfam/RF04300.fa.gz’\n",
      "\n",
      "     0K                                                       100%  200M=0s\n",
      "\n",
      "2023-12-12 11:20:40 (200 MB/s) - ‘/Users/yvesmartin/data/rfam/RF04300.fa.gz’ saved [629/629]\n",
      "\n",
      "rm: /Users/yvesmartin/data/rfam/RF04300.fa.gz: No such file or directory\n"
     ]
    }
   ],
   "source": [
    "import os\n",
    "\n",
    "def name(idx):\n",
    "    return \"RF{}.fa\".format(str(idx).zfill(5))\n",
    "\n",
    "def link(idx):\n",
    "    return \"https://ftp.ebi.ac.uk/pub/databases/Rfam/CURRENT/fasta_files/{}.gz\".format(name(idx))\n",
    "\n",
    "for i in range(4300, 4301):\n",
    "    os.system(f\"wget -P /Users/yvesmartin/data/rfam {link(i)}\")\n",
    "    os.system(f\"gunzip /Users/yvesmartin/data/rfam/{name(i)}.gz\")\n",
    "    os.system(f\"rm /Users/yvesmartin/data/rfam/{name(i)}.gz\")"
   ]
  },
  {
   "cell_type": "code",
   "execution_count": 5,
   "metadata": {},
   "outputs": [],
   "source": [
    "for f in os.listdir(\"/Users/yvesmartin/data/rfam\"):\n",
    "    if f.endswith(\".gz.1\"):\n",
    "        os.system(f\"rm /Users/yvesmartin/data/rfam/{f}\")"
   ]
  },
  {
   "cell_type": "markdown",
   "metadata": {},
   "source": [
    "## Make it a dataset"
   ]
  },
  {
   "cell_type": "code",
   "execution_count": 3,
   "metadata": {},
   "outputs": [],
   "source": [
    "import os\n",
    "\n",
    "def fasta_parser(f):\n",
    "    while line:=f.readline():\n",
    "        if line.startswith(\">\"):\n",
    "            ref = line[1:].split()[0]\n",
    "            desc = ' '.join(line.split()[1:]).strip()\n",
    "        else:\n",
    "            seq = line.strip()\n",
    "            yield ref, desc, seq\n",
    "            \n",
    "fams, refs, descs, seqs = [], [], [], []\n",
    "refs_count = {}\n",
    "for f in os.listdir(\"/Users/yvesmartin/data/rfam\"):\n",
    "    if f.endswith(\".fa\"):\n",
    "        with open(\"/Users/yvesmartin/data/rfam/{}\".format(f), \"r\") as f:\n",
    "            for ref, desc, seq in fasta_parser(f):\n",
    "                fams.append(os.path.basename(f.name).replace(\".fa\", \"\"))\n",
    "                if ref in refs_count:\n",
    "                    refs.append(\"{}_{}\".format(ref, refs_count[ref]))\n",
    "                else:\n",
    "                    refs.append(ref)\n",
    "                descs.append(desc)\n",
    "                seqs.append(seq)\n",
    "                \n",
    "                refs_count[ref] = refs_count.get(ref, 0) + 1\n",
    "                \n",
    "import pandas as pd\n",
    "df = pd.DataFrame({\"family\": fams, \"reference\": refs, \"description\": descs, \"sequence\": seqs}).set_index(\"reference\")\n",
    "df.to_json(\"data/rfam.json\", orient=\"index\", indent=2)"
   ]
  }
 ],
 "metadata": {
  "kernelspec": {
   "display_name": "Python 3",
   "language": "python",
   "name": "python3"
  },
  "language_info": {
   "codemirror_mode": {
    "name": "ipython",
    "version": 3
   },
   "file_extension": ".py",
   "mimetype": "text/x-python",
   "name": "python",
   "nbconvert_exporter": "python",
   "pygments_lexer": "ipython3",
   "version": "3.11.6"
  }
 },
 "nbformat": 4,
 "nbformat_minor": 2
}
