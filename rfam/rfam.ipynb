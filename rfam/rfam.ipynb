{
 "cells": [
  {
   "cell_type": "markdown",
   "metadata": {},
   "source": [
    "## Rfam pull"
   ]
  },
  {
   "cell_type": "code",
   "execution_count": null,
   "metadata": {},
   "outputs": [],
   "source": [
    "import os\n",
    "\n",
    "def name(idx):\n",
    "    return \"RF{}.fa\".format(str(idx).zfill(5))\n",
    "\n",
    "def link(idx):\n",
    "    return \"https://ftp.ebi.ac.uk/pub/databases/Rfam/CURRENT/fasta_files/{}.gz\".format(name(idx))\n",
    "\n",
    "for i in range(4300, 4301):\n",
    "    os.system(f\"wget -P /Users/yvesmartin/data/rfam {link(i)}\")\n",
    "    os.system(f\"gunzip /Users/yvesmartin/data/rfam/{name(i)}.gz\")\n",
    "    os.system(f\"rm /Users/yvesmartin/data/rfam/{name(i)}.gz\")"
   ]
  },
  {
   "cell_type": "code",
   "execution_count": null,
   "metadata": {},
   "outputs": [],
   "source": [
    "for f in os.listdir(\"/Users/yvesmartin/data/rfam\"):\n",
    "    if f.endswith(\".gz.1\"):\n",
    "        os.system(f\"rm /Users/yvesmartin/data/rfam/{f}\")"
   ]
  },
  {
   "cell_type": "markdown",
   "metadata": {},
   "source": [
    "## Make it a dataset"
   ]
  },
  {
   "cell_type": "code",
   "execution_count": 10,
   "metadata": {},
   "outputs": [],
   "source": [
    "import os\n",
    "\n",
    "def fasta_parser(f):\n",
    "    while line:=f.readline():\n",
    "        if line.startswith(\">\"):\n",
    "            ref = line[1:].split()[0]\n",
    "            desc = ' '.join(line.split()[1:]).strip()\n",
    "        else:\n",
    "            seq = line.strip()\n",
    "            yield ref, desc, seq\n",
    "            \n",
    "fams, refs, descs, seqs = [], [], [], []\n",
    "refs_count = {}\n",
    "for f in os.listdir(\"/Users/yvesmartin/data/rfam/fastas\"):\n",
    "    if f.endswith(\".fa\"):\n",
    "        with open(\"/Users/yvesmartin/data/rfam/fastas/{}\".format(f), \"r\") as f:\n",
    "            for ref, desc, seq in fasta_parser(f):\n",
    "                fams.append(os.path.basename(f.name).replace(\".fa\", \"\"))\n",
    "                if ref in refs_count:\n",
    "                    refs.append(\"{}_{}\".format(ref, refs_count[ref]))\n",
    "                else:\n",
    "                    refs.append(ref)\n",
    "                descs.append(desc)\n",
    "                seqs.append(seq)\n",
    "                \n",
    "                refs_count[ref] = refs_count.get(ref, 0) + 1\n",
    "                \n",
    "import pandas as pd\n",
    "df = pd.DataFrame({\"family\": fams, \"reference\": refs, \"ref_desc\": descs, \"sequence\": seqs})#.set_index(\"reference\")"
   ]
  },
  {
   "cell_type": "markdown",
   "metadata": {},
   "source": [
    "## Add family and clan info\n",
    "\n",
    "### Clan"
   ]
  },
  {
   "cell_type": "code",
   "execution_count": 12,
   "metadata": {},
   "outputs": [
    {
     "data": {
      "text/html": [
       "<div>\n",
       "<style scoped>\n",
       "    .dataframe tbody tr th:only-of-type {\n",
       "        vertical-align: middle;\n",
       "    }\n",
       "\n",
       "    .dataframe tbody tr th {\n",
       "        vertical-align: top;\n",
       "    }\n",
       "\n",
       "    .dataframe thead th {\n",
       "        text-align: right;\n",
       "    }\n",
       "</style>\n",
       "<table border=\"1\" class=\"dataframe\">\n",
       "  <thead>\n",
       "    <tr style=\"text-align: right;\">\n",
       "      <th></th>\n",
       "      <th>clan</th>\n",
       "      <th>clan_name</th>\n",
       "      <th>full_clan_name</th>\n",
       "    </tr>\n",
       "  </thead>\n",
       "  <tbody>\n",
       "    <tr>\n",
       "      <th>0</th>\n",
       "      <td>CL00001</td>\n",
       "      <td>tRNA</td>\n",
       "      <td>tRNA clan</td>\n",
       "    </tr>\n",
       "    <tr>\n",
       "      <th>1</th>\n",
       "      <td>CL00002</td>\n",
       "      <td>RNaseP</td>\n",
       "      <td>RNaseP clan</td>\n",
       "    </tr>\n",
       "    <tr>\n",
       "      <th>2</th>\n",
       "      <td>CL00003</td>\n",
       "      <td>SRP</td>\n",
       "      <td>SRP clan</td>\n",
       "    </tr>\n",
       "    <tr>\n",
       "      <th>3</th>\n",
       "      <td>CL00004</td>\n",
       "      <td>Telomerase</td>\n",
       "      <td>Telomerase clan</td>\n",
       "    </tr>\n",
       "    <tr>\n",
       "      <th>4</th>\n",
       "      <td>CL00005</td>\n",
       "      <td>U1</td>\n",
       "      <td>U1 clan</td>\n",
       "    </tr>\n",
       "    <tr>\n",
       "      <th>...</th>\n",
       "      <td>...</td>\n",
       "      <td>...</td>\n",
       "      <td>...</td>\n",
       "    </tr>\n",
       "    <tr>\n",
       "      <th>141</th>\n",
       "      <td>CL00145</td>\n",
       "      <td>MIR1520</td>\n",
       "      <td>MIR1520 microRNA precursor clan</td>\n",
       "    </tr>\n",
       "    <tr>\n",
       "      <th>142</th>\n",
       "      <td>CL00146</td>\n",
       "      <td>mir-8791</td>\n",
       "      <td>mir-8791 microRNA precursor clan</td>\n",
       "    </tr>\n",
       "    <tr>\n",
       "      <th>143</th>\n",
       "      <td>CL00147</td>\n",
       "      <td>mir-574</td>\n",
       "      <td>mir-574 microRNA precursor clan</td>\n",
       "    </tr>\n",
       "    <tr>\n",
       "      <th>144</th>\n",
       "      <td>CL00148</td>\n",
       "      <td>let-7</td>\n",
       "      <td>let-7 microRNA precursor clan</td>\n",
       "    </tr>\n",
       "    <tr>\n",
       "      <th>145</th>\n",
       "      <td>CL00149</td>\n",
       "      <td>mir-154</td>\n",
       "      <td>mir-154 microRNA precursor clan</td>\n",
       "    </tr>\n",
       "  </tbody>\n",
       "</table>\n",
       "<p>146 rows × 3 columns</p>\n",
       "</div>"
      ],
      "text/plain": [
       "        clan   clan_name                    full_clan_name\n",
       "0    CL00001        tRNA                         tRNA clan\n",
       "1    CL00002      RNaseP                       RNaseP clan\n",
       "2    CL00003         SRP                          SRP clan\n",
       "3    CL00004  Telomerase                   Telomerase clan\n",
       "4    CL00005          U1                           U1 clan\n",
       "..       ...         ...                               ...\n",
       "141  CL00145     MIR1520   MIR1520 microRNA precursor clan\n",
       "142  CL00146    mir-8791  mir-8791 microRNA precursor clan\n",
       "143  CL00147     mir-574   mir-574 microRNA precursor clan\n",
       "144  CL00148       let-7     let-7 microRNA precursor clan\n",
       "145  CL00149     mir-154   mir-154 microRNA precursor clan\n",
       "\n",
       "[146 rows x 3 columns]"
      ]
     },
     "execution_count": 12,
     "metadata": {},
     "output_type": "execute_result"
    }
   ],
   "source": [
    "df_clan = pd.read_csv('clan.txt', sep='\\t', header=None, usecols=[0,1,3], names=['clan', 'clan_name', 'full_clan_name'])\n",
    "df_clan"
   ]
  },
  {
   "cell_type": "markdown",
   "metadata": {},
   "source": [
    "### Family"
   ]
  },
  {
   "cell_type": "code",
   "execution_count": 13,
   "metadata": {},
   "outputs": [
    {
     "data": {
      "text/html": [
       "<div>\n",
       "<style scoped>\n",
       "    .dataframe tbody tr th:only-of-type {\n",
       "        vertical-align: middle;\n",
       "    }\n",
       "\n",
       "    .dataframe tbody tr th {\n",
       "        vertical-align: top;\n",
       "    }\n",
       "\n",
       "    .dataframe thead th {\n",
       "        text-align: right;\n",
       "    }\n",
       "</style>\n",
       "<table border=\"1\" class=\"dataframe\">\n",
       "  <thead>\n",
       "    <tr style=\"text-align: right;\">\n",
       "      <th></th>\n",
       "      <th>family</th>\n",
       "      <th>family_name</th>\n",
       "      <th>full_family_name</th>\n",
       "    </tr>\n",
       "  </thead>\n",
       "  <tbody>\n",
       "    <tr>\n",
       "      <th>0</th>\n",
       "      <td>RF00001</td>\n",
       "      <td>5S_rRNA</td>\n",
       "      <td>5S ribosomal RNA</td>\n",
       "    </tr>\n",
       "    <tr>\n",
       "      <th>1</th>\n",
       "      <td>RF00002</td>\n",
       "      <td>5_8S_rRNA</td>\n",
       "      <td>5.8S ribosomal RNA</td>\n",
       "    </tr>\n",
       "    <tr>\n",
       "      <th>2</th>\n",
       "      <td>RF00003</td>\n",
       "      <td>U1</td>\n",
       "      <td>U1 spliceosomal RNA</td>\n",
       "    </tr>\n",
       "    <tr>\n",
       "      <th>3</th>\n",
       "      <td>RF00004</td>\n",
       "      <td>U2</td>\n",
       "      <td>U2 spliceosomal RNA</td>\n",
       "    </tr>\n",
       "    <tr>\n",
       "      <th>4</th>\n",
       "      <td>RF00005</td>\n",
       "      <td>tRNA</td>\n",
       "      <td>tRNA</td>\n",
       "    </tr>\n",
       "    <tr>\n",
       "      <th>...</th>\n",
       "      <td>...</td>\n",
       "      <td>...</td>\n",
       "      <td>...</td>\n",
       "    </tr>\n",
       "    <tr>\n",
       "      <th>4165</th>\n",
       "      <td>RF04296</td>\n",
       "      <td>mir-485</td>\n",
       "      <td>mir-485 microRNA precursor family</td>\n",
       "    </tr>\n",
       "    <tr>\n",
       "      <th>4166</th>\n",
       "      <td>RF04297</td>\n",
       "      <td>mir-35_2</td>\n",
       "      <td>mir-35_2 microRNA precursor family</td>\n",
       "    </tr>\n",
       "    <tr>\n",
       "      <th>4167</th>\n",
       "      <td>RF04298</td>\n",
       "      <td>mir-36_2</td>\n",
       "      <td>mir-36_2 microRNA precursor family</td>\n",
       "    </tr>\n",
       "    <tr>\n",
       "      <th>4168</th>\n",
       "      <td>RF04299</td>\n",
       "      <td>MIR814</td>\n",
       "      <td>MIR814 microRNA precursor family</td>\n",
       "    </tr>\n",
       "    <tr>\n",
       "      <th>4169</th>\n",
       "      <td>RF04300</td>\n",
       "      <td>mir-39</td>\n",
       "      <td>mir-39 microRNA precursor family</td>\n",
       "    </tr>\n",
       "  </tbody>\n",
       "</table>\n",
       "<p>4170 rows × 3 columns</p>\n",
       "</div>"
      ],
      "text/plain": [
       "       family family_name                    full_family_name\n",
       "0     RF00001     5S_rRNA                    5S ribosomal RNA\n",
       "1     RF00002   5_8S_rRNA                  5.8S ribosomal RNA\n",
       "2     RF00003          U1                 U1 spliceosomal RNA\n",
       "3     RF00004          U2                 U2 spliceosomal RNA\n",
       "4     RF00005        tRNA                                tRNA\n",
       "...       ...         ...                                 ...\n",
       "4165  RF04296     mir-485   mir-485 microRNA precursor family\n",
       "4166  RF04297    mir-35_2  mir-35_2 microRNA precursor family\n",
       "4167  RF04298    mir-36_2  mir-36_2 microRNA precursor family\n",
       "4168  RF04299      MIR814    MIR814 microRNA precursor family\n",
       "4169  RF04300      mir-39    mir-39 microRNA precursor family\n",
       "\n",
       "[4170 rows x 3 columns]"
      ]
     },
     "execution_count": 13,
     "metadata": {},
     "output_type": "execute_result"
    }
   ],
   "source": [
    "df_fam = pd.read_csv('fam.txt', sep='\\t', header=None, usecols=[0,1,3], names=['family', 'family_name', 'full_family_name'], encoding='latin-1')\n",
    "df_fam"
   ]
  },
  {
   "cell_type": "markdown",
   "metadata": {},
   "source": [
    "### Family to clan mapping"
   ]
  },
  {
   "cell_type": "code",
   "execution_count": 14,
   "metadata": {},
   "outputs": [
    {
     "data": {
      "text/html": [
       "<div>\n",
       "<style scoped>\n",
       "    .dataframe tbody tr th:only-of-type {\n",
       "        vertical-align: middle;\n",
       "    }\n",
       "\n",
       "    .dataframe tbody tr th {\n",
       "        vertical-align: top;\n",
       "    }\n",
       "\n",
       "    .dataframe thead th {\n",
       "        text-align: right;\n",
       "    }\n",
       "</style>\n",
       "<table border=\"1\" class=\"dataframe\">\n",
       "  <thead>\n",
       "    <tr style=\"text-align: right;\">\n",
       "      <th></th>\n",
       "      <th>clan</th>\n",
       "      <th>family</th>\n",
       "    </tr>\n",
       "  </thead>\n",
       "  <tbody>\n",
       "    <tr>\n",
       "      <th>0</th>\n",
       "      <td>CL00001</td>\n",
       "      <td>RF00005</td>\n",
       "    </tr>\n",
       "    <tr>\n",
       "      <th>1</th>\n",
       "      <td>CL00001</td>\n",
       "      <td>RF00023</td>\n",
       "    </tr>\n",
       "    <tr>\n",
       "      <th>2</th>\n",
       "      <td>CL00001</td>\n",
       "      <td>RF01849</td>\n",
       "    </tr>\n",
       "    <tr>\n",
       "      <th>3</th>\n",
       "      <td>CL00001</td>\n",
       "      <td>RF01850</td>\n",
       "    </tr>\n",
       "    <tr>\n",
       "      <th>4</th>\n",
       "      <td>CL00001</td>\n",
       "      <td>RF01851</td>\n",
       "    </tr>\n",
       "    <tr>\n",
       "      <th>...</th>\n",
       "      <td>...</td>\n",
       "      <td>...</td>\n",
       "    </tr>\n",
       "    <tr>\n",
       "      <th>450</th>\n",
       "      <td>CL00149</td>\n",
       "      <td>RF04292</td>\n",
       "    </tr>\n",
       "    <tr>\n",
       "      <th>451</th>\n",
       "      <td>CL00149</td>\n",
       "      <td>RF04293</td>\n",
       "    </tr>\n",
       "    <tr>\n",
       "      <th>452</th>\n",
       "      <td>CL00149</td>\n",
       "      <td>RF04294</td>\n",
       "    </tr>\n",
       "    <tr>\n",
       "      <th>453</th>\n",
       "      <td>CL00149</td>\n",
       "      <td>RF04295</td>\n",
       "    </tr>\n",
       "    <tr>\n",
       "      <th>454</th>\n",
       "      <td>CL00149</td>\n",
       "      <td>RF04296</td>\n",
       "    </tr>\n",
       "  </tbody>\n",
       "</table>\n",
       "<p>455 rows × 2 columns</p>\n",
       "</div>"
      ],
      "text/plain": [
       "        clan   family\n",
       "0    CL00001  RF00005\n",
       "1    CL00001  RF00023\n",
       "2    CL00001  RF01849\n",
       "3    CL00001  RF01850\n",
       "4    CL00001  RF01851\n",
       "..       ...      ...\n",
       "450  CL00149  RF04292\n",
       "451  CL00149  RF04293\n",
       "452  CL00149  RF04294\n",
       "453  CL00149  RF04295\n",
       "454  CL00149  RF04296\n",
       "\n",
       "[455 rows x 2 columns]"
      ]
     },
     "execution_count": 14,
     "metadata": {},
     "output_type": "execute_result"
    }
   ],
   "source": [
    "df_clan2fam = pd.read_csv('clan2fam.txt', sep='\\t', header=None, usecols=[0,1], names=['clan', 'family'])\n",
    "df_clan2fam"
   ]
  },
  {
   "cell_type": "markdown",
   "metadata": {},
   "source": [
    "### Add family / clan info to the df"
   ]
  },
  {
   "cell_type": "code",
   "execution_count": 16,
   "metadata": {},
   "outputs": [],
   "source": [
    "df = pd.merge(df, df_fam, on='family', how='left')\n",
    "df = pd.merge(df, df_clan2fam, on='family', how='left')\n",
    "df = pd.merge(df, df_clan, on='clan', how='left')"
   ]
  },
  {
   "cell_type": "code",
   "execution_count": 17,
   "metadata": {},
   "outputs": [
    {
     "data": {
      "text/plain": [
       "450"
      ]
     },
     "execution_count": 17,
     "metadata": {},
     "output_type": "execute_result"
    }
   ],
   "source": [
    "df['family'].nunique()"
   ]
  },
  {
   "cell_type": "code",
   "execution_count": 7,
   "metadata": {},
   "outputs": [],
   "source": [
    "df.to_csv('data/rfam.csv', index=False)\n",
    "df.set_index('reference').to_json('data/rfam.json', orient='index', indent=2)"
   ]
  },
  {
   "cell_type": "markdown",
   "metadata": {},
   "source": [
    "### Upload data to HF"
   ]
  },
  {
   "cell_type": "code",
   "execution_count": 9,
   "metadata": {},
   "outputs": [
    {
     "data": {
      "application/vnd.jupyter.widget-view+json": {
       "model_id": "d41ab07641c64daf9b8de249571c61ca",
       "version_major": 2,
       "version_minor": 0
      },
      "text/plain": [
       "rfam.json:   0%|          | 0.00/1.03G [00:00<?, ?B/s]"
      ]
     },
     "metadata": {},
     "output_type": "display_data"
    }
   ],
   "source": [
    "from rouskinhf import upload_dataset\n",
    "import envbash\n",
    "envbash.load.load_envbash('../.env')\n",
    "\n",
    "upload_dataset(\n",
    "    'data/rfam.json',\n",
    ")"
   ]
  }
 ],
 "metadata": {
  "kernelspec": {
   "display_name": "Python 3",
   "language": "python",
   "name": "python3"
  },
  "language_info": {
   "codemirror_mode": {
    "name": "ipython",
    "version": 3
   },
   "file_extension": ".py",
   "mimetype": "text/x-python",
   "name": "python",
   "nbconvert_exporter": "python",
   "pygments_lexer": "ipython3",
   "version": "3.11.6"
  }
 },
 "nbformat": 4,
 "nbformat_minor": 2
}
